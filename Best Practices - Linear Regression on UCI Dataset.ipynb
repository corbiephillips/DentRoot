{
  "metadata": {
    "dataExplorerConfig": {},
    "bento_stylesheets": {
      "bento/extensions/flow/main.css": true,
      "bento/extensions/kernel_selector/main.css": true,
      "bento/extensions/kernel_ui/main.css": true,
      "bento/extensions/new_kernel/main.css": true,
      "bento/extensions/system_usage/main.css": true,
      "bento/extensions/theme/main.css": true
    },
    "kernelspec": {
      "display_name": "Python 3",
      "language": "python",
      "name": "bento_kernel_default",
      "cinder_runtime": true,
      "ipyflow_runtime": false,
      "metadata": {
        "kernel_name": "bento_kernel_default",
        "nightly_builds": true,
        "fbpkg_supported": true,
        "cinder_runtime": true,
        "ipyflow_runtime": false,
        "is_prebuilt": true
      }
    },
    "language_info": {
      "codemirror_mode": {
        "name": "ipython",
        "version": 3
      },
      "file_extension": ".py",
      "mimetype": "text/x-python",
      "name": "python",
      "nbconvert_exporter": "python",
      "pygments_lexer": "ipython3"
    },
    "last_server_session_id": "6ad8f2bc-fdd8-4731-be23-596f9caa3508",
    "last_kernel_id": "7138a68a-a883-4dba-9a15-0f052c6ca196",
    "last_base_url": "https://bento.edge.x2p.facebook.net/",
    "last_msg_id": "46343d68-022e1daaa41dd321b20ab463_668",
    "captumWidgetMessage": {},
    "outputWidgetContext": {}
  },
  "nbformat": 4,
  "nbformat_minor": 2,
  "cells": [
    {
      "cell_type": "code",
      "metadata": {
        "originalKey": "c529db6d-f232-4aa9-bc55-342b5b7a6c70",
        "showInput": true,
        "customInput": null,
        "collapsed": false,
        "requestMsgId": "967a16c8-ee07-4cef-8fcd-d36bbb89b008",
        "executionStartTime": 1678480629842,
        "executionStopTime": 1678480629913,
        "customOutput": null
      },
      "source": [
        "# Do it on a better dataset. Something education related, clean, easy to knock out. "
      ],
      "execution_count": 14,
      "outputs": []
    },
    {
      "cell_type": "code",
      "metadata": {
        "originalKey": "2ef179f5-b4aa-43e6-9dd5-00c10667d137",
        "showInput": true,
        "customInput": null,
        "collapsed": false,
        "requestMsgId": "f035bcc7-b0c8-4b35-be4c-25ce2d1fb1ed",
        "executionStartTime": 1678480630096,
        "executionStopTime": 1678480630106,
        "customOutput": null
      },
      "source": [
        "# Questions to answer to make sure you understand the data: Why does Shucked Weight have such a strong Beta weight but the lowest. correlation with Rings? What does that mean?\n",
        "## It contributes the most to the regression, but correlates the least with Rings directly?  The regression is likely superio because it considers the other variables all together, unlike the correlation matrix.  Should I use the one Principle Component to do anything?"
      ],
      "execution_count": 15,
      "outputs": []
    },
    {
      "cell_type": "code",
      "metadata": {
        "originalKey": "f744835d-d1ef-47e3-8713-45f11d959f12",
        "showInput": true,
        "customInput": null,
        "customOutput": null,
        "collapsed": false,
        "requestMsgId": "104d667f-fa6f-486b-bf98-842d3480f2e3",
        "executionStartTime": 1678480630292,
        "executionStopTime": 1678480630303
      },
      "source": [
        "\n",
        "# It will also be good to sanity check this is the regular way to do regression. It's like datacamp does, so you are in a ballpark, but check with blogs, and chatGPT, and other resources"
      ],
      "execution_count": 16,
      "outputs": []
    },
    {
      "cell_type": "code",
      "metadata": {
        "originalKey": "e99574e5-1fdb-4316-9396-8f07350f1b5d",
        "showInput": true,
        "customInput": null,
        "customOutput": null,
        "collapsed": false,
        "requestMsgId": "923af401-acac-49b7-aa58-01fd0a666ca6",
        "executionStartTime": 1678480630557,
        "executionStopTime": 1678480630569
      },
      "source": [
        "# Well, I've somehow forgoten the y_pred part of regression. That's a big deal. I suppose the scikit learn documentation https://scikit-learn.org/stable/auto_examples/linear_model/plot_ols.html is the best fierast place to lok ther. \n",
        ""
      ],
      "execution_count": 17,
      "outputs": []
    },
    {
      "cell_type": "code",
      "metadata": {
        "originalKey": "7d1923a1-c886-400f-84ef-d7057f761045",
        "showInput": true,
        "customInput": null,
        "collapsed": false,
        "requestMsgId": "90de7fc1-9503-4236-a82c-2518a8297241",
        "executionStartTime": 1678480630771,
        "executionStopTime": 1678480630784,
        "customOutput": null
      },
      "source": [
        "# Time to rubber duck with abalone (the slidedeck mostlyz0 again)\n",
        "# Scatterplot of each variable is nice\n",
        "# REQUESTS: Length x Rings for each of male and female\n",
        "# Beta coeffceiencvte needs to bedispayed raw, and standarized, and including significant values. The main question is what vairalb epredicts rings the best, whihcv is the betaa coefficent."
      ],
      "execution_count": 18,
      "outputs": []
    },
    {
      "cell_type": "code",
      "metadata": {
        "originalKey": "feb1a993-e97e-4413-8123-f278ba67bfd7",
        "showInput": true,
        "customInput": null,
        "customOutput": null,
        "collapsed": false,
        "requestMsgId": "d9ddc089-4f4e-4635-a53d-ff1f20cd62b2",
        "executionStartTime": 1678480630982,
        "executionStopTime": 1678480630993
      },
      "source": [
        "# Also to do:\n",
        "# Compare your work to https://medium.com/swlh/abalone-sex-classification-via-physical-measurements-r-3b72526d5326\n",
        "# and https://www.kaggle.com/code/miksaas/abalone-eda-regression-pca-classification/notebook \n",
        ""
      ],
      "execution_count": 19,
      "outputs": []
    },
    {
      "cell_type": "code",
      "metadata": {
        "originalKey": "b943b7db-cb81-4623-8ba8-624b7c0d3dd5",
        "showInput": true,
        "customInput": null,
        "customOutput": null,
        "collapsed": false,
        "requestMsgId": "fbc3d118-a541-4f30-9436-602f141830e3",
        "executionStartTime": 1678480631176,
        "executionStopTime": 1678480631236
      },
      "source": [
        "# Predictor Variable details\n",
        "\n",
        "# Sex / nominal / -- / M, F, and I (infant)\n",
        "# Length / continuous / mm / Longest shell measurement\n",
        "# Diameter / continuous / mm / perpendicular to length\n",
        "# Height / continuous / mm / with meat in shell\n",
        "# Whole weight / continuous / grams / whole abalone\n",
        "# Shucked weight / continuous / grams / weight of meat\n",
        "# Viscera weight / continuous / grams / gut weight (after bleeding)\n",
        "# Shell weight / continuous / grams / after being dried\n",
        "\n",
        "# Target variable:\n",
        "# Rings / integer / -- / +1.5 gives the age in years"
      ],
      "execution_count": 20,
      "outputs": []
    },
    {
      "cell_type": "code",
      "metadata": {
        "originalKey": "61b052ed-9d5c-473f-9b3d-6b51f5389f57",
        "showInput": true,
        "customInput": null,
        "customOutput": null,
        "collapsed": false,
        "requestMsgId": "606f5f80-2cb3-4c4c-80b9-6d6adfe6c293",
        "executionStartTime": 1678480631410,
        "executionStopTime": 1678480631457
      },
      "source": [
        "# Dataset url:  https://archive.ics.uci.edu/ml/datasets/abalone\n",
        ""
      ],
      "execution_count": 21,
      "outputs": []
    },
    {
      "cell_type": "code",
      "metadata": {
        "originalKey": "49a5bcea-88d7-4406-8bb3-ff1bd79eb692",
        "showInput": true,
        "customInput": null,
        "customOutput": null,
        "collapsed": false,
        "requestMsgId": "51ee4fe0-2246-4b3c-b746-89fa62003d4a",
        "executionStartTime": 1678480631640,
        "executionStopTime": 1678480631653
      },
      "source": [
        "# PLAN OF ATTACK (flesh out)\n",
        "# IMPORT DATA\n",
        "# EXPLORE, including initial visualizations\n",
        "# CLEAN including handline outliers, null values, format data as correct dtype, etc\n",
        "# EXPLORE AGAIN\n",
        "# MODEL. Check that assumptions are met\n",
        "## PCA, Linear Regression\n",
        "# INTERPRET RESULTS. Final visualizations, plain-speech results via slidedeck: https://docs.google.com/presentation/d/1AhuDJJaoszWGqS6jctuePpCjjWkITcbYWKu7Q-LJuD8/edit#slide=id.g21650cc24e6_0_2"
      ],
      "execution_count": 22,
      "outputs": []
    },
    {
      "cell_type": "code",
      "metadata": {
        "originalKey": "3905051d-3158-4e4f-8f0f-395b07fa1702",
        "showInput": true,
        "customInput": null,
        "collapsed": false,
        "requestMsgId": "0b0cb1e7-eb45-41e9-ae19-290e587f1dfc",
        "executionStartTime": 1678480631868,
        "executionStopTime": 1678480631952,
        "customOutput": null
      },
      "source": [
        "import pandas as pd\n",
        "import numpy as np\n",
        "import matplotlib.pyplot as plt\n",
        "import statsmodels.api as sm\n",
        "from sklearn.preprocessing import StandardScaler\n",
        "from sklearn.decomposition import PCA"
      ],
      "execution_count": 23,
      "outputs": []
    },
    {
      "cell_type": "code",
      "metadata": {
        "originalKey": "94d3852a-11ae-4340-940d-9792293fb4f2",
        "showInput": true,
        "customInput": null,
        "collapsed": false,
        "requestMsgId": "8e025477-e1bd-4974-adf1-6a60b1a4f7f1",
        "executionStartTime": 1678480632130,
        "executionStopTime": 1678480632145,
        "customOutput": null
      },
      "source": [
        "pd.set_option(\"display.float_format\", lambda x: \"%.5f\" % x) # To get out of scientific notation.  Use pd.reset_option('display.float_format') to reset back to the default"
      ],
      "execution_count": 24,
      "outputs": []
    },
    {
      "cell_type": "code",
      "metadata": {
        "originalKey": "a2356424-6554-42d7-8d2b-eb739f580aee",
        "showInput": true,
        "customInput": null,
        "collapsed": false,
        "requestMsgId": "e2b3a8e0-f7dd-43d6-8fc4-2b4610c3e18e",
        "executionStartTime": 1678480632358,
        "executionStopTime": 1678480632374,
        "customOutput": null
      },
      "source": [
        "# IMPORT the abalone dataset \n",
        "\n",
        "abalone_data = pd.read_csv(\"/home/corbiep/local/abalone.data\", names=[\"Sex\", \"Length\", \"Diameter\", \"Height\", \"Whole Weight\", \"Shucked Weight\", \"Viscera Weight\", \"Shell Weight\", \"Rings\"])"
      ],
      "execution_count": 25,
      "outputs": []
    },
    {
      "cell_type": "code",
      "metadata": {
        "originalKey": "488b2c3a-c038-4e8e-8fa1-c2c385424592",
        "showInput": true,
        "customInput": null,
        "collapsed": false,
        "requestMsgId": "0dbcd1c2-add3-47ce-a49a-34933fb98d6c",
        "executionStartTime": 1678480632632,
        "executionStopTime": 1678480632730,
        "customOutput": null
      },
      "source": [
        "# EXPLORE the dataset\n",
        "\n",
        "abalone_data.head()"
      ],
      "execution_count": 26,
      "outputs": [
        {
          "output_type": "execute_result",
          "data": {
            "text/plain": "  Sex  Length  Diameter  ...  Viscera Weight  Shell Weight  Rings\n0   M 0.45500   0.36500  ...         0.10100       0.15000     15\n1   M 0.35000   0.26500  ...         0.04850       0.07000      7\n2   F 0.53000   0.42000  ...         0.14150       0.21000      9\n3   M 0.44000   0.36500  ...         0.11400       0.15500     10\n4   I 0.33000   0.25500  ...         0.03950       0.05500      7\n\n[5 rows x 9 columns]",
            "text/html": "<div>\n<style scoped>\n    .dataframe tbody tr th:only-of-type {\n        vertical-align: middle;\n    }\n\n    .dataframe tbody tr th {\n        vertical-align: top;\n    }\n\n    .dataframe thead th {\n        text-align: right;\n    }\n</style>\n<table border=\"1\" class=\"dataframe\">\n  <thead>\n    <tr style=\"text-align: right;\">\n      <th></th>\n      <th>Sex</th>\n      <th>Length</th>\n      <th>Diameter</th>\n      <th>Height</th>\n      <th>Whole Weight</th>\n      <th>Shucked Weight</th>\n      <th>Viscera Weight</th>\n      <th>Shell Weight</th>\n      <th>Rings</th>\n    </tr>\n  </thead>\n  <tbody>\n    <tr>\n      <th>0</th>\n      <td>M</td>\n      <td>0.45500</td>\n      <td>0.36500</td>\n      <td>0.09500</td>\n      <td>0.51400</td>\n      <td>0.22450</td>\n      <td>0.10100</td>\n      <td>0.15000</td>\n      <td>15</td>\n    </tr>\n    <tr>\n      <th>1</th>\n      <td>M</td>\n      <td>0.35000</td>\n      <td>0.26500</td>\n      <td>0.09000</td>\n      <td>0.22550</td>\n      <td>0.09950</td>\n      <td>0.04850</td>\n      <td>0.07000</td>\n      <td>7</td>\n    </tr>\n    <tr>\n      <th>2</th>\n      <td>F</td>\n      <td>0.53000</td>\n      <td>0.42000</td>\n      <td>0.13500</td>\n      <td>0.67700</td>\n      <td>0.25650</td>\n      <td>0.14150</td>\n      <td>0.21000</td>\n      <td>9</td>\n    </tr>\n    <tr>\n      <th>3</th>\n      <td>M</td>\n      <td>0.44000</td>\n      <td>0.36500</td>\n      <td>0.12500</td>\n      <td>0.51600</td>\n      <td>0.21550</td>\n      <td>0.11400</td>\n      <td>0.15500</td>\n      <td>10</td>\n    </tr>\n    <tr>\n      <th>4</th>\n      <td>I</td>\n      <td>0.33000</td>\n      <td>0.25500</td>\n      <td>0.08000</td>\n      <td>0.20500</td>\n      <td>0.08950</td>\n      <td>0.03950</td>\n      <td>0.05500</td>\n      <td>7</td>\n    </tr>\n  </tbody>\n</table>\n</div>",
            "application/vnd.dataresource+json": {
              "schema": {
                "fields": [
                  {
                    "name": "index",
                    "type": "integer"
                  },
                  {
                    "name": "Sex",
                    "type": "string"
                  },
                  {
                    "name": "Length",
                    "type": "number"
                  },
                  {
                    "name": "Diameter",
                    "type": "number"
                  },
                  {
                    "name": "Height",
                    "type": "number"
                  },
                  {
                    "name": "Whole Weight",
                    "type": "number"
                  },
                  {
                    "name": "Shucked Weight",
                    "type": "number"
                  },
                  {
                    "name": "Viscera Weight",
                    "type": "number"
                  },
                  {
                    "name": "Shell Weight",
                    "type": "number"
                  },
                  {
                    "name": "Rings",
                    "type": "integer"
                  }
                ],
                "primaryKey": [
                  "index"
                ],
                "pandas_version": "0.20.0"
              },
              "data": [
                {
                  "index": 0,
                  "Sex": "M",
                  "Length": 0.455,
                  "Diameter": 0.365,
                  "Height": 0.095,
                  "Whole Weight": 0.514,
                  "Shucked Weight": 0.2245,
                  "Viscera Weight": 0.101,
                  "Shell Weight": 0.15,
                  "Rings": 15
                },
                {
                  "index": 1,
                  "Sex": "M",
                  "Length": 0.35,
                  "Diameter": 0.265,
                  "Height": 0.09,
                  "Whole Weight": 0.2255,
                  "Shucked Weight": 0.0995,
                  "Viscera Weight": 0.0485,
                  "Shell Weight": 0.07,
                  "Rings": 7
                },
                {
                  "index": 2,
                  "Sex": "F",
                  "Length": 0.53,
                  "Diameter": 0.42,
                  "Height": 0.135,
                  "Whole Weight": 0.677,
                  "Shucked Weight": 0.2565,
                  "Viscera Weight": 0.1415,
                  "Shell Weight": 0.21,
                  "Rings": 9
                },
                {
                  "index": 3,
                  "Sex": "M",
                  "Length": 0.44,
                  "Diameter": 0.365,
                  "Height": 0.125,
                  "Whole Weight": 0.516,
                  "Shucked Weight": 0.2155,
                  "Viscera Weight": 0.114,
                  "Shell Weight": 0.155,
                  "Rings": 10
                },
                {
                  "index": 4,
                  "Sex": "I",
                  "Length": 0.33,
                  "Diameter": 0.255,
                  "Height": 0.08,
                  "Whole Weight": 0.205,
                  "Shucked Weight": 0.0895,
                  "Viscera Weight": 0.0395,
                  "Shell Weight": 0.055,
                  "Rings": 7
                }
              ]
            }
          },
          "metadata": {
            "bento_obj_id": "140523187223232"
          },
          "execution_count": 26
        }
      ]
    },
    {
      "cell_type": "code",
      "metadata": {
        "originalKey": "a72e6968-3051-49fb-a749-b9ae9fa97e92",
        "showInput": true,
        "customInput": null,
        "collapsed": false,
        "requestMsgId": "ae9d5550-0cf8-46a2-998b-3a077e5b2e93",
        "executionStartTime": 1678480632996,
        "executionStopTime": 1678480633061,
        "customOutput": null
      },
      "source": [
        "abalone_data.info()"
      ],
      "execution_count": 27,
      "outputs": [
        {
          "output_type": "stream",
          "name": "stdout",
          "text": [
            "<class 'pandas.core.frame.DataFrame'>\nRangeIndex: 4177 entries, 0 to 4176\nData columns (total 9 columns):\n #   Column          Non-Null Count  Dtype  \n---  ------          --------------  -----  \n 0   Sex             4177 non-null   object \n 1   Length          4177 non-null   float64\n 2   Diameter        4177 non-null   float64\n 3   Height          4177 non-null   float64\n 4   Whole Weight    4177 non-null   float64\n 5   Shucked Weight  4177 non-null   float64\n 6   Viscera Weight  4177 non-null   float64\n 7   Shell Weight    4177 non-null   float64\n 8   Rings           4177 non-null   int64  \ndtypes: float64(7), int64(1), object(1)\nmemory usage: 293.8+ KB\n"
          ]
        }
      ]
    },
    {
      "cell_type": "code",
      "metadata": {
        "originalKey": "c60e569b-8c0c-41e7-9d26-946f07e35f76",
        "showInput": true,
        "customInput": null,
        "collapsed": false,
        "requestMsgId": "bcc1c52d-79c4-48ba-99e1-8ec83792c8fc",
        "executionStartTime": 1678480633471,
        "executionStopTime": 1678480633611,
        "customOutput": null
      },
      "source": [
        "abalone_data.describe()"
      ],
      "execution_count": 28,
      "outputs": [
        {
          "output_type": "execute_result",
          "data": {
            "text/plain": "          Length   Diameter     Height  ...  Viscera Weight  Shell Weight      Rings\ncount 4177.00000 4177.00000 4177.00000  ...      4177.00000    4177.00000 4177.00000\nmean     0.52399    0.40788    0.13952  ...         0.18059       0.23883    9.93368\nstd      0.12009    0.09924    0.04183  ...         0.10961       0.13920    3.22417\nmin      0.07500    0.05500    0.00000  ...         0.00050       0.00150    1.00000\n25%      0.45000    0.35000    0.11500  ...         0.09350       0.13000    8.00000\n50%      0.54500    0.42500    0.14000  ...         0.17100       0.23400    9.00000\n75%      0.61500    0.48000    0.16500  ...         0.25300       0.32900   11.00000\nmax      0.81500    0.65000    1.13000  ...         0.76000       1.00500   29.00000\n\n[8 rows x 8 columns]",
            "text/html": "<div>\n<style scoped>\n    .dataframe tbody tr th:only-of-type {\n        vertical-align: middle;\n    }\n\n    .dataframe tbody tr th {\n        vertical-align: top;\n    }\n\n    .dataframe thead th {\n        text-align: right;\n    }\n</style>\n<table border=\"1\" class=\"dataframe\">\n  <thead>\n    <tr style=\"text-align: right;\">\n      <th></th>\n      <th>Length</th>\n      <th>Diameter</th>\n      <th>Height</th>\n      <th>Whole Weight</th>\n      <th>Shucked Weight</th>\n      <th>Viscera Weight</th>\n      <th>Shell Weight</th>\n      <th>Rings</th>\n    </tr>\n  </thead>\n  <tbody>\n    <tr>\n      <th>count</th>\n      <td>4177.00000</td>\n      <td>4177.00000</td>\n      <td>4177.00000</td>\n      <td>4177.00000</td>\n      <td>4177.00000</td>\n      <td>4177.00000</td>\n      <td>4177.00000</td>\n      <td>4177.00000</td>\n    </tr>\n    <tr>\n      <th>mean</th>\n      <td>0.52399</td>\n      <td>0.40788</td>\n      <td>0.13952</td>\n      <td>0.82874</td>\n      <td>0.35937</td>\n      <td>0.18059</td>\n      <td>0.23883</td>\n      <td>9.93368</td>\n    </tr>\n    <tr>\n      <th>std</th>\n      <td>0.12009</td>\n      <td>0.09924</td>\n      <td>0.04183</td>\n      <td>0.49039</td>\n      <td>0.22196</td>\n      <td>0.10961</td>\n      <td>0.13920</td>\n      <td>3.22417</td>\n    </tr>\n    <tr>\n      <th>min</th>\n      <td>0.07500</td>\n      <td>0.05500</td>\n      <td>0.00000</td>\n      <td>0.00200</td>\n      <td>0.00100</td>\n      <td>0.00050</td>\n      <td>0.00150</td>\n      <td>1.00000</td>\n    </tr>\n    <tr>\n      <th>25%</th>\n      <td>0.45000</td>\n      <td>0.35000</td>\n      <td>0.11500</td>\n      <td>0.44150</td>\n      <td>0.18600</td>\n      <td>0.09350</td>\n      <td>0.13000</td>\n      <td>8.00000</td>\n    </tr>\n    <tr>\n      <th>50%</th>\n      <td>0.54500</td>\n      <td>0.42500</td>\n      <td>0.14000</td>\n      <td>0.79950</td>\n      <td>0.33600</td>\n      <td>0.17100</td>\n      <td>0.23400</td>\n      <td>9.00000</td>\n    </tr>\n    <tr>\n      <th>75%</th>\n      <td>0.61500</td>\n      <td>0.48000</td>\n      <td>0.16500</td>\n      <td>1.15300</td>\n      <td>0.50200</td>\n      <td>0.25300</td>\n      <td>0.32900</td>\n      <td>11.00000</td>\n    </tr>\n    <tr>\n      <th>max</th>\n      <td>0.81500</td>\n      <td>0.65000</td>\n      <td>1.13000</td>\n      <td>2.82550</td>\n      <td>1.48800</td>\n      <td>0.76000</td>\n      <td>1.00500</td>\n      <td>29.00000</td>\n    </tr>\n  </tbody>\n</table>\n</div>",
            "application/vnd.dataresource+json": {
              "schema": {
                "fields": [
                  {
                    "name": "index",
                    "type": "string"
                  },
                  {
                    "name": "Length",
                    "type": "number"
                  },
                  {
                    "name": "Diameter",
                    "type": "number"
                  },
                  {
                    "name": "Height",
                    "type": "number"
                  },
                  {
                    "name": "Whole Weight",
                    "type": "number"
                  },
                  {
                    "name": "Shucked Weight",
                    "type": "number"
                  },
                  {
                    "name": "Viscera Weight",
                    "type": "number"
                  },
                  {
                    "name": "Shell Weight",
                    "type": "number"
                  },
                  {
                    "name": "Rings",
                    "type": "number"
                  }
                ],
                "primaryKey": [
                  "index"
                ],
                "pandas_version": "0.20.0"
              },
              "data": [
                {
                  "index": "count",
                  "Length": 4177,
                  "Diameter": 4177,
                  "Height": 4177,
                  "Whole Weight": 4177,
                  "Shucked Weight": 4177,
                  "Viscera Weight": 4177,
                  "Shell Weight": 4177,
                  "Rings": 4177
                },
                {
                  "index": "mean",
                  "Length": 0.5239920996,
                  "Diameter": 0.4078812545,
                  "Height": 0.1395163993,
                  "Whole Weight": 0.8287421594,
                  "Shucked Weight": 0.3593674886,
                  "Viscera Weight": 0.1805936079,
                  "Shell Weight": 0.2388308595,
                  "Rings": 9.9336844625
                },
                {
                  "index": "std",
                  "Length": 0.1200929126,
                  "Diameter": 0.0992398661,
                  "Height": 0.0418270566,
                  "Whole Weight": 0.4903890182,
                  "Shucked Weight": 0.221962949,
                  "Viscera Weight": 0.1096142503,
                  "Shell Weight": 0.1392026695,
                  "Rings": 3.2241690321
                },
                {
                  "index": "min",
                  "Length": 0.075,
                  "Diameter": 0.055,
                  "Height": 0,
                  "Whole Weight": 0.002,
                  "Shucked Weight": 0.001,
                  "Viscera Weight": 0.0005,
                  "Shell Weight": 0.0015,
                  "Rings": 1
                },
                {
                  "index": "25%",
                  "Length": 0.45,
                  "Diameter": 0.35,
                  "Height": 0.115,
                  "Whole Weight": 0.4415,
                  "Shucked Weight": 0.186,
                  "Viscera Weight": 0.0935,
                  "Shell Weight": 0.13,
                  "Rings": 8
                },
                {
                  "index": "50%",
                  "Length": 0.545,
                  "Diameter": 0.425,
                  "Height": 0.14,
                  "Whole Weight": 0.7995,
                  "Shucked Weight": 0.336,
                  "Viscera Weight": 0.171,
                  "Shell Weight": 0.234,
                  "Rings": 9
                },
                {
                  "index": "75%",
                  "Length": 0.615,
                  "Diameter": 0.48,
                  "Height": 0.165,
                  "Whole Weight": 1.153,
                  "Shucked Weight": 0.502,
                  "Viscera Weight": 0.253,
                  "Shell Weight": 0.329,
                  "Rings": 11
                },
                {
                  "index": "max",
                  "Length": 0.815,
                  "Diameter": 0.65,
                  "Height": 1.13,
                  "Whole Weight": 2.8255,
                  "Shucked Weight": 1.488,
                  "Viscera Weight": 0.76,
                  "Shell Weight": 1.005,
                  "Rings": 29
                }
              ]
            }
          },
          "metadata": {
            "bento_obj_id": "140522960660800"
          },
          "execution_count": 28
        }
      ]
    },
    {
      "cell_type": "code",
      "metadata": {
        "originalKey": "f11f901e-e954-495f-877e-75cf0a6059b5",
        "showInput": true,
        "customInput": null,
        "collapsed": false,
        "requestMsgId": "3e1959e0-58f4-457f-8bc2-02b5e21e15a7",
        "executionStartTime": 1678480633985,
        "executionStopTime": 1678480634048,
        "customOutput": null
      },
      "source": [
        "# Check for nulls\n",
        "# If there are nulls, use isnull().sum() and splicing using isnull (ex: cr_data[pd.isnull(cr_data[\"Ring 0 MSR\"])]), to find and explore, and dropna() to remove\n",
        "\n",
        "abalone_data.isnull().sum()"
      ],
      "execution_count": 29,
      "outputs": [
        {
          "output_type": "execute_result",
          "data": {
            "text/plain": "Sex               0\nLength            0\nDiameter          0\nHeight            0\nWhole Weight      0\nShucked Weight    0\nViscera Weight    0\nShell Weight      0\nRings             0\ndtype: int64",
            "application/vnd.dataresource+json": {
              "schema": {
                "fields": [
                  {
                    "name": "index",
                    "type": "string"
                  },
                  {
                    "name": "values",
                    "type": "integer"
                  }
                ],
                "primaryKey": [
                  "index"
                ],
                "pandas_version": "0.20.0"
              },
              "data": [
                {
                  "index": "Sex",
                  "values": 0
                },
                {
                  "index": "Length",
                  "values": 0
                },
                {
                  "index": "Diameter",
                  "values": 0
                },
                {
                  "index": "Height",
                  "values": 0
                },
                {
                  "index": "Whole Weight",
                  "values": 0
                },
                {
                  "index": "Shucked Weight",
                  "values": 0
                },
                {
                  "index": "Viscera Weight",
                  "values": 0
                },
                {
                  "index": "Shell Weight",
                  "values": 0
                },
                {
                  "index": "Rings",
                  "values": 0
                }
              ]
            }
          },
          "metadata": {
            "bento_obj_id": "140523187070240"
          },
          "execution_count": 29
        }
      ]
    },
    {
      "cell_type": "code",
      "metadata": {
        "originalKey": "a9f1fddc-6133-412c-975a-390897d632bd",
        "showInput": true,
        "customInput": null,
        "collapsed": false,
        "requestMsgId": "b61914b2-f938-4e96-b58d-12cccbfc6c4c",
        "executionStartTime": 1678480634427,
        "executionStopTime": 1678480634437,
        "customOutput": null
      },
      "source": [
        "# Spot checking by hand\n",
        "\n",
        "abalone_data.iloc[100:110, :]"
      ],
      "execution_count": 30,
      "outputs": [
        {
          "output_type": "execute_result",
          "data": {
            "text/plain": "    Sex  Length  Diameter  ...  Viscera Weight  Shell Weight  Rings\n100   I 0.36000   0.26500  ...         0.04600       0.07500      7\n101   M 0.55000   0.43500  ...         0.19150       0.25500     15\n102   M 0.53000   0.43500  ...         0.16400       0.33500     15\n103   M 0.53000   0.41500  ...         0.16750       0.20500     10\n104   M 0.60500   0.47000  ...         0.24050       0.34500     12\n105   F 0.52000   0.41000  ...         0.18350       0.23500     12\n106   F 0.54500   0.43000  ...         0.18300       0.28000     11\n107   F 0.50000   0.40000  ...         0.13150       0.22000     10\n108   F 0.51000   0.39000  ...         0.17900       0.20000      9\n109   F 0.43500   0.39500  ...         0.09800       0.13000      9\n\n[10 rows x 9 columns]",
            "text/html": "<div>\n<style scoped>\n    .dataframe tbody tr th:only-of-type {\n        vertical-align: middle;\n    }\n\n    .dataframe tbody tr th {\n        vertical-align: top;\n    }\n\n    .dataframe thead th {\n        text-align: right;\n    }\n</style>\n<table border=\"1\" class=\"dataframe\">\n  <thead>\n    <tr style=\"text-align: right;\">\n      <th></th>\n      <th>Sex</th>\n      <th>Length</th>\n      <th>Diameter</th>\n      <th>Height</th>\n      <th>Whole Weight</th>\n      <th>Shucked Weight</th>\n      <th>Viscera Weight</th>\n      <th>Shell Weight</th>\n      <th>Rings</th>\n    </tr>\n  </thead>\n  <tbody>\n    <tr>\n      <th>100</th>\n      <td>I</td>\n      <td>0.36000</td>\n      <td>0.26500</td>\n      <td>0.09500</td>\n      <td>0.23150</td>\n      <td>0.10500</td>\n      <td>0.04600</td>\n      <td>0.07500</td>\n      <td>7</td>\n    </tr>\n    <tr>\n      <th>101</th>\n      <td>M</td>\n      <td>0.55000</td>\n      <td>0.43500</td>\n      <td>0.14500</td>\n      <td>0.84300</td>\n      <td>0.32800</td>\n      <td>0.19150</td>\n      <td>0.25500</td>\n      <td>15</td>\n    </tr>\n    <tr>\n      <th>102</th>\n      <td>M</td>\n      <td>0.53000</td>\n      <td>0.43500</td>\n      <td>0.16000</td>\n      <td>0.88300</td>\n      <td>0.31600</td>\n      <td>0.16400</td>\n      <td>0.33500</td>\n      <td>15</td>\n    </tr>\n    <tr>\n      <th>103</th>\n      <td>M</td>\n      <td>0.53000</td>\n      <td>0.41500</td>\n      <td>0.14000</td>\n      <td>0.72400</td>\n      <td>0.31050</td>\n      <td>0.16750</td>\n      <td>0.20500</td>\n      <td>10</td>\n    </tr>\n    <tr>\n      <th>104</th>\n      <td>M</td>\n      <td>0.60500</td>\n      <td>0.47000</td>\n      <td>0.16000</td>\n      <td>1.17350</td>\n      <td>0.49750</td>\n      <td>0.24050</td>\n      <td>0.34500</td>\n      <td>12</td>\n    </tr>\n    <tr>\n      <th>105</th>\n      <td>F</td>\n      <td>0.52000</td>\n      <td>0.41000</td>\n      <td>0.15500</td>\n      <td>0.72700</td>\n      <td>0.29100</td>\n      <td>0.18350</td>\n      <td>0.23500</td>\n      <td>12</td>\n    </tr>\n    <tr>\n      <th>106</th>\n      <td>F</td>\n      <td>0.54500</td>\n      <td>0.43000</td>\n      <td>0.16500</td>\n      <td>0.80200</td>\n      <td>0.29350</td>\n      <td>0.18300</td>\n      <td>0.28000</td>\n      <td>11</td>\n    </tr>\n    <tr>\n      <th>107</th>\n      <td>F</td>\n      <td>0.50000</td>\n      <td>0.40000</td>\n      <td>0.12500</td>\n      <td>0.66750</td>\n      <td>0.26100</td>\n      <td>0.13150</td>\n      <td>0.22000</td>\n      <td>10</td>\n    </tr>\n    <tr>\n      <th>108</th>\n      <td>F</td>\n      <td>0.51000</td>\n      <td>0.39000</td>\n      <td>0.13500</td>\n      <td>0.63350</td>\n      <td>0.23100</td>\n      <td>0.17900</td>\n      <td>0.20000</td>\n      <td>9</td>\n    </tr>\n    <tr>\n      <th>109</th>\n      <td>F</td>\n      <td>0.43500</td>\n      <td>0.39500</td>\n      <td>0.10500</td>\n      <td>0.36350</td>\n      <td>0.13600</td>\n      <td>0.09800</td>\n      <td>0.13000</td>\n      <td>9</td>\n    </tr>\n  </tbody>\n</table>\n</div>",
            "application/vnd.dataresource+json": {
              "schema": {
                "fields": [
                  {
                    "name": "index",
                    "type": "integer"
                  },
                  {
                    "name": "Sex",
                    "type": "string"
                  },
                  {
                    "name": "Length",
                    "type": "number"
                  },
                  {
                    "name": "Diameter",
                    "type": "number"
                  },
                  {
                    "name": "Height",
                    "type": "number"
                  },
                  {
                    "name": "Whole Weight",
                    "type": "number"
                  },
                  {
                    "name": "Shucked Weight",
                    "type": "number"
                  },
                  {
                    "name": "Viscera Weight",
                    "type": "number"
                  },
                  {
                    "name": "Shell Weight",
                    "type": "number"
                  },
                  {
                    "name": "Rings",
                    "type": "integer"
                  }
                ],
                "primaryKey": [
                  "index"
                ],
                "pandas_version": "0.20.0"
              },
              "data": [
                {
                  "index": 100,
                  "Sex": "I",
                  "Length": 0.36,
                  "Diameter": 0.265,
                  "Height": 0.095,
                  "Whole Weight": 0.2315,
                  "Shucked Weight": 0.105,
                  "Viscera Weight": 0.046,
                  "Shell Weight": 0.075,
                  "Rings": 7
                },
                {
                  "index": 101,
                  "Sex": "M",
                  "Length": 0.55,
                  "Diameter": 0.435,
                  "Height": 0.145,
                  "Whole Weight": 0.843,
                  "Shucked Weight": 0.328,
                  "Viscera Weight": 0.1915,
                  "Shell Weight": 0.255,
                  "Rings": 15
                },
                {
                  "index": 102,
                  "Sex": "M",
                  "Length": 0.53,
                  "Diameter": 0.435,
                  "Height": 0.16,
                  "Whole Weight": 0.883,
                  "Shucked Weight": 0.316,
                  "Viscera Weight": 0.164,
                  "Shell Weight": 0.335,
                  "Rings": 15
                },
                {
                  "index": 103,
                  "Sex": "M",
                  "Length": 0.53,
                  "Diameter": 0.415,
                  "Height": 0.14,
                  "Whole Weight": 0.724,
                  "Shucked Weight": 0.3105,
                  "Viscera Weight": 0.1675,
                  "Shell Weight": 0.205,
                  "Rings": 10
                },
                {
                  "index": 104,
                  "Sex": "M",
                  "Length": 0.605,
                  "Diameter": 0.47,
                  "Height": 0.16,
                  "Whole Weight": 1.1735,
                  "Shucked Weight": 0.4975,
                  "Viscera Weight": 0.2405,
                  "Shell Weight": 0.345,
                  "Rings": 12
                },
                {
                  "index": 105,
                  "Sex": "F",
                  "Length": 0.52,
                  "Diameter": 0.41,
                  "Height": 0.155,
                  "Whole Weight": 0.727,
                  "Shucked Weight": 0.291,
                  "Viscera Weight": 0.1835,
                  "Shell Weight": 0.235,
                  "Rings": 12
                },
                {
                  "index": 106,
                  "Sex": "F",
                  "Length": 0.545,
                  "Diameter": 0.43,
                  "Height": 0.165,
                  "Whole Weight": 0.802,
                  "Shucked Weight": 0.2935,
                  "Viscera Weight": 0.183,
                  "Shell Weight": 0.28,
                  "Rings": 11
                },
                {
                  "index": 107,
                  "Sex": "F",
                  "Length": 0.5,
                  "Diameter": 0.4,
                  "Height": 0.125,
                  "Whole Weight": 0.6675,
                  "Shucked Weight": 0.261,
                  "Viscera Weight": 0.1315,
                  "Shell Weight": 0.22,
                  "Rings": 10
                },
                {
                  "index": 108,
                  "Sex": "F",
                  "Length": 0.51,
                  "Diameter": 0.39,
                  "Height": 0.135,
                  "Whole Weight": 0.6335,
                  "Shucked Weight": 0.231,
                  "Viscera Weight": 0.179,
                  "Shell Weight": 0.2,
                  "Rings": 9
                },
                {
                  "index": 109,
                  "Sex": "F",
                  "Length": 0.435,
                  "Diameter": 0.395,
                  "Height": 0.105,
                  "Whole Weight": 0.3635,
                  "Shucked Weight": 0.136,
                  "Viscera Weight": 0.098,
                  "Shell Weight": 0.13,
                  "Rings": 9
                }
              ]
            }
          },
          "metadata": {
            "bento_obj_id": "140523187135536"
          },
          "execution_count": 30
        }
      ]
    },
    {
      "cell_type": "markdown",
      "metadata": {
        "originalKey": "d9716ec8-e9e4-4a65-b5d2-97af1b6b333e",
        "showInput": false,
        "customInput": null
      },
      "source": [
        ""
      ]
    },
    {
      "cell_type": "code",
      "metadata": {
        "originalKey": "d015c643-4e2c-4a5f-8698-b0a6c140d4e2",
        "showInput": true,
        "customInput": null,
        "collapsed": false,
        "requestMsgId": "ca52766d-ab7d-400b-aae1-a0a5211ff8a6",
        "executionStartTime": 1678480634662,
        "executionStopTime": 1678480634693,
        "customOutput": null
      },
      "source": [
        "# Choosing the most appropriate model and checking model assumptions: (from Andy Fields) and https://people.duke.edu/~rnau/testing.htm\n",
        "\n",
        "# Consider if there is a more appropriate model beside the linear model?\n",
        "\n",
        "# Assumptions:\n",
        "## Note that most of the tests for these assumptions (like K-S), are themselves NHST and are therefore subject to those issues. The best option is to look at all available evidence, including thes tests, plots, etc, and make an informed. decision)\n",
        "\n",
        "# Additivity and linearity:  Linearity refers to the property of a mathematical relationship where the response variable (also known as the dependent variable or output) is directly proportional to the predictor variables (also known as the independent variables or inputs). In other words, a linear relationship is one where the output can be represented as a straight line when plotted against the input\n",
        "## Additivity refers to the property of a mathematical relationship where the effect of one predictor variable on the response variable is independent of the values of the other predictor variables. In other words, the effect of each predictor variable on the response variable can be considered separately, without taking into account the values of the other predictor variables.\n",
        "## How to test for it: Residual plots: Plot the residuals (the differences between the predicted values and the actual values) against the predicted values. If the residuals are randomly distributed around zero and do not form any patterns, it is an indication that the assumptions of additivity and linearity are met. nonlinearity is usually most evident in a plot of observed versus predicted values or a plot of residuals versus predicted values, which are a part of standard regression output. The points should be symmetrically distributed around a diagonal line in the former plot or around horizontal line in the latter plot, with a roughly constant variance.  (The residual-versus-predicted-plot is better than the observed-versus-predicted plot for this purpose, because it eliminates the visual distraction of a sloping pattern.)  Look carefully for evidence of a \"bowed\" pattern, indicating that the model makes systematic errors whenever it is making unusually large or small predictions. In multiple regression models, nonlinearity or nonadditivity may also be revealed by systematic patterns in plots of the residuals versus individual independent variables.\n",
        "### Scatter plots: Creating scatter plots of the independent variables against the dependent variable can also help to detect any patterns that suggest non-linearity or non-additivity.\n",
        "## What happens if it's violated: The Linear Regression model might not accurately describe the variable. I need to learn more to understand how bad the problem may be.\n",
        "## Is it typically violated in real life? Need to do more looking.\n",
        "## How to remedy: consider applying a nonlinear transformation to the dependent and/or independent variables if you can think of a transformation that seems appropriate. (Don’t just make something up!) For example, if the data are strictly positive, the log transformation is an option.  (The logarithm base does not matter--all log functions are same up to linear scaling--although the natural log is usually preferred because small changes in the natural log are equivalent to percentage changes.  See these notes for more details.)  If a log transformation is applied to the dependent variable only, this is equivalent to assuming that it grows (or decays) exponentially as a function of the independent variables.  If a log transformation is applied to both the dependent variable and the independent variables, this is equivalent to assuming that the effects of the independent variables are multiplicative rather than additive in their original units. This means that, on the margin, a small percentage change in one of the independent variables induces a proportional percentage change in the expected value of the dependent variable, other things being equal.  Models of this kind are commonly used in modeling price-demand relationships, as illustrated on the beer sales example on this web site.\n",
        "### Another possibility to consider is adding another regressor that is a nonlinear function of one of the other variables. For example, if you have regressed Y on X, and the graph of residuals versus predicted values suggests a parabolic curve, then it may make sense to regress Y on both X and X^2 (i.e., X-squared). The latter transformation is possible even when X and/or Y have negative values, whereas logging is not.  Higher-order terms of this kind (cubic, etc.) might also be considered in some cases.  But don’t get carried away!  This sort of \"polynomial curve fitting\" can be a nice way to draw a smooth curve through a wavy pattern of points (in fact, it is a trend-line option on scatterplots on Excel), but it is usually a terrible way to extrapolate outside the range of the sample data.\n",
        "### Finally, it may be that you have overlooked some entirely different independent variable that explains or corrects for the nonlinear pattern or interactions among variables that you are seeing in your residual plots. In that case the shape of the pattern, together with economic or physical reasoning, may suggest some likely suspects.  For example, if the strength of the linear relationship between Y and X1 depends on the level of some other variable X2, this could perhaps be addressed by creating a new independent variable that is the product of X1 and X2.  In the case of time series data, if the trend in Y is believed to have changed at a particular point in time, then the addition of a piecewise linear trend variable (one whose string of values looks like 0, 0, …, 0, 1, 2, 3, … ) could be used to fit the kink in the data.  Such a variable can be considered as the product of a trend variable and a dummy variable.  Again, though, you need to beware of overfitting the sample data by throwing in artificially constructed variables that are poorly motivated.  At the end of the day you need to be able to interpret the model and explain (or sell) it to others\n",
        "\n",
        "## Normality of the sampling distribution of residuals: The data does not need to be normal. The sampling distribution must be normal, which is typically gotten via the central limit theorem (i.e. if we have enough samples, and they are random, and they are large enough, all sampling distributions will be normal centered around the population mean.)\n",
        "## How to test for it: visualize the sampling distribution. P-P plot (or Q-Q plot). The NHST tests are considered to have too many false positives, i.e. normality of errors is often a little violated.  Anderson-Darling test (generallt considered the best), beating Kolmogrov-Smirnov (large sample sizes) or Shapiro Wilk (small sample sizes) tests.\n",
        "## What happens if it's violated: Cannot use any parametric tests, including most significance tests or confidence intervals (are there non-parametric versions of these?)\n",
        "##Is it typically violated in real life? Yes, a little. We use the CLT to ensure it is not too much.\n",
        "## How to remedy: TLDR: examine, consider non-linear models, consider nonlinear transformations: How to fix: violations of normality often arise either because (a) the distributions of the dependent and/or independent variables are themselves significantly non-normal, and/or (b) the linearity assumption is violated. In such cases, a nonlinear transformation of variables might cure both problems. In the case of the two normal quantile plots above, the second model was obtained applying a natural log transformation to the variables in the first one.\n",
        "### The dependent and independent variables in a regression model do not need to be normally distributed by themselves--only the prediction errors need to be normally distributed.  (In fact, independent variables do not even need to be random, as in the case of trend or dummy or treatment or pricing variables.)  But if the distributions of some of the variables that are random are extremely asymmetric or long-tailed, it may be hard to fit them into a linear model whose errors will be normally distributed, and explaining the shape of their distributions may be an interesting topic all by itself.  Keep in mind that the normal error assumption is usually justified by appeal to the central limit theorem, which holds in the case where many random variations are added together.  If the underlying sources of randomness are not interacting additively, this argument fails to hold.\n",
        "### Another possibility is that there are two or more subsets of the data having different statistical properties, in which case separate models should be built, or else some data should merely be excluded, provided that there is some a priori criterion that can be applied to make this determination.\n",
        "###In some cases, the problem with the error distribution is mainly due to one or two very large errors. Such values should be scrutinized closely: are they genuine (i.e., not the result of data entry errors), are they explainable, are similar events likely to occur again in the future, and how influential are they in your model-fitting results? If they are merely errors or if they can be explained as unique events not likely to be repeated, then you may have cause to remove them. In some cases, however, it may be that the extreme values in the data provide the most useful information about values of some of the coefficients and/or provide the most realistic guide to the magnitudes of forecast errors.\n",
        "### Important -  this assumption the the normality of the sampling distribution of errors. Andy Fields 4th edition does not make this distinction clearly enough.\n",
        "\n",
        "## Homogenity of variance: The variance should be the same at different levels of the target variable.\n",
        "## How to test for it: Examine a plot of standardized residuals vs predicted values (this is the same as graph to take a look at linearity). Levene's test (controversial, and only required if you have unequal greoup sizes).\n",
        "## What happens if it's violated: Sig tests and CI's will be artificially wide or narrow, esp for predictions outside the data range of the data studied. The sections of data with the larger variances will be overrepresented.\n",
        "## Is it typically violated in real life? I'm not sure. I think, like the others, it often is a little bit. \n",
        "## How to remedy: Check Fields text for more. If the dependent variable is strictly positive and if the residual-versus-predicted plot shows that the size of the errors is proportional to the size of the predictions (i.e., if the errors seem consistent in percentage rather than absolute terms), a log transformation applied to the dependent variable may be appropriate.\n",
        "\n",
        "## Independence: No correlation between the errors\n",
        "### How to test for it: [Some kind of] residuals plot. Durbin-Watson. Ideally, most of the residual autocorrelations should fall within the 95% confidence bands around zero, which are located at roughly plus-or-minus 2-over-the-square-root-of-n, where n is the sample size. Thus, if the sample size is 50, the autocorrelations should be between +/- 0.3. If the sample size is 100, they should be between +/- 0.2.\n",
        "### What happens if it's violated: [Check Fields text]\n",
        "### Is it typically violated in real life? All the time. Lots of partial autocorrelation\n",
        "#### How to remedy: Minor violations can indicate the need for a minor fine tuning of the model. [Check Fields text]. Major violations usually mean you need to use a different kind of model [Are there models that work as aleternatives? ]"
      ],
      "execution_count": 31,
      "outputs": []
    },
    {
      "cell_type": "code",
      "metadata": {
        "originalKey": "f8af7cc2-3217-4785-ba5f-13e9641cc1f1",
        "showInput": true,
        "customInput": null,
        "collapsed": false,
        "requestMsgId": "1ded49a4-7f45-4788-b5be-15d61dd4d023",
        "executionStartTime": 1678480634952,
        "executionStopTime": 1678480635026,
        "customOutput": null
      },
      "source": [
        "# Remove outliers\n",
        "\n",
        "# Also explore influential cases, using Cook's distance and PCA"
      ],
      "execution_count": 32,
      "outputs": []
    },
    {
      "cell_type": "code",
      "metadata": {
        "originalKey": "bce0b571-7a38-475a-adc8-04405286fbf0",
        "showInput": true,
        "customInput": null,
        "customOutput": null,
        "collapsed": false,
        "requestMsgId": "290cf325-dc7a-450a-9763-4dff387bea9c",
        "executionStartTime": 1678480635220,
        "executionStopTime": 1678480635252
      },
      "source": [
        "abalone_data.std()"
      ],
      "execution_count": 33,
      "outputs": [
        {
          "output_type": "execute_result",
          "data": {
            "text/plain": "Length           0.12009\nDiameter         0.09924\nHeight           0.04183\nWhole Weight     0.49039\nShucked Weight   0.22196\nViscera Weight   0.10961\nShell Weight     0.13920\nRings            3.22417\ndtype: float64",
            "application/vnd.dataresource+json": {
              "schema": {
                "fields": [
                  {
                    "name": "index",
                    "type": "string"
                  },
                  {
                    "name": "values",
                    "type": "number"
                  }
                ],
                "primaryKey": [
                  "index"
                ],
                "pandas_version": "0.20.0"
              },
              "data": [
                {
                  "index": "Length",
                  "values": 0.1200929126
                },
                {
                  "index": "Diameter",
                  "values": 0.0992398661
                },
                {
                  "index": "Height",
                  "values": 0.0418270566
                },
                {
                  "index": "Whole Weight",
                  "values": 0.4903890182
                },
                {
                  "index": "Shucked Weight",
                  "values": 0.221962949
                },
                {
                  "index": "Viscera Weight",
                  "values": 0.1096142503
                },
                {
                  "index": "Shell Weight",
                  "values": 0.1392026695
                },
                {
                  "index": "Rings",
                  "values": 3.2241690321
                }
              ]
            }
          },
          "metadata": {
            "bento_obj_id": "140522960968384"
          },
          "execution_count": 33
        }
      ]
    },
    {
      "cell_type": "code",
      "metadata": {
        "originalKey": "d6956ec5-2ce2-4a42-9085-c001c3c3c495",
        "showInput": true,
        "customInput": null,
        "collapsed": false,
        "requestMsgId": "cdfa9ca1-8ae4-459d-8249-8d8e137aebeb",
        "executionStartTime": 1678480635515,
        "executionStopTime": 1678480635548,
        "customOutput": null
      },
      "source": [
        "Length_outlier = abalone_data[\"Length\"].mean() + (abalone_data[\"Length\"].std() * 2.5)\n",
        "Diameter_outlier = abalone_data[\"Diameter\"].mean() + (\n",
        "    abalone_data[\"Diameter\"].std() * 2.5\n",
        ")\n",
        "Height_outlier = abalone_data[\"Height\"].mean() + (abalone_data[\"Height\"].std() * 2.5)\n",
        "Whole_Weight_outlier = abalone_data[\"Whole Weight\"].mean() + (\n",
        "    abalone_data[\"Whole Weight\"].std() * 2.5\n",
        ")\n",
        "Shucked_Weight_outlier = abalone_data[\"Shucked Weight\"].mean() + (\n",
        "    abalone_data[\"Shucked Weight\"].std() * 2.5\n",
        ")\n",
        "Viscera_Weight_outlier = abalone_data[\"Viscera Weight\"].mean() + (\n",
        "    abalone_data[\"Viscera Weight\"].std() * 2.5\n",
        ")\n",
        "Shell_Weight_outlier = abalone_data[\"Shell Weight\"].mean() + (\n",
        "    abalone_data[\"Shell Weight\"].std() * 2.5\n",
        ")\n",
        "\n",
        "Rings_outlier = abalone_data[\"Rings\"].mean() + (abalone_data[\"Rings\"].std() * 2.5)"
      ],
      "execution_count": 34,
      "outputs": []
    },
    {
      "cell_type": "code",
      "metadata": {
        "originalKey": "acafd7be-1a01-47b3-b45e-556b94ac627a",
        "showInput": true,
        "customInput": null,
        "collapsed": false,
        "requestMsgId": "081287fd-e1f2-4a9a-a133-58492dfa8f44",
        "executionStartTime": 1678480635762,
        "executionStopTime": 1678480635789,
        "customOutput": null
      },
      "source": [
        "print(Length_outlier) # sanity check"
      ],
      "execution_count": 35,
      "outputs": [
        {
          "output_type": "stream",
          "name": "stdout",
          "text": [
            "0.8242243810050083\n"
          ]
        }
      ]
    },
    {
      "cell_type": "code",
      "metadata": {
        "originalKey": "b8fc8083-e0f8-49c6-b657-1ee6357cb021",
        "showInput": true,
        "customInput": null,
        "collapsed": false,
        "requestMsgId": "ecd7b0ff-9fa4-4b93-8fe7-013ecbc45c71",
        "executionStartTime": 1678480635979,
        "executionStopTime": 1678480636020,
        "customOutput": null
      },
      "source": [
        "abalone_data.info() # There are 4177 before outlier removal. "
      ],
      "execution_count": 36,
      "outputs": [
        {
          "output_type": "stream",
          "name": "stdout",
          "text": [
            "<class 'pandas.core.frame.DataFrame'>\nRangeIndex: 4177 entries, 0 to 4176\nData columns (total 9 columns):\n #   Column          Non-Null Count  Dtype  \n---  ------          --------------  -----  \n 0   Sex             4177 non-null   object \n 1   Length          4177 non-null   float64\n 2   Diameter        4177 non-null   float64\n 3   Height          4177 non-null   float64\n 4   Whole Weight    4177 non-null   float64\n 5   Shucked Weight  4177 non-null   float64\n 6   Viscera Weight  4177 non-null   float64\n 7   Shell Weight    4177 non-null   float64\n 8   Rings           4177 non-null   int64  \ndtypes: float64(7), int64(1), object(1)\nmemory usage: 293.8+ KB\n"
          ]
        }
      ]
    },
    {
      "cell_type": "code",
      "metadata": {
        "originalKey": "9653c132-ee8f-44d6-9f08-2abe072a9794",
        "showInput": true,
        "customInput": null,
        "customOutput": null,
        "collapsed": false,
        "requestMsgId": "20b6ed09-7c56-4e16-b6ed-3d467815a8b0",
        "executionStartTime": 1678480636209,
        "executionStopTime": 1678480636255
      },
      "source": [
        "abalone_data = abalone_data.loc[abalone_data[\"Length\"] < Length_outlier] # The order of outlier removal should not matter, because you calculated the outlier threshold values all at once beforehand. \n",
        "abalone_data.info()"
      ],
      "execution_count": 37,
      "outputs": [
        {
          "output_type": "stream",
          "name": "stdout",
          "text": [
            "<class 'pandas.core.frame.DataFrame'>\nInt64Index: 4177 entries, 0 to 4176\nData columns (total 9 columns):\n #   Column          Non-Null Count  Dtype  \n---  ------          --------------  -----  \n 0   Sex             4177 non-null   object \n 1   Length          4177 non-null   float64\n 2   Diameter        4177 non-null   float64\n 3   Height          4177 non-null   float64\n 4   Whole Weight    4177 non-null   float64\n 5   Shucked Weight  4177 non-null   float64\n 6   Viscera Weight  4177 non-null   float64\n 7   Shell Weight    4177 non-null   float64\n 8   Rings           4177 non-null   int64  \ndtypes: float64(7), int64(1), object(1)\nmemory usage: 326.3+ KB\n"
          ]
        }
      ]
    },
    {
      "cell_type": "code",
      "metadata": {
        "originalKey": "64372b0c-8048-4595-b2c7-53024a3daaa5",
        "showInput": true,
        "customInput": null,
        "customOutput": null,
        "collapsed": false,
        "requestMsgId": "ecadb938-4390-48b1-8e98-03b1dd9d7209",
        "executionStartTime": 1678480636562,
        "executionStopTime": 1678480636609
      },
      "source": [
        "abalone_data = abalone_data.loc[abalone_data[\"Diameter\"] < Diameter_outlier] # There is probably a most efficient way of doing this\n",
        "abalone_data.info()\n",
        ""
      ],
      "execution_count": 38,
      "outputs": [
        {
          "output_type": "stream",
          "name": "stdout",
          "text": [
            "<class 'pandas.core.frame.DataFrame'>\nInt64Index: 4177 entries, 0 to 4176\nData columns (total 9 columns):\n #   Column          Non-Null Count  Dtype  \n---  ------          --------------  -----  \n 0   Sex             4177 non-null   object \n 1   Length          4177 non-null   float64\n 2   Diameter        4177 non-null   float64\n 3   Height          4177 non-null   float64\n 4   Whole Weight    4177 non-null   float64\n 5   Shucked Weight  4177 non-null   float64\n 6   Viscera Weight  4177 non-null   float64\n 7   Shell Weight    4177 non-null   float64\n 8   Rings           4177 non-null   int64  \ndtypes: float64(7), int64(1), object(1)\nmemory usage: 326.3+ KB\n"
          ]
        }
      ]
    },
    {
      "cell_type": "code",
      "metadata": {
        "originalKey": "4329ca10-8baa-419d-a617-1fd3e6d6c44a",
        "showInput": true,
        "customInput": null,
        "collapsed": false,
        "requestMsgId": "99fa5d0e-da80-4bf4-a933-5ea64f05e11d",
        "executionStartTime": 1678480637009,
        "executionStopTime": 1678480637014,
        "customOutput": null
      },
      "source": [
        "abalone_data = abalone_data.loc[abalone_data[\"Height\"] < Height_outlier] \n",
        "abalone_data.info()"
      ],
      "execution_count": 39,
      "outputs": [
        {
          "output_type": "stream",
          "name": "stdout",
          "text": [
            "<class 'pandas.core.frame.DataFrame'>\nInt64Index: 4172 entries, 0 to 4176\nData columns (total 9 columns):\n #   Column          Non-Null Count  Dtype  \n---  ------          --------------  -----  \n 0   Sex             4172 non-null   object \n 1   Length          4172 non-null   float64\n 2   Diameter        4172 non-null   float64\n 3   Height          4172 non-null   float64\n 4   Whole Weight    4172 non-null   float64\n 5   Shucked Weight  4172 non-null   float64\n 6   Viscera Weight  4172 non-null   float64\n 7   Shell Weight    4172 non-null   float64\n 8   Rings           4172 non-null   int64  \ndtypes: float64(7), int64(1), object(1)\nmemory usage: 325.9+ KB\n"
          ]
        }
      ]
    },
    {
      "cell_type": "code",
      "metadata": {
        "originalKey": "a6632054-23a2-4722-b213-6d656033d21c",
        "showInput": true,
        "customInput": null,
        "collapsed": false,
        "requestMsgId": "f0db7ff5-294b-44f0-b697-51615e038629",
        "executionStartTime": 1678480637202,
        "executionStopTime": 1678480637245,
        "customOutput": null
      },
      "source": [
        "abalone_data = abalone_data.loc[abalone_data[\"Whole Weight\"] < Whole_Weight_outlier] \n",
        "abalone_data.info()"
      ],
      "execution_count": 40,
      "outputs": [
        {
          "output_type": "stream",
          "name": "stdout",
          "text": [
            "<class 'pandas.core.frame.DataFrame'>\nInt64Index: 4112 entries, 0 to 4176\nData columns (total 9 columns):\n #   Column          Non-Null Count  Dtype  \n---  ------          --------------  -----  \n 0   Sex             4112 non-null   object \n 1   Length          4112 non-null   float64\n 2   Diameter        4112 non-null   float64\n 3   Height          4112 non-null   float64\n 4   Whole Weight    4112 non-null   float64\n 5   Shucked Weight  4112 non-null   float64\n 6   Viscera Weight  4112 non-null   float64\n 7   Shell Weight    4112 non-null   float64\n 8   Rings           4112 non-null   int64  \ndtypes: float64(7), int64(1), object(1)\nmemory usage: 321.2+ KB\n"
          ]
        }
      ]
    },
    {
      "cell_type": "code",
      "metadata": {
        "originalKey": "cb4681c1-1b38-4e31-825a-1508f5842682",
        "showInput": true,
        "customInput": null,
        "collapsed": false,
        "requestMsgId": "a48bf142-4d8d-47a4-8a58-0b51c1e60e15",
        "executionStartTime": 1678480637574,
        "executionStopTime": 1678480637614,
        "customOutput": null
      },
      "source": [
        "abalone_data = abalone_data.loc[abalone_data[\"Shucked Weight\"] < Shucked_Weight_outlier] \n",
        "abalone_data.info()"
      ],
      "execution_count": 41,
      "outputs": [
        {
          "output_type": "stream",
          "name": "stdout",
          "text": [
            "<class 'pandas.core.frame.DataFrame'>\nInt64Index: 4091 entries, 0 to 4175\nData columns (total 9 columns):\n #   Column          Non-Null Count  Dtype  \n---  ------          --------------  -----  \n 0   Sex             4091 non-null   object \n 1   Length          4091 non-null   float64\n 2   Diameter        4091 non-null   float64\n 3   Height          4091 non-null   float64\n 4   Whole Weight    4091 non-null   float64\n 5   Shucked Weight  4091 non-null   float64\n 6   Viscera Weight  4091 non-null   float64\n 7   Shell Weight    4091 non-null   float64\n 8   Rings           4091 non-null   int64  \ndtypes: float64(7), int64(1), object(1)\nmemory usage: 319.6+ KB\n"
          ]
        }
      ]
    },
    {
      "cell_type": "code",
      "metadata": {
        "originalKey": "88082949-96b4-431b-bed9-b4b6e1c59d6d",
        "showInput": true,
        "customInput": null,
        "collapsed": false,
        "requestMsgId": "ed940cbc-5a5f-441c-97c9-2948a115550f",
        "executionStartTime": 1678480637806,
        "executionStopTime": 1678480637849,
        "customOutput": null
      },
      "source": [
        "abalone_data = abalone_data.loc[abalone_data[\"Viscera Weight\"] < Viscera_Weight_outlier] \n",
        "abalone_data.info()"
      ],
      "execution_count": 42,
      "outputs": [
        {
          "output_type": "stream",
          "name": "stdout",
          "text": [
            "<class 'pandas.core.frame.DataFrame'>\nInt64Index: 4071 entries, 0 to 4175\nData columns (total 9 columns):\n #   Column          Non-Null Count  Dtype  \n---  ------          --------------  -----  \n 0   Sex             4071 non-null   object \n 1   Length          4071 non-null   float64\n 2   Diameter        4071 non-null   float64\n 3   Height          4071 non-null   float64\n 4   Whole Weight    4071 non-null   float64\n 5   Shucked Weight  4071 non-null   float64\n 6   Viscera Weight  4071 non-null   float64\n 7   Shell Weight    4071 non-null   float64\n 8   Rings           4071 non-null   int64  \ndtypes: float64(7), int64(1), object(1)\nmemory usage: 318.0+ KB\n"
          ]
        }
      ]
    },
    {
      "cell_type": "code",
      "metadata": {
        "originalKey": "f60fcb4b-81b0-45e3-be20-492a6d88dd72",
        "showInput": true,
        "customInput": null,
        "collapsed": false,
        "requestMsgId": "12f90ec6-50e9-4eb2-9427-49611bdec6bb",
        "executionStartTime": 1678480638042,
        "executionStopTime": 1678480638083,
        "customOutput": null
      },
      "source": [
        "abalone_data = abalone_data.loc[abalone_data[\"Shell Weight\"] < Shell_Weight_outlier] \n",
        "abalone_data.info()"
      ],
      "execution_count": 43,
      "outputs": [
        {
          "output_type": "stream",
          "name": "stdout",
          "text": [
            "<class 'pandas.core.frame.DataFrame'>\nInt64Index: 4043 entries, 0 to 4175\nData columns (total 9 columns):\n #   Column          Non-Null Count  Dtype  \n---  ------          --------------  -----  \n 0   Sex             4043 non-null   object \n 1   Length          4043 non-null   float64\n 2   Diameter        4043 non-null   float64\n 3   Height          4043 non-null   float64\n 4   Whole Weight    4043 non-null   float64\n 5   Shucked Weight  4043 non-null   float64\n 6   Viscera Weight  4043 non-null   float64\n 7   Shell Weight    4043 non-null   float64\n 8   Rings           4043 non-null   int64  \ndtypes: float64(7), int64(1), object(1)\nmemory usage: 315.9+ KB\n"
          ]
        }
      ]
    },
    {
      "cell_type": "code",
      "metadata": {
        "originalKey": "43f0b6e9-68fa-4604-8fa4-a571cec45f88",
        "showInput": true,
        "customInput": null,
        "collapsed": false,
        "requestMsgId": "c3e4b52c-7a83-4b2d-b3fd-c7e74b1a0119",
        "executionStartTime": 1678480638283,
        "executionStopTime": 1678480638338,
        "customOutput": null
      },
      "source": [
        "abalone_data = abalone_data.loc[abalone_data[\"Rings\"] < Rings_outlier] \n",
        "abalone_data.info()"
      ],
      "execution_count": 44,
      "outputs": [
        {
          "output_type": "stream",
          "name": "stdout",
          "text": [
            "<class 'pandas.core.frame.DataFrame'>\nInt64Index: 3921 entries, 0 to 4175\nData columns (total 9 columns):\n #   Column          Non-Null Count  Dtype  \n---  ------          --------------  -----  \n 0   Sex             3921 non-null   object \n 1   Length          3921 non-null   float64\n 2   Diameter        3921 non-null   float64\n 3   Height          3921 non-null   float64\n 4   Whole Weight    3921 non-null   float64\n 5   Shucked Weight  3921 non-null   float64\n 6   Viscera Weight  3921 non-null   float64\n 7   Shell Weight    3921 non-null   float64\n 8   Rings           3921 non-null   int64  \ndtypes: float64(7), int64(1), object(1)\nmemory usage: 306.3+ KB\n"
          ]
        }
      ]
    },
    {
      "cell_type": "code",
      "metadata": {
        "originalKey": "dcd38964-b9a4-426d-b67f-76e92897e3ea",
        "showInput": true,
        "customInput": null,
        "collapsed": false,
        "requestMsgId": "96592f5e-d90e-4277-84d4-11343801c62e",
        "executionStartTime": 1678480638667,
        "executionStopTime": 1678480638712,
        "customOutput": null
      },
      "source": [
        "(4177-3921)/4177"
      ],
      "execution_count": 45,
      "outputs": [
        {
          "output_type": "execute_result",
          "data": {
            "text/plain": "0.06128800574575054"
          },
          "metadata": {
            "bento_obj_id": "140523196227184"
          },
          "execution_count": 45
        }
      ]
    },
    {
      "cell_type": "code",
      "metadata": {
        "originalKey": "72febbb6-6004-4074-addf-b08044038694",
        "showInput": true,
        "customInput": null,
        "collapsed": false,
        "requestMsgId": "26d5bd94-b0c9-4d31-bebc-7f804c4a02c4",
        "executionStartTime": 1678480638892,
        "executionStopTime": 1678480638902,
        "customOutput": null
      },
      "source": [
        "# 6% of the data being outliers is not good, but manageable. Should be investigated more."
      ],
      "execution_count": 46,
      "outputs": []
    },
    {
      "cell_type": "code",
      "metadata": {
        "originalKey": "66d51044-98fb-4537-99d9-c2a1cabd7a4d",
        "showInput": true,
        "customInput": null,
        "collapsed": false,
        "requestMsgId": "2143996b-d1f7-4509-a340-c8229dc4860f",
        "executionStartTime": 1678480639095,
        "executionStopTime": 1678480639155,
        "customOutput": null
      },
      "source": [
        "abalone_data.corr() # Lots of autocorrelation, will do PCA"
      ],
      "execution_count": 47,
      "outputs": [
        {
          "output_type": "execute_result",
          "data": {
            "text/plain": "                Length  Diameter  Height  ...  Viscera Weight  Shell Weight   Rings\nLength         1.00000   0.98645 0.89689  ...         0.90741       0.91502 0.59624\nDiameter       0.98645   1.00000 0.90289  ...         0.90458       0.92296 0.61312\nHeight         0.89689   0.90289 1.00000  ...         0.86791       0.89547 0.63246\nWhole Weight   0.93381   0.93438 0.88887  ...         0.96703       0.96126 0.56613\nShucked Weight 0.90931   0.90529 0.84185  ...         0.93110       0.90004 0.46530\nViscera Weight 0.90741   0.90458 0.86791  ...         1.00000       0.92124 0.54539\nShell Weight   0.91502   0.92296 0.89547  ...         0.92124       1.00000 0.63686\nRings          0.59624   0.61312 0.63246  ...         0.54539       0.63686 1.00000\n\n[8 rows x 8 columns]",
            "text/html": "<div>\n<style scoped>\n    .dataframe tbody tr th:only-of-type {\n        vertical-align: middle;\n    }\n\n    .dataframe tbody tr th {\n        vertical-align: top;\n    }\n\n    .dataframe thead th {\n        text-align: right;\n    }\n</style>\n<table border=\"1\" class=\"dataframe\">\n  <thead>\n    <tr style=\"text-align: right;\">\n      <th></th>\n      <th>Length</th>\n      <th>Diameter</th>\n      <th>Height</th>\n      <th>Whole Weight</th>\n      <th>Shucked Weight</th>\n      <th>Viscera Weight</th>\n      <th>Shell Weight</th>\n      <th>Rings</th>\n    </tr>\n  </thead>\n  <tbody>\n    <tr>\n      <th>Length</th>\n      <td>1.00000</td>\n      <td>0.98645</td>\n      <td>0.89689</td>\n      <td>0.93381</td>\n      <td>0.90931</td>\n      <td>0.90741</td>\n      <td>0.91502</td>\n      <td>0.59624</td>\n    </tr>\n    <tr>\n      <th>Diameter</th>\n      <td>0.98645</td>\n      <td>1.00000</td>\n      <td>0.90289</td>\n      <td>0.93438</td>\n      <td>0.90529</td>\n      <td>0.90458</td>\n      <td>0.92296</td>\n      <td>0.61312</td>\n    </tr>\n    <tr>\n      <th>Height</th>\n      <td>0.89689</td>\n      <td>0.90289</td>\n      <td>1.00000</td>\n      <td>0.88887</td>\n      <td>0.84185</td>\n      <td>0.86791</td>\n      <td>0.89547</td>\n      <td>0.63246</td>\n    </tr>\n    <tr>\n      <th>Whole Weight</th>\n      <td>0.93381</td>\n      <td>0.93438</td>\n      <td>0.88887</td>\n      <td>1.00000</td>\n      <td>0.97261</td>\n      <td>0.96703</td>\n      <td>0.96126</td>\n      <td>0.56613</td>\n    </tr>\n    <tr>\n      <th>Shucked Weight</th>\n      <td>0.90931</td>\n      <td>0.90529</td>\n      <td>0.84185</td>\n      <td>0.97261</td>\n      <td>1.00000</td>\n      <td>0.93110</td>\n      <td>0.90004</td>\n      <td>0.46530</td>\n    </tr>\n    <tr>\n      <th>Viscera Weight</th>\n      <td>0.90741</td>\n      <td>0.90458</td>\n      <td>0.86791</td>\n      <td>0.96703</td>\n      <td>0.93110</td>\n      <td>1.00000</td>\n      <td>0.92124</td>\n      <td>0.54539</td>\n    </tr>\n    <tr>\n      <th>Shell Weight</th>\n      <td>0.91502</td>\n      <td>0.92296</td>\n      <td>0.89547</td>\n      <td>0.96126</td>\n      <td>0.90004</td>\n      <td>0.92124</td>\n      <td>1.00000</td>\n      <td>0.63686</td>\n    </tr>\n    <tr>\n      <th>Rings</th>\n      <td>0.59624</td>\n      <td>0.61312</td>\n      <td>0.63246</td>\n      <td>0.56613</td>\n      <td>0.46530</td>\n      <td>0.54539</td>\n      <td>0.63686</td>\n      <td>1.00000</td>\n    </tr>\n  </tbody>\n</table>\n</div>",
            "application/vnd.dataresource+json": {
              "schema": {
                "fields": [
                  {
                    "name": "index",
                    "type": "string"
                  },
                  {
                    "name": "Length",
                    "type": "number"
                  },
                  {
                    "name": "Diameter",
                    "type": "number"
                  },
                  {
                    "name": "Height",
                    "type": "number"
                  },
                  {
                    "name": "Whole Weight",
                    "type": "number"
                  },
                  {
                    "name": "Shucked Weight",
                    "type": "number"
                  },
                  {
                    "name": "Viscera Weight",
                    "type": "number"
                  },
                  {
                    "name": "Shell Weight",
                    "type": "number"
                  },
                  {
                    "name": "Rings",
                    "type": "number"
                  }
                ],
                "primaryKey": [
                  "index"
                ],
                "pandas_version": "0.20.0"
              },
              "data": [
                {
                  "index": "Length",
                  "Length": 1,
                  "Diameter": 0.9864503424,
                  "Height": 0.8968889022,
                  "Whole Weight": 0.9338129207,
                  "Shucked Weight": 0.9093138944,
                  "Viscera Weight": 0.9074114339,
                  "Shell Weight": 0.9150179496,
                  "Rings": 0.5962367107
                },
                {
                  "index": "Diameter",
                  "Length": 0.9864503424,
                  "Diameter": 1,
                  "Height": 0.9028874948,
                  "Whole Weight": 0.9343793586,
                  "Shucked Weight": 0.9052884855,
                  "Viscera Weight": 0.904575615,
                  "Shell Weight": 0.9229579808,
                  "Rings": 0.6131165897
                },
                {
                  "index": "Height",
                  "Length": 0.8968889022,
                  "Diameter": 0.9028874948,
                  "Height": 1,
                  "Whole Weight": 0.8888701178,
                  "Shucked Weight": 0.8418530183,
                  "Viscera Weight": 0.8679103732,
                  "Shell Weight": 0.8954650697,
                  "Rings": 0.6324642888
                },
                {
                  "index": "Whole Weight",
                  "Length": 0.9338129207,
                  "Diameter": 0.9343793586,
                  "Height": 0.8888701178,
                  "Whole Weight": 1,
                  "Shucked Weight": 0.972607852,
                  "Viscera Weight": 0.9670332478,
                  "Shell Weight": 0.9612589722,
                  "Rings": 0.56612684
                },
                {
                  "index": "Shucked Weight",
                  "Length": 0.9093138944,
                  "Diameter": 0.9052884855,
                  "Height": 0.8418530183,
                  "Whole Weight": 0.972607852,
                  "Shucked Weight": 1,
                  "Viscera Weight": 0.9311037266,
                  "Shell Weight": 0.9000393972,
                  "Rings": 0.4652966698
                },
                {
                  "index": "Viscera Weight",
                  "Length": 0.9074114339,
                  "Diameter": 0.904575615,
                  "Height": 0.8679103732,
                  "Whole Weight": 0.9670332478,
                  "Shucked Weight": 0.9311037266,
                  "Viscera Weight": 1,
                  "Shell Weight": 0.9212409588,
                  "Rings": 0.5453876594
                },
                {
                  "index": "Shell Weight",
                  "Length": 0.9150179496,
                  "Diameter": 0.9229579808,
                  "Height": 0.8954650697,
                  "Whole Weight": 0.9612589722,
                  "Shucked Weight": 0.9000393972,
                  "Viscera Weight": 0.9212409588,
                  "Shell Weight": 1,
                  "Rings": 0.6368604218
                },
                {
                  "index": "Rings",
                  "Length": 0.5962367107,
                  "Diameter": 0.6131165897,
                  "Height": 0.6324642888,
                  "Whole Weight": 0.56612684,
                  "Shucked Weight": 0.4652966698,
                  "Viscera Weight": 0.5453876594,
                  "Shell Weight": 0.6368604218,
                  "Rings": 1
                }
              ]
            }
          },
          "metadata": {
            "bento_obj_id": "140522960968096"
          },
          "execution_count": 47
        }
      ]
    },
    {
      "cell_type": "code",
      "metadata": {
        "originalKey": "29cc645b-5d10-49da-8322-dbc9748dc7d2",
        "showInput": true,
        "customInput": null,
        "collapsed": false,
        "requestMsgId": "b2fb9868-cf10-4a8c-b99a-891a8e171adf",
        "executionStartTime": 1678480639389,
        "executionStopTime": 1678480640207,
        "customOutput": null
      },
      "source": [
        "# Scatterplot for Lenght and Whole Weight\n",
        "## scatter_matrix is also excellent, explore that more.\n",
        "# You typically want to graph before cleaning and train test splitting, etc, but the more important graph would come at the end\n",
        "\n",
        "fig = plt.figure(figsize=(10, 7))  # set figure size\n",
        "plt.scatter(abalone_data[\"Length\"], abalone_data[\"Whole Weight\"])\n",
        "plt.title(\"Length x Whole Weight\")\n",
        "plt.xlabel(\"Length\")\n",
        "plt.ylabel(\"Whole Weight\")"
      ],
      "execution_count": 48,
      "outputs": [
        {
          "output_type": "execute_result",
          "data": {
            "text/plain": "Text(0, 0.5, 'Whole Weight')"
          },
          "metadata": {
            "bento_obj_id": "140522957420720"
          },
          "execution_count": 48
        },
        {
          "output_type": "display_data",
          "data": {
            "text/plain": "<Figure size 720x504 with 1 Axes>",
            "image/png": "[encoded data removed]"
          },
          "metadata": {
            "bento_obj_id": "140522960807872",
            "needs_background": "light"
          }
        }
      ]
    },
    {
      "cell_type": "code",
      "metadata": {
        "originalKey": "9d43c7b8-20f9-4bfe-b719-a0a958c9ec98",
        "showInput": true,
        "customInput": null,
        "collapsed": false,
        "requestMsgId": "c0992df2-9cbb-4fe0-88f3-bd6381624fea",
        "executionStartTime": 1678480640583,
        "executionStopTime": 1678480640918,
        "customOutput": null
      },
      "source": [
        "# Scatterplot for Length and Rings\n",
        "\n",
        "fig = plt.figure(figsize=(10, 7))  # set figure size\n",
        "plt.scatter(abalone_data[\"Length\"], abalone_data[\"Rings\"])\n",
        "plt.title(\"Length x Rings\")\n",
        "plt.xlabel(\"Length\")\n",
        "plt.ylabel(\"Rings\")"
      ],
      "execution_count": 49,
      "outputs": [
        {
          "output_type": "execute_result",
          "data": {
            "text/plain": "Text(0, 0.5, 'Rings')"
          },
          "metadata": {
            "bento_obj_id": "140522946589984"
          },
          "execution_count": 49
        },
        {
          "output_type": "display_data",
          "data": {
            "text/plain": "<Figure size 720x504 with 1 Axes>",
            "image/png": "[encoded data removed]"
          },
          "metadata": {
            "bento_obj_id": "140522946972736",
            "needs_background": "light"
          }
        }
      ]
    },
    {
      "cell_type": "code",
      "metadata": {
        "originalKey": "e7e08e38-cde9-444b-8d5a-7318c4fbeaab",
        "showInput": true,
        "customInput": null,
        "customOutput": null,
        "collapsed": false,
        "requestMsgId": "2f470756-d306-4a71-b9be-c7456f59e817",
        "executionStartTime": 1678480641305,
        "executionStopTime": 1678480641628
      },
      "source": [
        "# Scatterplot for Height and Rings\n",
        "\n",
        "fig = plt.figure(figsize=(10, 7))  # set figure size\n",
        "plt.scatter(abalone_data[\"Rings\"], abalone_data[\"Height\"])\n",
        "plt.title(\"Height x Rings\")\n",
        "plt.xlabel(\"Rings\")\n",
        "plt.ylabel(\"Height(mm)\")"
      ],
      "execution_count": 50,
      "outputs": [
        {
          "output_type": "execute_result",
          "data": {
            "text/plain": "Text(0, 0.5, 'Height(mm)')"
          },
          "metadata": {
            "bento_obj_id": "140522935801984"
          },
          "execution_count": 50
        },
        {
          "output_type": "display_data",
          "data": {
            "text/plain": "<Figure size 720x504 with 1 Axes>",
            "image/png": "[encoded data removed]"
          },
          "metadata": {
            "bento_obj_id": "140522935638240",
            "needs_background": "light"
          }
        }
      ]
    },
    {
      "cell_type": "code",
      "metadata": {
        "originalKey": "4687338f-5b9e-4b50-b6c5-646115b6652b",
        "showInput": true,
        "customInput": null,
        "customOutput": null,
        "collapsed": false,
        "requestMsgId": "81a2f128-14e1-43ab-ac5e-38a30a76545b",
        "executionStartTime": 1678480642014,
        "executionStopTime": 1678480642329
      },
      "source": [
        "# Scatterplot for Shell Weight and Rings\n",
        "\n",
        "fig = plt.figure(figsize=(10, 7))  # set figure size\n",
        "plt.scatter(abalone_data[\"Rings\"], abalone_data[\"Shell Weight\"])\n",
        "plt.title(\"Shell Weight x Rings\")\n",
        "plt.xlabel(\"Rings\")\n",
        "plt.ylabel(\"Shell Weight (grams)\")"
      ],
      "execution_count": 51,
      "outputs": [
        {
          "output_type": "execute_result",
          "data": {
            "text/plain": "Text(0, 0.5, 'Shell Weight (grams)')"
          },
          "metadata": {
            "bento_obj_id": "140522946128912"
          },
          "execution_count": 51
        },
        {
          "output_type": "display_data",
          "data": {
            "text/plain": "<Figure size 720x504 with 1 Axes>",
            "image/png": "[encoded data removed]"
          },
          "metadata": {
            "bento_obj_id": "140522935295616",
            "needs_background": "light"
          }
        }
      ]
    },
    {
      "cell_type": "code",
      "metadata": {
        "originalKey": "e96f6233-da80-4949-8881-08759919817b",
        "showInput": true,
        "customInput": null,
        "collapsed": false,
        "requestMsgId": "5bacd889-9e77-485c-b4e6-b42c4e673653",
        "executionStartTime": 1678480642703,
        "executionStopTime": 1678480642890,
        "customOutput": null
      },
      "source": [
        "# Scatterplot for Sex and Rings\n",
        "\n",
        "fig = plt.figure(figsize=(10, 7))  # set figure size\n",
        "plt.scatter(abalone_data[\"Sex\"], abalone_data[\"Rings\"])\n",
        "plt.title(\"Sex x Rings\")\n",
        "plt.xlabel(\"Sex\")\n",
        "plt.ylabel(\"Rings\")"
      ],
      "execution_count": 52,
      "outputs": [
        {
          "output_type": "execute_result",
          "data": {
            "text/plain": "Text(0, 0.5, 'Rings')"
          },
          "metadata": {
            "bento_obj_id": "140522936482064"
          },
          "execution_count": 52
        },
        {
          "output_type": "display_data",
          "data": {
            "text/plain": "<Figure size 720x504 with 1 Axes>",
            "image/png": "[encoded data removed]"
          },
          "metadata": {
            "bento_obj_id": "140522956334272",
            "needs_background": "light"
          }
        }
      ]
    },
    {
      "cell_type": "code",
      "metadata": {
        "originalKey": "bd60fb63-eff0-47de-ac19-51e8cd1eb390",
        "showInput": true,
        "customInput": null,
        "customOutput": null,
        "collapsed": false,
        "requestMsgId": "ce89f495-d937-40a0-810b-37c3ec37c434",
        "executionStopTime": 1678480643259,
        "executionStartTime": 1678480643215
      },
      "source": [
        ""
      ],
      "execution_count": 53,
      "outputs": []
    },
    {
      "cell_type": "code",
      "metadata": {
        "originalKey": "373b1787-d169-4ab9-9421-9f0645475e51",
        "showInput": true,
        "customInput": null,
        "collapsed": false,
        "requestMsgId": "7f0353db-203c-4422-931e-70713fa133cc",
        "executionStartTime": 1678480643486,
        "executionStopTime": 1678480643874,
        "customOutput": null
      },
      "source": [
        "# Scatterplot for Diameter and Rings\n",
        "\n",
        "fig = plt.figure(figsize=(10, 7))  # set figure size\n",
        "plt.scatter(abalone_data[\"Diameter\"], abalone_data[\"Rings\"])\n",
        "plt.title(\"Diameter x Rings\")\n",
        "plt.xlabel(\"Diameter\")\n",
        "plt.ylabel(\"Rings\")"
      ],
      "execution_count": 54,
      "outputs": [
        {
          "output_type": "execute_result",
          "data": {
            "text/plain": "Text(0, 0.5, 'Rings')"
          },
          "metadata": {
            "bento_obj_id": "140522958008224"
          },
          "execution_count": 54
        },
        {
          "output_type": "display_data",
          "data": {
            "text/plain": "<Figure size 720x504 with 1 Axes>",
            "image/png": "[encoded data removed]"
          },
          "metadata": {
            "bento_obj_id": "140522957848928",
            "needs_background": "light"
          }
        }
      ]
    },
    {
      "cell_type": "code",
      "metadata": {
        "originalKey": "29fc3b8e-e240-44f2-8aa0-8c3dcb208916",
        "showInput": true,
        "customInput": null
      },
      "source": [
        ""
      ],
      "execution_count": null,
      "outputs": []
    },
    {
      "cell_type": "code",
      "metadata": {
        "originalKey": "5aad6ab3-dd7c-4d51-9352-d6e62418a75d",
        "showInput": true,
        "customInput": null,
        "collapsed": false,
        "requestMsgId": "1df7c9dd-833f-42b7-8403-0acf9c0a8f26",
        "executionStartTime": 1678480644093,
        "executionStopTime": 1678480644551,
        "customOutput": null
      },
      "source": [
        "# Scatterplot for Whole Weight and Rings\n",
        "\n",
        "fig = plt.figure(figsize=(10, 7))  # set figure size\n",
        "plt.scatter(abalone_data[\"Whole Weight\"], abalone_data[\"Rings\"])\n",
        "plt.title(\"Whole Weight x Rings\")\n",
        "plt.xlabel(\"Whole Weight\")\n",
        "plt.ylabel(\"Rings\")"
      ],
      "execution_count": 55,
      "outputs": [
        {
          "output_type": "execute_result",
          "data": {
            "text/plain": "Text(0, 0.5, 'Rings')"
          },
          "metadata": {
            "bento_obj_id": "140522956839136"
          },
          "execution_count": 55
        },
        {
          "output_type": "display_data",
          "data": {
            "text/plain": "<Figure size 720x504 with 1 Axes>",
            "image/png": "[encoded data removed]"
          },
          "metadata": {
            "bento_obj_id": "140522956950592",
            "needs_background": "light"
          }
        }
      ]
    },
    {
      "cell_type": "code",
      "metadata": {
        "originalKey": "a929727f-0ba4-424f-9f1f-020f97000498",
        "showInput": true,
        "customInput": null,
        "collapsed": false,
        "requestMsgId": "9768ec00-fa4b-4bf2-b44d-521cc99e7e07",
        "executionStartTime": 1678480645125,
        "executionStopTime": 1678480645255,
        "customOutput": null
      },
      "source": [
        "plt.matshow(abalone_data.corr())\n",
        "plt.show()"
      ],
      "execution_count": 56,
      "outputs": [
        {
          "output_type": "display_data",
          "data": {
            "text/plain": "<Figure size 288x288 with 1 Axes>",
            "image/png": "[encoded data removed]"
          },
          "metadata": {
            "bento_obj_id": "140522932319088",
            "needs_background": "light"
          }
        }
      ]
    },
    {
      "cell_type": "code",
      "metadata": {
        "originalKey": "2e5f7fdd-1317-4f2c-819c-0e673517e3ae",
        "showInput": true,
        "customInput": null,
        "collapsed": false,
        "requestMsgId": "50178e9e-e83e-4d5b-8673-5072c8d4820b",
        "executionStartTime": 1678480645502,
        "executionStopTime": 1678480645514,
        "customOutput": null
      },
      "source": [
        ""
      ],
      "execution_count": 57,
      "outputs": []
    },
    {
      "cell_type": "code",
      "metadata": {
        "originalKey": "5ce1387f-5fed-474b-83a5-d3be3ca31a62",
        "showInput": true,
        "customInput": null,
        "collapsed": false,
        "requestMsgId": "edd1a8b1-2525-4c31-be22-1d5c37d6e546",
        "executionStartTime": 1678480645881,
        "executionStopTime": 1678480645941,
        "customOutput": null
      },
      "source": [
        "abalone_data.corr()"
      ],
      "execution_count": 58,
      "outputs": [
        {
          "output_type": "execute_result",
          "data": {
            "text/plain": "                Length  Diameter  Height  ...  Viscera Weight  Shell Weight   Rings\nLength         1.00000   0.98645 0.89689  ...         0.90741       0.91502 0.59624\nDiameter       0.98645   1.00000 0.90289  ...         0.90458       0.92296 0.61312\nHeight         0.89689   0.90289 1.00000  ...         0.86791       0.89547 0.63246\nWhole Weight   0.93381   0.93438 0.88887  ...         0.96703       0.96126 0.56613\nShucked Weight 0.90931   0.90529 0.84185  ...         0.93110       0.90004 0.46530\nViscera Weight 0.90741   0.90458 0.86791  ...         1.00000       0.92124 0.54539\nShell Weight   0.91502   0.92296 0.89547  ...         0.92124       1.00000 0.63686\nRings          0.59624   0.61312 0.63246  ...         0.54539       0.63686 1.00000\n\n[8 rows x 8 columns]",
            "text/html": "<div>\n<style scoped>\n    .dataframe tbody tr th:only-of-type {\n        vertical-align: middle;\n    }\n\n    .dataframe tbody tr th {\n        vertical-align: top;\n    }\n\n    .dataframe thead th {\n        text-align: right;\n    }\n</style>\n<table border=\"1\" class=\"dataframe\">\n  <thead>\n    <tr style=\"text-align: right;\">\n      <th></th>\n      <th>Length</th>\n      <th>Diameter</th>\n      <th>Height</th>\n      <th>Whole Weight</th>\n      <th>Shucked Weight</th>\n      <th>Viscera Weight</th>\n      <th>Shell Weight</th>\n      <th>Rings</th>\n    </tr>\n  </thead>\n  <tbody>\n    <tr>\n      <th>Length</th>\n      <td>1.00000</td>\n      <td>0.98645</td>\n      <td>0.89689</td>\n      <td>0.93381</td>\n      <td>0.90931</td>\n      <td>0.90741</td>\n      <td>0.91502</td>\n      <td>0.59624</td>\n    </tr>\n    <tr>\n      <th>Diameter</th>\n      <td>0.98645</td>\n      <td>1.00000</td>\n      <td>0.90289</td>\n      <td>0.93438</td>\n      <td>0.90529</td>\n      <td>0.90458</td>\n      <td>0.92296</td>\n      <td>0.61312</td>\n    </tr>\n    <tr>\n      <th>Height</th>\n      <td>0.89689</td>\n      <td>0.90289</td>\n      <td>1.00000</td>\n      <td>0.88887</td>\n      <td>0.84185</td>\n      <td>0.86791</td>\n      <td>0.89547</td>\n      <td>0.63246</td>\n    </tr>\n    <tr>\n      <th>Whole Weight</th>\n      <td>0.93381</td>\n      <td>0.93438</td>\n      <td>0.88887</td>\n      <td>1.00000</td>\n      <td>0.97261</td>\n      <td>0.96703</td>\n      <td>0.96126</td>\n      <td>0.56613</td>\n    </tr>\n    <tr>\n      <th>Shucked Weight</th>\n      <td>0.90931</td>\n      <td>0.90529</td>\n      <td>0.84185</td>\n      <td>0.97261</td>\n      <td>1.00000</td>\n      <td>0.93110</td>\n      <td>0.90004</td>\n      <td>0.46530</td>\n    </tr>\n    <tr>\n      <th>Viscera Weight</th>\n      <td>0.90741</td>\n      <td>0.90458</td>\n      <td>0.86791</td>\n      <td>0.96703</td>\n      <td>0.93110</td>\n      <td>1.00000</td>\n      <td>0.92124</td>\n      <td>0.54539</td>\n    </tr>\n    <tr>\n      <th>Shell Weight</th>\n      <td>0.91502</td>\n      <td>0.92296</td>\n      <td>0.89547</td>\n      <td>0.96126</td>\n      <td>0.90004</td>\n      <td>0.92124</td>\n      <td>1.00000</td>\n      <td>0.63686</td>\n    </tr>\n    <tr>\n      <th>Rings</th>\n      <td>0.59624</td>\n      <td>0.61312</td>\n      <td>0.63246</td>\n      <td>0.56613</td>\n      <td>0.46530</td>\n      <td>0.54539</td>\n      <td>0.63686</td>\n      <td>1.00000</td>\n    </tr>\n  </tbody>\n</table>\n</div>",
            "application/vnd.dataresource+json": {
              "schema": {
                "fields": [
                  {
                    "name": "index",
                    "type": "string"
                  },
                  {
                    "name": "Length",
                    "type": "number"
                  },
                  {
                    "name": "Diameter",
                    "type": "number"
                  },
                  {
                    "name": "Height",
                    "type": "number"
                  },
                  {
                    "name": "Whole Weight",
                    "type": "number"
                  },
                  {
                    "name": "Shucked Weight",
                    "type": "number"
                  },
                  {
                    "name": "Viscera Weight",
                    "type": "number"
                  },
                  {
                    "name": "Shell Weight",
                    "type": "number"
                  },
                  {
                    "name": "Rings",
                    "type": "number"
                  }
                ],
                "primaryKey": [
                  "index"
                ],
                "pandas_version": "0.20.0"
              },
              "data": [
                {
                  "index": "Length",
                  "Length": 1,
                  "Diameter": 0.9864503424,
                  "Height": 0.8968889022,
                  "Whole Weight": 0.9338129207,
                  "Shucked Weight": 0.9093138944,
                  "Viscera Weight": 0.9074114339,
                  "Shell Weight": 0.9150179496,
                  "Rings": 0.5962367107
                },
                {
                  "index": "Diameter",
                  "Length": 0.9864503424,
                  "Diameter": 1,
                  "Height": 0.9028874948,
                  "Whole Weight": 0.9343793586,
                  "Shucked Weight": 0.9052884855,
                  "Viscera Weight": 0.904575615,
                  "Shell Weight": 0.9229579808,
                  "Rings": 0.6131165897
                },
                {
                  "index": "Height",
                  "Length": 0.8968889022,
                  "Diameter": 0.9028874948,
                  "Height": 1,
                  "Whole Weight": 0.8888701178,
                  "Shucked Weight": 0.8418530183,
                  "Viscera Weight": 0.8679103732,
                  "Shell Weight": 0.8954650697,
                  "Rings": 0.6324642888
                },
                {
                  "index": "Whole Weight",
                  "Length": 0.9338129207,
                  "Diameter": 0.9343793586,
                  "Height": 0.8888701178,
                  "Whole Weight": 1,
                  "Shucked Weight": 0.972607852,
                  "Viscera Weight": 0.9670332478,
                  "Shell Weight": 0.9612589722,
                  "Rings": 0.56612684
                },
                {
                  "index": "Shucked Weight",
                  "Length": 0.9093138944,
                  "Diameter": 0.9052884855,
                  "Height": 0.8418530183,
                  "Whole Weight": 0.972607852,
                  "Shucked Weight": 1,
                  "Viscera Weight": 0.9311037266,
                  "Shell Weight": 0.9000393972,
                  "Rings": 0.4652966698
                },
                {
                  "index": "Viscera Weight",
                  "Length": 0.9074114339,
                  "Diameter": 0.904575615,
                  "Height": 0.8679103732,
                  "Whole Weight": 0.9670332478,
                  "Shucked Weight": 0.9311037266,
                  "Viscera Weight": 1,
                  "Shell Weight": 0.9212409588,
                  "Rings": 0.5453876594
                },
                {
                  "index": "Shell Weight",
                  "Length": 0.9150179496,
                  "Diameter": 0.9229579808,
                  "Height": 0.8954650697,
                  "Whole Weight": 0.9612589722,
                  "Shucked Weight": 0.9000393972,
                  "Viscera Weight": 0.9212409588,
                  "Shell Weight": 1,
                  "Rings": 0.6368604218
                },
                {
                  "index": "Rings",
                  "Length": 0.5962367107,
                  "Diameter": 0.6131165897,
                  "Height": 0.6324642888,
                  "Whole Weight": 0.56612684,
                  "Shucked Weight": 0.4652966698,
                  "Viscera Weight": 0.5453876594,
                  "Shell Weight": 0.6368604218,
                  "Rings": 1
                }
              ]
            }
          },
          "metadata": {
            "bento_obj_id": "140522946972112"
          },
          "execution_count": 58
        }
      ]
    },
    {
      "cell_type": "code",
      "metadata": {
        "originalKey": "c02ada15-0d82-415f-9392-e3f6ae1d0a0d",
        "showInput": true,
        "customInput": null,
        "customOutput": null,
        "collapsed": false,
        "requestMsgId": "0ca849ff-6d05-4a13-b50b-7a030bc5ba67",
        "executionStartTime": 1678480646131,
        "executionStopTime": 1678480646141
      },
      "source": [
        "# PCA\n",
        "\n",
        "# You are doing all the PCA on a copy of the dataset, before train test split. Is this the correct way to go? Make sure to interpret everything downstream from this partition correctly.\n",
        "# https://medium.com/data-science-365/principal-component-analysis-18-questions-answered-4abd72041ccd Is a great resource\n",
        "\n",
        "## Must do all the basic data cleaning you can, and either remove or dummy encode categorical variables. PCA is also unsupervised, so we remove the target variable. PLS is the supervised version of PCA.\n",
        "# Must also standardize the data.\n",
        "# Having trobule with lots of correlations between predictor variables. Trying PCA to help. Using the Oreilly book and https://www.analyticsvidhya.com/blog/2016/03/pca-practical-guide-principal-component-analysis-python/.\n",
        "## The idea behind PCA is dimension reduction - to take variables that are correlated with one another and combine them into one variable.\n",
        "## One thing I don't understand about PCA is: We start with the predictor variables, and combine them into loadings. Two variables seem to generate two loadings. The first loading, Z1, accounts for most of the variance, and Z2 is orthoganal and accounts for the rest. I don't understand this part, what variance is being accounted for by what, and how/\n",
        "## What is the difference between PCA and factor analysis?\n",
        "## Consider if PLS is more appropriate here: \"Partial least square (PLS) is a supervised alternative to PCA. PLS assigns a higher weight to variables that are strongly related to response variable to determine principal components.\"\"\n",
        "### https://scikit-learn.org/stable/modules/generated/sklearn.decomposition.PCA.html is a good starting point for exploring PCA vs PLS."
      ],
      "execution_count": 59,
      "outputs": []
    },
    {
      "cell_type": "code",
      "metadata": {
        "originalKey": "4f132e3c-23cc-40be-a84f-0f64cf678bca",
        "showInput": true,
        "customInput": null,
        "customOutput": null,
        "collapsed": false,
        "requestMsgId": "5a7a3011-7ee3-4dfe-a4af-f3d39bc6dd28",
        "executionStartTime": 1678480646386,
        "executionStopTime": 1678480646418
      },
      "source": [
        "# Remove or dummy encode categorical variables\n",
        "# For ease of this example, I will remove them. Circle back later and do the correct thing of dummy encoding them. One hot encoder was used by one example here.\n",
        "\n",
        "#create copy of DataFrame\n",
        "abalone_data_for_PCA=abalone_data.copy()\n",
        "\n",
        "del abalone_data_for_PCA[\"Sex\"]\n",
        "abalone_data_for_PCA.head() # The one categorical variable was removed"
      ],
      "execution_count": 60,
      "outputs": [
        {
          "output_type": "execute_result",
          "data": {
            "text/plain": "   Length  Diameter  Height  ...  Viscera Weight  Shell Weight  Rings\n0 0.45500   0.36500 0.09500  ...         0.10100       0.15000     15\n1 0.35000   0.26500 0.09000  ...         0.04850       0.07000      7\n2 0.53000   0.42000 0.13500  ...         0.14150       0.21000      9\n3 0.44000   0.36500 0.12500  ...         0.11400       0.15500     10\n4 0.33000   0.25500 0.08000  ...         0.03950       0.05500      7\n\n[5 rows x 8 columns]",
            "text/html": "<div>\n<style scoped>\n    .dataframe tbody tr th:only-of-type {\n        vertical-align: middle;\n    }\n\n    .dataframe tbody tr th {\n        vertical-align: top;\n    }\n\n    .dataframe thead th {\n        text-align: right;\n    }\n</style>\n<table border=\"1\" class=\"dataframe\">\n  <thead>\n    <tr style=\"text-align: right;\">\n      <th></th>\n      <th>Length</th>\n      <th>Diameter</th>\n      <th>Height</th>\n      <th>Whole Weight</th>\n      <th>Shucked Weight</th>\n      <th>Viscera Weight</th>\n      <th>Shell Weight</th>\n      <th>Rings</th>\n    </tr>\n  </thead>\n  <tbody>\n    <tr>\n      <th>0</th>\n      <td>0.45500</td>\n      <td>0.36500</td>\n      <td>0.09500</td>\n      <td>0.51400</td>\n      <td>0.22450</td>\n      <td>0.10100</td>\n      <td>0.15000</td>\n      <td>15</td>\n    </tr>\n    <tr>\n      <th>1</th>\n      <td>0.35000</td>\n      <td>0.26500</td>\n      <td>0.09000</td>\n      <td>0.22550</td>\n      <td>0.09950</td>\n      <td>0.04850</td>\n      <td>0.07000</td>\n      <td>7</td>\n    </tr>\n    <tr>\n      <th>2</th>\n      <td>0.53000</td>\n      <td>0.42000</td>\n      <td>0.13500</td>\n      <td>0.67700</td>\n      <td>0.25650</td>\n      <td>0.14150</td>\n      <td>0.21000</td>\n      <td>9</td>\n    </tr>\n    <tr>\n      <th>3</th>\n      <td>0.44000</td>\n      <td>0.36500</td>\n      <td>0.12500</td>\n      <td>0.51600</td>\n      <td>0.21550</td>\n      <td>0.11400</td>\n      <td>0.15500</td>\n      <td>10</td>\n    </tr>\n    <tr>\n      <th>4</th>\n      <td>0.33000</td>\n      <td>0.25500</td>\n      <td>0.08000</td>\n      <td>0.20500</td>\n      <td>0.08950</td>\n      <td>0.03950</td>\n      <td>0.05500</td>\n      <td>7</td>\n    </tr>\n  </tbody>\n</table>\n</div>",
            "application/vnd.dataresource+json": {
              "schema": {
                "fields": [
                  {
                    "name": "index",
                    "type": "integer"
                  },
                  {
                    "name": "Length",
                    "type": "number"
                  },
                  {
                    "name": "Diameter",
                    "type": "number"
                  },
                  {
                    "name": "Height",
                    "type": "number"
                  },
                  {
                    "name": "Whole Weight",
                    "type": "number"
                  },
                  {
                    "name": "Shucked Weight",
                    "type": "number"
                  },
                  {
                    "name": "Viscera Weight",
                    "type": "number"
                  },
                  {
                    "name": "Shell Weight",
                    "type": "number"
                  },
                  {
                    "name": "Rings",
                    "type": "integer"
                  }
                ],
                "primaryKey": [
                  "index"
                ],
                "pandas_version": "0.20.0"
              },
              "data": [
                {
                  "index": 0,
                  "Length": 0.455,
                  "Diameter": 0.365,
                  "Height": 0.095,
                  "Whole Weight": 0.514,
                  "Shucked Weight": 0.2245,
                  "Viscera Weight": 0.101,
                  "Shell Weight": 0.15,
                  "Rings": 15
                },
                {
                  "index": 1,
                  "Length": 0.35,
                  "Diameter": 0.265,
                  "Height": 0.09,
                  "Whole Weight": 0.2255,
                  "Shucked Weight": 0.0995,
                  "Viscera Weight": 0.0485,
                  "Shell Weight": 0.07,
                  "Rings": 7
                },
                {
                  "index": 2,
                  "Length": 0.53,
                  "Diameter": 0.42,
                  "Height": 0.135,
                  "Whole Weight": 0.677,
                  "Shucked Weight": 0.2565,
                  "Viscera Weight": 0.1415,
                  "Shell Weight": 0.21,
                  "Rings": 9
                },
                {
                  "index": 3,
                  "Length": 0.44,
                  "Diameter": 0.365,
                  "Height": 0.125,
                  "Whole Weight": 0.516,
                  "Shucked Weight": 0.2155,
                  "Viscera Weight": 0.114,
                  "Shell Weight": 0.155,
                  "Rings": 10
                },
                {
                  "index": 4,
                  "Length": 0.33,
                  "Diameter": 0.255,
                  "Height": 0.08,
                  "Whole Weight": 0.205,
                  "Shucked Weight": 0.0895,
                  "Viscera Weight": 0.0395,
                  "Shell Weight": 0.055,
                  "Rings": 7
                }
              ]
            }
          },
          "metadata": {
            "bento_obj_id": "140522935391520"
          },
          "execution_count": 60
        }
      ]
    },
    {
      "cell_type": "code",
      "metadata": {
        "originalKey": "0092fd69-a242-4b44-9c41-0ff995752c69",
        "showInput": true,
        "customInput": null,
        "collapsed": false,
        "requestMsgId": "d1db379b-4640-4a64-a719-95a8088b6e48",
        "executionStartTime": 1678480646630,
        "executionStopTime": 1678480646719,
        "customOutput": null
      },
      "source": [
        "# Remove the target variable\n",
        "\n",
        "del abalone_data_for_PCA[\"Rings\"]\n",
        "abalone_data_for_PCA.head() "
      ],
      "execution_count": 61,
      "outputs": [
        {
          "output_type": "execute_result",
          "data": {
            "text/plain": "   Length  Diameter  Height  ...  Shucked Weight  Viscera Weight  Shell Weight\n0 0.45500   0.36500 0.09500  ...         0.22450         0.10100       0.15000\n1 0.35000   0.26500 0.09000  ...         0.09950         0.04850       0.07000\n2 0.53000   0.42000 0.13500  ...         0.25650         0.14150       0.21000\n3 0.44000   0.36500 0.12500  ...         0.21550         0.11400       0.15500\n4 0.33000   0.25500 0.08000  ...         0.08950         0.03950       0.05500\n\n[5 rows x 7 columns]",
            "text/html": "<div>\n<style scoped>\n    .dataframe tbody tr th:only-of-type {\n        vertical-align: middle;\n    }\n\n    .dataframe tbody tr th {\n        vertical-align: top;\n    }\n\n    .dataframe thead th {\n        text-align: right;\n    }\n</style>\n<table border=\"1\" class=\"dataframe\">\n  <thead>\n    <tr style=\"text-align: right;\">\n      <th></th>\n      <th>Length</th>\n      <th>Diameter</th>\n      <th>Height</th>\n      <th>Whole Weight</th>\n      <th>Shucked Weight</th>\n      <th>Viscera Weight</th>\n      <th>Shell Weight</th>\n    </tr>\n  </thead>\n  <tbody>\n    <tr>\n      <th>0</th>\n      <td>0.45500</td>\n      <td>0.36500</td>\n      <td>0.09500</td>\n      <td>0.51400</td>\n      <td>0.22450</td>\n      <td>0.10100</td>\n      <td>0.15000</td>\n    </tr>\n    <tr>\n      <th>1</th>\n      <td>0.35000</td>\n      <td>0.26500</td>\n      <td>0.09000</td>\n      <td>0.22550</td>\n      <td>0.09950</td>\n      <td>0.04850</td>\n      <td>0.07000</td>\n    </tr>\n    <tr>\n      <th>2</th>\n      <td>0.53000</td>\n      <td>0.42000</td>\n      <td>0.13500</td>\n      <td>0.67700</td>\n      <td>0.25650</td>\n      <td>0.14150</td>\n      <td>0.21000</td>\n    </tr>\n    <tr>\n      <th>3</th>\n      <td>0.44000</td>\n      <td>0.36500</td>\n      <td>0.12500</td>\n      <td>0.51600</td>\n      <td>0.21550</td>\n      <td>0.11400</td>\n      <td>0.15500</td>\n    </tr>\n    <tr>\n      <th>4</th>\n      <td>0.33000</td>\n      <td>0.25500</td>\n      <td>0.08000</td>\n      <td>0.20500</td>\n      <td>0.08950</td>\n      <td>0.03950</td>\n      <td>0.05500</td>\n    </tr>\n  </tbody>\n</table>\n</div>",
            "application/vnd.dataresource+json": {
              "schema": {
                "fields": [
                  {
                    "name": "index",
                    "type": "integer"
                  },
                  {
                    "name": "Length",
                    "type": "number"
                  },
                  {
                    "name": "Diameter",
                    "type": "number"
                  },
                  {
                    "name": "Height",
                    "type": "number"
                  },
                  {
                    "name": "Whole Weight",
                    "type": "number"
                  },
                  {
                    "name": "Shucked Weight",
                    "type": "number"
                  },
                  {
                    "name": "Viscera Weight",
                    "type": "number"
                  },
                  {
                    "name": "Shell Weight",
                    "type": "number"
                  }
                ],
                "primaryKey": [
                  "index"
                ],
                "pandas_version": "0.20.0"
              },
              "data": [
                {
                  "index": 0,
                  "Length": 0.455,
                  "Diameter": 0.365,
                  "Height": 0.095,
                  "Whole Weight": 0.514,
                  "Shucked Weight": 0.2245,
                  "Viscera Weight": 0.101,
                  "Shell Weight": 0.15
                },
                {
                  "index": 1,
                  "Length": 0.35,
                  "Diameter": 0.265,
                  "Height": 0.09,
                  "Whole Weight": 0.2255,
                  "Shucked Weight": 0.0995,
                  "Viscera Weight": 0.0485,
                  "Shell Weight": 0.07
                },
                {
                  "index": 2,
                  "Length": 0.53,
                  "Diameter": 0.42,
                  "Height": 0.135,
                  "Whole Weight": 0.677,
                  "Shucked Weight": 0.2565,
                  "Viscera Weight": 0.1415,
                  "Shell Weight": 0.21
                },
                {
                  "index": 3,
                  "Length": 0.44,
                  "Diameter": 0.365,
                  "Height": 0.125,
                  "Whole Weight": 0.516,
                  "Shucked Weight": 0.2155,
                  "Viscera Weight": 0.114,
                  "Shell Weight": 0.155
                },
                {
                  "index": 4,
                  "Length": 0.33,
                  "Diameter": 0.255,
                  "Height": 0.08,
                  "Whole Weight": 0.205,
                  "Shucked Weight": 0.0895,
                  "Viscera Weight": 0.0395,
                  "Shell Weight": 0.055
                }
              ]
            }
          },
          "metadata": {
            "bento_obj_id": "140522935394208"
          },
          "execution_count": 61
        }
      ]
    },
    {
      "cell_type": "code",
      "metadata": {
        "originalKey": "3f607d4d-4305-4df2-84ea-699fc69c1eb2",
        "showInput": true,
        "customInput": null,
        "customOutput": null,
        "collapsed": false,
        "requestMsgId": "2c8bc566-6e97-4d6e-94c2-b6501a878566",
        "executionStopTime": 1678480646925,
        "executionStartTime": 1678480646914
      },
      "source": [
        "# Now scale. What scaler to use? StandardScalar looks like it will work, but circle back and double check what is used in some real examples. \n",
        "\n",
        "scale = StandardScaler()\n",
        "scaled_abalone_data_for_PCA = scale.fit_transform(abalone_data_for_PCA)"
      ],
      "execution_count": 62,
      "outputs": []
    },
    {
      "cell_type": "code",
      "metadata": {
        "originalKey": "b5c743ad-6717-459f-8bce-f8cbeb77d714",
        "showInput": true,
        "customInput": null,
        "customOutput": null,
        "collapsed": false,
        "requestMsgId": "51df313b-5e6b-42ed-b321-5136de178802",
        "executionStartTime": 1678480647146,
        "executionStopTime": 1678480647486
      },
      "source": [
        "# How should I select the right number of n components? If the primary goal is for visualization, then select 2 or 3. You can also input a decimal instead of an integer, and the algorithm will find the number of components that captures that much variance, which is neat. \n",
        "## The best method is to plot Plot the explained variance percentage of individual components and the percentage of total variance captured by all principal components. . https://towardsdatascience.com/how-to-select-the-best-number-of-principal-components-for-the-dataset-287e64b14c6d\n",
        "## Plot code from https://medium.com/data-science-365/principal-component-analysis-18-questions-answered-4abd72041ccd \n",
        "\n",
        "from sklearn.decomposition import PCA\n",
        "\n",
        "#define PCA model to use\n",
        "pca = PCA(n_components=4) #I think here you just pick 'enough' compoents to get going, and then plot them out. \n",
        "\n",
        "#fit PCA model to data\n",
        "scaled_abalone_data_for_PCA_reduced = pca.fit_transform(scaled_abalone_data_for_PCA) # why fit transform and not just fit?\n",
        "\n",
        "\n",
        "import matplotlib.pyplot as plt\n",
        "import numpy as np\n",
        "\n",
        "PC_values = np.arange(pca.n_components_) + 1\n",
        "plt.plot(PC_values, pca.explained_variance_ratio_, 'o-', linewidth=2, color='blue')\n",
        "plt.title('Scree Plot')\n",
        "plt.xlabel('Principal Component')\n",
        "plt.ylabel('Variance Explained')\n",
        "plt.show()\n",
        "\n",
        "# Here the graph is showing one good component. How to know which component it again"
      ],
      "execution_count": 63,
      "outputs": [
        {
          "output_type": "display_data",
          "data": {
            "text/plain": "<Figure size 432x288 with 1 Axes>",
            "image/png": "[encoded data removed]"
          },
          "metadata": {
            "bento_obj_id": "140522946129488",
            "needs_background": "light"
          }
        }
      ]
    },
    {
      "cell_type": "code",
      "metadata": {
        "originalKey": "0ec08c1e-16f0-4150-b473-06cd03376c2b",
        "showInput": true,
        "customInput": null,
        "collapsed": false,
        "requestMsgId": "95ca441a-a14b-48cf-aeb6-8d6e6200dd70",
        "executionStartTime": 1678480647820,
        "executionStopTime": 1678480647831,
        "customOutput": null
      },
      "source": [
        "# Get the PCA loadings. This is how you knwo the relationship of the predictor variables to the principle components\n",
        "\n",
        "loadings = pca.components_"
      ],
      "execution_count": 64,
      "outputs": []
    },
    {
      "cell_type": "code",
      "metadata": {
        "originalKey": "d371f48b-42ac-410a-bd07-5ff13ccd556c",
        "showInput": true,
        "customInput": null,
        "collapsed": false,
        "requestMsgId": "d5f486eb-7e57-468f-90f7-964e5290a53e",
        "executionStartTime": 1678480648053,
        "executionStopTime": 1678480648126,
        "customOutput": null
      },
      "source": [
        "for i, component in enumerate(loadings):\n",
        "    print(f\"Component {i+1}:\")\n",
        "    for j, variable in enumerate(component):\n",
        "        print(f\"Variable {j+1}: {variable:.3f}\")\n",
        "    print()\n",
        "\n",
        "    # Wow. Just double checkt that Variable 1 = the leftmost variable in the dataframe, and we are all set. "
      ],
      "execution_count": 65,
      "outputs": [
        {
          "output_type": "stream",
          "name": "stdout",
          "text": [
            "Component 1:\nVariable 1: -0.381\nVariable 2: -0.381\nVariable 3: -0.365\nVariable 4: -0.387\nVariable 5: -0.375\nVariable 6: -0.378\nVariable 7: -0.379\n\nComponent 2:\nVariable 1: -0.244\nVariable 2: -0.280\nVariable 3: -0.639\nVariable 4: 0.303\nVariable 5: 0.489\nVariable 6: 0.351\nVariable 7: -0.000\n\nComponent 3:\nVariable 1: 0.547\nVariable 2: 0.500\nVariable 3: -0.526\nVariable 4: -0.119\nVariable 5: 0.112\nVariable 6: -0.230\nVariable 7: -0.306\n\nComponent 4:\nVariable 1: 0.013\nVariable 2: 0.095\nVariable 3: -0.417\nVariable 4: 0.049\nVariable 5: -0.450\nVariable 6: -0.088\nVariable 7: 0.778\n\n"
          ]
        }
      ]
    },
    {
      "cell_type": "code",
      "metadata": {
        "originalKey": "47a54a86-105b-4de8-aed6-c4aa0a4fc55f",
        "showInput": true,
        "customInput": null,
        "collapsed": false,
        "requestMsgId": "8ef1bdc7-d2b9-4344-88d5-35ec3b761a8d",
        "executionStartTime": 1678480648303,
        "executionStopTime": 1678480648313,
        "customOutput": null
      },
      "source": [
        "# Big question - do I then use the principle components in the model? Or not?"
      ],
      "execution_count": 66,
      "outputs": []
    },
    {
      "cell_type": "code",
      "metadata": {
        "originalKey": "b44f23a4-ffbd-4e47-9618-a22036da5ceb",
        "showInput": true,
        "customInput": null,
        "collapsed": false,
        "requestMsgId": "9ba41d75-0caa-41a1-afef-6488484f467a",
        "executionStartTime": 1678480648489,
        "executionStopTime": 1678480648500,
        "customOutput": null
      },
      "source": [
        "# MODEL\n",
        "\n",
        "from sklearn.model_selection import train_test_split\n",
        "\n",
        "abalone_data_train, abalone_data_test = train_test_split(abalone_data, test_size=0.25, random_state=18)"
      ],
      "execution_count": 67,
      "outputs": []
    },
    {
      "cell_type": "code",
      "metadata": {
        "originalKey": "1dab7d9e-c43d-4d47-80b0-959d573a980d",
        "showInput": true,
        "customInput": null,
        "collapsed": false,
        "requestMsgId": "e9b73deb-6f84-4042-b0fb-e6c422594291",
        "executionStartTime": 1678480648676,
        "executionStopTime": 1678480648716,
        "customOutput": null
      },
      "source": [
        "abalone_data_train.info()"
      ],
      "execution_count": 68,
      "outputs": [
        {
          "output_type": "stream",
          "name": "stdout",
          "text": [
            "<class 'pandas.core.frame.DataFrame'>\nInt64Index: 2940 entries, 120 to 3605\nData columns (total 9 columns):\n #   Column          Non-Null Count  Dtype  \n---  ------          --------------  -----  \n 0   Sex             2940 non-null   object \n 1   Length          2940 non-null   float64\n 2   Diameter        2940 non-null   float64\n 3   Height          2940 non-null   float64\n 4   Whole Weight    2940 non-null   float64\n 5   Shucked Weight  2940 non-null   float64\n 6   Viscera Weight  2940 non-null   float64\n 7   Shell Weight    2940 non-null   float64\n 8   Rings           2940 non-null   int64  \ndtypes: float64(7), int64(1), object(1)\nmemory usage: 229.7+ KB\n"
          ]
        }
      ]
    },
    {
      "cell_type": "code",
      "metadata": {
        "originalKey": "bb6b5297-1252-4f92-9c40-cdba4220e5b7",
        "showInput": true,
        "customInput": null,
        "collapsed": false,
        "requestMsgId": "8b3bb9ff-0d79-4bc3-aa8b-ae39a6c01bb7",
        "executionStartTime": 1678480648908,
        "executionStopTime": 1678480648939,
        "customOutput": null
      },
      "source": [
        "abalone_data_train.head()"
      ],
      "execution_count": 69,
      "outputs": [
        {
          "output_type": "execute_result",
          "data": {
            "text/plain": "     Sex  Length  Diameter  ...  Viscera Weight  Shell Weight  Rings\n120    F 0.47000   0.36500  ...         0.10350       0.14000      9\n3064   M 0.63500   0.50000  ...         0.23150       0.38700      9\n3343   F 0.45500   0.36500  ...         0.04600       0.13450     13\n2263   F 0.62000   0.51000  ...         0.28750       0.32000     13\n1112   F 0.52000   0.46000  ...         0.19850       0.25400      7\n\n[5 rows x 9 columns]",
            "text/html": "<div>\n<style scoped>\n    .dataframe tbody tr th:only-of-type {\n        vertical-align: middle;\n    }\n\n    .dataframe tbody tr th {\n        vertical-align: top;\n    }\n\n    .dataframe thead th {\n        text-align: right;\n    }\n</style>\n<table border=\"1\" class=\"dataframe\">\n  <thead>\n    <tr style=\"text-align: right;\">\n      <th></th>\n      <th>Sex</th>\n      <th>Length</th>\n      <th>Diameter</th>\n      <th>Height</th>\n      <th>Whole Weight</th>\n      <th>Shucked Weight</th>\n      <th>Viscera Weight</th>\n      <th>Shell Weight</th>\n      <th>Rings</th>\n    </tr>\n  </thead>\n  <tbody>\n    <tr>\n      <th>120</th>\n      <td>F</td>\n      <td>0.47000</td>\n      <td>0.36500</td>\n      <td>0.10500</td>\n      <td>0.42050</td>\n      <td>0.16300</td>\n      <td>0.10350</td>\n      <td>0.14000</td>\n      <td>9</td>\n    </tr>\n    <tr>\n      <th>3064</th>\n      <td>M</td>\n      <td>0.63500</td>\n      <td>0.50000</td>\n      <td>0.18000</td>\n      <td>1.15400</td>\n      <td>0.44050</td>\n      <td>0.23150</td>\n      <td>0.38700</td>\n      <td>9</td>\n    </tr>\n    <tr>\n      <th>3343</th>\n      <td>F</td>\n      <td>0.45500</td>\n      <td>0.36500</td>\n      <td>0.11000</td>\n      <td>0.38500</td>\n      <td>0.16600</td>\n      <td>0.04600</td>\n      <td>0.13450</td>\n      <td>13</td>\n    </tr>\n    <tr>\n      <th>2263</th>\n      <td>F</td>\n      <td>0.62000</td>\n      <td>0.51000</td>\n      <td>0.15000</td>\n      <td>1.45600</td>\n      <td>0.58100</td>\n      <td>0.28750</td>\n      <td>0.32000</td>\n      <td>13</td>\n    </tr>\n    <tr>\n      <th>1112</th>\n      <td>F</td>\n      <td>0.52000</td>\n      <td>0.46000</td>\n      <td>0.15000</td>\n      <td>1.01900</td>\n      <td>0.52300</td>\n      <td>0.19850</td>\n      <td>0.25400</td>\n      <td>7</td>\n    </tr>\n  </tbody>\n</table>\n</div>",
            "application/vnd.dataresource+json": {
              "schema": {
                "fields": [
                  {
                    "name": "index",
                    "type": "integer"
                  },
                  {
                    "name": "Sex",
                    "type": "string"
                  },
                  {
                    "name": "Length",
                    "type": "number"
                  },
                  {
                    "name": "Diameter",
                    "type": "number"
                  },
                  {
                    "name": "Height",
                    "type": "number"
                  },
                  {
                    "name": "Whole Weight",
                    "type": "number"
                  },
                  {
                    "name": "Shucked Weight",
                    "type": "number"
                  },
                  {
                    "name": "Viscera Weight",
                    "type": "number"
                  },
                  {
                    "name": "Shell Weight",
                    "type": "number"
                  },
                  {
                    "name": "Rings",
                    "type": "integer"
                  }
                ],
                "primaryKey": [
                  "index"
                ],
                "pandas_version": "0.20.0"
              },
              "data": [
                {
                  "index": 120,
                  "Sex": "F",
                  "Length": 0.47,
                  "Diameter": 0.365,
                  "Height": 0.105,
                  "Whole Weight": 0.4205,
                  "Shucked Weight": 0.163,
                  "Viscera Weight": 0.1035,
                  "Shell Weight": 0.14,
                  "Rings": 9
                },
                {
                  "index": 3064,
                  "Sex": "M",
                  "Length": 0.635,
                  "Diameter": 0.5,
                  "Height": 0.18,
                  "Whole Weight": 1.154,
                  "Shucked Weight": 0.4405,
                  "Viscera Weight": 0.2315,
                  "Shell Weight": 0.387,
                  "Rings": 9
                },
                {
                  "index": 3343,
                  "Sex": "F",
                  "Length": 0.455,
                  "Diameter": 0.365,
                  "Height": 0.11,
                  "Whole Weight": 0.385,
                  "Shucked Weight": 0.166,
                  "Viscera Weight": 0.046,
                  "Shell Weight": 0.1345,
                  "Rings": 13
                },
                {
                  "index": 2263,
                  "Sex": "F",
                  "Length": 0.62,
                  "Diameter": 0.51,
                  "Height": 0.15,
                  "Whole Weight": 1.456,
                  "Shucked Weight": 0.581,
                  "Viscera Weight": 0.2875,
                  "Shell Weight": 0.32,
                  "Rings": 13
                },
                {
                  "index": 1112,
                  "Sex": "F",
                  "Length": 0.52,
                  "Diameter": 0.46,
                  "Height": 0.15,
                  "Whole Weight": 1.019,
                  "Shucked Weight": 0.523,
                  "Viscera Weight": 0.1985,
                  "Shell Weight": 0.254,
                  "Rings": 7
                }
              ]
            }
          },
          "metadata": {
            "bento_obj_id": "140522931333584"
          },
          "execution_count": 69
        }
      ]
    },
    {
      "cell_type": "code",
      "metadata": {
        "originalKey": "df34a373-183e-4763-9490-2551085980c7",
        "showInput": true,
        "customInput": null,
        "collapsed": false,
        "requestMsgId": "3ac4e768-1559-4d38-b882-53b42cdf8e63",
        "executionStartTime": 1678480649148,
        "executionStopTime": 1678480649158,
        "customOutput": null
      },
      "source": [
        "# dummy encode the categorical variables\n",
        "\n",
        "abalone_data_train = pd.get_dummies(abalone_data_train)\n",
        "abalone_data_test = pd.get_dummies(abalone_data_test)"
      ],
      "execution_count": 70,
      "outputs": []
    },
    {
      "cell_type": "code",
      "metadata": {
        "originalKey": "255cd6e8-bea1-45d0-af7b-363fa48e44d7",
        "showInput": true,
        "customInput": null,
        "collapsed": false,
        "requestMsgId": "c8c51c0d-3e39-4a91-8edf-086751c7474b",
        "executionStartTime": 1678480649334,
        "executionStopTime": 1678480649377,
        "customOutput": null
      },
      "source": [
        "abalone_data_train.info()"
      ],
      "execution_count": 71,
      "outputs": [
        {
          "output_type": "stream",
          "name": "stdout",
          "text": [
            "<class 'pandas.core.frame.DataFrame'>\nInt64Index: 2940 entries, 120 to 3605\nData columns (total 11 columns):\n #   Column          Non-Null Count  Dtype  \n---  ------          --------------  -----  \n 0   Length          2940 non-null   float64\n 1   Diameter        2940 non-null   float64\n 2   Height          2940 non-null   float64\n 3   Whole Weight    2940 non-null   float64\n 4   Shucked Weight  2940 non-null   float64\n 5   Viscera Weight  2940 non-null   float64\n 6   Shell Weight    2940 non-null   float64\n 7   Rings           2940 non-null   int64  \n 8   Sex_F           2940 non-null   uint8  \n 9   Sex_I           2940 non-null   uint8  \n 10  Sex_M           2940 non-null   uint8  \ndtypes: float64(7), int64(1), uint8(3)\nmemory usage: 215.3 KB\n"
          ]
        }
      ]
    },
    {
      "cell_type": "code",
      "metadata": {
        "originalKey": "01e03d9e-a790-4854-a011-7532804333d3",
        "showInput": true,
        "customInput": null,
        "collapsed": false,
        "requestMsgId": "fa575846-791e-4ab3-9ed3-10c69e9c0bb9",
        "executionStartTime": 1678480649553,
        "executionStopTime": 1678480649563,
        "customOutput": null
      },
      "source": [
        "abalone_data_test = abalone_data_test.reindex(columns = abalone_data_train.columns, fill_value = 0)\n",
        "# get_dummies makes a new column for each case of categorical data, so it's likely to have a different number of columns in the test set and the training set. Use reindex to adjust the test set to have the same number of columns as the training set, removing unneeded columns. \n",
        ""
      ],
      "execution_count": 72,
      "outputs": []
    },
    {
      "cell_type": "code",
      "metadata": {
        "originalKey": "b9dfffe8-fc02-4948-8a03-2ee7d7a1001e",
        "showInput": true,
        "customInput": null,
        "collapsed": false,
        "requestMsgId": "ced1b982-5279-4793-924d-f60b2e5d9711",
        "executionStartTime": 1678480649738,
        "executionStopTime": 1678480649748,
        "customOutput": null
      },
      "source": [
        "# Move the target variable 'Rings' to the end\n",
        "abalone_data_train = abalone_data_train[[c for c in abalone_data_train if c not in 'Rings'] + ['Rings']]\n",
        "abalone_data_test = abalone_data_test[[c for c in abalone_data_test if c not in 'Rings'] + ['Rings']]"
      ],
      "execution_count": 73,
      "outputs": []
    },
    {
      "cell_type": "markdown",
      "metadata": {
        "originalKey": "0698feaa-4291-4784-a036-c0303a9ce448",
        "showInput": false,
        "customInput": null
      },
      "source": [
        ""
      ]
    },
    {
      "cell_type": "markdown",
      "metadata": {
        "originalKey": "0cd535c1-b428-4d66-8cd7-7f965af754c6",
        "showInput": false,
        "customInput": null
      },
      "source": [
        ""
      ]
    },
    {
      "cell_type": "markdown",
      "metadata": {
        "originalKey": "14095dcc-6632-4ce3-9a7d-31ef4204f0c8",
        "showInput": false,
        "customInput": null
      },
      "source": [
        ""
      ]
    },
    {
      "cell_type": "code",
      "metadata": {
        "originalKey": "4ee28713-e67d-4c89-bb74-f20d09458546",
        "showInput": true,
        "customInput": null,
        "collapsed": false,
        "requestMsgId": "45c498e1-28ce-402b-8a92-7c15be4e5dd7",
        "executionStartTime": 1678480649931,
        "executionStopTime": 1678480649942,
        "customOutput": null
      },
      "source": [
        "# create variables separating out the target variable from the others\n",
        "X_train, y_train = abalone_data_train.iloc[:, :-1], abalone_data_train.iloc[:,[-1]]\n",
        "X_test, y_test = abalone_data_test.iloc[:, :-1], abalone_data_test.iloc[:,[-1]]"
      ],
      "execution_count": 74,
      "outputs": []
    },
    {
      "cell_type": "code",
      "metadata": {
        "originalKey": "8649e300-eaa6-4bd9-9a67-e42bcc21d652",
        "showInput": true,
        "customInput": null,
        "collapsed": false,
        "requestMsgId": "0a7ab3bc-cd43-4e9e-88ae-2224665f4da8",
        "executionStartTime": 1678480650138,
        "executionStopTime": 1678480650168,
        "customOutput": null
      },
      "source": [
        "X_train.head()"
      ],
      "execution_count": 75,
      "outputs": [
        {
          "output_type": "execute_result",
          "data": {
            "text/plain": "      Length  Diameter  Height  Whole Weight  ...  Shell Weight  Sex_F  Sex_I  Sex_M\n120  0.47000   0.36500 0.10500       0.42050  ...       0.14000      1      0      0\n3064 0.63500   0.50000 0.18000       1.15400  ...       0.38700      0      0      1\n3343 0.45500   0.36500 0.11000       0.38500  ...       0.13450      1      0      0\n2263 0.62000   0.51000 0.15000       1.45600  ...       0.32000      1      0      0\n1112 0.52000   0.46000 0.15000       1.01900  ...       0.25400      1      0      0\n\n[5 rows x 10 columns]",
            "text/html": "<div>\n<style scoped>\n    .dataframe tbody tr th:only-of-type {\n        vertical-align: middle;\n    }\n\n    .dataframe tbody tr th {\n        vertical-align: top;\n    }\n\n    .dataframe thead th {\n        text-align: right;\n    }\n</style>\n<table border=\"1\" class=\"dataframe\">\n  <thead>\n    <tr style=\"text-align: right;\">\n      <th></th>\n      <th>Length</th>\n      <th>Diameter</th>\n      <th>Height</th>\n      <th>Whole Weight</th>\n      <th>Shucked Weight</th>\n      <th>Viscera Weight</th>\n      <th>Shell Weight</th>\n      <th>Sex_F</th>\n      <th>Sex_I</th>\n      <th>Sex_M</th>\n    </tr>\n  </thead>\n  <tbody>\n    <tr>\n      <th>120</th>\n      <td>0.47000</td>\n      <td>0.36500</td>\n      <td>0.10500</td>\n      <td>0.42050</td>\n      <td>0.16300</td>\n      <td>0.10350</td>\n      <td>0.14000</td>\n      <td>1</td>\n      <td>0</td>\n      <td>0</td>\n    </tr>\n    <tr>\n      <th>3064</th>\n      <td>0.63500</td>\n      <td>0.50000</td>\n      <td>0.18000</td>\n      <td>1.15400</td>\n      <td>0.44050</td>\n      <td>0.23150</td>\n      <td>0.38700</td>\n      <td>0</td>\n      <td>0</td>\n      <td>1</td>\n    </tr>\n    <tr>\n      <th>3343</th>\n      <td>0.45500</td>\n      <td>0.36500</td>\n      <td>0.11000</td>\n      <td>0.38500</td>\n      <td>0.16600</td>\n      <td>0.04600</td>\n      <td>0.13450</td>\n      <td>1</td>\n      <td>0</td>\n      <td>0</td>\n    </tr>\n    <tr>\n      <th>2263</th>\n      <td>0.62000</td>\n      <td>0.51000</td>\n      <td>0.15000</td>\n      <td>1.45600</td>\n      <td>0.58100</td>\n      <td>0.28750</td>\n      <td>0.32000</td>\n      <td>1</td>\n      <td>0</td>\n      <td>0</td>\n    </tr>\n    <tr>\n      <th>1112</th>\n      <td>0.52000</td>\n      <td>0.46000</td>\n      <td>0.15000</td>\n      <td>1.01900</td>\n      <td>0.52300</td>\n      <td>0.19850</td>\n      <td>0.25400</td>\n      <td>1</td>\n      <td>0</td>\n      <td>0</td>\n    </tr>\n  </tbody>\n</table>\n</div>",
            "application/vnd.dataresource+json": {
              "schema": {
                "fields": [
                  {
                    "name": "index",
                    "type": "integer"
                  },
                  {
                    "name": "Length",
                    "type": "number"
                  },
                  {
                    "name": "Diameter",
                    "type": "number"
                  },
                  {
                    "name": "Height",
                    "type": "number"
                  },
                  {
                    "name": "Whole Weight",
                    "type": "number"
                  },
                  {
                    "name": "Shucked Weight",
                    "type": "number"
                  },
                  {
                    "name": "Viscera Weight",
                    "type": "number"
                  },
                  {
                    "name": "Shell Weight",
                    "type": "number"
                  },
                  {
                    "name": "Sex_F",
                    "type": "integer"
                  },
                  {
                    "name": "Sex_I",
                    "type": "integer"
                  },
                  {
                    "name": "Sex_M",
                    "type": "integer"
                  }
                ],
                "primaryKey": [
                  "index"
                ],
                "pandas_version": "0.20.0"
              },
              "data": [
                {
                  "index": 120,
                  "Length": 0.47,
                  "Diameter": 0.365,
                  "Height": 0.105,
                  "Whole Weight": 0.4205,
                  "Shucked Weight": 0.163,
                  "Viscera Weight": 0.1035,
                  "Shell Weight": 0.14,
                  "Sex_F": 1,
                  "Sex_I": 0,
                  "Sex_M": 0
                },
                {
                  "index": 3064,
                  "Length": 0.635,
                  "Diameter": 0.5,
                  "Height": 0.18,
                  "Whole Weight": 1.154,
                  "Shucked Weight": 0.4405,
                  "Viscera Weight": 0.2315,
                  "Shell Weight": 0.387,
                  "Sex_F": 0,
                  "Sex_I": 0,
                  "Sex_M": 1
                },
                {
                  "index": 3343,
                  "Length": 0.455,
                  "Diameter": 0.365,
                  "Height": 0.11,
                  "Whole Weight": 0.385,
                  "Shucked Weight": 0.166,
                  "Viscera Weight": 0.046,
                  "Shell Weight": 0.1345,
                  "Sex_F": 1,
                  "Sex_I": 0,
                  "Sex_M": 0
                },
                {
                  "index": 2263,
                  "Length": 0.62,
                  "Diameter": 0.51,
                  "Height": 0.15,
                  "Whole Weight": 1.456,
                  "Shucked Weight": 0.581,
                  "Viscera Weight": 0.2875,
                  "Shell Weight": 0.32,
                  "Sex_F": 1,
                  "Sex_I": 0,
                  "Sex_M": 0
                },
                {
                  "index": 1112,
                  "Length": 0.52,
                  "Diameter": 0.46,
                  "Height": 0.15,
                  "Whole Weight": 1.019,
                  "Shucked Weight": 0.523,
                  "Viscera Weight": 0.1985,
                  "Shell Weight": 0.254,
                  "Sex_F": 1,
                  "Sex_I": 0,
                  "Sex_M": 0
                }
              ]
            }
          },
          "metadata": {
            "bento_obj_id": "140522935660016"
          },
          "execution_count": 75
        }
      ]
    },
    {
      "cell_type": "code",
      "metadata": {
        "originalKey": "382d0332-2eaf-4490-bfe6-4895268cdb58",
        "showInput": true,
        "customInput": null,
        "customOutput": null,
        "collapsed": false,
        "requestMsgId": "91167ebd-b109-489a-b8bf-ddc897b59f66",
        "executionStartTime": 1678480650396,
        "executionStopTime": 1678480650442
      },
      "source": [
        "X_test.head() #Oooh, this may be it, this has Rings still, the training set doesnt. "
      ],
      "execution_count": 76,
      "outputs": [
        {
          "output_type": "execute_result",
          "data": {
            "text/plain": "      Length  Diameter  Height  Whole Weight  ...  Shell Weight  Sex_F  Sex_I  Sex_M\n3633 0.30000   0.22000 0.06500       0.11950  ...       0.03500      0      1      0\n3303 0.56500   0.45000 0.18500       0.92850  ...       0.26500      1      0      0\n1196 0.71000   0.56000 0.18000       1.65200  ...       0.45250      1      0      0\n1278 0.49500   0.35500 0.12000       0.49650  ...       0.14950      0      1      0\n122  0.51500   0.42500 0.14000       0.76600  ...       0.25500      1      0      0\n\n[5 rows x 10 columns]",
            "text/html": "<div>\n<style scoped>\n    .dataframe tbody tr th:only-of-type {\n        vertical-align: middle;\n    }\n\n    .dataframe tbody tr th {\n        vertical-align: top;\n    }\n\n    .dataframe thead th {\n        text-align: right;\n    }\n</style>\n<table border=\"1\" class=\"dataframe\">\n  <thead>\n    <tr style=\"text-align: right;\">\n      <th></th>\n      <th>Length</th>\n      <th>Diameter</th>\n      <th>Height</th>\n      <th>Whole Weight</th>\n      <th>Shucked Weight</th>\n      <th>Viscera Weight</th>\n      <th>Shell Weight</th>\n      <th>Sex_F</th>\n      <th>Sex_I</th>\n      <th>Sex_M</th>\n    </tr>\n  </thead>\n  <tbody>\n    <tr>\n      <th>3633</th>\n      <td>0.30000</td>\n      <td>0.22000</td>\n      <td>0.06500</td>\n      <td>0.11950</td>\n      <td>0.05200</td>\n      <td>0.01550</td>\n      <td>0.03500</td>\n      <td>0</td>\n      <td>1</td>\n      <td>0</td>\n    </tr>\n    <tr>\n      <th>3303</th>\n      <td>0.56500</td>\n      <td>0.45000</td>\n      <td>0.18500</td>\n      <td>0.92850</td>\n      <td>0.30200</td>\n      <td>0.18050</td>\n      <td>0.26500</td>\n      <td>1</td>\n      <td>0</td>\n      <td>0</td>\n    </tr>\n    <tr>\n      <th>1196</th>\n      <td>0.71000</td>\n      <td>0.56000</td>\n      <td>0.18000</td>\n      <td>1.65200</td>\n      <td>0.73500</td>\n      <td>0.38100</td>\n      <td>0.45250</td>\n      <td>1</td>\n      <td>0</td>\n      <td>0</td>\n    </tr>\n    <tr>\n      <th>1278</th>\n      <td>0.49500</td>\n      <td>0.35500</td>\n      <td>0.12000</td>\n      <td>0.49650</td>\n      <td>0.21400</td>\n      <td>0.10450</td>\n      <td>0.14950</td>\n      <td>0</td>\n      <td>1</td>\n      <td>0</td>\n    </tr>\n    <tr>\n      <th>122</th>\n      <td>0.51500</td>\n      <td>0.42500</td>\n      <td>0.14000</td>\n      <td>0.76600</td>\n      <td>0.30400</td>\n      <td>0.17250</td>\n      <td>0.25500</td>\n      <td>1</td>\n      <td>0</td>\n      <td>0</td>\n    </tr>\n  </tbody>\n</table>\n</div>",
            "application/vnd.dataresource+json": {
              "schema": {
                "fields": [
                  {
                    "name": "index",
                    "type": "integer"
                  },
                  {
                    "name": "Length",
                    "type": "number"
                  },
                  {
                    "name": "Diameter",
                    "type": "number"
                  },
                  {
                    "name": "Height",
                    "type": "number"
                  },
                  {
                    "name": "Whole Weight",
                    "type": "number"
                  },
                  {
                    "name": "Shucked Weight",
                    "type": "number"
                  },
                  {
                    "name": "Viscera Weight",
                    "type": "number"
                  },
                  {
                    "name": "Shell Weight",
                    "type": "number"
                  },
                  {
                    "name": "Sex_F",
                    "type": "integer"
                  },
                  {
                    "name": "Sex_I",
                    "type": "integer"
                  },
                  {
                    "name": "Sex_M",
                    "type": "integer"
                  }
                ],
                "primaryKey": [
                  "index"
                ],
                "pandas_version": "0.20.0"
              },
              "data": [
                {
                  "index": 3633,
                  "Length": 0.3,
                  "Diameter": 0.22,
                  "Height": 0.065,
                  "Whole Weight": 0.1195,
                  "Shucked Weight": 0.052,
                  "Viscera Weight": 0.0155,
                  "Shell Weight": 0.035,
                  "Sex_F": 0,
                  "Sex_I": 1,
                  "Sex_M": 0
                },
                {
                  "index": 3303,
                  "Length": 0.565,
                  "Diameter": 0.45,
                  "Height": 0.185,
                  "Whole Weight": 0.9285,
                  "Shucked Weight": 0.302,
                  "Viscera Weight": 0.1805,
                  "Shell Weight": 0.265,
                  "Sex_F": 1,
                  "Sex_I": 0,
                  "Sex_M": 0
                },
                {
                  "index": 1196,
                  "Length": 0.71,
                  "Diameter": 0.56,
                  "Height": 0.18,
                  "Whole Weight": 1.652,
                  "Shucked Weight": 0.735,
                  "Viscera Weight": 0.381,
                  "Shell Weight": 0.4525,
                  "Sex_F": 1,
                  "Sex_I": 0,
                  "Sex_M": 0
                },
                {
                  "index": 1278,
                  "Length": 0.495,
                  "Diameter": 0.355,
                  "Height": 0.12,
                  "Whole Weight": 0.4965,
                  "Shucked Weight": 0.214,
                  "Viscera Weight": 0.1045,
                  "Shell Weight": 0.1495,
                  "Sex_F": 0,
                  "Sex_I": 1,
                  "Sex_M": 0
                },
                {
                  "index": 122,
                  "Length": 0.515,
                  "Diameter": 0.425,
                  "Height": 0.14,
                  "Whole Weight": 0.766,
                  "Shucked Weight": 0.304,
                  "Viscera Weight": 0.1725,
                  "Shell Weight": 0.255,
                  "Sex_F": 1,
                  "Sex_I": 0,
                  "Sex_M": 0
                }
              ]
            }
          },
          "metadata": {
            "bento_obj_id": "140522931332144"
          },
          "execution_count": 76
        }
      ]
    },
    {
      "cell_type": "code",
      "metadata": {
        "originalKey": "e77006a5-afa2-4465-9101-c0c919f596ae",
        "showInput": true,
        "customInput": null,
        "collapsed": false,
        "requestMsgId": "ec6e2534-942a-4284-8b48-cb7a24b767ee",
        "executionStartTime": 1678480651573,
        "executionStopTime": 1678480651578,
        "customOutput": null
      },
      "source": [
        "# instantiate the scaler. Different scaler choices have various impacts. \n",
        "scaler = StandardScaler()"
      ],
      "execution_count": 77,
      "outputs": []
    },
    {
      "cell_type": "code",
      "metadata": {
        "originalKey": "bf8afa81-615d-4140-bae0-e9832ff9c819",
        "showInput": true,
        "customInput": null,
        "collapsed": false,
        "requestMsgId": "0257f00a-7a78-4aa7-94db-b87299c4cdd9",
        "executionStartTime": 1678480651774,
        "executionStopTime": 1678480651787,
        "customOutput": null
      },
      "source": [
        "# fit and transform using the scaler\n",
        "## Do I scale the target variable?\n",
        "rescaled_X_train = scaler.fit_transform(X_train)\n",
        "rescaled_X_test = scaler.transform(X_test)  # fit does the calculation to determine how the scaling should be done, and transform does the actual scaling. We want to transform without fitting on the test set to avoid data leakage."
      ],
      "execution_count": 78,
      "outputs": []
    },
    {
      "cell_type": "code",
      "metadata": {
        "originalKey": "42529c0d-6f8e-4411-803c-ed459c40175a",
        "showInput": true,
        "customInput": null,
        "collapsed": false,
        "requestMsgId": "819e9ce0-f37b-4652-a919-f47e039643cf",
        "executionStartTime": 1678480651964,
        "executionStopTime": 1678480651976,
        "customOutput": null
      },
      "source": [
        "# Instantiate the linear regression model\n",
        "from sklearn.linear_model import LinearRegression\n",
        "linreg = LinearRegression()"
      ],
      "execution_count": 79,
      "outputs": []
    },
    {
      "cell_type": "code",
      "metadata": {
        "originalKey": "a26574a7-71cd-424d-9c32-89a5764b1a54",
        "showInput": true,
        "customInput": null,
        "collapsed": false,
        "requestMsgId": "b4fb5fcf-ff96-41ce-87ca-7026bf31b76b",
        "executionStartTime": 1678480652164,
        "executionStopTime": 1678480652197,
        "customOutput": null
      },
      "source": [
        "# Fit\n",
        "linreg.fit(rescaled_X_train, y_train)"
      ],
      "execution_count": 80,
      "outputs": [
        {
          "output_type": "execute_result",
          "data": {
            "text/plain": "LinearRegression(copy_X=True, fit_intercept=True, n_jobs=None, normalize=False)"
          },
          "metadata": {
            "bento_obj_id": "140522931332384"
          },
          "execution_count": 80
        }
      ]
    },
    {
      "cell_type": "code",
      "metadata": {
        "originalKey": "c0c6b2ad-ecf3-4a04-833d-d6b97ed9565e",
        "showInput": true,
        "customInput": null,
        "collapsed": false,
        "requestMsgId": "b011acc3-ac96-4b0f-96bb-9d6854d157aa",
        "executionStartTime": 1678480652382,
        "executionStopTime": 1678480652428,
        "customOutput": null
      },
      "source": [
        "# Assess accuracy (using https://scikit-learn.org/stable/auto_examples/linear_model/plot_ols.html)\n",
        "y_pred = linreg.predict(rescaled_X_test)"
      ],
      "execution_count": 81,
      "outputs": []
    },
    {
      "cell_type": "code",
      "metadata": {
        "originalKey": "4c2f9921-1360-47a8-ab04-f7111219991c",
        "showInput": true,
        "customInput": null,
        "collapsed": false,
        "requestMsgId": "438e9de2-9d9a-47d2-ac03-4c2dc6057fe0",
        "executionStartTime": 1678480652605,
        "executionStopTime": 1678480652651,
        "customOutput": null
      },
      "source": [
        "from sklearn.metrics import mean_squared_error, r2_score\n",
        "\n",
        "print(\"Mean squared error: %.2f\" % mean_squared_error(y_test, y_pred))\n",
        "# The coefficient of determination: 1 is perfect prediction\n",
        "print(\"Coefficient of determination: %.2f\" % r2_score(y_test, y_pred))"
      ],
      "execution_count": 82,
      "outputs": [
        {
          "output_type": "stream",
          "name": "stdout",
          "text": [
            "Mean squared error: 3.32\nCoefficient of determination: 0.54\n"
          ]
        }
      ]
    },
    {
      "cell_type": "code",
      "metadata": {
        "originalKey": "024517d8-912e-449c-8365-52f2f2e38911",
        "showInput": true,
        "customInput": null,
        "collapsed": false,
        "requestMsgId": "72e96e60-ef2b-427f-9458-3588483f9efd",
        "executionStartTime": 1678480652839,
        "executionStopTime": 1678480652994,
        "customOutput": null
      },
      "source": [
        "# Assess accuracy\n",
        "linreg.score(rescaled_X_train, y_train) #This is the training set score"
      ],
      "execution_count": 83,
      "outputs": [
        {
          "output_type": "execute_result",
          "data": {
            "text/plain": "0.5440229331495297"
          },
          "metadata": {
            "bento_obj_id": "140522964505424"
          },
          "execution_count": 83
        }
      ]
    },
    {
      "cell_type": "code",
      "metadata": {
        "originalKey": "00dacf76-8081-4973-8fb7-1217eb5576d0",
        "showInput": true,
        "customInput": null,
        "collapsed": false,
        "requestMsgId": "3412d01b-058c-4bfe-9d3b-5a93feb7d680",
        "executionStartTime": 1678480653551,
        "executionStopTime": 1678480653557,
        "customOutput": null
      },
      "source": [
        "linreg.score(rescaled_X_test, y_test)  # This is the test set score\n",
        "\n",
        "# score is R^2, which is between 0 and 1, so something is wrong here. \n",
        "## Look at the X test and y test"
      ],
      "execution_count": 84,
      "outputs": [
        {
          "output_type": "execute_result",
          "data": {
            "text/plain": "0.5358935628169763"
          },
          "metadata": {
            "bento_obj_id": "140523196200528"
          },
          "execution_count": 84
        }
      ]
    },
    {
      "cell_type": "code",
      "metadata": {
        "originalKey": "dc4876e6-6098-4572-93e7-21192b9a19f6",
        "showInput": true,
        "customInput": null,
        "collapsed": false,
        "requestMsgId": "38bd79f0-03a3-40fb-b73b-1b8f8803da5c",
        "executionStartTime": 1678480653823,
        "executionStopTime": 1678480653862,
        "customOutput": null
      },
      "source": [
        "# Interactions like mediation or moderation\n",
        "\n",
        "## Statsmodels looks promising: https://www.statsmodels.org/dev/generated/statsmodels.stats.mediation.Mediation.\n",
        "## https://www.statsmodels.org/dev/examples/notebooks/generated/mediation_survival.html\n",
        "## https://github.com/kshedden/mediation_workshop\n",
        "# Mediation is when a variable is a go between/component of the relationship between two other variables.\n",
        "## In full mediation, a mediator fully explains the relationship between the independent and dependent variable: without the mediator in the model, there is no relationship.\n",
        "## In partial mediation, there is still a statistical relationship between the independent and dependent variable even when the mediator is taken out of a model: the mediator only partially explains the relationship.\n",
        "# Moderation is when one variable affects another variable, and that effect is influenced by a third variable.\n",
        "\n",
        "# This looks hard. Need a tutorial video or something."
      ],
      "execution_count": 85,
      "outputs": []
    },
    {
      "cell_type": "code",
      "metadata": {
        "originalKey": "ad3b979d-b82d-474f-8fdd-f76173610f05",
        "showInput": true,
        "customInput": null,
        "collapsed": false,
        "requestMsgId": "0e1cbb49-9f21-4e8e-9f96-1e8b85a80362",
        "executionStartTime": 1678481017201,
        "executionStopTime": 1678481017578,
        "customOutput": null
      },
      "source": [
        "# Plot the scatterplot with regression line\n",
        "\n",
        "#Whole Weight and Rings are axis-flipped\n",
        "\n",
        "from matplotlib import pyplot as plt \n",
        "\n",
        "sorted_X_test_Whole_Weight = np.sort(X_test[\"Whole Weight\"], axis=0)\n",
        "# How to sort? Need to sort, but don't know how. Sorting the test set should make the predicted values sorted, which keep the trendline not looking crazy. Make sure that you don't need to also sort the y set, or the training set (your probably do), or that sorting it causes a statistical issue \n",
        "\n",
        "# the trendline is all crazy. Should y pred be sorted as well? Trying it (it worked!)\n",
        "sorted_y_pred = np.sort(y_pred, axis=0)\n",
        "\n",
        "\n",
        "\n",
        "plt.scatter(X_test[\"Whole Weight\"], y_test, color='b')  \n",
        "plt.title(\"Rings x Whole Weight\")\n",
        "plt.ylabel(\"Rings\")\n",
        "plt.xlabel(\"Whole Weight\")\n",
        "\n",
        "\n",
        "\n",
        "#Should this scatterplot portion be the test set or the training set? Fairly certain it should be the test set, because that is what we want to display. \n",
        "\n",
        "#Note, you can't get a scatterplot of all the columns in X. You need to pick a columns.\n",
        "\n",
        "# Should this be post scaling things?\n",
        "\n",
        "plt.plot(sorted_X_test_Whole_Weight, sorted_y_pred, color='k') \n",
        "plt.show()\n",
        "\n",
        "\n",
        "\n",
        ""
      ],
      "execution_count": 102,
      "outputs": [
        {
          "output_type": "display_data",
          "data": {
            "text/plain": "<Figure size 432x288 with 1 Axes>",
            "image/png": "[encoded data removed]"
          },
          "metadata": {
            "bento_obj_id": "140522913193360",
            "needs_background": "light"
          }
        }
      ]
    },
    {
      "cell_type": "code",
      "metadata": {
        "originalKey": "df001893-8ff3-48e4-8afd-5c2aa83633c7",
        "showInput": true,
        "customInput": null
      },
      "source": [
        ""
      ],
      "execution_count": null,
      "outputs": []
    },
    {
      "cell_type": "code",
      "metadata": {
        "originalKey": "9781ecd9-e205-4359-a75b-485246acce91",
        "showInput": true,
        "customInput": null,
        "collapsed": false,
        "requestMsgId": "feaf7091-b5c6-4568-a0d7-866a87ab1a0b",
        "executionStartTime": 1678480654823,
        "executionStopTime": 1678480654852,
        "customOutput": null
      },
      "source": [
        "print(f'alpha = {linreg.intercept_}') # Understand this code better. This is supposedly the intercept of the regression line. "
      ],
      "execution_count": 87,
      "outputs": [
        {
          "output_type": "stream",
          "name": "stdout",
          "text": [
            "alpha = [9.49897959]\n"
          ]
        }
      ]
    },
    {
      "cell_type": "code",
      "metadata": {
        "originalKey": "cfdf59d6-2b0e-4948-a5f7-d30bf6149e6f",
        "showInput": true,
        "customInput": null,
        "collapsed": false,
        "requestMsgId": "088d7182-bca3-4311-bcb1-56aae49b9e99",
        "executionStartTime": 1678480655036,
        "executionStopTime": 1678480655084,
        "customOutput": null
      },
      "source": [
        "# Some ideas here: https://stackoverflow.com/questions/26951880/scikit-learn-linear-regression-how-to-get-coefficients-respective-features\n",
        "# I am not sure if it's a problem that the above code uses 'X_train' as an argument. It shouldnt be, because it's just getting the column headers from X_train, and the coefficients are coming from 'model' which uses rescaled_X_train\n",
        "coef_table = pd.DataFrame({\"Feature\": X_train.columns.tolist(), \"Coefficients\": linreg.coef_[0]})\n",
        "\n",
        "coef_table\n",
        ""
      ],
      "execution_count": 88,
      "outputs": [
        {
          "output_type": "execute_result",
          "data": {
            "text/plain": "          Feature  Coefficients\n0          Length      -0.11321\n1        Diameter       1.16577\n2          Height       0.67580\n3    Whole Weight       2.17822\n4  Shucked Weight      -3.05857\n5  Viscera Weight      -0.53447\n6    Shell Weight       1.01377\n7           Sex_F       0.14238\n8           Sex_I      -0.28036\n9           Sex_M       0.14105",
            "text/html": "<div>\n<style scoped>\n    .dataframe tbody tr th:only-of-type {\n        vertical-align: middle;\n    }\n\n    .dataframe tbody tr th {\n        vertical-align: top;\n    }\n\n    .dataframe thead th {\n        text-align: right;\n    }\n</style>\n<table border=\"1\" class=\"dataframe\">\n  <thead>\n    <tr style=\"text-align: right;\">\n      <th></th>\n      <th>Feature</th>\n      <th>Coefficients</th>\n    </tr>\n  </thead>\n  <tbody>\n    <tr>\n      <th>0</th>\n      <td>Length</td>\n      <td>-0.11321</td>\n    </tr>\n    <tr>\n      <th>1</th>\n      <td>Diameter</td>\n      <td>1.16577</td>\n    </tr>\n    <tr>\n      <th>2</th>\n      <td>Height</td>\n      <td>0.67580</td>\n    </tr>\n    <tr>\n      <th>3</th>\n      <td>Whole Weight</td>\n      <td>2.17822</td>\n    </tr>\n    <tr>\n      <th>4</th>\n      <td>Shucked Weight</td>\n      <td>-3.05857</td>\n    </tr>\n    <tr>\n      <th>5</th>\n      <td>Viscera Weight</td>\n      <td>-0.53447</td>\n    </tr>\n    <tr>\n      <th>6</th>\n      <td>Shell Weight</td>\n      <td>1.01377</td>\n    </tr>\n    <tr>\n      <th>7</th>\n      <td>Sex_F</td>\n      <td>0.14238</td>\n    </tr>\n    <tr>\n      <th>8</th>\n      <td>Sex_I</td>\n      <td>-0.28036</td>\n    </tr>\n    <tr>\n      <th>9</th>\n      <td>Sex_M</td>\n      <td>0.14105</td>\n    </tr>\n  </tbody>\n</table>\n</div>",
            "application/vnd.dataresource+json": {
              "schema": {
                "fields": [
                  {
                    "name": "index",
                    "type": "integer"
                  },
                  {
                    "name": "Feature",
                    "type": "string"
                  },
                  {
                    "name": "Coefficients",
                    "type": "number"
                  }
                ],
                "primaryKey": [
                  "index"
                ],
                "pandas_version": "0.20.0"
              },
              "data": [
                {
                  "index": 0,
                  "Feature": "Length",
                  "Coefficients": -0.113213979
                },
                {
                  "index": 1,
                  "Feature": "Diameter",
                  "Coefficients": 1.1657704691
                },
                {
                  "index": 2,
                  "Feature": "Height",
                  "Coefficients": 0.6758038528
                },
                {
                  "index": 3,
                  "Feature": "Whole Weight",
                  "Coefficients": 2.1782157607
                },
                {
                  "index": 4,
                  "Feature": "Shucked Weight",
                  "Coefficients": -3.0585661793
                },
                {
                  "index": 5,
                  "Feature": "Viscera Weight",
                  "Coefficients": -0.5344650054
                },
                {
                  "index": 6,
                  "Feature": "Shell Weight",
                  "Coefficients": 1.013769661
                },
                {
                  "index": 7,
                  "Feature": "Sex_F",
                  "Coefficients": 0.1423791286
                },
                {
                  "index": 8,
                  "Feature": "Sex_I",
                  "Coefficients": -0.2803579782
                },
                {
                  "index": 9,
                  "Feature": "Sex_M",
                  "Coefficients": 0.1410499573
                }
              ]
            }
          },
          "metadata": {
            "bento_obj_id": "140522931441920"
          },
          "execution_count": 88
        }
      ]
    },
    {
      "cell_type": "code",
      "metadata": {
        "originalKey": "78bb0e6a-6910-4aab-837b-9ba824c79347",
        "showInput": true,
        "customInput": null,
        "collapsed": false,
        "requestMsgId": "3b690a6f-2b5a-4ffd-b77f-466e72922019",
        "executionStartTime": 1678480655365,
        "executionStopTime": 1678480655706,
        "customOutput": null
      },
      "source": [
        "# POST-CLEANING VISUALIZATIONS\n",
        "\n",
        "# You want to graph the strongest relationships with the target variable. Is that the beta weights? The correlation? Check Fields text and elsewhere. \n",
        "\n",
        "fig = plt.figure(figsize=(10, 7))  # set figure size\n",
        "plt.scatter(abalone_data[\"Rings\"], abalone_data[\"Shucked Weight\"])\n",
        "plt.title(\"Rings x Shucked Weight\")\n",
        "plt.xlabel(\"Rings\")\n",
        "plt.ylabel(\"Shucked Weight\")"
      ],
      "execution_count": 89,
      "outputs": [
        {
          "output_type": "execute_result",
          "data": {
            "text/plain": "Text(0, 0.5, 'Shucked Weight')"
          },
          "metadata": {
            "bento_obj_id": "140522931225600"
          },
          "execution_count": 89
        },
        {
          "output_type": "display_data",
          "data": {
            "text/plain": "<Figure size 720x504 with 1 Axes>",
            "image/png": "[encoded data removed]"
          },
          "metadata": {
            "bento_obj_id": "140522931443744",
            "needs_background": "light"
          }
        }
      ]
    },
    {
      "cell_type": "code",
      "metadata": {
        "originalKey": "388c525e-8400-4e14-997c-1872a1a92848",
        "showInput": true,
        "customInput": null,
        "collapsed": false,
        "requestMsgId": "8101efe0-7611-46f7-96be-2106861bb897",
        "executionStartTime": 1678480656094,
        "executionStopTime": 1678480656478,
        "customOutput": null
      },
      "source": [
        "fig = plt.figure(figsize=(10, 7))  # set figure size\n",
        "plt.scatter(abalone_data[\"Rings\"], abalone_data[\"Whole Weight\"])\n",
        "plt.title(\"Rings x Whole Weight\")\n",
        "plt.xlabel(\"Rings\")\n",
        "plt.ylabel(\"Whole Weight\")"
      ],
      "execution_count": 90,
      "outputs": [
        {
          "output_type": "execute_result",
          "data": {
            "text/plain": "Text(0, 0.5, 'Whole Weight')"
          },
          "metadata": {
            "bento_obj_id": "140522927343360"
          },
          "execution_count": 90
        },
        {
          "output_type": "display_data",
          "data": {
            "text/plain": "<Figure size 720x504 with 1 Axes>",
            "image/png": "[encoded data removed]"
          },
          "metadata": {
            "bento_obj_id": "140522947524784",
            "needs_background": "light"
          }
        }
      ]
    },
    {
      "cell_type": "code",
      "metadata": {
        "originalKey": "a5eff5bf-bbe0-489c-ab59-7a278af3bb17",
        "showInput": true,
        "customInput": null,
        "customOutput": null,
        "collapsed": false,
        "requestMsgId": "6c242531-fd68-455a-a09e-c461675d85f1",
        "executionStartTime": 1678480656832,
        "executionStopTime": 1678480656859
      },
      "source": [
        ""
      ],
      "execution_count": 91,
      "outputs": []
    },
    {
      "cell_type": "code",
      "metadata": {
        "originalKey": "f1a6e00d-913c-424d-9020-2b62b09e6d78",
        "showInput": true,
        "customInput": null,
        "collapsed": false,
        "requestMsgId": "c95548e6-0c75-4d44-89d2-2a3bb6f47c41",
        "executionStartTime": 1678480657034,
        "executionStopTime": 1678480657081,
        "customOutput": null
      },
      "source": [
        ""
      ],
      "execution_count": 92,
      "outputs": []
    },
    {
      "cell_type": "code",
      "metadata": {
        "originalKey": "af3d67e9-4f7a-4638-ab07-cd68808b49b5",
        "showInput": true,
        "customInput": null,
        "customOutput": null,
        "collapsed": false,
        "requestMsgId": "c74581d2-59be-4dd8-857b-eb4b569db09d",
        "executionStartTime": 1678480657268,
        "executionStopTime": 1678480657315
      },
      "source": [
        ""
      ],
      "execution_count": 93,
      "outputs": []
    },
    {
      "cell_type": "code",
      "metadata": {
        "originalKey": "905002ad-eb5b-438d-9f4c-ca64653f8aaf",
        "showInput": true,
        "customInput": null,
        "customOutput": null,
        "collapsed": false,
        "requestMsgId": "8f0b96eb-37ef-40c3-b786-be5e142b0b39",
        "executionStartTime": 1678480657492,
        "executionStopTime": 1678480657538
      },
      "source": [
        ""
      ],
      "execution_count": 94,
      "outputs": []
    }
  ]
}
