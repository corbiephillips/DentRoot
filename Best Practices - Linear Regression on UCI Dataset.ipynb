{
  "metadata": {
    "dataExplorerConfig": {},
    "bento_stylesheets": {
      "bento/extensions/flow/main.css": true,
      "bento/extensions/kernel_selector/main.css": true,
      "bento/extensions/kernel_ui/main.css": true,
      "bento/extensions/new_kernel/main.css": true,
      "bento/extensions/system_usage/main.css": true,
      "bento/extensions/theme/main.css": true
    },
    "kernelspec": {
      "display_name": "Python 3",
      "language": "python",
      "name": "bento_kernel_default",
      "cinder_runtime": true,
      "ipyflow_runtime": false,
      "metadata": {
        "kernel_name": "bento_kernel_default",
        "nightly_builds": true,
        "fbpkg_supported": true,
        "cinder_runtime": true,
        "ipyflow_runtime": false,
        "is_prebuilt": true
      }
    },
    "language_info": {
      "codemirror_mode": {
        "name": "ipython",
        "version": 3
      },
      "file_extension": ".py",
      "mimetype": "text/x-python",
      "name": "python",
      "nbconvert_exporter": "python",
      "pygments_lexer": "ipython3"
    },
    "last_server_session_id": "0cf2b8dd-323b-40bd-b99b-aeab4becde90",
    "last_kernel_id": "b250ae49-1aac-4bd8-8893-de240e90d90f",
    "last_base_url": "https://bento.edge.x2p.facebook.net/",
    "last_msg_id": "552a90ec-44033dc47875856d2dc25d60_1693",
    "captumWidgetMessage": {},
    "outputWidgetContext": {}
  },
  "nbformat": 4,
  "nbformat_minor": 2,
  "cells": [
    {
      "cell_type": "code",
      "metadata": {
        "originalKey": "abbc449a-3d7c-4024-9cf1-00f143c2b2b7",
        "showInput": true,
        "customInput": null,
        "customOutput": null,
        "collapsed": false,
        "requestMsgId": "abbc449a-3d7c-4024-9cf1-00f143c2b2b7",
        "executionStartTime": 1677708753081,
        "executionStopTime": 1677708753096
      },
      "source": [
        "# Make a Google slide with all the neded as if it was a presentation,Lead with the results you want to focus on, tell the story. Tell the whol anrative, including troubles and next steps. \n",
        "## Need some correlation matrices with the target, and not just between predictors\n",
        "\n",
        "# Then, go through and try to make the accuracy score."
      ],
      "execution_count": 313,
      "outputs": []
    },
    {
      "cell_type": "code",
      "metadata": {
        "originalKey": "3089b9bd-a687-4817-8ff1-3fefedb9df69",
        "showInput": true,
        "customInput": null,
        "collapsed": false,
        "requestMsgId": "3089b9bd-a687-4817-8ff1-3fefedb9df69",
        "executionStartTime": 1677707011785,
        "executionStopTime": 1677707011802,
        "customOutput": null
      },
      "source": [
        "# Post rubber duck notes:\n",
        "# Lead with the results you want to focus on, tell the story. Tell the whol anrative, including troubles and next steps. \n",
        "# Make the jupyter notebook tell the tale as best you can, then also make a Google Sldies doc (that is how you would presnt ti for real). \n",
        "# Polished visual? Can't decide how worth it. \n",
        "\n",
        "\n",
        "# Scatterplot of each variable is nice\n",
        "# REQUESTS: Length x Rings for each of male and female\n",
        "# Beta coeffceiencvte needs to bedispayed raw, and standarized, and including significant values. The main question is what vairalb epredicts rings the best, whihcv is the betaa coefficent."
      ],
      "execution_count": 242,
      "outputs": []
    },
    {
      "cell_type": "code",
      "metadata": {
        "originalKey": "8ec95e12-da4a-431e-b3dd-3bca2a47d2e7",
        "showInput": true,
        "customInput": null,
        "customOutput": null,
        "collapsed": false,
        "requestMsgId": "8ec95e12-da4a-431e-b3dd-3bca2a47d2e7",
        "executionStartTime": 1677707012022,
        "executionStopTime": 1677707012038
      },
      "source": [
        "# Also to do:\n",
        "# Compare your work to https://medium.com/swlh/abalone-sex-classification-via-physical-measurements-r-3b72526d5326\n",
        ""
      ],
      "execution_count": 243,
      "outputs": []
    },
    {
      "cell_type": "code",
      "metadata": {
        "originalKey": "56b45527-e769-4461-8f8c-c83fcb6459ef",
        "showInput": true,
        "customInput": null,
        "customOutput": null,
        "collapsed": false,
        "requestMsgId": "56b45527-e769-4461-8f8c-c83fcb6459ef",
        "executionStartTime": 1677707012165,
        "executionStopTime": 1677707012179
      },
      "source": [
        "# Predictor Variable details\n",
        "\n",
        "# Sex / nominal / -- / M, F, and I (infant)\n",
        "# Length / continuous / mm / Longest shell measurement\n",
        "# Diameter / continuous / mm / perpendicular to length\n",
        "# Height / continuous / mm / with meat in shell\n",
        "# Whole weight / continuous / grams / whole abalone\n",
        "# Shucked weight / continuous / grams / weight of meat\n",
        "# Viscera weight / continuous / grams / gut weight (after bleeding)\n",
        "# Shell weight / continuous / grams / after being dried\n",
        "\n",
        "# Target variable:\n",
        "#\n",
        "# Rings / integer / -- / +1.5 gives the age in years"
      ],
      "execution_count": 244,
      "outputs": []
    },
    {
      "cell_type": "code",
      "metadata": {
        "originalKey": "b365cbd3-a10d-45ac-a869-fca2018bb87e",
        "showInput": true,
        "customInput": null,
        "customOutput": null,
        "collapsed": false,
        "requestMsgId": "b365cbd3-a10d-45ac-a869-fca2018bb87e",
        "executionStartTime": 1677707012313,
        "executionStopTime": 1677707012348
      },
      "source": [
        "# Dataset url: \n",
        "# Rings / integer / -- / +1.5 gives the age in years"
      ],
      "execution_count": 245,
      "outputs": []
    },
    {
      "cell_type": "code",
      "metadata": {
        "originalKey": "8e6d1a6a-5c0b-4e43-9c52-f367dc1d5691",
        "showInput": true,
        "customInput": null,
        "customOutput": null,
        "collapsed": false,
        "requestMsgId": "8e6d1a6a-5c0b-4e43-9c52-f367dc1d5691",
        "executionStartTime": 1677707012474,
        "executionStopTime": 1677707012490
      },
      "source": [
        "# PLAN OF ATTACK (flesh out)\n",
        "# IMPORT DATA\n",
        "# EXPLORE, including initial visualizations\n",
        "# CLEAN\n",
        "## Handle outliers, null values, format data as correct dtype, etc\n",
        "# EXPLORE AGAIN\n",
        "# MODEL\n",
        "## Check that assumptions are met\n",
        "## PCA, Linear Regression\n",
        "# INTERPRET results\n",
        "## Final visualizations, plain-speech results via slidedeck"
      ],
      "execution_count": 246,
      "outputs": []
    },
    {
      "cell_type": "code",
      "metadata": {
        "originalKey": "73f0271b-bbf3-4f47-a7d7-cf62acd44950",
        "showInput": true,
        "customInput": null,
        "collapsed": false,
        "requestMsgId": "73f0271b-bbf3-4f47-a7d7-cf62acd44950",
        "executionStartTime": 1677707012618,
        "executionStopTime": 1677707012634,
        "customOutput": null
      },
      "source": [
        "import pandas as pd\n",
        "import numpy as np\n",
        "import matplotlib.pyplot as plt\n",
        "import statsmodels.api as sm\n",
        "from sklearn.preprocessing import StandardScaler\n",
        "from sklearn.decomposition import PCA"
      ],
      "execution_count": 247,
      "outputs": []
    },
    {
      "cell_type": "code",
      "metadata": {
        "originalKey": "04cd2b0b-ac95-47b8-a2e4-c8340974f4e1",
        "showInput": true,
        "customInput": null,
        "collapsed": false,
        "requestMsgId": "04cd2b0b-ac95-47b8-a2e4-c8340974f4e1",
        "executionStartTime": 1677707012933,
        "executionStopTime": 1677707012966,
        "customOutput": null
      },
      "source": [
        "pd.set_option(\"display.float_format\", lambda x: \"%.5f\" % x) # To get out of scientific notation"
      ],
      "execution_count": 248,
      "outputs": []
    },
    {
      "cell_type": "code",
      "metadata": {
        "originalKey": "9e22a875-629a-4381-b4cf-cad688cd5da0",
        "showInput": true,
        "customInput": null,
        "collapsed": false,
        "requestMsgId": "9e22a875-629a-4381-b4cf-cad688cd5da0",
        "executionStartTime": 1677707013110,
        "executionStopTime": 1677707013130,
        "customOutput": null
      },
      "source": [
        "# import the abalone dataset \n",
        "\n",
        "abalone_data = pd.read_csv(\"/home/corbiep/local/abalone.data\", names=[\"Sex\", \"Length\", \"Diameter\", \"Height\", \"Whole Weight\", \"Shucked Weight\", \"Viscera Weight\", \"Shell Weight\", \"Rings\"])"
      ],
      "execution_count": 249,
      "outputs": []
    },
    {
      "cell_type": "code",
      "metadata": {
        "originalKey": "4a634c7f-d441-4e4c-8215-e39c8dc930a4",
        "showInput": true,
        "customInput": null,
        "collapsed": false,
        "requestMsgId": "4a634c7f-d441-4e4c-8215-e39c8dc930a4",
        "executionStartTime": 1677707013406,
        "executionStopTime": 1677707013458,
        "customOutput": null
      },
      "source": [
        "# Explore the dataset\n",
        "\n",
        "abalone_data.head()"
      ],
      "execution_count": 250,
      "outputs": [
        {
          "output_type": "execute_result",
          "data": {
            "text/plain": "  Sex  Length  Diameter  ...  Viscera Weight  Shell Weight  Rings\n0   M 0.45500   0.36500  ...         0.10100       0.15000     15\n1   M 0.35000   0.26500  ...         0.04850       0.07000      7\n2   F 0.53000   0.42000  ...         0.14150       0.21000      9\n3   M 0.44000   0.36500  ...         0.11400       0.15500     10\n4   I 0.33000   0.25500  ...         0.03950       0.05500      7\n\n[5 rows x 9 columns]",
            "text/html": "<div>\n<style scoped>\n    .dataframe tbody tr th:only-of-type {\n        vertical-align: middle;\n    }\n\n    .dataframe tbody tr th {\n        vertical-align: top;\n    }\n\n    .dataframe thead th {\n        text-align: right;\n    }\n</style>\n<table border=\"1\" class=\"dataframe\">\n  <thead>\n    <tr style=\"text-align: right;\">\n      <th></th>\n      <th>Sex</th>\n      <th>Length</th>\n      <th>Diameter</th>\n      <th>Height</th>\n      <th>Whole Weight</th>\n      <th>Shucked Weight</th>\n      <th>Viscera Weight</th>\n      <th>Shell Weight</th>\n      <th>Rings</th>\n    </tr>\n  </thead>\n  <tbody>\n    <tr>\n      <th>0</th>\n      <td>M</td>\n      <td>0.45500</td>\n      <td>0.36500</td>\n      <td>0.09500</td>\n      <td>0.51400</td>\n      <td>0.22450</td>\n      <td>0.10100</td>\n      <td>0.15000</td>\n      <td>15</td>\n    </tr>\n    <tr>\n      <th>1</th>\n      <td>M</td>\n      <td>0.35000</td>\n      <td>0.26500</td>\n      <td>0.09000</td>\n      <td>0.22550</td>\n      <td>0.09950</td>\n      <td>0.04850</td>\n      <td>0.07000</td>\n      <td>7</td>\n    </tr>\n    <tr>\n      <th>2</th>\n      <td>F</td>\n      <td>0.53000</td>\n      <td>0.42000</td>\n      <td>0.13500</td>\n      <td>0.67700</td>\n      <td>0.25650</td>\n      <td>0.14150</td>\n      <td>0.21000</td>\n      <td>9</td>\n    </tr>\n    <tr>\n      <th>3</th>\n      <td>M</td>\n      <td>0.44000</td>\n      <td>0.36500</td>\n      <td>0.12500</td>\n      <td>0.51600</td>\n      <td>0.21550</td>\n      <td>0.11400</td>\n      <td>0.15500</td>\n      <td>10</td>\n    </tr>\n    <tr>\n      <th>4</th>\n      <td>I</td>\n      <td>0.33000</td>\n      <td>0.25500</td>\n      <td>0.08000</td>\n      <td>0.20500</td>\n      <td>0.08950</td>\n      <td>0.03950</td>\n      <td>0.05500</td>\n      <td>7</td>\n    </tr>\n  </tbody>\n</table>\n</div>",
            "application/vnd.dataresource+json": {
              "schema": {
                "fields": [
                  {
                    "name": "index",
                    "type": "integer"
                  },
                  {
                    "name": "Sex",
                    "type": "string"
                  },
                  {
                    "name": "Length",
                    "type": "number"
                  },
                  {
                    "name": "Diameter",
                    "type": "number"
                  },
                  {
                    "name": "Height",
                    "type": "number"
                  },
                  {
                    "name": "Whole Weight",
                    "type": "number"
                  },
                  {
                    "name": "Shucked Weight",
                    "type": "number"
                  },
                  {
                    "name": "Viscera Weight",
                    "type": "number"
                  },
                  {
                    "name": "Shell Weight",
                    "type": "number"
                  },
                  {
                    "name": "Rings",
                    "type": "integer"
                  }
                ],
                "primaryKey": [
                  "index"
                ],
                "pandas_version": "0.20.0"
              },
              "data": [
                {
                  "index": 0,
                  "Sex": "M",
                  "Length": 0.455,
                  "Diameter": 0.365,
                  "Height": 0.095,
                  "Whole Weight": 0.514,
                  "Shucked Weight": 0.2245,
                  "Viscera Weight": 0.101,
                  "Shell Weight": 0.15,
                  "Rings": 15
                },
                {
                  "index": 1,
                  "Sex": "M",
                  "Length": 0.35,
                  "Diameter": 0.265,
                  "Height": 0.09,
                  "Whole Weight": 0.2255,
                  "Shucked Weight": 0.0995,
                  "Viscera Weight": 0.0485,
                  "Shell Weight": 0.07,
                  "Rings": 7
                },
                {
                  "index": 2,
                  "Sex": "F",
                  "Length": 0.53,
                  "Diameter": 0.42,
                  "Height": 0.135,
                  "Whole Weight": 0.677,
                  "Shucked Weight": 0.2565,
                  "Viscera Weight": 0.1415,
                  "Shell Weight": 0.21,
                  "Rings": 9
                },
                {
                  "index": 3,
                  "Sex": "M",
                  "Length": 0.44,
                  "Diameter": 0.365,
                  "Height": 0.125,
                  "Whole Weight": 0.516,
                  "Shucked Weight": 0.2155,
                  "Viscera Weight": 0.114,
                  "Shell Weight": 0.155,
                  "Rings": 10
                },
                {
                  "index": 4,
                  "Sex": "I",
                  "Length": 0.33,
                  "Diameter": 0.255,
                  "Height": 0.08,
                  "Whole Weight": 0.205,
                  "Shucked Weight": 0.0895,
                  "Viscera Weight": 0.0395,
                  "Shell Weight": 0.055,
                  "Rings": 7
                }
              ]
            }
          },
          "metadata": {
            "bento_obj_id": "140134771015104"
          },
          "execution_count": 250
        }
      ]
    },
    {
      "cell_type": "code",
      "metadata": {
        "originalKey": "08d15223-487f-4031-b230-8483ecc44963",
        "showInput": true,
        "customInput": null,
        "collapsed": false,
        "requestMsgId": "08d15223-487f-4031-b230-8483ecc44963",
        "executionStartTime": 1677707013628,
        "executionStopTime": 1677707013647,
        "customOutput": null
      },
      "source": [
        "abalone_data.info()"
      ],
      "execution_count": 251,
      "outputs": [
        {
          "output_type": "stream",
          "name": "stdout",
          "text": [
            "<class 'pandas.core.frame.DataFrame'>\nRangeIndex: 4177 entries, 0 to 4176\nData columns (total 9 columns):\n #   Column          Non-Null Count  Dtype  \n---  ------          --------------  -----  \n 0   Sex             4177 non-null   object \n 1   Length          4177 non-null   float64\n 2   Diameter        4177 non-null   float64\n 3   Height          4177 non-null   float64\n 4   Whole Weight    4177 non-null   float64\n 5   Shucked Weight  4177 non-null   float64\n 6   Viscera Weight  4177 non-null   float64\n 7   Shell Weight    4177 non-null   float64\n 8   Rings           4177 non-null   int64  \ndtypes: float64(7), int64(1), object(1)\nmemory usage: 293.8+ KB\n"
          ]
        }
      ]
    },
    {
      "cell_type": "code",
      "metadata": {
        "originalKey": "93ecaef2-72b0-42a2-8468-268a34efef6e",
        "showInput": true,
        "customInput": null,
        "collapsed": false,
        "requestMsgId": "93ecaef2-72b0-42a2-8468-268a34efef6e",
        "executionStartTime": 1677707013799,
        "executionStopTime": 1677707013879,
        "customOutput": null
      },
      "source": [
        "abalone_data.describe()"
      ],
      "execution_count": 252,
      "outputs": [
        {
          "output_type": "execute_result",
          "data": {
            "text/plain": "          Length   Diameter     Height  ...  Viscera Weight  Shell Weight      Rings\ncount 4177.00000 4177.00000 4177.00000  ...      4177.00000    4177.00000 4177.00000\nmean     0.52399    0.40788    0.13952  ...         0.18059       0.23883    9.93368\nstd      0.12009    0.09924    0.04183  ...         0.10961       0.13920    3.22417\nmin      0.07500    0.05500    0.00000  ...         0.00050       0.00150    1.00000\n25%      0.45000    0.35000    0.11500  ...         0.09350       0.13000    8.00000\n50%      0.54500    0.42500    0.14000  ...         0.17100       0.23400    9.00000\n75%      0.61500    0.48000    0.16500  ...         0.25300       0.32900   11.00000\nmax      0.81500    0.65000    1.13000  ...         0.76000       1.00500   29.00000\n\n[8 rows x 8 columns]",
            "text/html": "<div>\n<style scoped>\n    .dataframe tbody tr th:only-of-type {\n        vertical-align: middle;\n    }\n\n    .dataframe tbody tr th {\n        vertical-align: top;\n    }\n\n    .dataframe thead th {\n        text-align: right;\n    }\n</style>\n<table border=\"1\" class=\"dataframe\">\n  <thead>\n    <tr style=\"text-align: right;\">\n      <th></th>\n      <th>Length</th>\n      <th>Diameter</th>\n      <th>Height</th>\n      <th>Whole Weight</th>\n      <th>Shucked Weight</th>\n      <th>Viscera Weight</th>\n      <th>Shell Weight</th>\n      <th>Rings</th>\n    </tr>\n  </thead>\n  <tbody>\n    <tr>\n      <th>count</th>\n      <td>4177.00000</td>\n      <td>4177.00000</td>\n      <td>4177.00000</td>\n      <td>4177.00000</td>\n      <td>4177.00000</td>\n      <td>4177.00000</td>\n      <td>4177.00000</td>\n      <td>4177.00000</td>\n    </tr>\n    <tr>\n      <th>mean</th>\n      <td>0.52399</td>\n      <td>0.40788</td>\n      <td>0.13952</td>\n      <td>0.82874</td>\n      <td>0.35937</td>\n      <td>0.18059</td>\n      <td>0.23883</td>\n      <td>9.93368</td>\n    </tr>\n    <tr>\n      <th>std</th>\n      <td>0.12009</td>\n      <td>0.09924</td>\n      <td>0.04183</td>\n      <td>0.49039</td>\n      <td>0.22196</td>\n      <td>0.10961</td>\n      <td>0.13920</td>\n      <td>3.22417</td>\n    </tr>\n    <tr>\n      <th>min</th>\n      <td>0.07500</td>\n      <td>0.05500</td>\n      <td>0.00000</td>\n      <td>0.00200</td>\n      <td>0.00100</td>\n      <td>0.00050</td>\n      <td>0.00150</td>\n      <td>1.00000</td>\n    </tr>\n    <tr>\n      <th>25%</th>\n      <td>0.45000</td>\n      <td>0.35000</td>\n      <td>0.11500</td>\n      <td>0.44150</td>\n      <td>0.18600</td>\n      <td>0.09350</td>\n      <td>0.13000</td>\n      <td>8.00000</td>\n    </tr>\n    <tr>\n      <th>50%</th>\n      <td>0.54500</td>\n      <td>0.42500</td>\n      <td>0.14000</td>\n      <td>0.79950</td>\n      <td>0.33600</td>\n      <td>0.17100</td>\n      <td>0.23400</td>\n      <td>9.00000</td>\n    </tr>\n    <tr>\n      <th>75%</th>\n      <td>0.61500</td>\n      <td>0.48000</td>\n      <td>0.16500</td>\n      <td>1.15300</td>\n      <td>0.50200</td>\n      <td>0.25300</td>\n      <td>0.32900</td>\n      <td>11.00000</td>\n    </tr>\n    <tr>\n      <th>max</th>\n      <td>0.81500</td>\n      <td>0.65000</td>\n      <td>1.13000</td>\n      <td>2.82550</td>\n      <td>1.48800</td>\n      <td>0.76000</td>\n      <td>1.00500</td>\n      <td>29.00000</td>\n    </tr>\n  </tbody>\n</table>\n</div>",
            "application/vnd.dataresource+json": {
              "schema": {
                "fields": [
                  {
                    "name": "index",
                    "type": "string"
                  },
                  {
                    "name": "Length",
                    "type": "number"
                  },
                  {
                    "name": "Diameter",
                    "type": "number"
                  },
                  {
                    "name": "Height",
                    "type": "number"
                  },
                  {
                    "name": "Whole Weight",
                    "type": "number"
                  },
                  {
                    "name": "Shucked Weight",
                    "type": "number"
                  },
                  {
                    "name": "Viscera Weight",
                    "type": "number"
                  },
                  {
                    "name": "Shell Weight",
                    "type": "number"
                  },
                  {
                    "name": "Rings",
                    "type": "number"
                  }
                ],
                "primaryKey": [
                  "index"
                ],
                "pandas_version": "0.20.0"
              },
              "data": [
                {
                  "index": "count",
                  "Length": 4177,
                  "Diameter": 4177,
                  "Height": 4177,
                  "Whole Weight": 4177,
                  "Shucked Weight": 4177,
                  "Viscera Weight": 4177,
                  "Shell Weight": 4177,
                  "Rings": 4177
                },
                {
                  "index": "mean",
                  "Length": 0.5239920996,
                  "Diameter": 0.4078812545,
                  "Height": 0.1395163993,
                  "Whole Weight": 0.8287421594,
                  "Shucked Weight": 0.3593674886,
                  "Viscera Weight": 0.1805936079,
                  "Shell Weight": 0.2388308595,
                  "Rings": 9.9336844625
                },
                {
                  "index": "std",
                  "Length": 0.1200929126,
                  "Diameter": 0.0992398661,
                  "Height": 0.0418270566,
                  "Whole Weight": 0.4903890182,
                  "Shucked Weight": 0.221962949,
                  "Viscera Weight": 0.1096142503,
                  "Shell Weight": 0.1392026695,
                  "Rings": 3.2241690321
                },
                {
                  "index": "min",
                  "Length": 0.075,
                  "Diameter": 0.055,
                  "Height": 0,
                  "Whole Weight": 0.002,
                  "Shucked Weight": 0.001,
                  "Viscera Weight": 0.0005,
                  "Shell Weight": 0.0015,
                  "Rings": 1
                },
                {
                  "index": "25%",
                  "Length": 0.45,
                  "Diameter": 0.35,
                  "Height": 0.115,
                  "Whole Weight": 0.4415,
                  "Shucked Weight": 0.186,
                  "Viscera Weight": 0.0935,
                  "Shell Weight": 0.13,
                  "Rings": 8
                },
                {
                  "index": "50%",
                  "Length": 0.545,
                  "Diameter": 0.425,
                  "Height": 0.14,
                  "Whole Weight": 0.7995,
                  "Shucked Weight": 0.336,
                  "Viscera Weight": 0.171,
                  "Shell Weight": 0.234,
                  "Rings": 9
                },
                {
                  "index": "75%",
                  "Length": 0.615,
                  "Diameter": 0.48,
                  "Height": 0.165,
                  "Whole Weight": 1.153,
                  "Shucked Weight": 0.502,
                  "Viscera Weight": 0.253,
                  "Shell Weight": 0.329,
                  "Rings": 11
                },
                {
                  "index": "max",
                  "Length": 0.815,
                  "Diameter": 0.65,
                  "Height": 1.13,
                  "Whole Weight": 2.8255,
                  "Shucked Weight": 1.488,
                  "Viscera Weight": 0.76,
                  "Shell Weight": 1.005,
                  "Rings": 29
                }
              ]
            }
          },
          "metadata": {
            "bento_obj_id": "140134769076208"
          },
          "execution_count": 252
        }
      ]
    },
    {
      "cell_type": "code",
      "metadata": {
        "originalKey": "99c590b9-a6b2-434e-8733-f32a64e5f707",
        "showInput": true,
        "customInput": null,
        "customOutput": null,
        "collapsed": false,
        "requestMsgId": "99c590b9-a6b2-434e-8733-f32a64e5f707",
        "executionStartTime": 1677707014001,
        "executionStopTime": 1677707014013
      },
      "source": [
        "# To get out of scientific notation. Use pd.reset_option('display.float_format') to reset back to the default"
      ],
      "execution_count": 253,
      "outputs": []
    },
    {
      "cell_type": "code",
      "metadata": {
        "originalKey": "a3a8a3d0-483a-400d-9026-21cbcbcc3533",
        "showInput": true,
        "customInput": null,
        "collapsed": false,
        "requestMsgId": "a3a8a3d0-483a-400d-9026-21cbcbcc3533",
        "executionStartTime": 1677707014130,
        "executionStopTime": 1677707014162,
        "customOutput": null
      },
      "source": [
        "# Check for \n",
        "# If there are nulls, use isnull().sum() and splicing using isnull (ex: cr_data[pd.isnull(cr_data[\"Ring 0 MSR\"])]), to find and explore, and dropna() to remove\n",
        "\n",
        "abalone_data.isnull().sum()"
      ],
      "execution_count": 254,
      "outputs": [
        {
          "output_type": "execute_result",
          "data": {
            "text/plain": "Sex               0\nLength            0\nDiameter          0\nHeight            0\nWhole Weight      0\nShucked Weight    0\nViscera Weight    0\nShell Weight      0\nRings             0\ndtype: int64",
            "application/vnd.dataresource+json": {
              "schema": {
                "fields": [
                  {
                    "name": "index",
                    "type": "string"
                  },
                  {
                    "name": "values",
                    "type": "integer"
                  }
                ],
                "primaryKey": [
                  "index"
                ],
                "pandas_version": "0.20.0"
              },
              "data": [
                {
                  "index": "Sex",
                  "values": 0
                },
                {
                  "index": "Length",
                  "values": 0
                },
                {
                  "index": "Diameter",
                  "values": 0
                },
                {
                  "index": "Height",
                  "values": 0
                },
                {
                  "index": "Whole Weight",
                  "values": 0
                },
                {
                  "index": "Shucked Weight",
                  "values": 0
                },
                {
                  "index": "Viscera Weight",
                  "values": 0
                },
                {
                  "index": "Shell Weight",
                  "values": 0
                },
                {
                  "index": "Rings",
                  "values": 0
                }
              ]
            }
          },
          "metadata": {
            "bento_obj_id": "140134771011936"
          },
          "execution_count": 254
        }
      ]
    },
    {
      "cell_type": "code",
      "metadata": {
        "originalKey": "6c181f72-f69c-4ab6-be00-3ea0069e6dd9",
        "showInput": true,
        "customInput": null,
        "collapsed": false,
        "requestMsgId": "6c181f72-f69c-4ab6-be00-3ea0069e6dd9",
        "executionStartTime": 1677707014306,
        "executionStopTime": 1677707014335,
        "customOutput": null
      },
      "source": [
        "# Spot checking by hand\n",
        "\n",
        "abalone_data.iloc[100:110, :]"
      ],
      "execution_count": 255,
      "outputs": [
        {
          "output_type": "execute_result",
          "data": {
            "text/plain": "    Sex  Length  Diameter  ...  Viscera Weight  Shell Weight  Rings\n100   I 0.36000   0.26500  ...         0.04600       0.07500      7\n101   M 0.55000   0.43500  ...         0.19150       0.25500     15\n102   M 0.53000   0.43500  ...         0.16400       0.33500     15\n103   M 0.53000   0.41500  ...         0.16750       0.20500     10\n104   M 0.60500   0.47000  ...         0.24050       0.34500     12\n105   F 0.52000   0.41000  ...         0.18350       0.23500     12\n106   F 0.54500   0.43000  ...         0.18300       0.28000     11\n107   F 0.50000   0.40000  ...         0.13150       0.22000     10\n108   F 0.51000   0.39000  ...         0.17900       0.20000      9\n109   F 0.43500   0.39500  ...         0.09800       0.13000      9\n\n[10 rows x 9 columns]",
            "text/html": "<div>\n<style scoped>\n    .dataframe tbody tr th:only-of-type {\n        vertical-align: middle;\n    }\n\n    .dataframe tbody tr th {\n        vertical-align: top;\n    }\n\n    .dataframe thead th {\n        text-align: right;\n    }\n</style>\n<table border=\"1\" class=\"dataframe\">\n  <thead>\n    <tr style=\"text-align: right;\">\n      <th></th>\n      <th>Sex</th>\n      <th>Length</th>\n      <th>Diameter</th>\n      <th>Height</th>\n      <th>Whole Weight</th>\n      <th>Shucked Weight</th>\n      <th>Viscera Weight</th>\n      <th>Shell Weight</th>\n      <th>Rings</th>\n    </tr>\n  </thead>\n  <tbody>\n    <tr>\n      <th>100</th>\n      <td>I</td>\n      <td>0.36000</td>\n      <td>0.26500</td>\n      <td>0.09500</td>\n      <td>0.23150</td>\n      <td>0.10500</td>\n      <td>0.04600</td>\n      <td>0.07500</td>\n      <td>7</td>\n    </tr>\n    <tr>\n      <th>101</th>\n      <td>M</td>\n      <td>0.55000</td>\n      <td>0.43500</td>\n      <td>0.14500</td>\n      <td>0.84300</td>\n      <td>0.32800</td>\n      <td>0.19150</td>\n      <td>0.25500</td>\n      <td>15</td>\n    </tr>\n    <tr>\n      <th>102</th>\n      <td>M</td>\n      <td>0.53000</td>\n      <td>0.43500</td>\n      <td>0.16000</td>\n      <td>0.88300</td>\n      <td>0.31600</td>\n      <td>0.16400</td>\n      <td>0.33500</td>\n      <td>15</td>\n    </tr>\n    <tr>\n      <th>103</th>\n      <td>M</td>\n      <td>0.53000</td>\n      <td>0.41500</td>\n      <td>0.14000</td>\n      <td>0.72400</td>\n      <td>0.31050</td>\n      <td>0.16750</td>\n      <td>0.20500</td>\n      <td>10</td>\n    </tr>\n    <tr>\n      <th>104</th>\n      <td>M</td>\n      <td>0.60500</td>\n      <td>0.47000</td>\n      <td>0.16000</td>\n      <td>1.17350</td>\n      <td>0.49750</td>\n      <td>0.24050</td>\n      <td>0.34500</td>\n      <td>12</td>\n    </tr>\n    <tr>\n      <th>105</th>\n      <td>F</td>\n      <td>0.52000</td>\n      <td>0.41000</td>\n      <td>0.15500</td>\n      <td>0.72700</td>\n      <td>0.29100</td>\n      <td>0.18350</td>\n      <td>0.23500</td>\n      <td>12</td>\n    </tr>\n    <tr>\n      <th>106</th>\n      <td>F</td>\n      <td>0.54500</td>\n      <td>0.43000</td>\n      <td>0.16500</td>\n      <td>0.80200</td>\n      <td>0.29350</td>\n      <td>0.18300</td>\n      <td>0.28000</td>\n      <td>11</td>\n    </tr>\n    <tr>\n      <th>107</th>\n      <td>F</td>\n      <td>0.50000</td>\n      <td>0.40000</td>\n      <td>0.12500</td>\n      <td>0.66750</td>\n      <td>0.26100</td>\n      <td>0.13150</td>\n      <td>0.22000</td>\n      <td>10</td>\n    </tr>\n    <tr>\n      <th>108</th>\n      <td>F</td>\n      <td>0.51000</td>\n      <td>0.39000</td>\n      <td>0.13500</td>\n      <td>0.63350</td>\n      <td>0.23100</td>\n      <td>0.17900</td>\n      <td>0.20000</td>\n      <td>9</td>\n    </tr>\n    <tr>\n      <th>109</th>\n      <td>F</td>\n      <td>0.43500</td>\n      <td>0.39500</td>\n      <td>0.10500</td>\n      <td>0.36350</td>\n      <td>0.13600</td>\n      <td>0.09800</td>\n      <td>0.13000</td>\n      <td>9</td>\n    </tr>\n  </tbody>\n</table>\n</div>",
            "application/vnd.dataresource+json": {
              "schema": {
                "fields": [
                  {
                    "name": "index",
                    "type": "integer"
                  },
                  {
                    "name": "Sex",
                    "type": "string"
                  },
                  {
                    "name": "Length",
                    "type": "number"
                  },
                  {
                    "name": "Diameter",
                    "type": "number"
                  },
                  {
                    "name": "Height",
                    "type": "number"
                  },
                  {
                    "name": "Whole Weight",
                    "type": "number"
                  },
                  {
                    "name": "Shucked Weight",
                    "type": "number"
                  },
                  {
                    "name": "Viscera Weight",
                    "type": "number"
                  },
                  {
                    "name": "Shell Weight",
                    "type": "number"
                  },
                  {
                    "name": "Rings",
                    "type": "integer"
                  }
                ],
                "primaryKey": [
                  "index"
                ],
                "pandas_version": "0.20.0"
              },
              "data": [
                {
                  "index": 100,
                  "Sex": "I",
                  "Length": 0.36,
                  "Diameter": 0.265,
                  "Height": 0.095,
                  "Whole Weight": 0.2315,
                  "Shucked Weight": 0.105,
                  "Viscera Weight": 0.046,
                  "Shell Weight": 0.075,
                  "Rings": 7
                },
                {
                  "index": 101,
                  "Sex": "M",
                  "Length": 0.55,
                  "Diameter": 0.435,
                  "Height": 0.145,
                  "Whole Weight": 0.843,
                  "Shucked Weight": 0.328,
                  "Viscera Weight": 0.1915,
                  "Shell Weight": 0.255,
                  "Rings": 15
                },
                {
                  "index": 102,
                  "Sex": "M",
                  "Length": 0.53,
                  "Diameter": 0.435,
                  "Height": 0.16,
                  "Whole Weight": 0.883,
                  "Shucked Weight": 0.316,
                  "Viscera Weight": 0.164,
                  "Shell Weight": 0.335,
                  "Rings": 15
                },
                {
                  "index": 103,
                  "Sex": "M",
                  "Length": 0.53,
                  "Diameter": 0.415,
                  "Height": 0.14,
                  "Whole Weight": 0.724,
                  "Shucked Weight": 0.3105,
                  "Viscera Weight": 0.1675,
                  "Shell Weight": 0.205,
                  "Rings": 10
                },
                {
                  "index": 104,
                  "Sex": "M",
                  "Length": 0.605,
                  "Diameter": 0.47,
                  "Height": 0.16,
                  "Whole Weight": 1.1735,
                  "Shucked Weight": 0.4975,
                  "Viscera Weight": 0.2405,
                  "Shell Weight": 0.345,
                  "Rings": 12
                },
                {
                  "index": 105,
                  "Sex": "F",
                  "Length": 0.52,
                  "Diameter": 0.41,
                  "Height": 0.155,
                  "Whole Weight": 0.727,
                  "Shucked Weight": 0.291,
                  "Viscera Weight": 0.1835,
                  "Shell Weight": 0.235,
                  "Rings": 12
                },
                {
                  "index": 106,
                  "Sex": "F",
                  "Length": 0.545,
                  "Diameter": 0.43,
                  "Height": 0.165,
                  "Whole Weight": 0.802,
                  "Shucked Weight": 0.2935,
                  "Viscera Weight": 0.183,
                  "Shell Weight": 0.28,
                  "Rings": 11
                },
                {
                  "index": 107,
                  "Sex": "F",
                  "Length": 0.5,
                  "Diameter": 0.4,
                  "Height": 0.125,
                  "Whole Weight": 0.6675,
                  "Shucked Weight": 0.261,
                  "Viscera Weight": 0.1315,
                  "Shell Weight": 0.22,
                  "Rings": 10
                },
                {
                  "index": 108,
                  "Sex": "F",
                  "Length": 0.51,
                  "Diameter": 0.39,
                  "Height": 0.135,
                  "Whole Weight": 0.6335,
                  "Shucked Weight": 0.231,
                  "Viscera Weight": 0.179,
                  "Shell Weight": 0.2,
                  "Rings": 9
                },
                {
                  "index": 109,
                  "Sex": "F",
                  "Length": 0.435,
                  "Diameter": 0.395,
                  "Height": 0.105,
                  "Whole Weight": 0.3635,
                  "Shucked Weight": 0.136,
                  "Viscera Weight": 0.098,
                  "Shell Weight": 0.13,
                  "Rings": 9
                }
              ]
            }
          },
          "metadata": {
            "bento_obj_id": "140134780476336"
          },
          "execution_count": 255
        }
      ]
    },
    {
      "cell_type": "markdown",
      "metadata": {
        "originalKey": "d9716ec8-e9e4-4a65-b5d2-97af1b6b333e",
        "showInput": false,
        "customInput": null
      },
      "source": [
        ""
      ]
    },
    {
      "cell_type": "code",
      "metadata": {
        "originalKey": "3eaa8204-7721-4d2a-ada5-7ee674f1c86a",
        "showInput": true,
        "customInput": null,
        "collapsed": false,
        "requestMsgId": "3eaa8204-7721-4d2a-ada5-7ee674f1c86a",
        "executionStartTime": 1677707014461,
        "executionStopTime": 1677707014481,
        "customOutput": null
      },
      "source": [
        "# Basic statistical housekeeping (from Andy Fields)\n",
        "# See also: https://people.duke.edu/~rnau/testing.htm\n",
        "# Put this in text form for easier reading\n",
        "\n",
        "# Consider if there is a more appropriate model beside the linear model?\n",
        "\n",
        "# Assumptions:\n",
        "## Note that most of the tests for these assumptions (like K-S), are themselves NHST and are therefore subject to those issues. The best option is to look at all available evidence, including thes tests, plots, etc, and make an informed. decision)\n",
        "\n",
        "# Additivity and linearity:  Linearity refers to the property of a mathematical relationship where the response variable (also known as the dependent variable or output) is directly proportional to the predictor variables (also known as the independent variables or inputs). In other words, a linear relationship is one where the output can be represented as a straight line when plotted against the input\n",
        "## Additivity refers to the property of a mathematical relationship where the effect of one predictor variable on the response variable is independent of the values of the other predictor variables. In other words, the effect of each predictor variable on the response variable can be considered separately, without taking into account the values of the other predictor variables.\n",
        "## How to test for it: Residual plots: Plot the residuals (the differences between the predicted values and the actual values) against the predicted values. If the residuals are randomly distributed around zero and do not form any patterns, it is an indication that the assumptions of additivity and linearity are met. nonlinearity is usually most evident in a plot of observed versus predicted values or a plot of residuals versus predicted values, which are a part of standard regression output. The points should be symmetrically distributed around a diagonal line in the former plot or around horizontal line in the latter plot, with a roughly constant variance.  (The residual-versus-predicted-plot is better than the observed-versus-predicted plot for this purpose, because it eliminates the visual distraction of a sloping pattern.)  Look carefully for evidence of a \"bowed\" pattern, indicating that the model makes systematic errors whenever it is making unusually large or small predictions. In multiple regression models, nonlinearity or nonadditivity may also be revealed by systematic patterns in plots of the residuals versus individual independent variables.\n",
        "### Scatter plots: Creating scatter plots of the independent variables against the dependent variable can also help to detect any patterns that suggest non-linearity or non-additivity.\n",
        "## What happens if it's violated: The Linear Regression model might not accurately describe the variable. I need to learn more to understand how bad the problem may be.\n",
        "## Is it typically violated in real life? Need to do more looking.\n",
        "## How to remedy: consider applying a nonlinear transformation to the dependent and/or independent variables if you can think of a transformation that seems appropriate. (Don’t just make something up!) For example, if the data are strictly positive, the log transformation is an option.  (The logarithm base does not matter--all log functions are same up to linear scaling--although the natural log is usually preferred because small changes in the natural log are equivalent to percentage changes.  See these notes for more details.)  If a log transformation is applied to the dependent variable only, this is equivalent to assuming that it grows (or decays) exponentially as a function of the independent variables.  If a log transformation is applied to both the dependent variable and the independent variables, this is equivalent to assuming that the effects of the independent variables are multiplicative rather than additive in their original units. This means that, on the margin, a small percentage change in one of the independent variables induces a proportional percentage change in the expected value of the dependent variable, other things being equal.  Models of this kind are commonly used in modeling price-demand relationships, as illustrated on the beer sales example on this web site.\n",
        "### Another possibility to consider is adding another regressor that is a nonlinear function of one of the other variables. For example, if you have regressed Y on X, and the graph of residuals versus predicted values suggests a parabolic curve, then it may make sense to regress Y on both X and X^2 (i.e., X-squared). The latter transformation is possible even when X and/or Y have negative values, whereas logging is not.  Higher-order terms of this kind (cubic, etc.) might also be considered in some cases.  But don’t get carried away!  This sort of \"polynomial curve fitting\" can be a nice way to draw a smooth curve through a wavy pattern of points (in fact, it is a trend-line option on scatterplots on Excel), but it is usually a terrible way to extrapolate outside the range of the sample data.\n",
        "### Finally, it may be that you have overlooked some entirely different independent variable that explains or corrects for the nonlinear pattern or interactions among variables that you are seeing in your residual plots. In that case the shape of the pattern, together with economic or physical reasoning, may suggest some likely suspects.  For example, if the strength of the linear relationship between Y and X1 depends on the level of some other variable X2, this could perhaps be addressed by creating a new independent variable that is the product of X1 and X2.  In the case of time series data, if the trend in Y is believed to have changed at a particular point in time, then the addition of a piecewise linear trend variable (one whose string of values looks like 0, 0, …, 0, 1, 2, 3, … ) could be used to fit the kink in the data.  Such a variable can be considered as the product of a trend variable and a dummy variable.  Again, though, you need to beware of overfitting the sample data by throwing in artificially constructed variables that are poorly motivated.  At the end of the day you need to be able to interpret the model and explain (or sell) it to others\n",
        "\n",
        "## Normality of the sampling distribution of residuals: The data does not need to be normal. The sampling distribution must be normal, which is typically gotten via the central limit theorem (i.e. if we have enough samples, and they are random, and they are large enough, all sampling distributions will be normal centered around the population mean.)\n",
        "## How to test for it: visualize the sampling distribution. P-P plot (or Q-Q plot). The NHST tests are considered to have too many false positives, i.e. normality of errors is often a little violated.  Anderson-Darling test (generallt considered the best), beating Kolmogrov-Smirnov (large sample sizes) or Shapiro Wilk (small sample sizes) tests.\n",
        "## What happens if it's violated: Cannot use any parametric tests, including most significance tests or confidence intervals (are there non-parametric versions of these?)\n",
        "##Is it typically violated in real life? Yes, a little. We use the CLT to ensure it is not too much.\n",
        "## How to remedy: TLDR: examine, consider non-linear models, consider nonlinear transformations: How to fix: violations of normality often arise either because (a) the distributions of the dependent and/or independent variables are themselves significantly non-normal, and/or (b) the linearity assumption is violated. In such cases, a nonlinear transformation of variables might cure both problems. In the case of the two normal quantile plots above, the second model was obtained applying a natural log transformation to the variables in the first one.\n",
        "### The dependent and independent variables in a regression model do not need to be normally distributed by themselves--only the prediction errors need to be normally distributed.  (In fact, independent variables do not even need to be random, as in the case of trend or dummy or treatment or pricing variables.)  But if the distributions of some of the variables that are random are extremely asymmetric or long-tailed, it may be hard to fit them into a linear model whose errors will be normally distributed, and explaining the shape of their distributions may be an interesting topic all by itself.  Keep in mind that the normal error assumption is usually justified by appeal to the central limit theorem, which holds in the case where many random variations are added together.  If the underlying sources of randomness are not interacting additively, this argument fails to hold.\n",
        "### Another possibility is that there are two or more subsets of the data having different statistical properties, in which case separate models should be built, or else some data should merely be excluded, provided that there is some a priori criterion that can be applied to make this determination.\n",
        "###In some cases, the problem with the error distribution is mainly due to one or two very large errors. Such values should be scrutinized closely: are they genuine (i.e., not the result of data entry errors), are they explainable, are similar events likely to occur again in the future, and how influential are they in your model-fitting results? If they are merely errors or if they can be explained as unique events not likely to be repeated, then you may have cause to remove them. In some cases, however, it may be that the extreme values in the data provide the most useful information about values of some of the coefficients and/or provide the most realistic guide to the magnitudes of forecast errors.\n",
        "### Important -  this assumption the the normality of the sampling distribution of errors. Andy Fields 4th edition does not make this distinction clearly enough.\n",
        "\n",
        "## Homogenity of variance: The variance should be the same at different levels of the target variable.\n",
        "## How to test for it: Examine a plot of standardized residuals vs predicted values (this is the same as graph to take a look at linearity). Levene's test (controversial, and only required if you have unequal greoup sizes).\n",
        "## What happens if it's violated: Sig tests and CI's will be artificially wide or narrow, esp for predictions outside the data range of the data studied. The sections of data with the larger variances will be overrepresented.\n",
        "## Is it typically violated in real life? I'm not sure. I think, like the others, it often is a little bit. \n",
        "## How to remedy: Check Fields text for more. If the dependent variable is strictly positive and if the residual-versus-predicted plot shows that the size of the errors is proportional to the size of the predictions (i.e., if the errors seem consistent in percentage rather than absolute terms), a log transformation applied to the dependent variable may be appropriate.\n",
        "\n",
        "## Independence: No correlation between the errors\n",
        "### How to test for it: [Some kind of] residuals plot. Durbin-Watson. Ideally, most of the residual autocorrelations should fall within the 95% confidence bands around zero, which are located at roughly plus-or-minus 2-over-the-square-root-of-n, where n is the sample size. Thus, if the sample size is 50, the autocorrelations should be between +/- 0.3. If the sample size is 100, they should be between +/- 0.2.\n",
        "### What happens if it's violated: [Check Fields text]\n",
        "### Is it typically violated in real life? All the time. Lots of partial autocorrelation\n",
        "#### How to remedy: Minor violations can indicate the need for a minor fine tuning of the model. [Check Fields text]. Major violations usually mean you need to use a different kind of model [Are there models that work as aleternatives? ]"
      ],
      "execution_count": 256,
      "outputs": []
    },
    {
      "cell_type": "code",
      "metadata": {
        "originalKey": "bd77300e-68e8-4ebd-ac74-99203ad115aa",
        "showInput": true,
        "customInput": null,
        "customOutput": null,
        "collapsed": false,
        "requestMsgId": "bd77300e-68e8-4ebd-ac74-99203ad115aa",
        "executionStartTime": 1677707014599,
        "executionStopTime": 1677707014648
      },
      "source": [
        "abalone_data.std()"
      ],
      "execution_count": 257,
      "outputs": [
        {
          "output_type": "execute_result",
          "data": {
            "text/plain": "Length           0.12009\nDiameter         0.09924\nHeight           0.04183\nWhole Weight     0.49039\nShucked Weight   0.22196\nViscera Weight   0.10961\nShell Weight     0.13920\nRings            3.22417\ndtype: float64",
            "application/vnd.dataresource+json": {
              "schema": {
                "fields": [
                  {
                    "name": "index",
                    "type": "string"
                  },
                  {
                    "name": "values",
                    "type": "number"
                  }
                ],
                "primaryKey": [
                  "index"
                ],
                "pandas_version": "0.20.0"
              },
              "data": [
                {
                  "index": "Length",
                  "values": 0.1200929126
                },
                {
                  "index": "Diameter",
                  "values": 0.0992398661
                },
                {
                  "index": "Height",
                  "values": 0.0418270566
                },
                {
                  "index": "Whole Weight",
                  "values": 0.4903890182
                },
                {
                  "index": "Shucked Weight",
                  "values": 0.221962949
                },
                {
                  "index": "Viscera Weight",
                  "values": 0.1096142503
                },
                {
                  "index": "Shell Weight",
                  "values": 0.1392026695
                },
                {
                  "index": "Rings",
                  "values": 3.2241690321
                }
              ]
            }
          },
          "metadata": {
            "bento_obj_id": "140134814140448"
          },
          "execution_count": 257
        }
      ]
    },
    {
      "cell_type": "code",
      "metadata": {
        "originalKey": "f19de2f2-bc60-4066-b9d1-a73a3abfe2ec",
        "showInput": true,
        "customInput": null,
        "collapsed": false,
        "requestMsgId": "f19de2f2-bc60-4066-b9d1-a73a3abfe2ec",
        "executionStartTime": 1677707014805,
        "executionStopTime": 1677707014826,
        "customOutput": null
      },
      "source": [
        "# Remove outliers\n",
        "\n",
        "#Also explore influential cases, using Cook's distance and PCA"
      ],
      "execution_count": 258,
      "outputs": []
    },
    {
      "cell_type": "code",
      "metadata": {
        "originalKey": "b1b94ca6-c4cd-4b22-abc1-a3a087cc6b97",
        "showInput": true,
        "customInput": null,
        "collapsed": false,
        "requestMsgId": "b1b94ca6-c4cd-4b22-abc1-a3a087cc6b97",
        "executionStartTime": 1677707014950,
        "executionStopTime": 1677707014962,
        "customOutput": null
      },
      "source": [
        "Length_outlier = abalone_data[\"Length\"].mean() + (abalone_data[\"Length\"].std() * 2.5)\n",
        "Diameter_outlier = abalone_data[\"Diameter\"].mean() + (\n",
        "    abalone_data[\"Diameter\"].std() * 2.5\n",
        ")\n",
        "Height_outlier = abalone_data[\"Height\"].mean() + (abalone_data[\"Height\"].std() * 2.5)\n",
        "Whole_Weight_outlier = abalone_data[\"Whole Weight\"].mean() + (\n",
        "    abalone_data[\"Whole Weight\"].std() * 2.5\n",
        ")\n",
        "Shucked_Weight_outlier = abalone_data[\"Shucked Weight\"].mean() + (\n",
        "    abalone_data[\"Shucked Weight\"].std() * 2.5\n",
        ")\n",
        "Viscera_Weight_outlier = abalone_data[\"Viscera Weight\"].mean() + (\n",
        "    abalone_data[\"Viscera Weight\"].std() * 2.5\n",
        ")\n",
        "Shell_Weight_outlier = abalone_data[\"Shell Weight\"].mean() + (\n",
        "    abalone_data[\"Shell Weight\"].std() * 2.5\n",
        ")\n",
        "\n",
        "Rings_outlier = abalone_data[\"Rings\"].mean() + (abalone_data[\"Rings\"].std() * 2.5)"
      ],
      "execution_count": 259,
      "outputs": []
    },
    {
      "cell_type": "code",
      "metadata": {
        "originalKey": "4e5583cc-005d-44ef-97fe-44e80e224e76",
        "showInput": true,
        "customInput": null,
        "collapsed": false,
        "requestMsgId": "4e5583cc-005d-44ef-97fe-44e80e224e76",
        "executionStartTime": 1677707015114,
        "executionStopTime": 1677707015140,
        "customOutput": null
      },
      "source": [
        "print(Length_outlier) #sanity check"
      ],
      "execution_count": 260,
      "outputs": [
        {
          "output_type": "stream",
          "name": "stdout",
          "text": [
            "0.8242243810050083\n"
          ]
        }
      ]
    },
    {
      "cell_type": "code",
      "metadata": {
        "originalKey": "634b1314-e62f-4c0b-8a28-746faa2f05eb",
        "showInput": true,
        "customInput": null,
        "collapsed": false,
        "requestMsgId": "634b1314-e62f-4c0b-8a28-746faa2f05eb",
        "executionStartTime": 1677707015267,
        "executionStopTime": 1677707015282,
        "customOutput": null
      },
      "source": [
        "abalone_data.info()\n",
        "\n",
        "# There are 4177 before outlier removal. "
      ],
      "execution_count": 261,
      "outputs": [
        {
          "output_type": "stream",
          "name": "stdout",
          "text": [
            "<class 'pandas.core.frame.DataFrame'>\nRangeIndex: 4177 entries, 0 to 4176\nData columns (total 9 columns):\n #   Column          Non-Null Count  Dtype  \n---  ------          --------------  -----  \n 0   Sex             4177 non-null   object \n 1   Length          4177 non-null   float64\n 2   Diameter        4177 non-null   float64\n 3   Height          4177 non-null   float64\n 4   Whole Weight    4177 non-null   float64\n 5   Shucked Weight  4177 non-null   float64\n 6   Viscera Weight  4177 non-null   float64\n 7   Shell Weight    4177 non-null   float64\n 8   Rings           4177 non-null   int64  \ndtypes: float64(7), int64(1), object(1)\nmemory usage: 293.8+ KB\n"
          ]
        }
      ]
    },
    {
      "cell_type": "code",
      "metadata": {
        "originalKey": "345ba750-6b88-43ed-93e3-f156b0aecd79",
        "showInput": true,
        "customInput": null,
        "customOutput": null,
        "collapsed": false,
        "requestMsgId": "345ba750-6b88-43ed-93e3-f156b0aecd79",
        "executionStartTime": 1677707015406,
        "executionStopTime": 1677707015427
      },
      "source": [
        "abalone_data = abalone_data.loc[abalone_data[\"Length\"] < Length_outlier]"
      ],
      "execution_count": 262,
      "outputs": []
    },
    {
      "cell_type": "code",
      "metadata": {
        "originalKey": "6d099d28-7b72-4652-88c6-6386f75a6b7f",
        "showInput": true,
        "customInput": null,
        "collapsed": false,
        "requestMsgId": "6d099d28-7b72-4652-88c6-6386f75a6b7f",
        "executionStartTime": 1677707015545,
        "executionStopTime": 1677707015560,
        "customOutput": null
      },
      "source": [
        "abalone_data.info()"
      ],
      "execution_count": 263,
      "outputs": [
        {
          "output_type": "stream",
          "name": "stdout",
          "text": [
            "<class 'pandas.core.frame.DataFrame'>\nInt64Index: 4177 entries, 0 to 4176\nData columns (total 9 columns):\n #   Column          Non-Null Count  Dtype  \n---  ------          --------------  -----  \n 0   Sex             4177 non-null   object \n 1   Length          4177 non-null   float64\n 2   Diameter        4177 non-null   float64\n 3   Height          4177 non-null   float64\n 4   Whole Weight    4177 non-null   float64\n 5   Shucked Weight  4177 non-null   float64\n 6   Viscera Weight  4177 non-null   float64\n 7   Shell Weight    4177 non-null   float64\n 8   Rings           4177 non-null   int64  \ndtypes: float64(7), int64(1), object(1)\nmemory usage: 326.3+ KB\n"
          ]
        }
      ]
    },
    {
      "cell_type": "code",
      "metadata": {
        "originalKey": "e9096fe6-f070-441d-82d0-244a0c1262cd",
        "showInput": true,
        "customInput": null,
        "customOutput": null,
        "collapsed": false,
        "requestMsgId": "e9096fe6-f070-441d-82d0-244a0c1262cd",
        "executionStartTime": 1677707015676,
        "executionStopTime": 1677707015692
      },
      "source": [
        "abalone_data = abalone_data.loc[abalone_data[\"Diameter\"] < Diameter_outlier] # There is probably a most efficient way of doing this\n",
        "abalone_data.info()\n",
        ""
      ],
      "execution_count": 264,
      "outputs": [
        {
          "output_type": "stream",
          "name": "stdout",
          "text": [
            "<class 'pandas.core.frame.DataFrame'>\nInt64Index: 4177 entries, 0 to 4176\nData columns (total 9 columns):\n #   Column          Non-Null Count  Dtype  \n---  ------          --------------  -----  \n 0   Sex             4177 non-null   object \n 1   Length          4177 non-null   float64\n 2   Diameter        4177 non-null   float64\n 3   Height          4177 non-null   float64\n 4   Whole Weight    4177 non-null   float64\n 5   Shucked Weight  4177 non-null   float64\n 6   Viscera Weight  4177 non-null   float64\n 7   Shell Weight    4177 non-null   float64\n 8   Rings           4177 non-null   int64  \ndtypes: float64(7), int64(1), object(1)\nmemory usage: 326.3+ KB\n"
          ]
        }
      ]
    },
    {
      "cell_type": "code",
      "metadata": {
        "originalKey": "9393a8a8-05b0-496e-92ec-9bed6d717f95",
        "showInput": true,
        "customInput": null,
        "collapsed": false,
        "requestMsgId": "9393a8a8-05b0-496e-92ec-9bed6d717f95",
        "executionStartTime": 1677707015814,
        "executionStopTime": 1677707015830,
        "customOutput": null
      },
      "source": [
        "abalone_data = abalone_data.loc[abalone_data[\"Height\"] < Height_outlier] \n",
        "abalone_data.info()"
      ],
      "execution_count": 265,
      "outputs": [
        {
          "output_type": "stream",
          "name": "stdout",
          "text": [
            "<class 'pandas.core.frame.DataFrame'>\nInt64Index: 4172 entries, 0 to 4176\nData columns (total 9 columns):\n #   Column          Non-Null Count  Dtype  \n---  ------          --------------  -----  \n 0   Sex             4172 non-null   object \n 1   Length          4172 non-null   float64\n 2   Diameter        4172 non-null   float64\n 3   Height          4172 non-null   float64\n 4   Whole Weight    4172 non-null   float64\n 5   Shucked Weight  4172 non-null   float64\n 6   Viscera Weight  4172 non-null   float64\n 7   Shell Weight    4172 non-null   float64\n 8   Rings           4172 non-null   int64  \ndtypes: float64(7), int64(1), object(1)\nmemory usage: 325.9+ KB\n"
          ]
        }
      ]
    },
    {
      "cell_type": "code",
      "metadata": {
        "originalKey": "5ef7ca1b-8009-4fd7-8fd6-0e64d0b83ff1",
        "showInput": true,
        "customInput": null,
        "collapsed": false,
        "requestMsgId": "5ef7ca1b-8009-4fd7-8fd6-0e64d0b83ff1",
        "executionStartTime": 1677707015945,
        "executionStopTime": 1677707015960,
        "customOutput": null
      },
      "source": [
        "abalone_data = abalone_data.loc[abalone_data[\"Whole Weight\"] < Whole_Weight_outlier] \n",
        "abalone_data.info()"
      ],
      "execution_count": 266,
      "outputs": [
        {
          "output_type": "stream",
          "name": "stdout",
          "text": [
            "<class 'pandas.core.frame.DataFrame'>\nInt64Index: 4112 entries, 0 to 4176\nData columns (total 9 columns):\n #   Column          Non-Null Count  Dtype  \n---  ------          --------------  -----  \n 0   Sex             4112 non-null   object \n 1   Length          4112 non-null   float64\n 2   Diameter        4112 non-null   float64\n 3   Height          4112 non-null   float64\n 4   Whole Weight    4112 non-null   float64\n 5   Shucked Weight  4112 non-null   float64\n 6   Viscera Weight  4112 non-null   float64\n 7   Shell Weight    4112 non-null   float64\n 8   Rings           4112 non-null   int64  \ndtypes: float64(7), int64(1), object(1)\nmemory usage: 321.2+ KB\n"
          ]
        }
      ]
    },
    {
      "cell_type": "code",
      "metadata": {
        "originalKey": "c0f4237e-28ca-4306-8857-6bfbcd66cee2",
        "showInput": true,
        "customInput": null,
        "collapsed": false,
        "requestMsgId": "c0f4237e-28ca-4306-8857-6bfbcd66cee2",
        "executionStartTime": 1677707016078,
        "executionStopTime": 1677707016093,
        "customOutput": null
      },
      "source": [
        "abalone_data = abalone_data.loc[abalone_data[\"Shucked Weight\"] < Shucked_Weight_outlier] \n",
        "abalone_data.info()"
      ],
      "execution_count": 267,
      "outputs": [
        {
          "output_type": "stream",
          "name": "stdout",
          "text": [
            "<class 'pandas.core.frame.DataFrame'>\nInt64Index: 4091 entries, 0 to 4175\nData columns (total 9 columns):\n #   Column          Non-Null Count  Dtype  \n---  ------          --------------  -----  \n 0   Sex             4091 non-null   object \n 1   Length          4091 non-null   float64\n 2   Diameter        4091 non-null   float64\n 3   Height          4091 non-null   float64\n 4   Whole Weight    4091 non-null   float64\n 5   Shucked Weight  4091 non-null   float64\n 6   Viscera Weight  4091 non-null   float64\n 7   Shell Weight    4091 non-null   float64\n 8   Rings           4091 non-null   int64  \ndtypes: float64(7), int64(1), object(1)\nmemory usage: 319.6+ KB\n"
          ]
        }
      ]
    },
    {
      "cell_type": "code",
      "metadata": {
        "originalKey": "4aad2910-3aaa-467a-938c-01690844481f",
        "showInput": true,
        "customInput": null,
        "collapsed": false,
        "requestMsgId": "4aad2910-3aaa-467a-938c-01690844481f",
        "executionStartTime": 1677707016206,
        "executionStopTime": 1677707016221,
        "customOutput": null
      },
      "source": [
        "abalone_data = abalone_data.loc[abalone_data[\"Viscera Weight\"] < Viscera_Weight_outlier] \n",
        "abalone_data.info()"
      ],
      "execution_count": 268,
      "outputs": [
        {
          "output_type": "stream",
          "name": "stdout",
          "text": [
            "<class 'pandas.core.frame.DataFrame'>\nInt64Index: 4071 entries, 0 to 4175\nData columns (total 9 columns):\n #   Column          Non-Null Count  Dtype  \n---  ------          --------------  -----  \n 0   Sex             4071 non-null   object \n 1   Length          4071 non-null   float64\n 2   Diameter        4071 non-null   float64\n 3   Height          4071 non-null   float64\n 4   Whole Weight    4071 non-null   float64\n 5   Shucked Weight  4071 non-null   float64\n 6   Viscera Weight  4071 non-null   float64\n 7   Shell Weight    4071 non-null   float64\n 8   Rings           4071 non-null   int64  \ndtypes: float64(7), int64(1), object(1)\nmemory usage: 318.0+ KB\n"
          ]
        }
      ]
    },
    {
      "cell_type": "code",
      "metadata": {
        "originalKey": "4ba957bf-2ab9-4068-95dd-1e33444acd93",
        "showInput": true,
        "customInput": null,
        "collapsed": false,
        "requestMsgId": "4ba957bf-2ab9-4068-95dd-1e33444acd93",
        "executionStartTime": 1677707016337,
        "executionStopTime": 1677707016365,
        "customOutput": null
      },
      "source": [
        "abalone_data = abalone_data.loc[abalone_data[\"Shell Weight\"] < Shell_Weight_outlier] \n",
        "abalone_data.info()"
      ],
      "execution_count": 269,
      "outputs": [
        {
          "output_type": "stream",
          "name": "stdout",
          "text": [
            "<class 'pandas.core.frame.DataFrame'>\nInt64Index: 4043 entries, 0 to 4175\nData columns (total 9 columns):\n #   Column          Non-Null Count  Dtype  \n---  ------          --------------  -----  \n 0   Sex             4043 non-null   object \n 1   Length          4043 non-null   float64\n 2   Diameter        4043 non-null   float64\n 3   Height          4043 non-null   float64\n 4   Whole Weight    4043 non-null   float64\n 5   Shucked Weight  4043 non-null   float64\n 6   Viscera Weight  4043 non-null   float64\n 7   Shell Weight    4043 non-null   float64\n 8   Rings           4043 non-null   int64  \ndtypes: float64(7), int64(1), object(1)\nmemory usage: 315.9+ KB\n"
          ]
        }
      ]
    },
    {
      "cell_type": "code",
      "metadata": {
        "originalKey": "a5540acd-6ba9-4cb0-a148-a95c874c3449",
        "showInput": true,
        "customInput": null,
        "collapsed": false,
        "requestMsgId": "a5540acd-6ba9-4cb0-a148-a95c874c3449",
        "executionStartTime": 1677707016490,
        "executionStopTime": 1677707016504,
        "customOutput": null
      },
      "source": [
        "abalone_data = abalone_data.loc[abalone_data[\"Rings\"] < Rings_outlier] \n",
        "abalone_data.info()"
      ],
      "execution_count": 270,
      "outputs": [
        {
          "output_type": "stream",
          "name": "stdout",
          "text": [
            "<class 'pandas.core.frame.DataFrame'>\nInt64Index: 3921 entries, 0 to 4175\nData columns (total 9 columns):\n #   Column          Non-Null Count  Dtype  \n---  ------          --------------  -----  \n 0   Sex             3921 non-null   object \n 1   Length          3921 non-null   float64\n 2   Diameter        3921 non-null   float64\n 3   Height          3921 non-null   float64\n 4   Whole Weight    3921 non-null   float64\n 5   Shucked Weight  3921 non-null   float64\n 6   Viscera Weight  3921 non-null   float64\n 7   Shell Weight    3921 non-null   float64\n 8   Rings           3921 non-null   int64  \ndtypes: float64(7), int64(1), object(1)\nmemory usage: 306.3+ KB\n"
          ]
        }
      ]
    },
    {
      "cell_type": "code",
      "metadata": {
        "originalKey": "4353c667-83fd-4680-a543-c87ce934a2f0",
        "showInput": true,
        "customInput": null,
        "collapsed": false,
        "requestMsgId": "4353c667-83fd-4680-a543-c87ce934a2f0",
        "executionStartTime": 1677707016688,
        "executionStopTime": 1677707016708,
        "customOutput": null
      },
      "source": [
        "(4177-3921)/4177"
      ],
      "execution_count": 271,
      "outputs": [
        {
          "output_type": "execute_result",
          "data": {
            "text/plain": "0.06128800574575054"
          },
          "metadata": {
            "bento_obj_id": "140134768984240"
          },
          "execution_count": 271
        }
      ]
    },
    {
      "cell_type": "code",
      "metadata": {
        "originalKey": "cf515310-07e5-422d-9df5-1c2bbc89df3e",
        "showInput": true,
        "customInput": null,
        "collapsed": false,
        "requestMsgId": "cf515310-07e5-422d-9df5-1c2bbc89df3e",
        "executionStartTime": 1677707016826,
        "executionStopTime": 1677707016851,
        "customOutput": null
      },
      "source": [
        "# 6% of the data being outliers is not good, but manageable. Should be investigated more."
      ],
      "execution_count": 272,
      "outputs": []
    },
    {
      "cell_type": "code",
      "metadata": {
        "originalKey": "aeb524e6-5bf3-47a2-9652-df979d366a18",
        "showInput": true,
        "customInput": null,
        "collapsed": false,
        "requestMsgId": "aeb524e6-5bf3-47a2-9652-df979d366a18",
        "executionStartTime": 1677707016970,
        "executionStopTime": 1677707017012,
        "customOutput": null
      },
      "source": [
        "abalone_data.corr()"
      ],
      "execution_count": 273,
      "outputs": [
        {
          "output_type": "execute_result",
          "data": {
            "text/plain": "                Length  Diameter  Height  ...  Viscera Weight  Shell Weight   Rings\nLength         1.00000   0.98645 0.89689  ...         0.90741       0.91502 0.59624\nDiameter       0.98645   1.00000 0.90289  ...         0.90458       0.92296 0.61312\nHeight         0.89689   0.90289 1.00000  ...         0.86791       0.89547 0.63246\nWhole Weight   0.93381   0.93438 0.88887  ...         0.96703       0.96126 0.56613\nShucked Weight 0.90931   0.90529 0.84185  ...         0.93110       0.90004 0.46530\nViscera Weight 0.90741   0.90458 0.86791  ...         1.00000       0.92124 0.54539\nShell Weight   0.91502   0.92296 0.89547  ...         0.92124       1.00000 0.63686\nRings          0.59624   0.61312 0.63246  ...         0.54539       0.63686 1.00000\n\n[8 rows x 8 columns]",
            "text/html": "<div>\n<style scoped>\n    .dataframe tbody tr th:only-of-type {\n        vertical-align: middle;\n    }\n\n    .dataframe tbody tr th {\n        vertical-align: top;\n    }\n\n    .dataframe thead th {\n        text-align: right;\n    }\n</style>\n<table border=\"1\" class=\"dataframe\">\n  <thead>\n    <tr style=\"text-align: right;\">\n      <th></th>\n      <th>Length</th>\n      <th>Diameter</th>\n      <th>Height</th>\n      <th>Whole Weight</th>\n      <th>Shucked Weight</th>\n      <th>Viscera Weight</th>\n      <th>Shell Weight</th>\n      <th>Rings</th>\n    </tr>\n  </thead>\n  <tbody>\n    <tr>\n      <th>Length</th>\n      <td>1.00000</td>\n      <td>0.98645</td>\n      <td>0.89689</td>\n      <td>0.93381</td>\n      <td>0.90931</td>\n      <td>0.90741</td>\n      <td>0.91502</td>\n      <td>0.59624</td>\n    </tr>\n    <tr>\n      <th>Diameter</th>\n      <td>0.98645</td>\n      <td>1.00000</td>\n      <td>0.90289</td>\n      <td>0.93438</td>\n      <td>0.90529</td>\n      <td>0.90458</td>\n      <td>0.92296</td>\n      <td>0.61312</td>\n    </tr>\n    <tr>\n      <th>Height</th>\n      <td>0.89689</td>\n      <td>0.90289</td>\n      <td>1.00000</td>\n      <td>0.88887</td>\n      <td>0.84185</td>\n      <td>0.86791</td>\n      <td>0.89547</td>\n      <td>0.63246</td>\n    </tr>\n    <tr>\n      <th>Whole Weight</th>\n      <td>0.93381</td>\n      <td>0.93438</td>\n      <td>0.88887</td>\n      <td>1.00000</td>\n      <td>0.97261</td>\n      <td>0.96703</td>\n      <td>0.96126</td>\n      <td>0.56613</td>\n    </tr>\n    <tr>\n      <th>Shucked Weight</th>\n      <td>0.90931</td>\n      <td>0.90529</td>\n      <td>0.84185</td>\n      <td>0.97261</td>\n      <td>1.00000</td>\n      <td>0.93110</td>\n      <td>0.90004</td>\n      <td>0.46530</td>\n    </tr>\n    <tr>\n      <th>Viscera Weight</th>\n      <td>0.90741</td>\n      <td>0.90458</td>\n      <td>0.86791</td>\n      <td>0.96703</td>\n      <td>0.93110</td>\n      <td>1.00000</td>\n      <td>0.92124</td>\n      <td>0.54539</td>\n    </tr>\n    <tr>\n      <th>Shell Weight</th>\n      <td>0.91502</td>\n      <td>0.92296</td>\n      <td>0.89547</td>\n      <td>0.96126</td>\n      <td>0.90004</td>\n      <td>0.92124</td>\n      <td>1.00000</td>\n      <td>0.63686</td>\n    </tr>\n    <tr>\n      <th>Rings</th>\n      <td>0.59624</td>\n      <td>0.61312</td>\n      <td>0.63246</td>\n      <td>0.56613</td>\n      <td>0.46530</td>\n      <td>0.54539</td>\n      <td>0.63686</td>\n      <td>1.00000</td>\n    </tr>\n  </tbody>\n</table>\n</div>",
            "application/vnd.dataresource+json": {
              "schema": {
                "fields": [
                  {
                    "name": "index",
                    "type": "string"
                  },
                  {
                    "name": "Length",
                    "type": "number"
                  },
                  {
                    "name": "Diameter",
                    "type": "number"
                  },
                  {
                    "name": "Height",
                    "type": "number"
                  },
                  {
                    "name": "Whole Weight",
                    "type": "number"
                  },
                  {
                    "name": "Shucked Weight",
                    "type": "number"
                  },
                  {
                    "name": "Viscera Weight",
                    "type": "number"
                  },
                  {
                    "name": "Shell Weight",
                    "type": "number"
                  },
                  {
                    "name": "Rings",
                    "type": "number"
                  }
                ],
                "primaryKey": [
                  "index"
                ],
                "pandas_version": "0.20.0"
              },
              "data": [
                {
                  "index": "Length",
                  "Length": 1,
                  "Diameter": 0.9864503424,
                  "Height": 0.8968889022,
                  "Whole Weight": 0.9338129207,
                  "Shucked Weight": 0.9093138944,
                  "Viscera Weight": 0.9074114339,
                  "Shell Weight": 0.9150179496,
                  "Rings": 0.5962367107
                },
                {
                  "index": "Diameter",
                  "Length": 0.9864503424,
                  "Diameter": 1,
                  "Height": 0.9028874948,
                  "Whole Weight": 0.9343793586,
                  "Shucked Weight": 0.9052884855,
                  "Viscera Weight": 0.904575615,
                  "Shell Weight": 0.9229579808,
                  "Rings": 0.6131165897
                },
                {
                  "index": "Height",
                  "Length": 0.8968889022,
                  "Diameter": 0.9028874948,
                  "Height": 1,
                  "Whole Weight": 0.8888701178,
                  "Shucked Weight": 0.8418530183,
                  "Viscera Weight": 0.8679103732,
                  "Shell Weight": 0.8954650697,
                  "Rings": 0.6324642888
                },
                {
                  "index": "Whole Weight",
                  "Length": 0.9338129207,
                  "Diameter": 0.9343793586,
                  "Height": 0.8888701178,
                  "Whole Weight": 1,
                  "Shucked Weight": 0.972607852,
                  "Viscera Weight": 0.9670332478,
                  "Shell Weight": 0.9612589722,
                  "Rings": 0.56612684
                },
                {
                  "index": "Shucked Weight",
                  "Length": 0.9093138944,
                  "Diameter": 0.9052884855,
                  "Height": 0.8418530183,
                  "Whole Weight": 0.972607852,
                  "Shucked Weight": 1,
                  "Viscera Weight": 0.9311037266,
                  "Shell Weight": 0.9000393972,
                  "Rings": 0.4652966698
                },
                {
                  "index": "Viscera Weight",
                  "Length": 0.9074114339,
                  "Diameter": 0.904575615,
                  "Height": 0.8679103732,
                  "Whole Weight": 0.9670332478,
                  "Shucked Weight": 0.9311037266,
                  "Viscera Weight": 1,
                  "Shell Weight": 0.9212409588,
                  "Rings": 0.5453876594
                },
                {
                  "index": "Shell Weight",
                  "Length": 0.9150179496,
                  "Diameter": 0.9229579808,
                  "Height": 0.8954650697,
                  "Whole Weight": 0.9612589722,
                  "Shucked Weight": 0.9000393972,
                  "Viscera Weight": 0.9212409588,
                  "Shell Weight": 1,
                  "Rings": 0.6368604218
                },
                {
                  "index": "Rings",
                  "Length": 0.5962367107,
                  "Diameter": 0.6131165897,
                  "Height": 0.6324642888,
                  "Whole Weight": 0.56612684,
                  "Shucked Weight": 0.4652966698,
                  "Viscera Weight": 0.5453876594,
                  "Shell Weight": 0.6368604218,
                  "Rings": 1
                }
              ]
            }
          },
          "metadata": {
            "bento_obj_id": "140134781391104"
          },
          "execution_count": 273
        }
      ]
    },
    {
      "cell_type": "code",
      "metadata": {
        "originalKey": "cb8ffb90-6df3-40ec-be2c-86a7173efaba",
        "showInput": true,
        "customInput": null,
        "collapsed": false,
        "requestMsgId": "cb8ffb90-6df3-40ec-be2c-86a7173efaba",
        "executionStartTime": 1677707017150,
        "executionStopTime": 1677707017558,
        "customOutput": null
      },
      "source": [
        "# Scatterplot for Lenght and Whole Weight\n",
        "## scatter_matrix is also excellent, explore that more\n",
        "# You typically want to graph before cleaning and train test splitting, etc, but the more important graph would come at the end\n",
        "\n",
        "fig = plt.figure(figsize=(10, 7))  # set figure size\n",
        "plt.scatter(abalone_data[\"Length\"], abalone_data[\"Whole Weight\"])\n",
        "plt.title(\"Length x Whole Weight\")\n",
        "plt.xlabel(\"Length\")\n",
        "plt.ylabel(\"Whole Weight\")"
      ],
      "execution_count": 274,
      "outputs": [
        {
          "output_type": "execute_result",
          "data": {
            "text/plain": "Text(0, 0.5, 'Whole Weight')"
          },
          "metadata": {
            "bento_obj_id": "140134780325952"
          },
          "execution_count": 274
        },
        {
          "output_type": "display_data",
          "data": {
            "text/plain": "<Figure size 720x504 with 1 Axes>",
            "image/png": "[encoded data removed]"
          },
          "metadata": {
            "bento_obj_id": "140134781266288",
            "needs_background": "light"
          }
        }
      ]
    },
    {
      "cell_type": "code",
      "metadata": {
        "originalKey": "e16b70a4-7c66-4068-9b01-da066636978c",
        "showInput": true,
        "customInput": null,
        "collapsed": false,
        "requestMsgId": "e16b70a4-7c66-4068-9b01-da066636978c",
        "executionStartTime": 1677707017678,
        "executionStopTime": 1677707018031,
        "customOutput": null
      },
      "source": [
        "# Scatterplot for Length and Rings\n",
        "\n",
        "fig = plt.figure(figsize=(10, 7))  # set figure size\n",
        "plt.scatter(abalone_data[\"Length\"], abalone_data[\"Rings\"])\n",
        "plt.title(\"Length x Rings\")\n",
        "plt.xlabel(\"Length\")\n",
        "plt.ylabel(\"Rings\")"
      ],
      "execution_count": 275,
      "outputs": [
        {
          "output_type": "execute_result",
          "data": {
            "text/plain": "Text(0, 0.5, 'Rings')"
          },
          "metadata": {
            "bento_obj_id": "140134765239264"
          },
          "execution_count": 275
        },
        {
          "output_type": "display_data",
          "data": {
            "text/plain": "<Figure size 720x504 with 1 Axes>",
            "image/png": "[encoded data removed]"
          },
          "metadata": {
            "bento_obj_id": "140134771059344",
            "needs_background": "light"
          }
        }
      ]
    },
    {
      "cell_type": "code",
      "metadata": {
        "originalKey": "c4fccb76-9aa7-48a7-bb04-70773321016f",
        "showInput": true,
        "customInput": null,
        "customOutput": null,
        "collapsed": false,
        "requestMsgId": "c4fccb76-9aa7-48a7-bb04-70773321016f",
        "executionStartTime": 1677707018516,
        "executionStopTime": 1677707018829
      },
      "source": [
        "# Scatterplot for Height and Rings\n",
        "\n",
        "fig = plt.figure(figsize=(10, 7))  # set figure size\n",
        "plt.scatter(abalone_data[\"Rings\"], abalone_data[\"Height\"])\n",
        "plt.title(\"Height x Rings\")\n",
        "plt.xlabel(\"Rings\")\n",
        "plt.ylabel(\"Height(mm)\")"
      ],
      "execution_count": 276,
      "outputs": [
        {
          "output_type": "execute_result",
          "data": {
            "text/plain": "Text(0, 0.5, 'Height(mm)')"
          },
          "metadata": {
            "bento_obj_id": "140135072724640"
          },
          "execution_count": 276
        },
        {
          "output_type": "display_data",
          "data": {
            "text/plain": "<Figure size 720x504 with 1 Axes>",
            "image/png": "[encoded data removed]"
          },
          "metadata": {
            "bento_obj_id": "140134761720176",
            "needs_background": "light"
          }
        }
      ]
    },
    {
      "cell_type": "code",
      "metadata": {
        "originalKey": "7b33edae-9278-4da3-a52c-1cf6073bb320",
        "showInput": true,
        "customInput": null,
        "customOutput": null,
        "collapsed": false,
        "requestMsgId": "7b33edae-9278-4da3-a52c-1cf6073bb320",
        "executionStartTime": 1677707018949,
        "executionStopTime": 1677707019303
      },
      "source": [
        "# Scatterplot for Shell Weight and Rings\n",
        "\n",
        "fig = plt.figure(figsize=(10, 7))  # set figure size\n",
        "plt.scatter(abalone_data[\"Rings\"], abalone_data[\"Shell Weight\"])\n",
        "plt.title(\"Shell Weight x Rings\")\n",
        "plt.xlabel(\"Rings\")\n",
        "plt.ylabel(\"Shell Weight (grams)\")"
      ],
      "execution_count": 277,
      "outputs": [
        {
          "output_type": "execute_result",
          "data": {
            "text/plain": "Text(0, 0.5, 'Shell Weight (grams)')"
          },
          "metadata": {
            "bento_obj_id": "140135072645712"
          },
          "execution_count": 277
        },
        {
          "output_type": "display_data",
          "data": {
            "text/plain": "<Figure size 720x504 with 1 Axes>",
            "image/png": "[encoded data removed]"
          },
          "metadata": {
            "bento_obj_id": "140134765482912",
            "needs_background": "light"
          }
        }
      ]
    },
    {
      "cell_type": "code",
      "metadata": {
        "originalKey": "f58ddfb4-ad7b-4647-87dd-924958cbf5a2",
        "showInput": true,
        "customInput": null,
        "collapsed": false,
        "requestMsgId": "f58ddfb4-ad7b-4647-87dd-924958cbf5a2",
        "executionStartTime": 1677707019424,
        "executionStopTime": 1677707019688,
        "customOutput": null
      },
      "source": [
        "# Scatterplot for Sex and Rings\n",
        "\n",
        "fig = plt.figure(figsize=(10, 7))  # set figure size\n",
        "plt.scatter(abalone_data[\"Sex\"], abalone_data[\"Rings\"])\n",
        "plt.title(\"Sex x Rings\")\n",
        "plt.xlabel(\"Sex\")\n",
        "plt.ylabel(\"Rings\")"
      ],
      "execution_count": 278,
      "outputs": [
        {
          "output_type": "execute_result",
          "data": {
            "text/plain": "Text(0, 0.5, 'Rings')"
          },
          "metadata": {
            "bento_obj_id": "140135072712496"
          },
          "execution_count": 278
        },
        {
          "output_type": "display_data",
          "data": {
            "text/plain": "<Figure size 720x504 with 1 Axes>",
            "image/png": "[encoded data removed]"
          },
          "metadata": {
            "bento_obj_id": "140134761501168",
            "needs_background": "light"
          }
        }
      ]
    },
    {
      "cell_type": "code",
      "metadata": {
        "originalKey": "7a0c99e8-2916-40b5-a6f5-1f5e2a149420",
        "showInput": true,
        "customInput": null,
        "customOutput": null,
        "collapsed": false,
        "requestMsgId": "7a0c99e8-2916-40b5-a6f5-1f5e2a149420",
        "executionStopTime": 1677707019821,
        "executionStartTime": 1677707019810
      },
      "source": [
        ""
      ],
      "execution_count": 279,
      "outputs": []
    },
    {
      "cell_type": "code",
      "metadata": {
        "originalKey": "18ab7e71-e36f-4a85-ac9b-dd5db24a02bf",
        "showInput": true,
        "customInput": null,
        "collapsed": false,
        "requestMsgId": "18ab7e71-e36f-4a85-ac9b-dd5db24a02bf",
        "executionStartTime": 1677707019943,
        "executionStopTime": 1677707020293,
        "customOutput": null
      },
      "source": [
        "# Scatterplot for Diameter and Rings\n",
        "\n",
        "fig = plt.figure(figsize=(10, 7))  # set figure size\n",
        "plt.scatter(abalone_data[\"Diameter\"], abalone_data[\"Rings\"])\n",
        "plt.title(\"Diameter x Rings\")\n",
        "plt.xlabel(\"Diameter\")\n",
        "plt.ylabel(\"Rings\")"
      ],
      "execution_count": 280,
      "outputs": [
        {
          "output_type": "execute_result",
          "data": {
            "text/plain": "Text(0, 0.5, 'Rings')"
          },
          "metadata": {
            "bento_obj_id": "140134813703232"
          },
          "execution_count": 280
        },
        {
          "output_type": "display_data",
          "data": {
            "text/plain": "<Figure size 720x504 with 1 Axes>",
            "image/png": "[encoded data removed]"
          },
          "metadata": {
            "bento_obj_id": "140134780347968",
            "needs_background": "light"
          }
        }
      ]
    },
    {
      "cell_type": "code",
      "metadata": {
        "originalKey": "52b27499-6b15-4a8c-9f7c-00da7a3beeed",
        "showInput": true,
        "customInput": null,
        "collapsed": false,
        "requestMsgId": "52b27499-6b15-4a8c-9f7c-00da7a3beeed",
        "executionStartTime": 1677707020415,
        "executionStopTime": 1677707020809,
        "customOutput": null
      },
      "source": [
        "# Scatterplot for Whole Weight and Rings\n",
        "\n",
        "fig = plt.figure(figsize=(10, 7))  # set figure size\n",
        "plt.scatter(abalone_data[\"Whole Weight\"], abalone_data[\"Rings\"])\n",
        "plt.title(\"Whole Weight x Rings\")\n",
        "plt.xlabel(\"Whole Weight\")\n",
        "plt.ylabel(\"Rings\")"
      ],
      "execution_count": 281,
      "outputs": [
        {
          "output_type": "execute_result",
          "data": {
            "text/plain": "Text(0, 0.5, 'Rings')"
          },
          "metadata": {
            "bento_obj_id": "140134761557968"
          },
          "execution_count": 281
        },
        {
          "output_type": "display_data",
          "data": {
            "text/plain": "<Figure size 720x504 with 1 Axes>",
            "image/png": "[encoded data removed]"
          },
          "metadata": {
            "bento_obj_id": "140134761297808",
            "needs_background": "light"
          }
        }
      ]
    },
    {
      "cell_type": "code",
      "metadata": {
        "originalKey": "44fab9ac-2576-4301-89f9-3a2daeb03ec2",
        "showInput": true,
        "customInput": null,
        "collapsed": false,
        "requestMsgId": "44fab9ac-2576-4301-89f9-3a2daeb03ec2",
        "executionStartTime": 1677707020947,
        "executionStopTime": 1677707021150,
        "customOutput": null
      },
      "source": [
        "plt.matshow(abalone_data.corr())\n",
        "plt.show()"
      ],
      "execution_count": 282,
      "outputs": [
        {
          "output_type": "display_data",
          "data": {
            "text/plain": "<Figure size 288x288 with 1 Axes>",
            "image/png": "[encoded data removed]"
          },
          "metadata": {
            "bento_obj_id": "140134761170400",
            "needs_background": "light"
          }
        }
      ]
    },
    {
      "cell_type": "code",
      "metadata": {
        "originalKey": "394cf394-15c1-4234-b7dd-044b9cb05ab9",
        "showInput": true,
        "customInput": null,
        "collapsed": false,
        "requestMsgId": "394cf394-15c1-4234-b7dd-044b9cb05ab9",
        "executionStartTime": 1677707021312,
        "executionStopTime": 1677707021338,
        "customOutput": null
      },
      "source": [
        ""
      ],
      "execution_count": 283,
      "outputs": []
    },
    {
      "cell_type": "code",
      "metadata": {
        "originalKey": "19281094-1869-40dc-8949-2ada5b025163",
        "showInput": true,
        "customInput": null,
        "collapsed": false,
        "requestMsgId": "19281094-1869-40dc-8949-2ada5b025163",
        "executionStartTime": 1677707021533,
        "executionStopTime": 1677707021614,
        "customOutput": null
      },
      "source": [
        "abalone_data.corr()"
      ],
      "execution_count": 284,
      "outputs": [
        {
          "output_type": "execute_result",
          "data": {
            "text/plain": "                Length  Diameter  Height  ...  Viscera Weight  Shell Weight   Rings\nLength         1.00000   0.98645 0.89689  ...         0.90741       0.91502 0.59624\nDiameter       0.98645   1.00000 0.90289  ...         0.90458       0.92296 0.61312\nHeight         0.89689   0.90289 1.00000  ...         0.86791       0.89547 0.63246\nWhole Weight   0.93381   0.93438 0.88887  ...         0.96703       0.96126 0.56613\nShucked Weight 0.90931   0.90529 0.84185  ...         0.93110       0.90004 0.46530\nViscera Weight 0.90741   0.90458 0.86791  ...         1.00000       0.92124 0.54539\nShell Weight   0.91502   0.92296 0.89547  ...         0.92124       1.00000 0.63686\nRings          0.59624   0.61312 0.63246  ...         0.54539       0.63686 1.00000\n\n[8 rows x 8 columns]",
            "text/html": "<div>\n<style scoped>\n    .dataframe tbody tr th:only-of-type {\n        vertical-align: middle;\n    }\n\n    .dataframe tbody tr th {\n        vertical-align: top;\n    }\n\n    .dataframe thead th {\n        text-align: right;\n    }\n</style>\n<table border=\"1\" class=\"dataframe\">\n  <thead>\n    <tr style=\"text-align: right;\">\n      <th></th>\n      <th>Length</th>\n      <th>Diameter</th>\n      <th>Height</th>\n      <th>Whole Weight</th>\n      <th>Shucked Weight</th>\n      <th>Viscera Weight</th>\n      <th>Shell Weight</th>\n      <th>Rings</th>\n    </tr>\n  </thead>\n  <tbody>\n    <tr>\n      <th>Length</th>\n      <td>1.00000</td>\n      <td>0.98645</td>\n      <td>0.89689</td>\n      <td>0.93381</td>\n      <td>0.90931</td>\n      <td>0.90741</td>\n      <td>0.91502</td>\n      <td>0.59624</td>\n    </tr>\n    <tr>\n      <th>Diameter</th>\n      <td>0.98645</td>\n      <td>1.00000</td>\n      <td>0.90289</td>\n      <td>0.93438</td>\n      <td>0.90529</td>\n      <td>0.90458</td>\n      <td>0.92296</td>\n      <td>0.61312</td>\n    </tr>\n    <tr>\n      <th>Height</th>\n      <td>0.89689</td>\n      <td>0.90289</td>\n      <td>1.00000</td>\n      <td>0.88887</td>\n      <td>0.84185</td>\n      <td>0.86791</td>\n      <td>0.89547</td>\n      <td>0.63246</td>\n    </tr>\n    <tr>\n      <th>Whole Weight</th>\n      <td>0.93381</td>\n      <td>0.93438</td>\n      <td>0.88887</td>\n      <td>1.00000</td>\n      <td>0.97261</td>\n      <td>0.96703</td>\n      <td>0.96126</td>\n      <td>0.56613</td>\n    </tr>\n    <tr>\n      <th>Shucked Weight</th>\n      <td>0.90931</td>\n      <td>0.90529</td>\n      <td>0.84185</td>\n      <td>0.97261</td>\n      <td>1.00000</td>\n      <td>0.93110</td>\n      <td>0.90004</td>\n      <td>0.46530</td>\n    </tr>\n    <tr>\n      <th>Viscera Weight</th>\n      <td>0.90741</td>\n      <td>0.90458</td>\n      <td>0.86791</td>\n      <td>0.96703</td>\n      <td>0.93110</td>\n      <td>1.00000</td>\n      <td>0.92124</td>\n      <td>0.54539</td>\n    </tr>\n    <tr>\n      <th>Shell Weight</th>\n      <td>0.91502</td>\n      <td>0.92296</td>\n      <td>0.89547</td>\n      <td>0.96126</td>\n      <td>0.90004</td>\n      <td>0.92124</td>\n      <td>1.00000</td>\n      <td>0.63686</td>\n    </tr>\n    <tr>\n      <th>Rings</th>\n      <td>0.59624</td>\n      <td>0.61312</td>\n      <td>0.63246</td>\n      <td>0.56613</td>\n      <td>0.46530</td>\n      <td>0.54539</td>\n      <td>0.63686</td>\n      <td>1.00000</td>\n    </tr>\n  </tbody>\n</table>\n</div>",
            "application/vnd.dataresource+json": {
              "schema": {
                "fields": [
                  {
                    "name": "index",
                    "type": "string"
                  },
                  {
                    "name": "Length",
                    "type": "number"
                  },
                  {
                    "name": "Diameter",
                    "type": "number"
                  },
                  {
                    "name": "Height",
                    "type": "number"
                  },
                  {
                    "name": "Whole Weight",
                    "type": "number"
                  },
                  {
                    "name": "Shucked Weight",
                    "type": "number"
                  },
                  {
                    "name": "Viscera Weight",
                    "type": "number"
                  },
                  {
                    "name": "Shell Weight",
                    "type": "number"
                  },
                  {
                    "name": "Rings",
                    "type": "number"
                  }
                ],
                "primaryKey": [
                  "index"
                ],
                "pandas_version": "0.20.0"
              },
              "data": [
                {
                  "index": "Length",
                  "Length": 1,
                  "Diameter": 0.9864503424,
                  "Height": 0.8968889022,
                  "Whole Weight": 0.9338129207,
                  "Shucked Weight": 0.9093138944,
                  "Viscera Weight": 0.9074114339,
                  "Shell Weight": 0.9150179496,
                  "Rings": 0.5962367107
                },
                {
                  "index": "Diameter",
                  "Length": 0.9864503424,
                  "Diameter": 1,
                  "Height": 0.9028874948,
                  "Whole Weight": 0.9343793586,
                  "Shucked Weight": 0.9052884855,
                  "Viscera Weight": 0.904575615,
                  "Shell Weight": 0.9229579808,
                  "Rings": 0.6131165897
                },
                {
                  "index": "Height",
                  "Length": 0.8968889022,
                  "Diameter": 0.9028874948,
                  "Height": 1,
                  "Whole Weight": 0.8888701178,
                  "Shucked Weight": 0.8418530183,
                  "Viscera Weight": 0.8679103732,
                  "Shell Weight": 0.8954650697,
                  "Rings": 0.6324642888
                },
                {
                  "index": "Whole Weight",
                  "Length": 0.9338129207,
                  "Diameter": 0.9343793586,
                  "Height": 0.8888701178,
                  "Whole Weight": 1,
                  "Shucked Weight": 0.972607852,
                  "Viscera Weight": 0.9670332478,
                  "Shell Weight": 0.9612589722,
                  "Rings": 0.56612684
                },
                {
                  "index": "Shucked Weight",
                  "Length": 0.9093138944,
                  "Diameter": 0.9052884855,
                  "Height": 0.8418530183,
                  "Whole Weight": 0.972607852,
                  "Shucked Weight": 1,
                  "Viscera Weight": 0.9311037266,
                  "Shell Weight": 0.9000393972,
                  "Rings": 0.4652966698
                },
                {
                  "index": "Viscera Weight",
                  "Length": 0.9074114339,
                  "Diameter": 0.904575615,
                  "Height": 0.8679103732,
                  "Whole Weight": 0.9670332478,
                  "Shucked Weight": 0.9311037266,
                  "Viscera Weight": 1,
                  "Shell Weight": 0.9212409588,
                  "Rings": 0.5453876594
                },
                {
                  "index": "Shell Weight",
                  "Length": 0.9150179496,
                  "Diameter": 0.9229579808,
                  "Height": 0.8954650697,
                  "Whole Weight": 0.9612589722,
                  "Shucked Weight": 0.9000393972,
                  "Viscera Weight": 0.9212409588,
                  "Shell Weight": 1,
                  "Rings": 0.6368604218
                },
                {
                  "index": "Rings",
                  "Length": 0.5962367107,
                  "Diameter": 0.6131165897,
                  "Height": 0.6324642888,
                  "Whole Weight": 0.56612684,
                  "Shucked Weight": 0.4652966698,
                  "Viscera Weight": 0.5453876594,
                  "Shell Weight": 0.6368604218,
                  "Rings": 1
                }
              ]
            }
          },
          "metadata": {
            "bento_obj_id": "140134783906240"
          },
          "execution_count": 284
        }
      ]
    },
    {
      "cell_type": "code",
      "metadata": {
        "originalKey": "eaf3ed28-64ae-48c1-bcb6-1b1e9647947b",
        "showInput": true,
        "customInput": null,
        "customOutput": null,
        "collapsed": false,
        "requestMsgId": "eaf3ed28-64ae-48c1-bcb6-1b1e9647947b",
        "executionStartTime": 1677707021797,
        "executionStopTime": 1677707021812
      },
      "source": [
        "# PCA\n",
        "\n",
        "# You are doing all the PCA on a copy of the dataset, before train test split. Is this the correct way to go? Make sure to interpret everything downstream from this partition correctly.\n",
        "# https://medium.com/data-science-365/principal-component-analysis-18-questions-answered-4abd72041ccd Is a great resource\n",
        "\n",
        "## Must do all the basic data cleaning you can, and either remove or dummy encode categorical variables. PCA is also unsupervised, so we remove the target variable. PLS is the supervised version of PCA.\n",
        "# Must also standardize the data.\n",
        "# Having trobule with lots of correlations between predictor variables. Trying PCA to help. Using the Oreilly book and https://www.analyticsvidhya.com/blog/2016/03/pca-practical-guide-principal-component-analysis-python/.\n",
        "## The idea behind PCA is dimension reduction - to take variables that are correlated with one another and combine them into one variable.\n",
        "## One thing I don't understand about PCA is: We start with the predictor variables, and combine them into loadings. Two variables seem to generate two loadings. The first loading, Z1, accounts for most of the variance, and Z2 is orthoganal and accounts for the rest. I don't understand this part, what variance is being accounted for by what, and how/\n",
        "## What is the difference between PCA and factor analysis?\n",
        "## Consider if PLS is more appropriate here: \"Partial least square (PLS) is a supervised alternative to PCA. PLS assigns a higher weight to variables that are strongly related to response variable to determine principal components.\"\"\n",
        "### https://scikit-learn.org/stable/modules/generated/sklearn.decomposition.PCA.html is a good starting point for exploring PCA vs PLS."
      ],
      "execution_count": 285,
      "outputs": []
    },
    {
      "cell_type": "code",
      "metadata": {
        "originalKey": "d84f5b45-d1b7-41ed-85cb-722bbe8b9f62",
        "showInput": true,
        "customInput": null,
        "customOutput": null,
        "collapsed": false,
        "requestMsgId": "d84f5b45-d1b7-41ed-85cb-722bbe8b9f62",
        "executionStartTime": 1677707021965,
        "executionStopTime": 1677707022045
      },
      "source": [
        "# Remove or dummy encode categorical variables\n",
        "# For ease of this example, I will remove them. Circle back later and do the correct thing of dummy encoding them. One hot encoder was used by one example here.\n",
        "\n",
        "#create copy of DataFrame\n",
        "abalone_data_for_PCA=abalone_data.copy()\n",
        "\n",
        "del abalone_data_for_PCA[\"Sex\"]\n",
        "abalone_data_for_PCA.head() # The one categorical variable was removed"
      ],
      "execution_count": 286,
      "outputs": [
        {
          "output_type": "execute_result",
          "data": {
            "text/plain": "   Length  Diameter  Height  ...  Viscera Weight  Shell Weight  Rings\n0 0.45500   0.36500 0.09500  ...         0.10100       0.15000     15\n1 0.35000   0.26500 0.09000  ...         0.04850       0.07000      7\n2 0.53000   0.42000 0.13500  ...         0.14150       0.21000      9\n3 0.44000   0.36500 0.12500  ...         0.11400       0.15500     10\n4 0.33000   0.25500 0.08000  ...         0.03950       0.05500      7\n\n[5 rows x 8 columns]",
            "text/html": "<div>\n<style scoped>\n    .dataframe tbody tr th:only-of-type {\n        vertical-align: middle;\n    }\n\n    .dataframe tbody tr th {\n        vertical-align: top;\n    }\n\n    .dataframe thead th {\n        text-align: right;\n    }\n</style>\n<table border=\"1\" class=\"dataframe\">\n  <thead>\n    <tr style=\"text-align: right;\">\n      <th></th>\n      <th>Length</th>\n      <th>Diameter</th>\n      <th>Height</th>\n      <th>Whole Weight</th>\n      <th>Shucked Weight</th>\n      <th>Viscera Weight</th>\n      <th>Shell Weight</th>\n      <th>Rings</th>\n    </tr>\n  </thead>\n  <tbody>\n    <tr>\n      <th>0</th>\n      <td>0.45500</td>\n      <td>0.36500</td>\n      <td>0.09500</td>\n      <td>0.51400</td>\n      <td>0.22450</td>\n      <td>0.10100</td>\n      <td>0.15000</td>\n      <td>15</td>\n    </tr>\n    <tr>\n      <th>1</th>\n      <td>0.35000</td>\n      <td>0.26500</td>\n      <td>0.09000</td>\n      <td>0.22550</td>\n      <td>0.09950</td>\n      <td>0.04850</td>\n      <td>0.07000</td>\n      <td>7</td>\n    </tr>\n    <tr>\n      <th>2</th>\n      <td>0.53000</td>\n      <td>0.42000</td>\n      <td>0.13500</td>\n      <td>0.67700</td>\n      <td>0.25650</td>\n      <td>0.14150</td>\n      <td>0.21000</td>\n      <td>9</td>\n    </tr>\n    <tr>\n      <th>3</th>\n      <td>0.44000</td>\n      <td>0.36500</td>\n      <td>0.12500</td>\n      <td>0.51600</td>\n      <td>0.21550</td>\n      <td>0.11400</td>\n      <td>0.15500</td>\n      <td>10</td>\n    </tr>\n    <tr>\n      <th>4</th>\n      <td>0.33000</td>\n      <td>0.25500</td>\n      <td>0.08000</td>\n      <td>0.20500</td>\n      <td>0.08950</td>\n      <td>0.03950</td>\n      <td>0.05500</td>\n      <td>7</td>\n    </tr>\n  </tbody>\n</table>\n</div>",
            "application/vnd.dataresource+json": {
              "schema": {
                "fields": [
                  {
                    "name": "index",
                    "type": "integer"
                  },
                  {
                    "name": "Length",
                    "type": "number"
                  },
                  {
                    "name": "Diameter",
                    "type": "number"
                  },
                  {
                    "name": "Height",
                    "type": "number"
                  },
                  {
                    "name": "Whole Weight",
                    "type": "number"
                  },
                  {
                    "name": "Shucked Weight",
                    "type": "number"
                  },
                  {
                    "name": "Viscera Weight",
                    "type": "number"
                  },
                  {
                    "name": "Shell Weight",
                    "type": "number"
                  },
                  {
                    "name": "Rings",
                    "type": "integer"
                  }
                ],
                "primaryKey": [
                  "index"
                ],
                "pandas_version": "0.20.0"
              },
              "data": [
                {
                  "index": 0,
                  "Length": 0.455,
                  "Diameter": 0.365,
                  "Height": 0.095,
                  "Whole Weight": 0.514,
                  "Shucked Weight": 0.2245,
                  "Viscera Weight": 0.101,
                  "Shell Weight": 0.15,
                  "Rings": 15
                },
                {
                  "index": 1,
                  "Length": 0.35,
                  "Diameter": 0.265,
                  "Height": 0.09,
                  "Whole Weight": 0.2255,
                  "Shucked Weight": 0.0995,
                  "Viscera Weight": 0.0485,
                  "Shell Weight": 0.07,
                  "Rings": 7
                },
                {
                  "index": 2,
                  "Length": 0.53,
                  "Diameter": 0.42,
                  "Height": 0.135,
                  "Whole Weight": 0.677,
                  "Shucked Weight": 0.2565,
                  "Viscera Weight": 0.1415,
                  "Shell Weight": 0.21,
                  "Rings": 9
                },
                {
                  "index": 3,
                  "Length": 0.44,
                  "Diameter": 0.365,
                  "Height": 0.125,
                  "Whole Weight": 0.516,
                  "Shucked Weight": 0.2155,
                  "Viscera Weight": 0.114,
                  "Shell Weight": 0.155,
                  "Rings": 10
                },
                {
                  "index": 4,
                  "Length": 0.33,
                  "Diameter": 0.255,
                  "Height": 0.08,
                  "Whole Weight": 0.205,
                  "Shucked Weight": 0.0895,
                  "Viscera Weight": 0.0395,
                  "Shell Weight": 0.055,
                  "Rings": 7
                }
              ]
            }
          },
          "metadata": {
            "bento_obj_id": "140134780055664"
          },
          "execution_count": 286
        }
      ]
    },
    {
      "cell_type": "code",
      "metadata": {
        "originalKey": "6ef28987-c672-4d34-8116-aaf6f0ec82ca",
        "showInput": true,
        "customInput": null,
        "collapsed": false,
        "requestMsgId": "6ef28987-c672-4d34-8116-aaf6f0ec82ca",
        "executionStartTime": 1677707022211,
        "executionStopTime": 1677707022280,
        "customOutput": null
      },
      "source": [
        "# Remove the target variable\n",
        "\n",
        "del abalone_data_for_PCA[\"Rings\"]\n",
        "abalone_data_for_PCA.head() "
      ],
      "execution_count": 287,
      "outputs": [
        {
          "output_type": "execute_result",
          "data": {
            "text/plain": "   Length  Diameter  Height  ...  Shucked Weight  Viscera Weight  Shell Weight\n0 0.45500   0.36500 0.09500  ...         0.22450         0.10100       0.15000\n1 0.35000   0.26500 0.09000  ...         0.09950         0.04850       0.07000\n2 0.53000   0.42000 0.13500  ...         0.25650         0.14150       0.21000\n3 0.44000   0.36500 0.12500  ...         0.21550         0.11400       0.15500\n4 0.33000   0.25500 0.08000  ...         0.08950         0.03950       0.05500\n\n[5 rows x 7 columns]",
            "text/html": "<div>\n<style scoped>\n    .dataframe tbody tr th:only-of-type {\n        vertical-align: middle;\n    }\n\n    .dataframe tbody tr th {\n        vertical-align: top;\n    }\n\n    .dataframe thead th {\n        text-align: right;\n    }\n</style>\n<table border=\"1\" class=\"dataframe\">\n  <thead>\n    <tr style=\"text-align: right;\">\n      <th></th>\n      <th>Length</th>\n      <th>Diameter</th>\n      <th>Height</th>\n      <th>Whole Weight</th>\n      <th>Shucked Weight</th>\n      <th>Viscera Weight</th>\n      <th>Shell Weight</th>\n    </tr>\n  </thead>\n  <tbody>\n    <tr>\n      <th>0</th>\n      <td>0.45500</td>\n      <td>0.36500</td>\n      <td>0.09500</td>\n      <td>0.51400</td>\n      <td>0.22450</td>\n      <td>0.10100</td>\n      <td>0.15000</td>\n    </tr>\n    <tr>\n      <th>1</th>\n      <td>0.35000</td>\n      <td>0.26500</td>\n      <td>0.09000</td>\n      <td>0.22550</td>\n      <td>0.09950</td>\n      <td>0.04850</td>\n      <td>0.07000</td>\n    </tr>\n    <tr>\n      <th>2</th>\n      <td>0.53000</td>\n      <td>0.42000</td>\n      <td>0.13500</td>\n      <td>0.67700</td>\n      <td>0.25650</td>\n      <td>0.14150</td>\n      <td>0.21000</td>\n    </tr>\n    <tr>\n      <th>3</th>\n      <td>0.44000</td>\n      <td>0.36500</td>\n      <td>0.12500</td>\n      <td>0.51600</td>\n      <td>0.21550</td>\n      <td>0.11400</td>\n      <td>0.15500</td>\n    </tr>\n    <tr>\n      <th>4</th>\n      <td>0.33000</td>\n      <td>0.25500</td>\n      <td>0.08000</td>\n      <td>0.20500</td>\n      <td>0.08950</td>\n      <td>0.03950</td>\n      <td>0.05500</td>\n    </tr>\n  </tbody>\n</table>\n</div>",
            "application/vnd.dataresource+json": {
              "schema": {
                "fields": [
                  {
                    "name": "index",
                    "type": "integer"
                  },
                  {
                    "name": "Length",
                    "type": "number"
                  },
                  {
                    "name": "Diameter",
                    "type": "number"
                  },
                  {
                    "name": "Height",
                    "type": "number"
                  },
                  {
                    "name": "Whole Weight",
                    "type": "number"
                  },
                  {
                    "name": "Shucked Weight",
                    "type": "number"
                  },
                  {
                    "name": "Viscera Weight",
                    "type": "number"
                  },
                  {
                    "name": "Shell Weight",
                    "type": "number"
                  }
                ],
                "primaryKey": [
                  "index"
                ],
                "pandas_version": "0.20.0"
              },
              "data": [
                {
                  "index": 0,
                  "Length": 0.455,
                  "Diameter": 0.365,
                  "Height": 0.095,
                  "Whole Weight": 0.514,
                  "Shucked Weight": 0.2245,
                  "Viscera Weight": 0.101,
                  "Shell Weight": 0.15
                },
                {
                  "index": 1,
                  "Length": 0.35,
                  "Diameter": 0.265,
                  "Height": 0.09,
                  "Whole Weight": 0.2255,
                  "Shucked Weight": 0.0995,
                  "Viscera Weight": 0.0485,
                  "Shell Weight": 0.07
                },
                {
                  "index": 2,
                  "Length": 0.53,
                  "Diameter": 0.42,
                  "Height": 0.135,
                  "Whole Weight": 0.677,
                  "Shucked Weight": 0.2565,
                  "Viscera Weight": 0.1415,
                  "Shell Weight": 0.21
                },
                {
                  "index": 3,
                  "Length": 0.44,
                  "Diameter": 0.365,
                  "Height": 0.125,
                  "Whole Weight": 0.516,
                  "Shucked Weight": 0.2155,
                  "Viscera Weight": 0.114,
                  "Shell Weight": 0.155
                },
                {
                  "index": 4,
                  "Length": 0.33,
                  "Diameter": 0.255,
                  "Height": 0.08,
                  "Whole Weight": 0.205,
                  "Shucked Weight": 0.0895,
                  "Viscera Weight": 0.0395,
                  "Shell Weight": 0.055
                }
              ]
            }
          },
          "metadata": {
            "bento_obj_id": "140134799555168"
          },
          "execution_count": 287
        }
      ]
    },
    {
      "cell_type": "code",
      "metadata": {
        "originalKey": "e1aad023-4d0e-42b5-97f6-ee025c84178c",
        "showInput": true,
        "customInput": null,
        "customOutput": null,
        "collapsed": false,
        "requestMsgId": "e1aad023-4d0e-42b5-97f6-ee025c84178c",
        "executionStopTime": 1677707022453,
        "executionStartTime": 1677707022443
      },
      "source": [
        "# Now scale. What scaler to use? StandardScalar looks like it will work, but circle back and double check what is used in some real examples. \n",
        "\n",
        "scale = StandardScaler()\n",
        "scaled_abalone_data_for_PCA = scale.fit_transform(abalone_data_for_PCA)"
      ],
      "execution_count": 288,
      "outputs": []
    },
    {
      "cell_type": "code",
      "metadata": {
        "originalKey": "31e36a7c-969b-467b-8fbe-e7f9e9db41ac",
        "showInput": true,
        "customInput": null,
        "customOutput": null,
        "collapsed": false,
        "requestMsgId": "31e36a7c-969b-467b-8fbe-e7f9e9db41ac",
        "executionStartTime": 1677707022574,
        "executionStopTime": 1677707022898
      },
      "source": [
        "# How should I select the right number of n components? If the primary goal is for visualization, then select 2 or 3. You can also input a decimal instead of an integer, and the algorithm will find the number of components that captures that much variance, which is neat. \n",
        "## The best method is to plot Plot the explained variance percentage of individual components and the percentage of total variance captured by all principal components. . https://towardsdatascience.com/how-to-select-the-best-number-of-principal-components-for-the-dataset-287e64b14c6d\n",
        "## Plot code from https://medium.com/data-science-365/principal-component-analysis-18-questions-answered-4abd72041ccd \n",
        "\n",
        "from sklearn.decomposition import PCA\n",
        "\n",
        "#define PCA model to use\n",
        "pca = PCA(n_components=4) #I think here you just pick 'enough' compoents to get going, and then plot them out. \n",
        "\n",
        "#fit PCA model to data\n",
        "pca_fit = pca.fit(scaled_abalone_data_for_PCA)\n",
        "\n",
        "import matplotlib.pyplot as plt\n",
        "import numpy as np\n",
        "\n",
        "PC_values = np.arange(pca.n_components_) + 1\n",
        "plt.plot(PC_values, pca.explained_variance_ratio_, 'o-', linewidth=2, color='blue')\n",
        "plt.title('Scree Plot')\n",
        "plt.xlabel('Principal Component')\n",
        "plt.ylabel('Variance Explained')\n",
        "plt.show()\n",
        "\n",
        "# Here the graph is showing one good component. How to know which component it again"
      ],
      "execution_count": 289,
      "outputs": [
        {
          "output_type": "display_data",
          "data": {
            "text/plain": "<Figure size 432x288 with 1 Axes>",
            "image/png": "[encoded data removed]"
          },
          "metadata": {
            "bento_obj_id": "140134770184400",
            "needs_background": "light"
          }
        }
      ]
    },
    {
      "cell_type": "code",
      "metadata": {
        "originalKey": "7e9ec740-3a22-41b6-8553-9965bf0e66da",
        "showInput": true,
        "customInput": null,
        "collapsed": false,
        "requestMsgId": "7e9ec740-3a22-41b6-8553-9965bf0e66da",
        "executionStartTime": 1677707023080,
        "executionStopTime": 1677707023092,
        "customOutput": null
      },
      "source": [
        "# train/test split\n",
        "\n",
        "from sklearn.model_selection import train_test_split\n",
        "\n",
        "abalone_data_train, abalone_data_test = train_test_split(abalone_data, test_size=0.25, random_state=18)"
      ],
      "execution_count": 290,
      "outputs": []
    },
    {
      "cell_type": "code",
      "metadata": {
        "originalKey": "39ab2664-7f4d-487b-b980-f4fe0a28013e",
        "showInput": true,
        "customInput": null,
        "collapsed": false,
        "requestMsgId": "39ab2664-7f4d-487b-b980-f4fe0a28013e",
        "executionStartTime": 1677707023237,
        "executionStopTime": 1677707023307,
        "customOutput": null
      },
      "source": [
        "abalone_data_train.info()"
      ],
      "execution_count": 291,
      "outputs": [
        {
          "output_type": "stream",
          "name": "stdout",
          "text": [
            "<class 'pandas.core.frame.DataFrame'>\nInt64Index: 2940 entries, 120 to 3605\nData columns (total 9 columns):\n #   Column          Non-Null Count  Dtype  \n---  ------          --------------  -----  \n 0   Sex             2940 non-null   object \n 1   Length          2940 non-null   float64\n 2   Diameter        2940 non-null   float64\n 3   Height          2940 non-null   float64\n 4   Whole Weight    2940 non-null   float64\n 5   Shucked Weight  2940 non-null   float64\n 6   Viscera Weight  2940 non-null   float64\n 7   Shell Weight    2940 non-null   float64\n 8   Rings           2940 non-null   int64  \ndtypes: float64(7), int64(1), object(1)\nmemory usage: 229.7+ KB\n"
          ]
        }
      ]
    },
    {
      "cell_type": "code",
      "metadata": {
        "originalKey": "99ecd2a7-cf60-47aa-af83-bdc8a736ede8",
        "showInput": true,
        "customInput": null,
        "collapsed": false,
        "requestMsgId": "99ecd2a7-cf60-47aa-af83-bdc8a736ede8",
        "executionStartTime": 1677707023443,
        "executionStopTime": 1677707023513,
        "customOutput": null
      },
      "source": [
        "abalone_data_train.head()"
      ],
      "execution_count": 292,
      "outputs": [
        {
          "output_type": "execute_result",
          "data": {
            "text/plain": "     Sex  Length  Diameter  ...  Viscera Weight  Shell Weight  Rings\n120    F 0.47000   0.36500  ...         0.10350       0.14000      9\n3064   M 0.63500   0.50000  ...         0.23150       0.38700      9\n3343   F 0.45500   0.36500  ...         0.04600       0.13450     13\n2263   F 0.62000   0.51000  ...         0.28750       0.32000     13\n1112   F 0.52000   0.46000  ...         0.19850       0.25400      7\n\n[5 rows x 9 columns]",
            "text/html": "<div>\n<style scoped>\n    .dataframe tbody tr th:only-of-type {\n        vertical-align: middle;\n    }\n\n    .dataframe tbody tr th {\n        vertical-align: top;\n    }\n\n    .dataframe thead th {\n        text-align: right;\n    }\n</style>\n<table border=\"1\" class=\"dataframe\">\n  <thead>\n    <tr style=\"text-align: right;\">\n      <th></th>\n      <th>Sex</th>\n      <th>Length</th>\n      <th>Diameter</th>\n      <th>Height</th>\n      <th>Whole Weight</th>\n      <th>Shucked Weight</th>\n      <th>Viscera Weight</th>\n      <th>Shell Weight</th>\n      <th>Rings</th>\n    </tr>\n  </thead>\n  <tbody>\n    <tr>\n      <th>120</th>\n      <td>F</td>\n      <td>0.47000</td>\n      <td>0.36500</td>\n      <td>0.10500</td>\n      <td>0.42050</td>\n      <td>0.16300</td>\n      <td>0.10350</td>\n      <td>0.14000</td>\n      <td>9</td>\n    </tr>\n    <tr>\n      <th>3064</th>\n      <td>M</td>\n      <td>0.63500</td>\n      <td>0.50000</td>\n      <td>0.18000</td>\n      <td>1.15400</td>\n      <td>0.44050</td>\n      <td>0.23150</td>\n      <td>0.38700</td>\n      <td>9</td>\n    </tr>\n    <tr>\n      <th>3343</th>\n      <td>F</td>\n      <td>0.45500</td>\n      <td>0.36500</td>\n      <td>0.11000</td>\n      <td>0.38500</td>\n      <td>0.16600</td>\n      <td>0.04600</td>\n      <td>0.13450</td>\n      <td>13</td>\n    </tr>\n    <tr>\n      <th>2263</th>\n      <td>F</td>\n      <td>0.62000</td>\n      <td>0.51000</td>\n      <td>0.15000</td>\n      <td>1.45600</td>\n      <td>0.58100</td>\n      <td>0.28750</td>\n      <td>0.32000</td>\n      <td>13</td>\n    </tr>\n    <tr>\n      <th>1112</th>\n      <td>F</td>\n      <td>0.52000</td>\n      <td>0.46000</td>\n      <td>0.15000</td>\n      <td>1.01900</td>\n      <td>0.52300</td>\n      <td>0.19850</td>\n      <td>0.25400</td>\n      <td>7</td>\n    </tr>\n  </tbody>\n</table>\n</div>",
            "application/vnd.dataresource+json": {
              "schema": {
                "fields": [
                  {
                    "name": "index",
                    "type": "integer"
                  },
                  {
                    "name": "Sex",
                    "type": "string"
                  },
                  {
                    "name": "Length",
                    "type": "number"
                  },
                  {
                    "name": "Diameter",
                    "type": "number"
                  },
                  {
                    "name": "Height",
                    "type": "number"
                  },
                  {
                    "name": "Whole Weight",
                    "type": "number"
                  },
                  {
                    "name": "Shucked Weight",
                    "type": "number"
                  },
                  {
                    "name": "Viscera Weight",
                    "type": "number"
                  },
                  {
                    "name": "Shell Weight",
                    "type": "number"
                  },
                  {
                    "name": "Rings",
                    "type": "integer"
                  }
                ],
                "primaryKey": [
                  "index"
                ],
                "pandas_version": "0.20.0"
              },
              "data": [
                {
                  "index": 120,
                  "Sex": "F",
                  "Length": 0.47,
                  "Diameter": 0.365,
                  "Height": 0.105,
                  "Whole Weight": 0.4205,
                  "Shucked Weight": 0.163,
                  "Viscera Weight": 0.1035,
                  "Shell Weight": 0.14,
                  "Rings": 9
                },
                {
                  "index": 3064,
                  "Sex": "M",
                  "Length": 0.635,
                  "Diameter": 0.5,
                  "Height": 0.18,
                  "Whole Weight": 1.154,
                  "Shucked Weight": 0.4405,
                  "Viscera Weight": 0.2315,
                  "Shell Weight": 0.387,
                  "Rings": 9
                },
                {
                  "index": 3343,
                  "Sex": "F",
                  "Length": 0.455,
                  "Diameter": 0.365,
                  "Height": 0.11,
                  "Whole Weight": 0.385,
                  "Shucked Weight": 0.166,
                  "Viscera Weight": 0.046,
                  "Shell Weight": 0.1345,
                  "Rings": 13
                },
                {
                  "index": 2263,
                  "Sex": "F",
                  "Length": 0.62,
                  "Diameter": 0.51,
                  "Height": 0.15,
                  "Whole Weight": 1.456,
                  "Shucked Weight": 0.581,
                  "Viscera Weight": 0.2875,
                  "Shell Weight": 0.32,
                  "Rings": 13
                },
                {
                  "index": 1112,
                  "Sex": "F",
                  "Length": 0.52,
                  "Diameter": 0.46,
                  "Height": 0.15,
                  "Whole Weight": 1.019,
                  "Shucked Weight": 0.523,
                  "Viscera Weight": 0.1985,
                  "Shell Weight": 0.254,
                  "Rings": 7
                }
              ]
            }
          },
          "metadata": {
            "bento_obj_id": "140134783952208"
          },
          "execution_count": 292
        }
      ]
    },
    {
      "cell_type": "code",
      "metadata": {
        "originalKey": "f78986ba-b5d3-438b-adb9-737e2e1d99c1",
        "showInput": true,
        "customInput": null,
        "collapsed": false,
        "requestMsgId": "f78986ba-b5d3-438b-adb9-737e2e1d99c1",
        "executionStartTime": 1677707023652,
        "executionStopTime": 1677707023661,
        "customOutput": null
      },
      "source": [
        "# dummy encode the categorical variables\n",
        "\n",
        "abalone_data_train = pd.get_dummies(abalone_data_train)\n",
        "abalone_data_test = pd.get_dummies(abalone_data_test)"
      ],
      "execution_count": 293,
      "outputs": []
    },
    {
      "cell_type": "code",
      "metadata": {
        "originalKey": "c0c92931-ad58-411b-9892-e696c18b0f77",
        "showInput": true,
        "customInput": null,
        "collapsed": false,
        "requestMsgId": "c0c92931-ad58-411b-9892-e696c18b0f77",
        "executionStartTime": 1677707023793,
        "executionStopTime": 1677707023807,
        "customOutput": null
      },
      "source": [
        "abalone_data_train.info()"
      ],
      "execution_count": 294,
      "outputs": [
        {
          "output_type": "stream",
          "name": "stdout",
          "text": [
            "<class 'pandas.core.frame.DataFrame'>\nInt64Index: 2940 entries, 120 to 3605\nData columns (total 11 columns):\n #   Column          Non-Null Count  Dtype  \n---  ------          --------------  -----  \n 0   Length          2940 non-null   float64\n 1   Diameter        2940 non-null   float64\n 2   Height          2940 non-null   float64\n 3   Whole Weight    2940 non-null   float64\n 4   Shucked Weight  2940 non-null   float64\n 5   Viscera Weight  2940 non-null   float64\n 6   Shell Weight    2940 non-null   float64\n 7   Rings           2940 non-null   int64  \n 8   Sex_F           2940 non-null   uint8  \n 9   Sex_I           2940 non-null   uint8  \n 10  Sex_M           2940 non-null   uint8  \ndtypes: float64(7), int64(1), uint8(3)\nmemory usage: 215.3 KB\n"
          ]
        }
      ]
    },
    {
      "cell_type": "code",
      "metadata": {
        "originalKey": "9b205c15-e704-4ab5-b902-c57d6c76ed3a",
        "showInput": true,
        "customInput": null,
        "collapsed": false,
        "requestMsgId": "9b205c15-e704-4ab5-b902-c57d6c76ed3a",
        "executionStartTime": 1677707023972,
        "executionStopTime": 1677707023988,
        "customOutput": null
      },
      "source": [
        "abalone_data_test = abalone_data_test.reindex(columns = abalone_data_train.columns, fill_value = 0)\n",
        "# get_dummies makes a new column for each case of categorical data, so it's likely to have a different number of columns in the test set and the training set. Use reindex to adjust the test set to have the same number of columns as the training set, removing unneeded columns. \n",
        ""
      ],
      "execution_count": 295,
      "outputs": []
    },
    {
      "cell_type": "code",
      "metadata": {
        "originalKey": "232155c0-466c-4199-a730-14cc515dd016",
        "showInput": true,
        "customInput": null,
        "collapsed": false,
        "requestMsgId": "232155c0-466c-4199-a730-14cc515dd016",
        "executionStartTime": 1677707024247,
        "executionStopTime": 1677707024257,
        "customOutput": null
      },
      "source": [
        "# Move the target variable 'Rings' to the end\n",
        "abalone_data_train = abalone_data_train[[c for c in abalone_data_train if c not in 'Rings'] + ['Rings']]"
      ],
      "execution_count": 297,
      "outputs": []
    },
    {
      "cell_type": "markdown",
      "metadata": {
        "originalKey": "0698feaa-4291-4784-a036-c0303a9ce448",
        "showInput": false,
        "customInput": null
      },
      "source": [
        ""
      ]
    },
    {
      "cell_type": "markdown",
      "metadata": {
        "originalKey": "0cd535c1-b428-4d66-8cd7-7f965af754c6",
        "showInput": false,
        "customInput": null
      },
      "source": [
        ""
      ]
    },
    {
      "cell_type": "markdown",
      "metadata": {
        "originalKey": "14095dcc-6632-4ce3-9a7d-31ef4204f0c8",
        "showInput": false,
        "customInput": null
      },
      "source": [
        ""
      ]
    },
    {
      "cell_type": "code",
      "metadata": {
        "originalKey": "03e8577a-707b-4abb-b7ee-1388369bb07a",
        "showInput": true,
        "customInput": null,
        "collapsed": false,
        "requestMsgId": "03e8577a-707b-4abb-b7ee-1388369bb07a",
        "executionStartTime": 1677707024376,
        "executionStopTime": 1677707024395,
        "customOutput": null
      },
      "source": [
        "# create variables separating out the target variable from the others\n",
        "X_train, y_train = abalone_data_train.iloc[:, :-1], abalone_data_train.iloc[:,[-1]]\n",
        "X_test, y_test = abalone_data_test.iloc[:, :-1], abalone_data_test.iloc[:,[-1]]"
      ],
      "execution_count": 298,
      "outputs": []
    },
    {
      "cell_type": "code",
      "metadata": {
        "originalKey": "5c928893-9a95-44bc-8219-40d71791cec8",
        "showInput": true,
        "customInput": null,
        "collapsed": false,
        "requestMsgId": "5c928893-9a95-44bc-8219-40d71791cec8",
        "executionStartTime": 1677707024559,
        "executionStopTime": 1677707024628,
        "customOutput": null
      },
      "source": [
        "X_train.head()"
      ],
      "execution_count": 299,
      "outputs": [
        {
          "output_type": "execute_result",
          "data": {
            "text/plain": "      Length  Diameter  Height  Whole Weight  ...  Shell Weight  Sex_F  Sex_I  Sex_M\n120  0.47000   0.36500 0.10500       0.42050  ...       0.14000      1      0      0\n3064 0.63500   0.50000 0.18000       1.15400  ...       0.38700      0      0      1\n3343 0.45500   0.36500 0.11000       0.38500  ...       0.13450      1      0      0\n2263 0.62000   0.51000 0.15000       1.45600  ...       0.32000      1      0      0\n1112 0.52000   0.46000 0.15000       1.01900  ...       0.25400      1      0      0\n\n[5 rows x 10 columns]",
            "text/html": "<div>\n<style scoped>\n    .dataframe tbody tr th:only-of-type {\n        vertical-align: middle;\n    }\n\n    .dataframe tbody tr th {\n        vertical-align: top;\n    }\n\n    .dataframe thead th {\n        text-align: right;\n    }\n</style>\n<table border=\"1\" class=\"dataframe\">\n  <thead>\n    <tr style=\"text-align: right;\">\n      <th></th>\n      <th>Length</th>\n      <th>Diameter</th>\n      <th>Height</th>\n      <th>Whole Weight</th>\n      <th>Shucked Weight</th>\n      <th>Viscera Weight</th>\n      <th>Shell Weight</th>\n      <th>Sex_F</th>\n      <th>Sex_I</th>\n      <th>Sex_M</th>\n    </tr>\n  </thead>\n  <tbody>\n    <tr>\n      <th>120</th>\n      <td>0.47000</td>\n      <td>0.36500</td>\n      <td>0.10500</td>\n      <td>0.42050</td>\n      <td>0.16300</td>\n      <td>0.10350</td>\n      <td>0.14000</td>\n      <td>1</td>\n      <td>0</td>\n      <td>0</td>\n    </tr>\n    <tr>\n      <th>3064</th>\n      <td>0.63500</td>\n      <td>0.50000</td>\n      <td>0.18000</td>\n      <td>1.15400</td>\n      <td>0.44050</td>\n      <td>0.23150</td>\n      <td>0.38700</td>\n      <td>0</td>\n      <td>0</td>\n      <td>1</td>\n    </tr>\n    <tr>\n      <th>3343</th>\n      <td>0.45500</td>\n      <td>0.36500</td>\n      <td>0.11000</td>\n      <td>0.38500</td>\n      <td>0.16600</td>\n      <td>0.04600</td>\n      <td>0.13450</td>\n      <td>1</td>\n      <td>0</td>\n      <td>0</td>\n    </tr>\n    <tr>\n      <th>2263</th>\n      <td>0.62000</td>\n      <td>0.51000</td>\n      <td>0.15000</td>\n      <td>1.45600</td>\n      <td>0.58100</td>\n      <td>0.28750</td>\n      <td>0.32000</td>\n      <td>1</td>\n      <td>0</td>\n      <td>0</td>\n    </tr>\n    <tr>\n      <th>1112</th>\n      <td>0.52000</td>\n      <td>0.46000</td>\n      <td>0.15000</td>\n      <td>1.01900</td>\n      <td>0.52300</td>\n      <td>0.19850</td>\n      <td>0.25400</td>\n      <td>1</td>\n      <td>0</td>\n      <td>0</td>\n    </tr>\n  </tbody>\n</table>\n</div>",
            "application/vnd.dataresource+json": {
              "schema": {
                "fields": [
                  {
                    "name": "index",
                    "type": "integer"
                  },
                  {
                    "name": "Length",
                    "type": "number"
                  },
                  {
                    "name": "Diameter",
                    "type": "number"
                  },
                  {
                    "name": "Height",
                    "type": "number"
                  },
                  {
                    "name": "Whole Weight",
                    "type": "number"
                  },
                  {
                    "name": "Shucked Weight",
                    "type": "number"
                  },
                  {
                    "name": "Viscera Weight",
                    "type": "number"
                  },
                  {
                    "name": "Shell Weight",
                    "type": "number"
                  },
                  {
                    "name": "Sex_F",
                    "type": "integer"
                  },
                  {
                    "name": "Sex_I",
                    "type": "integer"
                  },
                  {
                    "name": "Sex_M",
                    "type": "integer"
                  }
                ],
                "primaryKey": [
                  "index"
                ],
                "pandas_version": "0.20.0"
              },
              "data": [
                {
                  "index": 120,
                  "Length": 0.47,
                  "Diameter": 0.365,
                  "Height": 0.105,
                  "Whole Weight": 0.4205,
                  "Shucked Weight": 0.163,
                  "Viscera Weight": 0.1035,
                  "Shell Weight": 0.14,
                  "Sex_F": 1,
                  "Sex_I": 0,
                  "Sex_M": 0
                },
                {
                  "index": 3064,
                  "Length": 0.635,
                  "Diameter": 0.5,
                  "Height": 0.18,
                  "Whole Weight": 1.154,
                  "Shucked Weight": 0.4405,
                  "Viscera Weight": 0.2315,
                  "Shell Weight": 0.387,
                  "Sex_F": 0,
                  "Sex_I": 0,
                  "Sex_M": 1
                },
                {
                  "index": 3343,
                  "Length": 0.455,
                  "Diameter": 0.365,
                  "Height": 0.11,
                  "Whole Weight": 0.385,
                  "Shucked Weight": 0.166,
                  "Viscera Weight": 0.046,
                  "Shell Weight": 0.1345,
                  "Sex_F": 1,
                  "Sex_I": 0,
                  "Sex_M": 0
                },
                {
                  "index": 2263,
                  "Length": 0.62,
                  "Diameter": 0.51,
                  "Height": 0.15,
                  "Whole Weight": 1.456,
                  "Shucked Weight": 0.581,
                  "Viscera Weight": 0.2875,
                  "Shell Weight": 0.32,
                  "Sex_F": 1,
                  "Sex_I": 0,
                  "Sex_M": 0
                },
                {
                  "index": 1112,
                  "Length": 0.52,
                  "Diameter": 0.46,
                  "Height": 0.15,
                  "Whole Weight": 1.019,
                  "Shucked Weight": 0.523,
                  "Viscera Weight": 0.1985,
                  "Shell Weight": 0.254,
                  "Sex_F": 1,
                  "Sex_I": 0,
                  "Sex_M": 0
                }
              ]
            }
          },
          "metadata": {
            "bento_obj_id": "140134780059600"
          },
          "execution_count": 299
        }
      ]
    },
    {
      "cell_type": "code",
      "metadata": {
        "originalKey": "8f4dea32-8589-4990-b563-d149d4768c6e",
        "showInput": true,
        "customInput": null,
        "collapsed": false,
        "requestMsgId": "8f4dea32-8589-4990-b563-d149d4768c6e",
        "executionStartTime": 1677707024749,
        "executionStopTime": 1677707024770,
        "customOutput": null
      },
      "source": [
        "# Now make a scatterplot but with a regression line in it. This is easier to do it seaborn.\n",
        "import seaborn as sns\n",
        "\n",
        "# create scatterplot with regression line and confidence interval lines\n",
        "# What is the standard way to present graphs? Do we present the training set only? Or both\n",
        "# sns.regplot(X_train[\"Shell Weight\"], X_train[\"Height\"], line_kws={\"color\": \"red\"})"
      ],
      "execution_count": 300,
      "outputs": []
    },
    {
      "cell_type": "code",
      "metadata": {
        "originalKey": "d3f3e626-db3d-488d-beb2-eaa6d0aad48d",
        "showInput": true,
        "customInput": null,
        "collapsed": false,
        "requestMsgId": "d3f3e626-db3d-488d-beb2-eaa6d0aad48d",
        "executionStartTime": 1677707024978,
        "executionStopTime": 1677707024988,
        "customOutput": null
      },
      "source": [
        "# instantiate the scaler. Different scaler choices have various impacts. \n",
        "scaler = StandardScaler()"
      ],
      "execution_count": 301,
      "outputs": []
    },
    {
      "cell_type": "code",
      "metadata": {
        "originalKey": "c8ac4f7d-291c-4a26-8c39-e6e8461b9493",
        "showInput": true,
        "customInput": null,
        "collapsed": false,
        "requestMsgId": "c8ac4f7d-291c-4a26-8c39-e6e8461b9493",
        "executionStartTime": 1677707025108,
        "executionStopTime": 1677707025130,
        "customOutput": null
      },
      "source": [
        "# fit and transform using the scaler\n",
        "rescaled_X_train = scaler.fit_transform(X_train)\n",
        "rescaled_X_test = scaler.transform(X_test)  # fit does the calculation to determine how the scaling should be done, and transform does the actual scaling. We want to transform without fitting on the test set to avoid data leakage."
      ],
      "execution_count": 302,
      "outputs": []
    },
    {
      "cell_type": "code",
      "metadata": {
        "originalKey": "ae8774e2-3e33-415c-9654-08c8c4eee1f3",
        "showInput": true,
        "customInput": null,
        "collapsed": false,
        "requestMsgId": "ae8774e2-3e33-415c-9654-08c8c4eee1f3",
        "executionStartTime": 1677707025249,
        "executionStopTime": 1677707025258,
        "customOutput": null
      },
      "source": [
        "# Instantiate the linear regression model\n",
        "from sklearn.linear_model import LinearRegression\n",
        "linreg = LinearRegression()"
      ],
      "execution_count": 303,
      "outputs": []
    },
    {
      "cell_type": "code",
      "metadata": {
        "originalKey": "7ac9ce6f-d71b-4b8c-bcee-c2c995f321af",
        "showInput": true,
        "customInput": null,
        "collapsed": false,
        "requestMsgId": "7ac9ce6f-d71b-4b8c-bcee-c2c995f321af",
        "executionStartTime": 1677707025375,
        "executionStopTime": 1677707025384,
        "customOutput": null
      },
      "source": [
        ""
      ],
      "execution_count": 304,
      "outputs": []
    },
    {
      "cell_type": "code",
      "metadata": {
        "originalKey": "035a13c3-6562-4354-b8af-338b403b0bd3",
        "showInput": true,
        "customInput": null,
        "collapsed": false,
        "requestMsgId": "035a13c3-6562-4354-b8af-338b403b0bd3",
        "executionStartTime": 1677707025502,
        "executionStopTime": 1677707025527,
        "customOutput": null
      },
      "source": [
        "# Fit\n",
        "linreg.fit(rescaled_X_train, y_train)"
      ],
      "execution_count": 305,
      "outputs": [
        {
          "output_type": "execute_result",
          "data": {
            "text/plain": "LinearRegression(copy_X=True, fit_intercept=True, n_jobs=None, normalize=False)"
          },
          "metadata": {
            "bento_obj_id": "140134771014000"
          },
          "execution_count": 305
        }
      ]
    },
    {
      "cell_type": "code",
      "metadata": {
        "originalKey": "e3caa640-e25d-4aa4-9d18-1d2cdf54e558",
        "showInput": true,
        "customInput": null,
        "collapsed": false,
        "requestMsgId": "e3caa640-e25d-4aa4-9d18-1d2cdf54e558",
        "executionStartTime": 1677707025643,
        "executionStopTime": 1677707025667,
        "customOutput": null
      },
      "source": [
        "# Assess accuracy\n",
        "linreg.score(rescaled_X_train, y_train) #This is the training set score"
      ],
      "execution_count": 306,
      "outputs": [
        {
          "output_type": "execute_result",
          "data": {
            "text/plain": "0.5440229331495297"
          },
          "metadata": {
            "bento_obj_id": "140134765119376"
          },
          "execution_count": 306
        }
      ]
    },
    {
      "cell_type": "code",
      "metadata": {
        "originalKey": "d6eccb49-348a-4c61-b164-2f24cf7ebdde",
        "showInput": true,
        "customInput": null,
        "collapsed": false,
        "requestMsgId": "d6eccb49-348a-4c61-b164-2f24cf7ebdde",
        "executionStartTime": 1677707025813,
        "executionStopTime": 1677707025839,
        "customOutput": null
      },
      "source": [
        "linreg.score(rescaled_X_test, y_test)  # This is the test set score\n",
        "\n",
        "# Doesn't make sense"
      ],
      "execution_count": 307,
      "outputs": [
        {
          "output_type": "execute_result",
          "data": {
            "text/plain": "-626.5267547764214"
          },
          "metadata": {
            "bento_obj_id": "140134760699440"
          },
          "execution_count": 307
        }
      ]
    },
    {
      "cell_type": "code",
      "metadata": {
        "originalKey": "27dd1e02-179e-4252-9a8e-df3192a122b2",
        "showInput": true,
        "customInput": null,
        "collapsed": false,
        "requestMsgId": "27dd1e02-179e-4252-9a8e-df3192a122b2",
        "executionStartTime": 1677707025959,
        "executionStopTime": 1677707025970,
        "customOutput": null
      },
      "source": [
        "# Interactions like mediation or moderation\n",
        "\n",
        "## Statsmodels looks promising: https://www.statsmodels.org/dev/generated/statsmodels.stats.mediation.Mediation.\n",
        "## https://www.statsmodels.org/dev/examples/notebooks/generated/mediation_survival.html\n",
        "## https://github.com/kshedden/mediation_workshop\n",
        "# Mediation is when a variable is a go between/component of the relationship between two other variables.\n",
        "## In full mediation, a mediator fully explains the relationship between the independent and dependent variable: without the mediator in the model, there is no relationship.\n",
        "## In partial mediation, there is still a statistical relationship between the independent and dependent variable even when the mediator is taken out of a model: the mediator only partially explains the relationship.\n",
        "# Moderation is when one variable affects another variable, and that effect is influenced by a third variable.\n",
        "\n",
        "# This looks hard. Need a tutorial video or something."
      ],
      "execution_count": 308,
      "outputs": []
    },
    {
      "cell_type": "code",
      "metadata": {
        "originalKey": "d46d212d-e78c-43bb-a668-70504a904c08",
        "showInput": true,
        "customInput": null,
        "collapsed": false,
        "requestMsgId": "d46d212d-e78c-43bb-a668-70504a904c08",
        "executionStartTime": 1677707026119,
        "executionStopTime": 1677707026135,
        "customOutput": null
      },
      "source": [
        "print(f'alpha = {linreg.intercept_}') # Understand this code better. This is supposedly the intercept of the regression line. "
      ],
      "execution_count": 309,
      "outputs": [
        {
          "output_type": "stream",
          "name": "stdout",
          "text": [
            "alpha = [9.49897959]\n"
          ]
        }
      ]
    },
    {
      "cell_type": "code",
      "metadata": {
        "originalKey": "5d2fa8b4-06d9-4315-a74b-dc75b89d830d",
        "showInput": true,
        "customInput": null,
        "collapsed": false,
        "requestMsgId": "5d2fa8b4-06d9-4315-a74b-dc75b89d830d",
        "executionStartTime": 1677707026407,
        "executionStopTime": 1677707026436,
        "customOutput": null
      },
      "source": [
        "# Some ideas here: https://stackoverflow.com/questions/26951880/scikit-learn-linear-regression-how-to-get-coefficients-respective-features\n",
        "# I am not sure if it's a problem that the above code uses 'X_train' as an argument. It shouldnt be, because it's just getting the column headers from X_train, and the coefficients are coming from 'model' which uses rescaled_X_train\n",
        "coef_table = pd.DataFrame({\"Feature\": X_train.columns.tolist(), \"Coefficients\": linreg.coef_[0]})\n",
        "\n",
        "coef_table\n",
        ""
      ],
      "execution_count": 311,
      "outputs": [
        {
          "output_type": "execute_result",
          "data": {
            "text/plain": "          Feature  Coefficients\n0          Length      -0.11321\n1        Diameter       1.16577\n2          Height       0.67580\n3    Whole Weight       2.17822\n4  Shucked Weight      -3.05857\n5  Viscera Weight      -0.53447\n6    Shell Weight       1.01377\n7           Sex_F       0.14238\n8           Sex_I      -0.28036\n9           Sex_M       0.14105",
            "text/html": "<div>\n<style scoped>\n    .dataframe tbody tr th:only-of-type {\n        vertical-align: middle;\n    }\n\n    .dataframe tbody tr th {\n        vertical-align: top;\n    }\n\n    .dataframe thead th {\n        text-align: right;\n    }\n</style>\n<table border=\"1\" class=\"dataframe\">\n  <thead>\n    <tr style=\"text-align: right;\">\n      <th></th>\n      <th>Feature</th>\n      <th>Coefficients</th>\n    </tr>\n  </thead>\n  <tbody>\n    <tr>\n      <th>0</th>\n      <td>Length</td>\n      <td>-0.11321</td>\n    </tr>\n    <tr>\n      <th>1</th>\n      <td>Diameter</td>\n      <td>1.16577</td>\n    </tr>\n    <tr>\n      <th>2</th>\n      <td>Height</td>\n      <td>0.67580</td>\n    </tr>\n    <tr>\n      <th>3</th>\n      <td>Whole Weight</td>\n      <td>2.17822</td>\n    </tr>\n    <tr>\n      <th>4</th>\n      <td>Shucked Weight</td>\n      <td>-3.05857</td>\n    </tr>\n    <tr>\n      <th>5</th>\n      <td>Viscera Weight</td>\n      <td>-0.53447</td>\n    </tr>\n    <tr>\n      <th>6</th>\n      <td>Shell Weight</td>\n      <td>1.01377</td>\n    </tr>\n    <tr>\n      <th>7</th>\n      <td>Sex_F</td>\n      <td>0.14238</td>\n    </tr>\n    <tr>\n      <th>8</th>\n      <td>Sex_I</td>\n      <td>-0.28036</td>\n    </tr>\n    <tr>\n      <th>9</th>\n      <td>Sex_M</td>\n      <td>0.14105</td>\n    </tr>\n  </tbody>\n</table>\n</div>",
            "application/vnd.dataresource+json": {
              "schema": {
                "fields": [
                  {
                    "name": "index",
                    "type": "integer"
                  },
                  {
                    "name": "Feature",
                    "type": "string"
                  },
                  {
                    "name": "Coefficients",
                    "type": "number"
                  }
                ],
                "primaryKey": [
                  "index"
                ],
                "pandas_version": "0.20.0"
              },
              "data": [
                {
                  "index": 0,
                  "Feature": "Length",
                  "Coefficients": -0.113213979
                },
                {
                  "index": 1,
                  "Feature": "Diameter",
                  "Coefficients": 1.1657704691
                },
                {
                  "index": 2,
                  "Feature": "Height",
                  "Coefficients": 0.6758038528
                },
                {
                  "index": 3,
                  "Feature": "Whole Weight",
                  "Coefficients": 2.1782157607
                },
                {
                  "index": 4,
                  "Feature": "Shucked Weight",
                  "Coefficients": -3.0585661793
                },
                {
                  "index": 5,
                  "Feature": "Viscera Weight",
                  "Coefficients": -0.5344650054
                },
                {
                  "index": 6,
                  "Feature": "Shell Weight",
                  "Coefficients": 1.013769661
                },
                {
                  "index": 7,
                  "Feature": "Sex_F",
                  "Coefficients": 0.1423791286
                },
                {
                  "index": 8,
                  "Feature": "Sex_I",
                  "Coefficients": -0.2803579782
                },
                {
                  "index": 9,
                  "Feature": "Sex_M",
                  "Coefficients": 0.1410499573
                }
              ]
            }
          },
          "metadata": {
            "bento_obj_id": "140134760772560"
          },
          "execution_count": 311
        }
      ]
    }
  ]
}
