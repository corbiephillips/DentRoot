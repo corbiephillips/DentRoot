{
  "metadata": {
    "dataExplorerConfig": {},
    "bento_stylesheets": {
      "bento/extensions/flow/main.css": true,
      "bento/extensions/kernel_selector/main.css": true,
      "bento/extensions/kernel_ui/main.css": true,
      "bento/extensions/new_kernel/main.css": true,
      "bento/extensions/system_usage/main.css": true,
      "bento/extensions/theme/main.css": true
    },
    "kernelspec": {
      "display_name": "Python 3",
      "language": "python",
      "name": "bento_kernel_default",
      "cinder_runtime": true,
      "ipyflow_runtime": false,
      "metadata": {
        "kernel_name": "bento_kernel_default",
        "nightly_builds": true,
        "fbpkg_supported": true,
        "cinder_runtime": true,
        "ipyflow_runtime": false,
        "is_prebuilt": true
      }
    },
    "language_info": {
      "codemirror_mode": {
        "name": "ipython",
        "version": 3
      },
      "file_extension": ".py",
      "mimetype": "text/x-python",
      "name": "python",
      "nbconvert_exporter": "python",
      "pygments_lexer": "ipython3"
    },
    "last_server_session_id": "60c37e3e-db3f-460b-9993-028c5044a34e",
    "last_kernel_id": "9b10fd7a-17bc-459c-812b-9656f31613cf",
    "last_base_url": "https://bento.edge.x2p.facebook.net/",
    "last_msg_id": "3aa71581-640294b819fbc1340f122a8b_776",
    "captumWidgetMessage": {},
    "outputWidgetContext": {}
  },
  "nbformat": 4,
  "nbformat_minor": 2,
  "cells": [
    {
      "cell_type": "code",
      "metadata": {
        "collapsed": false,
        "originalKey": "b576ad1c-7152-47da-b899-380c31f0b256",
        "customOutput": null,
        "requestMsgId": "5e5c6e0a-ffe9-4346-aa10-7fd78ff4018a",
        "executionStartTime": 1674940657338,
        "executionStopTime": 1674940657358
      },
      "source": [
        "# The purpose of this notebook is to take abalone data from the UCI database, and predict the age of the abalone (number of rings)."
      ],
      "execution_count": 17,
      "outputs": []
    },
    {
      "cell_type": "code",
      "metadata": {
        "originalKey": "4e31aeb5-5998-4ba7-9a27-41c4dfba0413",
        "showInput": true,
        "customInput": null,
        "customOutput": null,
        "collapsed": false,
        "requestMsgId": "a05c69d6-cd4e-4449-81a2-78ea8a952093",
        "executionStartTime": 1674940657478,
        "executionStopTime": 1674940657494
      },
      "source": [
        "# Basic plan of action:\n",
        "# Import data\n",
        "# Inspect and explore data,\n",
        "# Clean data, removing features we dn't need, removing outliers, removing nulls, etc,\n",
        "# visualize\n",
        "# Fit the model.\n",
        "# Train/test split.\n",
        "# Scale.\n",
        "# Get Betas and interpret."
      ],
      "execution_count": 18,
      "outputs": []
    },
    {
      "cell_type": "code",
      "metadata": {
        "originalKey": "104722a5-530a-4443-867d-5b08abd6003a",
        "showInput": true,
        "customInput": null,
        "customOutput": null,
        "collapsed": false,
        "requestMsgId": "ac734585-88dc-4979-86db-12226b607849",
        "executionStartTime": 1674940657616,
        "executionStopTime": 1674940657624
      },
      "source": [
        "# Also to do:\n",
        "# Compare your work to https://medium.com/swlh/abalone-sex-classification-via-physical-measurements-r-3b72526d5326\n",
        "\n",
        "# Also, follow all the Andy Field stats steps (like Smirnov test,etc)"
      ],
      "execution_count": 19,
      "outputs": []
    },
    {
      "cell_type": "code",
      "metadata": {
        "originalKey": "a5d4996b-8709-4d99-9893-9d060bb3a752",
        "showInput": true,
        "customInput": null,
        "customOutput": null,
        "collapsed": false,
        "requestMsgId": "b84eb252-db9d-48ea-a36e-5b9569554486",
        "executionStartTime": 1674940657743,
        "executionStopTime": 1674940657752
      },
      "source": [
        "# Predictor Variable details\n",
        "\n",
        "# Sex / nominal / -- / M, F, and I (infant)\n",
        "# Length / continuous / mm / Longest shell measurement\n",
        "# Diameter / continuous / mm / perpendicular to length\n",
        "# Height / continuous / mm / with meat in shell\n",
        "# Whole weight / continuous / grams / whole abalone\n",
        "# Shucked weight / continuous / grams / weight of meat\n",
        "# Viscera weight / continuous / grams / gut weight (after bleeding)\n",
        "# Shell weight / continuous / grams / after being dried\n",
        "\n",
        "# Target variable:\n",
        "#\n",
        "# Rings / integer / -- / +1.5 gives the age in years"
      ],
      "execution_count": 20,
      "outputs": []
    },
    {
      "cell_type": "code",
      "metadata": {
        "originalKey": "34271d08-b989-46f6-8884-593dace2635a",
        "customInput": "clean",
        "extensionName": "CLEAN_AND_PREP",
        "customOutput": null,
        "collapsed": false,
        "requestMsgId": "57ad1cea-8c60-486e-af76-1d9b6df31391",
        "executionStartTime": 1674940657907,
        "executionStopTime": 1674940657916
      },
      "source": [
        "from pandas_profiling import ProfileReport\n",
        "%run fbsource/fbcode/data_ai/data_discovery/data_clean_and_prep/data_clean_and_prep_api.py\n",
        "\n",
        ""
      ],
      "execution_count": 21,
      "outputs": []
    },
    {
      "cell_type": "code",
      "metadata": {
        "originalKey": "da6df9e1-4b9a-4209-bbaf-5667ee1a112f",
        "showInput": true,
        "customInput": null,
        "customOutput": null,
        "collapsed": false,
        "requestMsgId": "3615c081-788c-47ce-8c5d-1d504929d1b6",
        "executionStartTime": 1674940658048,
        "executionStopTime": 1674940658059
      },
      "source": [
        "# Dataset url: \n",
        "# Rings / integer / -- / +1.5 gives the age in years"
      ],
      "execution_count": 22,
      "outputs": []
    },
    {
      "cell_type": "code",
      "metadata": {
        "originalKey": "6ab2724b-6a3a-47b1-b9c2-4b823524a877",
        "showInput": true,
        "customInput": null,
        "collapsed": false,
        "requestMsgId": "6f77c0b8-33d5-4984-b388-fed4977e56f0",
        "executionStartTime": 1674940658216,
        "executionStopTime": 1674940658239,
        "customOutput": null
      },
      "source": [
        "import pandas as pd\n",
        "import numpy as np\n",
        "import matplotlib.pyplot as plt"
      ],
      "execution_count": 23,
      "outputs": []
    },
    {
      "cell_type": "code",
      "metadata": {
        "originalKey": "9f93a206-eb57-4753-af25-82d2d944e9fd",
        "showInput": true,
        "customInput": null,
        "collapsed": false,
        "requestMsgId": "e2891d26-4aff-4d8a-814d-dd54a9a39a15",
        "executionStartTime": 1674940658402,
        "executionStopTime": 1674940658413,
        "customOutput": null
      },
      "source": [
        "# import the abalone dataset \n",
        "\n",
        "abalone_data = pd.read_csv(\"/home/corbiep/local/abalone.data\", names=[\"Sex\", \"Length\", \"Diameter\", \"Height\", \"Whole Weight\", \"Shucked Weight\", \"Viscera Weight\", \"Shell Weight\", \"Rings\"])"
      ],
      "execution_count": 24,
      "outputs": []
    },
    {
      "cell_type": "code",
      "metadata": {
        "originalKey": "66b7ec58-f9bd-4cbf-9f64-a4dcb76b9b5f",
        "showInput": true,
        "customInput": null,
        "collapsed": false,
        "requestMsgId": "4c5035b8-9144-443e-ace4-37c8742ca4d7",
        "executionStartTime": 1674940658567,
        "executionStopTime": 1674940658598,
        "customOutput": null
      },
      "source": [
        "abalone_data.head()"
      ],
      "execution_count": 25,
      "outputs": [
        {
          "output_type": "execute_result",
          "data": {
            "text/plain": "  Sex  Length  Diameter  ...  Viscera Weight  Shell Weight  Rings\n0   M   0.455     0.365  ...          0.1010         0.150     15\n1   M   0.350     0.265  ...          0.0485         0.070      7\n2   F   0.530     0.420  ...          0.1415         0.210      9\n3   M   0.440     0.365  ...          0.1140         0.155     10\n4   I   0.330     0.255  ...          0.0395         0.055      7\n\n[5 rows x 9 columns]",
            "text/html": "<div>\n<style scoped>\n    .dataframe tbody tr th:only-of-type {\n        vertical-align: middle;\n    }\n\n    .dataframe tbody tr th {\n        vertical-align: top;\n    }\n\n    .dataframe thead th {\n        text-align: right;\n    }\n</style>\n<table border=\"1\" class=\"dataframe\">\n  <thead>\n    <tr style=\"text-align: right;\">\n      <th></th>\n      <th>Sex</th>\n      <th>Length</th>\n      <th>Diameter</th>\n      <th>Height</th>\n      <th>Whole Weight</th>\n      <th>Shucked Weight</th>\n      <th>Viscera Weight</th>\n      <th>Shell Weight</th>\n      <th>Rings</th>\n    </tr>\n  </thead>\n  <tbody>\n    <tr>\n      <th>0</th>\n      <td>M</td>\n      <td>0.455</td>\n      <td>0.365</td>\n      <td>0.095</td>\n      <td>0.5140</td>\n      <td>0.2245</td>\n      <td>0.1010</td>\n      <td>0.150</td>\n      <td>15</td>\n    </tr>\n    <tr>\n      <th>1</th>\n      <td>M</td>\n      <td>0.350</td>\n      <td>0.265</td>\n      <td>0.090</td>\n      <td>0.2255</td>\n      <td>0.0995</td>\n      <td>0.0485</td>\n      <td>0.070</td>\n      <td>7</td>\n    </tr>\n    <tr>\n      <th>2</th>\n      <td>F</td>\n      <td>0.530</td>\n      <td>0.420</td>\n      <td>0.135</td>\n      <td>0.6770</td>\n      <td>0.2565</td>\n      <td>0.1415</td>\n      <td>0.210</td>\n      <td>9</td>\n    </tr>\n    <tr>\n      <th>3</th>\n      <td>M</td>\n      <td>0.440</td>\n      <td>0.365</td>\n      <td>0.125</td>\n      <td>0.5160</td>\n      <td>0.2155</td>\n      <td>0.1140</td>\n      <td>0.155</td>\n      <td>10</td>\n    </tr>\n    <tr>\n      <th>4</th>\n      <td>I</td>\n      <td>0.330</td>\n      <td>0.255</td>\n      <td>0.080</td>\n      <td>0.2050</td>\n      <td>0.0895</td>\n      <td>0.0395</td>\n      <td>0.055</td>\n      <td>7</td>\n    </tr>\n  </tbody>\n</table>\n</div>",
            "application/vnd.dataresource+json": {
              "schema": {
                "fields": [
                  {
                    "name": "index",
                    "type": "integer"
                  },
                  {
                    "name": "Sex",
                    "type": "string"
                  },
                  {
                    "name": "Length",
                    "type": "number"
                  },
                  {
                    "name": "Diameter",
                    "type": "number"
                  },
                  {
                    "name": "Height",
                    "type": "number"
                  },
                  {
                    "name": "Whole Weight",
                    "type": "number"
                  },
                  {
                    "name": "Shucked Weight",
                    "type": "number"
                  },
                  {
                    "name": "Viscera Weight",
                    "type": "number"
                  },
                  {
                    "name": "Shell Weight",
                    "type": "number"
                  },
                  {
                    "name": "Rings",
                    "type": "integer"
                  }
                ],
                "primaryKey": [
                  "index"
                ],
                "pandas_version": "0.20.0"
              },
              "data": [
                {
                  "index": 0,
                  "Sex": "M",
                  "Length": 0.455,
                  "Diameter": 0.365,
                  "Height": 0.095,
                  "Whole Weight": 0.514,
                  "Shucked Weight": 0.2245,
                  "Viscera Weight": 0.101,
                  "Shell Weight": 0.15,
                  "Rings": 15
                },
                {
                  "index": 1,
                  "Sex": "M",
                  "Length": 0.35,
                  "Diameter": 0.265,
                  "Height": 0.09,
                  "Whole Weight": 0.2255,
                  "Shucked Weight": 0.0995,
                  "Viscera Weight": 0.0485,
                  "Shell Weight": 0.07,
                  "Rings": 7
                },
                {
                  "index": 2,
                  "Sex": "F",
                  "Length": 0.53,
                  "Diameter": 0.42,
                  "Height": 0.135,
                  "Whole Weight": 0.677,
                  "Shucked Weight": 0.2565,
                  "Viscera Weight": 0.1415,
                  "Shell Weight": 0.21,
                  "Rings": 9
                },
                {
                  "index": 3,
                  "Sex": "M",
                  "Length": 0.44,
                  "Diameter": 0.365,
                  "Height": 0.125,
                  "Whole Weight": 0.516,
                  "Shucked Weight": 0.2155,
                  "Viscera Weight": 0.114,
                  "Shell Weight": 0.155,
                  "Rings": 10
                },
                {
                  "index": 4,
                  "Sex": "I",
                  "Length": 0.33,
                  "Diameter": 0.255,
                  "Height": 0.08,
                  "Whole Weight": 0.205,
                  "Shucked Weight": 0.0895,
                  "Viscera Weight": 0.0395,
                  "Shell Weight": 0.055,
                  "Rings": 7
                }
              ]
            }
          },
          "metadata": {
            "bento_obj_id": "139925092742576"
          },
          "execution_count": 25
        }
      ]
    },
    {
      "cell_type": "code",
      "metadata": {
        "originalKey": "f164979d-3326-47cd-a392-33d861275fd6",
        "showInput": true,
        "customInput": null,
        "collapsed": false,
        "requestMsgId": "1b380e1e-fd7a-474c-8f4b-e2dd487c2175",
        "executionStartTime": 1674940658822,
        "executionStopTime": 1674940658850,
        "customOutput": null
      },
      "source": [
        "abalone_data.info()"
      ],
      "execution_count": 26,
      "outputs": [
        {
          "output_type": "stream",
          "name": "stdout",
          "text": [
            "<class 'pandas.core.frame.DataFrame'>\nRangeIndex: 4177 entries, 0 to 4176\nData columns (total 9 columns):\n #   Column          Non-Null Count  Dtype  \n---  ------          --------------  -----  \n 0   Sex             4177 non-null   object \n 1   Length          4177 non-null   float64\n 2   Diameter        4177 non-null   float64\n 3   Height          4177 non-null   float64\n 4   Whole Weight    4177 non-null   float64\n 5   Shucked Weight  4177 non-null   float64\n 6   Viscera Weight  4177 non-null   float64\n 7   Shell Weight    4177 non-null   float64\n 8   Rings           4177 non-null   int64  \ndtypes: float64(7), int64(1), object(1)\nmemory usage: 293.8+ KB\n"
          ]
        }
      ]
    },
    {
      "cell_type": "code",
      "metadata": {
        "originalKey": "557bd8c2-c336-42d1-b787-ce3bb77022ee",
        "showInput": true,
        "customInput": null,
        "collapsed": false,
        "requestMsgId": "d74fe6ad-417c-4b78-a9b8-56c39ddfcfb7",
        "executionStartTime": 1674940659002,
        "executionStopTime": 1674940659090,
        "customOutput": null
      },
      "source": [
        "abalone_data.describe()"
      ],
      "execution_count": 27,
      "outputs": [
        {
          "output_type": "execute_result",
          "data": {
            "text/plain": "            Length     Diameter  ...  Shell Weight        Rings\ncount  4177.000000  4177.000000  ...   4177.000000  4177.000000\nmean      0.523992     0.407881  ...      0.238831     9.933684\nstd       0.120093     0.099240  ...      0.139203     3.224169\nmin       0.075000     0.055000  ...      0.001500     1.000000\n25%       0.450000     0.350000  ...      0.130000     8.000000\n50%       0.545000     0.425000  ...      0.234000     9.000000\n75%       0.615000     0.480000  ...      0.329000    11.000000\nmax       0.815000     0.650000  ...      1.005000    29.000000\n\n[8 rows x 8 columns]",
            "text/html": "<div>\n<style scoped>\n    .dataframe tbody tr th:only-of-type {\n        vertical-align: middle;\n    }\n\n    .dataframe tbody tr th {\n        vertical-align: top;\n    }\n\n    .dataframe thead th {\n        text-align: right;\n    }\n</style>\n<table border=\"1\" class=\"dataframe\">\n  <thead>\n    <tr style=\"text-align: right;\">\n      <th></th>\n      <th>Length</th>\n      <th>Diameter</th>\n      <th>Height</th>\n      <th>Whole Weight</th>\n      <th>Shucked Weight</th>\n      <th>Viscera Weight</th>\n      <th>Shell Weight</th>\n      <th>Rings</th>\n    </tr>\n  </thead>\n  <tbody>\n    <tr>\n      <th>count</th>\n      <td>4177.000000</td>\n      <td>4177.000000</td>\n      <td>4177.000000</td>\n      <td>4177.000000</td>\n      <td>4177.000000</td>\n      <td>4177.000000</td>\n      <td>4177.000000</td>\n      <td>4177.000000</td>\n    </tr>\n    <tr>\n      <th>mean</th>\n      <td>0.523992</td>\n      <td>0.407881</td>\n      <td>0.139516</td>\n      <td>0.828742</td>\n      <td>0.359367</td>\n      <td>0.180594</td>\n      <td>0.238831</td>\n      <td>9.933684</td>\n    </tr>\n    <tr>\n      <th>std</th>\n      <td>0.120093</td>\n      <td>0.099240</td>\n      <td>0.041827</td>\n      <td>0.490389</td>\n      <td>0.221963</td>\n      <td>0.109614</td>\n      <td>0.139203</td>\n      <td>3.224169</td>\n    </tr>\n    <tr>\n      <th>min</th>\n      <td>0.075000</td>\n      <td>0.055000</td>\n      <td>0.000000</td>\n      <td>0.002000</td>\n      <td>0.001000</td>\n      <td>0.000500</td>\n      <td>0.001500</td>\n      <td>1.000000</td>\n    </tr>\n    <tr>\n      <th>25%</th>\n      <td>0.450000</td>\n      <td>0.350000</td>\n      <td>0.115000</td>\n      <td>0.441500</td>\n      <td>0.186000</td>\n      <td>0.093500</td>\n      <td>0.130000</td>\n      <td>8.000000</td>\n    </tr>\n    <tr>\n      <th>50%</th>\n      <td>0.545000</td>\n      <td>0.425000</td>\n      <td>0.140000</td>\n      <td>0.799500</td>\n      <td>0.336000</td>\n      <td>0.171000</td>\n      <td>0.234000</td>\n      <td>9.000000</td>\n    </tr>\n    <tr>\n      <th>75%</th>\n      <td>0.615000</td>\n      <td>0.480000</td>\n      <td>0.165000</td>\n      <td>1.153000</td>\n      <td>0.502000</td>\n      <td>0.253000</td>\n      <td>0.329000</td>\n      <td>11.000000</td>\n    </tr>\n    <tr>\n      <th>max</th>\n      <td>0.815000</td>\n      <td>0.650000</td>\n      <td>1.130000</td>\n      <td>2.825500</td>\n      <td>1.488000</td>\n      <td>0.760000</td>\n      <td>1.005000</td>\n      <td>29.000000</td>\n    </tr>\n  </tbody>\n</table>\n</div>",
            "application/vnd.dataresource+json": {
              "schema": {
                "fields": [
                  {
                    "name": "index",
                    "type": "string"
                  },
                  {
                    "name": "Length",
                    "type": "number"
                  },
                  {
                    "name": "Diameter",
                    "type": "number"
                  },
                  {
                    "name": "Height",
                    "type": "number"
                  },
                  {
                    "name": "Whole Weight",
                    "type": "number"
                  },
                  {
                    "name": "Shucked Weight",
                    "type": "number"
                  },
                  {
                    "name": "Viscera Weight",
                    "type": "number"
                  },
                  {
                    "name": "Shell Weight",
                    "type": "number"
                  },
                  {
                    "name": "Rings",
                    "type": "number"
                  }
                ],
                "primaryKey": [
                  "index"
                ],
                "pandas_version": "0.20.0"
              },
              "data": [
                {
                  "index": "count",
                  "Length": 4177,
                  "Diameter": 4177,
                  "Height": 4177,
                  "Whole Weight": 4177,
                  "Shucked Weight": 4177,
                  "Viscera Weight": 4177,
                  "Shell Weight": 4177,
                  "Rings": 4177
                },
                {
                  "index": "mean",
                  "Length": 0.5239920996,
                  "Diameter": 0.4078812545,
                  "Height": 0.1395163993,
                  "Whole Weight": 0.8287421594,
                  "Shucked Weight": 0.3593674886,
                  "Viscera Weight": 0.1805936079,
                  "Shell Weight": 0.2388308595,
                  "Rings": 9.9336844625
                },
                {
                  "index": "std",
                  "Length": 0.1200929126,
                  "Diameter": 0.0992398661,
                  "Height": 0.0418270566,
                  "Whole Weight": 0.4903890182,
                  "Shucked Weight": 0.221962949,
                  "Viscera Weight": 0.1096142503,
                  "Shell Weight": 0.1392026695,
                  "Rings": 3.2241690321
                },
                {
                  "index": "min",
                  "Length": 0.075,
                  "Diameter": 0.055,
                  "Height": 0,
                  "Whole Weight": 0.002,
                  "Shucked Weight": 0.001,
                  "Viscera Weight": 0.0005,
                  "Shell Weight": 0.0015,
                  "Rings": 1
                },
                {
                  "index": "25%",
                  "Length": 0.45,
                  "Diameter": 0.35,
                  "Height": 0.115,
                  "Whole Weight": 0.4415,
                  "Shucked Weight": 0.186,
                  "Viscera Weight": 0.0935,
                  "Shell Weight": 0.13,
                  "Rings": 8
                },
                {
                  "index": "50%",
                  "Length": 0.545,
                  "Diameter": 0.425,
                  "Height": 0.14,
                  "Whole Weight": 0.7995,
                  "Shucked Weight": 0.336,
                  "Viscera Weight": 0.171,
                  "Shell Weight": 0.234,
                  "Rings": 9
                },
                {
                  "index": "75%",
                  "Length": 0.615,
                  "Diameter": 0.48,
                  "Height": 0.165,
                  "Whole Weight": 1.153,
                  "Shucked Weight": 0.502,
                  "Viscera Weight": 0.253,
                  "Shell Weight": 0.329,
                  "Rings": 11
                },
                {
                  "index": "max",
                  "Length": 0.815,
                  "Diameter": 0.65,
                  "Height": 1.13,
                  "Whole Weight": 2.8255,
                  "Shucked Weight": 1.488,
                  "Viscera Weight": 0.76,
                  "Shell Weight": 1.005,
                  "Rings": 29
                }
              ]
            }
          },
          "metadata": {
            "bento_obj_id": "139925092039408"
          },
          "execution_count": 27
        }
      ]
    },
    {
      "cell_type": "code",
      "metadata": {
        "originalKey": "da28a22e-13c6-4724-9ff1-faad7913345d",
        "showInput": true,
        "customInput": null,
        "collapsed": false,
        "requestMsgId": "13ff2da6-55d9-488c-b3ad-d2f3e5397889",
        "executionStartTime": 1674940659232,
        "executionStopTime": 1674940659254,
        "customOutput": null
      },
      "source": [
        "# How many of each?\n",
        "\n",
        "abalone_data[\"Sex\"].value_counts()"
      ],
      "execution_count": 28,
      "outputs": [
        {
          "output_type": "execute_result",
          "data": {
            "text/plain": "M    1528\nI    1342\nF    1307\nName: Sex, dtype: int64",
            "application/vnd.dataresource+json": {
              "schema": {
                "fields": [
                  {
                    "name": "index",
                    "type": "string"
                  },
                  {
                    "name": "Sex",
                    "type": "integer"
                  }
                ],
                "primaryKey": [
                  "index"
                ],
                "pandas_version": "0.20.0"
              },
              "data": [
                {
                  "index": "M",
                  "Sex": 1528
                },
                {
                  "index": "I",
                  "Sex": 1342
                },
                {
                  "index": "F",
                  "Sex": 1307
                }
              ]
            }
          },
          "metadata": {
            "bento_obj_id": "139925092037104"
          },
          "execution_count": 28
        }
      ]
    },
    {
      "cell_type": "code",
      "metadata": {
        "originalKey": "f5ec2052-ba79-43ad-b11b-e3ca8a641341",
        "showInput": true,
        "customInput": null,
        "collapsed": false,
        "requestMsgId": "3a4104bf-b0d8-4e23-9601-c0b0459a671d",
        "executionStartTime": 1674940659372,
        "executionStopTime": 1674940659384,
        "customOutput": null
      },
      "source": [
        "# Check for \n",
        "# If there are nulls, use isnull().sum() and splicing using isnull (ex: cr_data[pd.isnull(cr_data[\"Ring 0 MSR\"])]), to find and explore, and dropna() to remove\n",
        "\n",
        "abalone_data.isnull().sum()"
      ],
      "execution_count": 29,
      "outputs": [
        {
          "output_type": "execute_result",
          "data": {
            "text/plain": "Sex               0\nLength            0\nDiameter          0\nHeight            0\nWhole Weight      0\nShucked Weight    0\nViscera Weight    0\nShell Weight      0\nRings             0\ndtype: int64",
            "application/vnd.dataresource+json": {
              "schema": {
                "fields": [
                  {
                    "name": "index",
                    "type": "string"
                  },
                  {
                    "name": "values",
                    "type": "integer"
                  }
                ],
                "primaryKey": [
                  "index"
                ],
                "pandas_version": "0.20.0"
              },
              "data": [
                {
                  "index": "Sex",
                  "values": 0
                },
                {
                  "index": "Length",
                  "values": 0
                },
                {
                  "index": "Diameter",
                  "values": 0
                },
                {
                  "index": "Height",
                  "values": 0
                },
                {
                  "index": "Whole Weight",
                  "values": 0
                },
                {
                  "index": "Shucked Weight",
                  "values": 0
                },
                {
                  "index": "Viscera Weight",
                  "values": 0
                },
                {
                  "index": "Shell Weight",
                  "values": 0
                },
                {
                  "index": "Rings",
                  "values": 0
                }
              ]
            }
          },
          "metadata": {
            "bento_obj_id": "139925092742528"
          },
          "execution_count": 29
        }
      ]
    },
    {
      "cell_type": "code",
      "metadata": {
        "originalKey": "c78dc544-5152-41d7-86dc-b0f5e736790e",
        "showInput": true,
        "customInput": null,
        "collapsed": false,
        "requestMsgId": "ad7fdf05-e54e-43fa-8a63-5ffc4ffedfd0",
        "executionStartTime": 1674940659575,
        "executionStopTime": 1674940659620,
        "customOutput": null
      },
      "source": [
        "# Spot checking by hand\n",
        "\n",
        "abalone_data.iloc[100:110, :]"
      ],
      "execution_count": 30,
      "outputs": [
        {
          "output_type": "execute_result",
          "data": {
            "text/plain": "    Sex  Length  Diameter  ...  Viscera Weight  Shell Weight  Rings\n100   I   0.360     0.265  ...          0.0460         0.075      7\n101   M   0.550     0.435  ...          0.1915         0.255     15\n102   M   0.530     0.435  ...          0.1640         0.335     15\n103   M   0.530     0.415  ...          0.1675         0.205     10\n104   M   0.605     0.470  ...          0.2405         0.345     12\n105   F   0.520     0.410  ...          0.1835         0.235     12\n106   F   0.545     0.430  ...          0.1830         0.280     11\n107   F   0.500     0.400  ...          0.1315         0.220     10\n108   F   0.510     0.390  ...          0.1790         0.200      9\n109   F   0.435     0.395  ...          0.0980         0.130      9\n\n[10 rows x 9 columns]",
            "text/html": "<div>\n<style scoped>\n    .dataframe tbody tr th:only-of-type {\n        vertical-align: middle;\n    }\n\n    .dataframe tbody tr th {\n        vertical-align: top;\n    }\n\n    .dataframe thead th {\n        text-align: right;\n    }\n</style>\n<table border=\"1\" class=\"dataframe\">\n  <thead>\n    <tr style=\"text-align: right;\">\n      <th></th>\n      <th>Sex</th>\n      <th>Length</th>\n      <th>Diameter</th>\n      <th>Height</th>\n      <th>Whole Weight</th>\n      <th>Shucked Weight</th>\n      <th>Viscera Weight</th>\n      <th>Shell Weight</th>\n      <th>Rings</th>\n    </tr>\n  </thead>\n  <tbody>\n    <tr>\n      <th>100</th>\n      <td>I</td>\n      <td>0.360</td>\n      <td>0.265</td>\n      <td>0.095</td>\n      <td>0.2315</td>\n      <td>0.1050</td>\n      <td>0.0460</td>\n      <td>0.075</td>\n      <td>7</td>\n    </tr>\n    <tr>\n      <th>101</th>\n      <td>M</td>\n      <td>0.550</td>\n      <td>0.435</td>\n      <td>0.145</td>\n      <td>0.8430</td>\n      <td>0.3280</td>\n      <td>0.1915</td>\n      <td>0.255</td>\n      <td>15</td>\n    </tr>\n    <tr>\n      <th>102</th>\n      <td>M</td>\n      <td>0.530</td>\n      <td>0.435</td>\n      <td>0.160</td>\n      <td>0.8830</td>\n      <td>0.3160</td>\n      <td>0.1640</td>\n      <td>0.335</td>\n      <td>15</td>\n    </tr>\n    <tr>\n      <th>103</th>\n      <td>M</td>\n      <td>0.530</td>\n      <td>0.415</td>\n      <td>0.140</td>\n      <td>0.7240</td>\n      <td>0.3105</td>\n      <td>0.1675</td>\n      <td>0.205</td>\n      <td>10</td>\n    </tr>\n    <tr>\n      <th>104</th>\n      <td>M</td>\n      <td>0.605</td>\n      <td>0.470</td>\n      <td>0.160</td>\n      <td>1.1735</td>\n      <td>0.4975</td>\n      <td>0.2405</td>\n      <td>0.345</td>\n      <td>12</td>\n    </tr>\n    <tr>\n      <th>105</th>\n      <td>F</td>\n      <td>0.520</td>\n      <td>0.410</td>\n      <td>0.155</td>\n      <td>0.7270</td>\n      <td>0.2910</td>\n      <td>0.1835</td>\n      <td>0.235</td>\n      <td>12</td>\n    </tr>\n    <tr>\n      <th>106</th>\n      <td>F</td>\n      <td>0.545</td>\n      <td>0.430</td>\n      <td>0.165</td>\n      <td>0.8020</td>\n      <td>0.2935</td>\n      <td>0.1830</td>\n      <td>0.280</td>\n      <td>11</td>\n    </tr>\n    <tr>\n      <th>107</th>\n      <td>F</td>\n      <td>0.500</td>\n      <td>0.400</td>\n      <td>0.125</td>\n      <td>0.6675</td>\n      <td>0.2610</td>\n      <td>0.1315</td>\n      <td>0.220</td>\n      <td>10</td>\n    </tr>\n    <tr>\n      <th>108</th>\n      <td>F</td>\n      <td>0.510</td>\n      <td>0.390</td>\n      <td>0.135</td>\n      <td>0.6335</td>\n      <td>0.2310</td>\n      <td>0.1790</td>\n      <td>0.200</td>\n      <td>9</td>\n    </tr>\n    <tr>\n      <th>109</th>\n      <td>F</td>\n      <td>0.435</td>\n      <td>0.395</td>\n      <td>0.105</td>\n      <td>0.3635</td>\n      <td>0.1360</td>\n      <td>0.0980</td>\n      <td>0.130</td>\n      <td>9</td>\n    </tr>\n  </tbody>\n</table>\n</div>",
            "application/vnd.dataresource+json": {
              "schema": {
                "fields": [
                  {
                    "name": "index",
                    "type": "integer"
                  },
                  {
                    "name": "Sex",
                    "type": "string"
                  },
                  {
                    "name": "Length",
                    "type": "number"
                  },
                  {
                    "name": "Diameter",
                    "type": "number"
                  },
                  {
                    "name": "Height",
                    "type": "number"
                  },
                  {
                    "name": "Whole Weight",
                    "type": "number"
                  },
                  {
                    "name": "Shucked Weight",
                    "type": "number"
                  },
                  {
                    "name": "Viscera Weight",
                    "type": "number"
                  },
                  {
                    "name": "Shell Weight",
                    "type": "number"
                  },
                  {
                    "name": "Rings",
                    "type": "integer"
                  }
                ],
                "primaryKey": [
                  "index"
                ],
                "pandas_version": "0.20.0"
              },
              "data": [
                {
                  "index": 100,
                  "Sex": "I",
                  "Length": 0.36,
                  "Diameter": 0.265,
                  "Height": 0.095,
                  "Whole Weight": 0.2315,
                  "Shucked Weight": 0.105,
                  "Viscera Weight": 0.046,
                  "Shell Weight": 0.075,
                  "Rings": 7
                },
                {
                  "index": 101,
                  "Sex": "M",
                  "Length": 0.55,
                  "Diameter": 0.435,
                  "Height": 0.145,
                  "Whole Weight": 0.843,
                  "Shucked Weight": 0.328,
                  "Viscera Weight": 0.1915,
                  "Shell Weight": 0.255,
                  "Rings": 15
                },
                {
                  "index": 102,
                  "Sex": "M",
                  "Length": 0.53,
                  "Diameter": 0.435,
                  "Height": 0.16,
                  "Whole Weight": 0.883,
                  "Shucked Weight": 0.316,
                  "Viscera Weight": 0.164,
                  "Shell Weight": 0.335,
                  "Rings": 15
                },
                {
                  "index": 103,
                  "Sex": "M",
                  "Length": 0.53,
                  "Diameter": 0.415,
                  "Height": 0.14,
                  "Whole Weight": 0.724,
                  "Shucked Weight": 0.3105,
                  "Viscera Weight": 0.1675,
                  "Shell Weight": 0.205,
                  "Rings": 10
                },
                {
                  "index": 104,
                  "Sex": "M",
                  "Length": 0.605,
                  "Diameter": 0.47,
                  "Height": 0.16,
                  "Whole Weight": 1.1735,
                  "Shucked Weight": 0.4975,
                  "Viscera Weight": 0.2405,
                  "Shell Weight": 0.345,
                  "Rings": 12
                },
                {
                  "index": 105,
                  "Sex": "F",
                  "Length": 0.52,
                  "Diameter": 0.41,
                  "Height": 0.155,
                  "Whole Weight": 0.727,
                  "Shucked Weight": 0.291,
                  "Viscera Weight": 0.1835,
                  "Shell Weight": 0.235,
                  "Rings": 12
                },
                {
                  "index": 106,
                  "Sex": "F",
                  "Length": 0.545,
                  "Diameter": 0.43,
                  "Height": 0.165,
                  "Whole Weight": 0.802,
                  "Shucked Weight": 0.2935,
                  "Viscera Weight": 0.183,
                  "Shell Weight": 0.28,
                  "Rings": 11
                },
                {
                  "index": 107,
                  "Sex": "F",
                  "Length": 0.5,
                  "Diameter": 0.4,
                  "Height": 0.125,
                  "Whole Weight": 0.6675,
                  "Shucked Weight": 0.261,
                  "Viscera Weight": 0.1315,
                  "Shell Weight": 0.22,
                  "Rings": 10
                },
                {
                  "index": 108,
                  "Sex": "F",
                  "Length": 0.51,
                  "Diameter": 0.39,
                  "Height": 0.135,
                  "Whole Weight": 0.6335,
                  "Shucked Weight": 0.231,
                  "Viscera Weight": 0.179,
                  "Shell Weight": 0.2,
                  "Rings": 9
                },
                {
                  "index": 109,
                  "Sex": "F",
                  "Length": 0.435,
                  "Diameter": 0.395,
                  "Height": 0.105,
                  "Whole Weight": 0.3635,
                  "Shucked Weight": 0.136,
                  "Viscera Weight": 0.098,
                  "Shell Weight": 0.13,
                  "Rings": 9
                }
              ]
            }
          },
          "metadata": {
            "bento_obj_id": "139925092645520"
          },
          "execution_count": 30
        }
      ]
    },
    {
      "cell_type": "markdown",
      "metadata": {
        "originalKey": "d9716ec8-e9e4-4a65-b5d2-97af1b6b333e",
        "showInput": false,
        "customInput": null
      },
      "source": [
        ""
      ]
    },
    {
      "cell_type": "code",
      "metadata": {
        "originalKey": "06d0a778-e976-4a3c-a0b1-7c18d860c93d",
        "showInput": true,
        "customInput": null,
        "customOutput": null,
        "collapsed": false,
        "requestMsgId": "ad7423bb-8ee5-4196-b514-ff95b46d9c93",
        "executionStartTime": 1674940659791,
        "executionStopTime": 1674940659830
      },
      "source": [
        "abalone_data.std()"
      ],
      "execution_count": 31,
      "outputs": [
        {
          "output_type": "execute_result",
          "data": {
            "text/plain": "Length            0.120093\nDiameter          0.099240\nHeight            0.041827\nWhole Weight      0.490389\nShucked Weight    0.221963\nViscera Weight    0.109614\nShell Weight      0.139203\nRings             3.224169\ndtype: float64",
            "application/vnd.dataresource+json": {
              "schema": {
                "fields": [
                  {
                    "name": "index",
                    "type": "string"
                  },
                  {
                    "name": "values",
                    "type": "number"
                  }
                ],
                "primaryKey": [
                  "index"
                ],
                "pandas_version": "0.20.0"
              },
              "data": [
                {
                  "index": "Length",
                  "values": 0.1200929126
                },
                {
                  "index": "Diameter",
                  "values": 0.0992398661
                },
                {
                  "index": "Height",
                  "values": 0.0418270566
                },
                {
                  "index": "Whole Weight",
                  "values": 0.4903890182
                },
                {
                  "index": "Shucked Weight",
                  "values": 0.221962949
                },
                {
                  "index": "Viscera Weight",
                  "values": 0.1096142503
                },
                {
                  "index": "Shell Weight",
                  "values": 0.1392026695
                },
                {
                  "index": "Rings",
                  "values": 3.2241690321
                }
              ]
            }
          },
          "metadata": {
            "bento_obj_id": "139925091814416"
          },
          "execution_count": 31
        }
      ]
    },
    {
      "cell_type": "code",
      "metadata": {
        "originalKey": "3d9a55de-1807-41ba-a169-cea2bf11c6ad",
        "showInput": true,
        "customInput": null,
        "collapsed": false,
        "requestMsgId": "fa8bc443-7973-4bed-baff-06af75f67e9c",
        "executionStartTime": 1674940659954,
        "executionStopTime": 1674940659963,
        "customOutput": null
      },
      "source": [
        "# Remove outliers"
      ],
      "execution_count": 32,
      "outputs": []
    },
    {
      "cell_type": "code",
      "metadata": {
        "originalKey": "65e16c72-54a8-48df-b3d8-5823f549101f",
        "showInput": true,
        "customInput": null,
        "collapsed": false,
        "requestMsgId": "60ba4c0e-5293-4637-b279-7978db5bee8b",
        "executionStartTime": 1674940660084,
        "executionStopTime": 1674940660105,
        "customOutput": null
      },
      "source": [
        "Length_outlier = abalone_data[\"Length\"].mean() + (abalone_data[\"Length\"].std() * 2.5)\n",
        "Diameter_outlier = abalone_data[\"Diameter\"].mean() + (abalone_data[\"Diameter\"].std() * 2.5)\n",
        "Height_outlier = abalone_data[\"Height\"].mean() + (abalone_data[\"Height\"].std() * 2.5)\n",
        "Whole_Weight_outlier = abalone_data[\"Whole Weight\"].mean() + (abalone_data[\"Whole Weight\"].std() * 2.5)\n",
        "Shucked_Weight_outlier = abalone_data[\"Shucked Weight\"].mean() + (abalone_data[\"Shucked Weight\"].std() * 2.5)\n",
        "Viscera_Weight_outlier = abalone_data[\"Viscera Weight\"].mean() + (abalone_data[\"Viscera Weight\"].std() * 2.5)\n",
        "Shell_Weight_outlier = abalone_data[\"Shell Weight\"].mean() + (abalone_data[\"Shell Weight\"].std() * 2.5)\n",
        "\n",
        "Rings_outlier = abalone_data[\"Rings\"].mean() + (abalone_data[\"Rings\"].std() * 2.5)\n",
        "\n",
        ""
      ],
      "execution_count": 33,
      "outputs": []
    },
    {
      "cell_type": "code",
      "metadata": {
        "originalKey": "4f6f1df2-23cd-4c50-9ab3-5904ccadb33d",
        "showInput": true,
        "customInput": null,
        "collapsed": false,
        "requestMsgId": "fc81e308-5c16-40b3-bcfe-eb688e66ae61",
        "executionStartTime": 1674940660243,
        "executionStopTime": 1674940660256,
        "customOutput": null
      },
      "source": [
        "print(Length_outlier) #sanity check"
      ],
      "execution_count": 34,
      "outputs": [
        {
          "output_type": "stream",
          "name": "stdout",
          "text": [
            "0.8242243810050083\n"
          ]
        }
      ]
    },
    {
      "cell_type": "code",
      "metadata": {
        "originalKey": "3f111951-f69d-426f-be2f-d9890e25db60",
        "showInput": true,
        "customInput": null,
        "collapsed": false,
        "requestMsgId": "575ccf9f-8b5f-4578-9932-ef2cc5ac7df6",
        "executionStartTime": 1674940660376,
        "executionStopTime": 1674940660389,
        "customOutput": null
      },
      "source": [
        "abalone_data.info()\n",
        "\n",
        "# There are 4177 before outlier removal. "
      ],
      "execution_count": 35,
      "outputs": [
        {
          "output_type": "stream",
          "name": "stdout",
          "text": [
            "<class 'pandas.core.frame.DataFrame'>\nRangeIndex: 4177 entries, 0 to 4176\nData columns (total 9 columns):\n #   Column          Non-Null Count  Dtype  \n---  ------          --------------  -----  \n 0   Sex             4177 non-null   object \n 1   Length          4177 non-null   float64\n 2   Diameter        4177 non-null   float64\n 3   Height          4177 non-null   float64\n 4   Whole Weight    4177 non-null   float64\n 5   Shucked Weight  4177 non-null   float64\n 6   Viscera Weight  4177 non-null   float64\n 7   Shell Weight    4177 non-null   float64\n 8   Rings           4177 non-null   int64  \ndtypes: float64(7), int64(1), object(1)\nmemory usage: 293.8+ KB\n"
          ]
        }
      ]
    },
    {
      "cell_type": "code",
      "metadata": {
        "originalKey": "935d58fd-6c51-4be1-b975-299f32bbc749",
        "showInput": true,
        "customInput": null,
        "customOutput": null,
        "collapsed": false,
        "requestMsgId": "36cebe03-000f-4558-9e90-0c95ca265332",
        "executionStartTime": 1674940660508,
        "executionStopTime": 1674940660517
      },
      "source": [
        "abalone_data = abalone_data.loc[abalone_data[\"Length\"] < Length_outlier]"
      ],
      "execution_count": 36,
      "outputs": []
    },
    {
      "cell_type": "code",
      "metadata": {
        "originalKey": "73d077b3-6012-48c9-85f8-f3c3e33dfe2c",
        "showInput": true,
        "customInput": null,
        "collapsed": false,
        "requestMsgId": "9060d992-f82d-4e70-9357-7dbd2dbb79c1",
        "executionStartTime": 1674940660644,
        "executionStopTime": 1674940660684,
        "customOutput": null
      },
      "source": [
        "abalone_data.info()"
      ],
      "execution_count": 37,
      "outputs": [
        {
          "output_type": "stream",
          "name": "stdout",
          "text": [
            "<class 'pandas.core.frame.DataFrame'>\nInt64Index: 4177 entries, 0 to 4176\nData columns (total 9 columns):\n #   Column          Non-Null Count  Dtype  \n---  ------          --------------  -----  \n 0   Sex             4177 non-null   object \n 1   Length          4177 non-null   float64\n 2   Diameter        4177 non-null   float64\n 3   Height          4177 non-null   float64\n 4   Whole Weight    4177 non-null   float64\n 5   Shucked Weight  4177 non-null   float64\n 6   Viscera Weight  4177 non-null   float64\n 7   Shell Weight    4177 non-null   float64\n 8   Rings           4177 non-null   int64  \ndtypes: float64(7), int64(1), object(1)\nmemory usage: 326.3+ KB\n"
          ]
        }
      ]
    },
    {
      "cell_type": "code",
      "metadata": {
        "originalKey": "fbad9a1f-cd24-4c51-80de-da954ca97fd0",
        "showInput": true,
        "customInput": null,
        "customOutput": null,
        "collapsed": false,
        "requestMsgId": "1a5a8c4f-6a5e-4faf-a954-3a757bb97538",
        "executionStartTime": 1674940660854,
        "executionStopTime": 1674940660884
      },
      "source": [
        "abalone_data = abalone_data.loc[abalone_data[\"Diameter\"] < Diameter_outlier] # There is probably a most efficient way of doing this\n",
        "abalone_data.info()\n",
        ""
      ],
      "execution_count": 38,
      "outputs": [
        {
          "output_type": "stream",
          "name": "stdout",
          "text": [
            "<class 'pandas.core.frame.DataFrame'>\nInt64Index: 4177 entries, 0 to 4176\nData columns (total 9 columns):\n #   Column          Non-Null Count  Dtype  \n---  ------          --------------  -----  \n 0   Sex             4177 non-null   object \n 1   Length          4177 non-null   float64\n 2   Diameter        4177 non-null   float64\n 3   Height          4177 non-null   float64\n 4   Whole Weight    4177 non-null   float64\n 5   Shucked Weight  4177 non-null   float64\n 6   Viscera Weight  4177 non-null   float64\n 7   Shell Weight    4177 non-null   float64\n 8   Rings           4177 non-null   int64  \ndtypes: float64(7), int64(1), object(1)\nmemory usage: 326.3+ KB\n"
          ]
        }
      ]
    },
    {
      "cell_type": "code",
      "metadata": {
        "originalKey": "cd088667-b9f2-4874-aa9b-f829f35f9c5f",
        "showInput": true,
        "customInput": null,
        "collapsed": false,
        "requestMsgId": "c6cfe595-c69f-42fe-b118-7719344066db",
        "executionStartTime": 1674940661017,
        "executionStopTime": 1674940661031,
        "customOutput": null
      },
      "source": [
        "abalone_data = abalone_data.loc[abalone_data[\"Height\"] < Height_outlier] \n",
        "abalone_data.info()"
      ],
      "execution_count": 39,
      "outputs": [
        {
          "output_type": "stream",
          "name": "stdout",
          "text": [
            "<class 'pandas.core.frame.DataFrame'>\nInt64Index: 4172 entries, 0 to 4176\nData columns (total 9 columns):\n #   Column          Non-Null Count  Dtype  \n---  ------          --------------  -----  \n 0   Sex             4172 non-null   object \n 1   Length          4172 non-null   float64\n 2   Diameter        4172 non-null   float64\n 3   Height          4172 non-null   float64\n 4   Whole Weight    4172 non-null   float64\n 5   Shucked Weight  4172 non-null   float64\n 6   Viscera Weight  4172 non-null   float64\n 7   Shell Weight    4172 non-null   float64\n 8   Rings           4172 non-null   int64  \ndtypes: float64(7), int64(1), object(1)\nmemory usage: 325.9+ KB\n"
          ]
        }
      ]
    },
    {
      "cell_type": "code",
      "metadata": {
        "originalKey": "dbd87364-9d5c-4260-86d8-ffda1faa80f4",
        "showInput": true,
        "customInput": null,
        "collapsed": false,
        "requestMsgId": "30412f9f-f3b3-4cad-b0b3-e80448313ce0",
        "executionStartTime": 1674940661162,
        "executionStopTime": 1674940661178,
        "customOutput": null
      },
      "source": [
        "abalone_data = abalone_data.loc[abalone_data[\"Whole Weight\"] < Whole_Weight_outlier] \n",
        "abalone_data.info()"
      ],
      "execution_count": 40,
      "outputs": [
        {
          "output_type": "stream",
          "name": "stdout",
          "text": [
            "<class 'pandas.core.frame.DataFrame'>\nInt64Index: 4112 entries, 0 to 4176\nData columns (total 9 columns):\n #   Column          Non-Null Count  Dtype  \n---  ------          --------------  -----  \n 0   Sex             4112 non-null   object \n 1   Length          4112 non-null   float64\n 2   Diameter        4112 non-null   float64\n 3   Height          4112 non-null   float64\n 4   Whole Weight    4112 non-null   float64\n 5   Shucked Weight  4112 non-null   float64\n 6   Viscera Weight  4112 non-null   float64\n 7   Shell Weight    4112 non-null   float64\n 8   Rings           4112 non-null   int64  \ndtypes: float64(7), int64(1), object(1)\nmemory usage: 321.2+ KB\n"
          ]
        }
      ]
    },
    {
      "cell_type": "code",
      "metadata": {
        "originalKey": "431bc021-67da-4db1-9380-941817acb71b",
        "showInput": true,
        "customInput": null,
        "collapsed": false,
        "requestMsgId": "2641783e-c20a-4edf-b554-6e7560e6eb08",
        "executionStartTime": 1674940661311,
        "executionStopTime": 1674940661339,
        "customOutput": null
      },
      "source": [
        "abalone_data = abalone_data.loc[abalone_data[\"Shucked Weight\"] < Shucked_Weight_outlier] \n",
        "abalone_data.info()"
      ],
      "execution_count": 41,
      "outputs": [
        {
          "output_type": "stream",
          "name": "stdout",
          "text": [
            "<class 'pandas.core.frame.DataFrame'>\nInt64Index: 4091 entries, 0 to 4175\nData columns (total 9 columns):\n #   Column          Non-Null Count  Dtype  \n---  ------          --------------  -----  \n 0   Sex             4091 non-null   object \n 1   Length          4091 non-null   float64\n 2   Diameter        4091 non-null   float64\n 3   Height          4091 non-null   float64\n 4   Whole Weight    4091 non-null   float64\n 5   Shucked Weight  4091 non-null   float64\n 6   Viscera Weight  4091 non-null   float64\n 7   Shell Weight    4091 non-null   float64\n 8   Rings           4091 non-null   int64  \ndtypes: float64(7), int64(1), object(1)\nmemory usage: 319.6+ KB\n"
          ]
        }
      ]
    },
    {
      "cell_type": "code",
      "metadata": {
        "originalKey": "80fbce99-7971-481e-b2fd-231eecf7ba6d",
        "showInput": true,
        "customInput": null,
        "collapsed": false,
        "requestMsgId": "f00bf205-fb2a-4aa0-84b1-b7761d1a4ed1",
        "executionStartTime": 1674940661523,
        "executionStopTime": 1674940661556,
        "customOutput": null
      },
      "source": [
        "abalone_data = abalone_data.loc[abalone_data[\"Viscera Weight\"] < Viscera_Weight_outlier] \n",
        "abalone_data.info()"
      ],
      "execution_count": 42,
      "outputs": [
        {
          "output_type": "stream",
          "name": "stdout",
          "text": [
            "<class 'pandas.core.frame.DataFrame'>\nInt64Index: 4071 entries, 0 to 4175\nData columns (total 9 columns):\n #   Column          Non-Null Count  Dtype  \n---  ------          --------------  -----  \n 0   Sex             4071 non-null   object \n 1   Length          4071 non-null   float64\n 2   Diameter        4071 non-null   float64\n 3   Height          4071 non-null   float64\n 4   Whole Weight    4071 non-null   float64\n 5   Shucked Weight  4071 non-null   float64\n 6   Viscera Weight  4071 non-null   float64\n 7   Shell Weight    4071 non-null   float64\n 8   Rings           4071 non-null   int64  \ndtypes: float64(7), int64(1), object(1)\nmemory usage: 318.0+ KB\n"
          ]
        }
      ]
    },
    {
      "cell_type": "code",
      "metadata": {
        "originalKey": "ad6abb91-38e7-4748-92d3-c588a6c3ce8b",
        "showInput": true,
        "customInput": null,
        "collapsed": false,
        "requestMsgId": "5dd39dec-246b-4b49-bd45-ed02fdb327cc",
        "executionStartTime": 1674940661677,
        "executionStopTime": 1674940661712,
        "customOutput": null
      },
      "source": [
        "abalone_data = abalone_data.loc[abalone_data[\"Shell Weight\"] < Shell_Weight_outlier] \n",
        "abalone_data.info()"
      ],
      "execution_count": 43,
      "outputs": [
        {
          "output_type": "stream",
          "name": "stdout",
          "text": [
            "<class 'pandas.core.frame.DataFrame'>\nInt64Index: 4043 entries, 0 to 4175\nData columns (total 9 columns):\n #   Column          Non-Null Count  Dtype  \n---  ------          --------------  -----  \n 0   Sex             4043 non-null   object \n 1   Length          4043 non-null   float64\n 2   Diameter        4043 non-null   float64\n 3   Height          4043 non-null   float64\n 4   Whole Weight    4043 non-null   float64\n 5   Shucked Weight  4043 non-null   float64\n 6   Viscera Weight  4043 non-null   float64\n 7   Shell Weight    4043 non-null   float64\n 8   Rings           4043 non-null   int64  \ndtypes: float64(7), int64(1), object(1)\nmemory usage: 315.9+ KB\n"
          ]
        }
      ]
    },
    {
      "cell_type": "code",
      "metadata": {
        "originalKey": "e1a9c6e0-ca48-4eb8-9164-e40c4c9b1409",
        "showInput": true,
        "customInput": null,
        "collapsed": false,
        "requestMsgId": "549242ce-c0da-4fbd-a8a6-66d52578b76a",
        "executionStartTime": 1674940661849,
        "executionStopTime": 1674940661866,
        "customOutput": null
      },
      "source": [
        "abalone_data = abalone_data.loc[abalone_data[\"Rings\"] < Rings_outlier] \n",
        "abalone_data.info()"
      ],
      "execution_count": 44,
      "outputs": [
        {
          "output_type": "stream",
          "name": "stdout",
          "text": [
            "<class 'pandas.core.frame.DataFrame'>\nInt64Index: 3921 entries, 0 to 4175\nData columns (total 9 columns):\n #   Column          Non-Null Count  Dtype  \n---  ------          --------------  -----  \n 0   Sex             3921 non-null   object \n 1   Length          3921 non-null   float64\n 2   Diameter        3921 non-null   float64\n 3   Height          3921 non-null   float64\n 4   Whole Weight    3921 non-null   float64\n 5   Shucked Weight  3921 non-null   float64\n 6   Viscera Weight  3921 non-null   float64\n 7   Shell Weight    3921 non-null   float64\n 8   Rings           3921 non-null   int64  \ndtypes: float64(7), int64(1), object(1)\nmemory usage: 306.3+ KB\n"
          ]
        }
      ]
    },
    {
      "cell_type": "code",
      "metadata": {
        "originalKey": "62e7a8d9-fa58-4ae9-aadb-6c4839e87b8a",
        "showInput": true,
        "customInput": null,
        "collapsed": false,
        "requestMsgId": "3fcfa371-b584-4f60-8ed1-42bd5e3e47f6",
        "executionStartTime": 1674940661997,
        "executionStopTime": 1674940662013,
        "customOutput": null
      },
      "source": [
        "(4177-3921)/4177"
      ],
      "execution_count": 45,
      "outputs": [
        {
          "output_type": "execute_result",
          "data": {
            "text/plain": "0.06128800574575054"
          },
          "metadata": {
            "bento_obj_id": "139925111864912"
          },
          "execution_count": 45
        }
      ]
    },
    {
      "cell_type": "code",
      "metadata": {
        "originalKey": "06e96fb4-6eba-48f1-9b3d-e0460454ad85",
        "showInput": true,
        "customInput": null,
        "collapsed": false,
        "requestMsgId": "b9a0871f-a048-4157-8984-11002c448b49",
        "executionStartTime": 1674940662137,
        "executionStopTime": 1674940662146,
        "customOutput": null
      },
      "source": [
        "# 6% of the data being outliers is not good, but manageable. Should be investigated more."
      ],
      "execution_count": 46,
      "outputs": []
    },
    {
      "cell_type": "code",
      "metadata": {
        "originalKey": "1a207d61-fbe6-4bf6-ab59-78bdd6ce8ef4",
        "showInput": true,
        "customInput": null,
        "collapsed": false,
        "requestMsgId": "86ce0a25-c604-45fd-afad-f14ad83fe77e",
        "executionStartTime": 1674940662277,
        "executionStopTime": 1674940662333,
        "customOutput": null
      },
      "source": [
        "abalone_data.corr()"
      ],
      "execution_count": 47,
      "outputs": [
        {
          "output_type": "execute_result",
          "data": {
            "text/plain": "                  Length  Diameter  ...  Shell Weight     Rings\nLength          1.000000  0.986450  ...      0.915018  0.596237\nDiameter        0.986450  1.000000  ...      0.922958  0.613117\nHeight          0.896889  0.902887  ...      0.895465  0.632464\nWhole Weight    0.933813  0.934379  ...      0.961259  0.566127\nShucked Weight  0.909314  0.905288  ...      0.900039  0.465297\nViscera Weight  0.907411  0.904576  ...      0.921241  0.545388\nShell Weight    0.915018  0.922958  ...      1.000000  0.636860\nRings           0.596237  0.613117  ...      0.636860  1.000000\n\n[8 rows x 8 columns]",
            "text/html": "<div>\n<style scoped>\n    .dataframe tbody tr th:only-of-type {\n        vertical-align: middle;\n    }\n\n    .dataframe tbody tr th {\n        vertical-align: top;\n    }\n\n    .dataframe thead th {\n        text-align: right;\n    }\n</style>\n<table border=\"1\" class=\"dataframe\">\n  <thead>\n    <tr style=\"text-align: right;\">\n      <th></th>\n      <th>Length</th>\n      <th>Diameter</th>\n      <th>Height</th>\n      <th>Whole Weight</th>\n      <th>Shucked Weight</th>\n      <th>Viscera Weight</th>\n      <th>Shell Weight</th>\n      <th>Rings</th>\n    </tr>\n  </thead>\n  <tbody>\n    <tr>\n      <th>Length</th>\n      <td>1.000000</td>\n      <td>0.986450</td>\n      <td>0.896889</td>\n      <td>0.933813</td>\n      <td>0.909314</td>\n      <td>0.907411</td>\n      <td>0.915018</td>\n      <td>0.596237</td>\n    </tr>\n    <tr>\n      <th>Diameter</th>\n      <td>0.986450</td>\n      <td>1.000000</td>\n      <td>0.902887</td>\n      <td>0.934379</td>\n      <td>0.905288</td>\n      <td>0.904576</td>\n      <td>0.922958</td>\n      <td>0.613117</td>\n    </tr>\n    <tr>\n      <th>Height</th>\n      <td>0.896889</td>\n      <td>0.902887</td>\n      <td>1.000000</td>\n      <td>0.888870</td>\n      <td>0.841853</td>\n      <td>0.867910</td>\n      <td>0.895465</td>\n      <td>0.632464</td>\n    </tr>\n    <tr>\n      <th>Whole Weight</th>\n      <td>0.933813</td>\n      <td>0.934379</td>\n      <td>0.888870</td>\n      <td>1.000000</td>\n      <td>0.972608</td>\n      <td>0.967033</td>\n      <td>0.961259</td>\n      <td>0.566127</td>\n    </tr>\n    <tr>\n      <th>Shucked Weight</th>\n      <td>0.909314</td>\n      <td>0.905288</td>\n      <td>0.841853</td>\n      <td>0.972608</td>\n      <td>1.000000</td>\n      <td>0.931104</td>\n      <td>0.900039</td>\n      <td>0.465297</td>\n    </tr>\n    <tr>\n      <th>Viscera Weight</th>\n      <td>0.907411</td>\n      <td>0.904576</td>\n      <td>0.867910</td>\n      <td>0.967033</td>\n      <td>0.931104</td>\n      <td>1.000000</td>\n      <td>0.921241</td>\n      <td>0.545388</td>\n    </tr>\n    <tr>\n      <th>Shell Weight</th>\n      <td>0.915018</td>\n      <td>0.922958</td>\n      <td>0.895465</td>\n      <td>0.961259</td>\n      <td>0.900039</td>\n      <td>0.921241</td>\n      <td>1.000000</td>\n      <td>0.636860</td>\n    </tr>\n    <tr>\n      <th>Rings</th>\n      <td>0.596237</td>\n      <td>0.613117</td>\n      <td>0.632464</td>\n      <td>0.566127</td>\n      <td>0.465297</td>\n      <td>0.545388</td>\n      <td>0.636860</td>\n      <td>1.000000</td>\n    </tr>\n  </tbody>\n</table>\n</div>",
            "application/vnd.dataresource+json": {
              "schema": {
                "fields": [
                  {
                    "name": "index",
                    "type": "string"
                  },
                  {
                    "name": "Length",
                    "type": "number"
                  },
                  {
                    "name": "Diameter",
                    "type": "number"
                  },
                  {
                    "name": "Height",
                    "type": "number"
                  },
                  {
                    "name": "Whole Weight",
                    "type": "number"
                  },
                  {
                    "name": "Shucked Weight",
                    "type": "number"
                  },
                  {
                    "name": "Viscera Weight",
                    "type": "number"
                  },
                  {
                    "name": "Shell Weight",
                    "type": "number"
                  },
                  {
                    "name": "Rings",
                    "type": "number"
                  }
                ],
                "primaryKey": [
                  "index"
                ],
                "pandas_version": "0.20.0"
              },
              "data": [
                {
                  "index": "Length",
                  "Length": 1,
                  "Diameter": 0.9864503424,
                  "Height": 0.8968889022,
                  "Whole Weight": 0.9338129207,
                  "Shucked Weight": 0.9093138944,
                  "Viscera Weight": 0.9074114339,
                  "Shell Weight": 0.9150179496,
                  "Rings": 0.5962367107
                },
                {
                  "index": "Diameter",
                  "Length": 0.9864503424,
                  "Diameter": 1,
                  "Height": 0.9028874948,
                  "Whole Weight": 0.9343793586,
                  "Shucked Weight": 0.9052884855,
                  "Viscera Weight": 0.904575615,
                  "Shell Weight": 0.9229579808,
                  "Rings": 0.6131165897
                },
                {
                  "index": "Height",
                  "Length": 0.8968889022,
                  "Diameter": 0.9028874948,
                  "Height": 1,
                  "Whole Weight": 0.8888701178,
                  "Shucked Weight": 0.8418530183,
                  "Viscera Weight": 0.8679103732,
                  "Shell Weight": 0.8954650697,
                  "Rings": 0.6324642888
                },
                {
                  "index": "Whole Weight",
                  "Length": 0.9338129207,
                  "Diameter": 0.9343793586,
                  "Height": 0.8888701178,
                  "Whole Weight": 1,
                  "Shucked Weight": 0.972607852,
                  "Viscera Weight": 0.9670332478,
                  "Shell Weight": 0.9612589722,
                  "Rings": 0.56612684
                },
                {
                  "index": "Shucked Weight",
                  "Length": 0.9093138944,
                  "Diameter": 0.9052884855,
                  "Height": 0.8418530183,
                  "Whole Weight": 0.972607852,
                  "Shucked Weight": 1,
                  "Viscera Weight": 0.9311037266,
                  "Shell Weight": 0.9000393972,
                  "Rings": 0.4652966698
                },
                {
                  "index": "Viscera Weight",
                  "Length": 0.9074114339,
                  "Diameter": 0.904575615,
                  "Height": 0.8679103732,
                  "Whole Weight": 0.9670332478,
                  "Shucked Weight": 0.9311037266,
                  "Viscera Weight": 1,
                  "Shell Weight": 0.9212409588,
                  "Rings": 0.5453876594
                },
                {
                  "index": "Shell Weight",
                  "Length": 0.9150179496,
                  "Diameter": 0.9229579808,
                  "Height": 0.8954650697,
                  "Whole Weight": 0.9612589722,
                  "Shucked Weight": 0.9000393972,
                  "Viscera Weight": 0.9212409588,
                  "Shell Weight": 1,
                  "Rings": 0.6368604218
                },
                {
                  "index": "Rings",
                  "Length": 0.5962367107,
                  "Diameter": 0.6131165897,
                  "Height": 0.6324642888,
                  "Whole Weight": 0.56612684,
                  "Shucked Weight": 0.4652966698,
                  "Viscera Weight": 0.5453876594,
                  "Shell Weight": 0.6368604218,
                  "Rings": 1
                }
              ]
            }
          },
          "metadata": {
            "bento_obj_id": "139926447811648"
          },
          "execution_count": 47
        }
      ]
    },
    {
      "cell_type": "code",
      "metadata": {
        "originalKey": "bc2dbcbf-db54-4d9c-9e60-b545f18357f0",
        "showInput": true,
        "customInput": null,
        "customOutput": null,
        "collapsed": false,
        "requestMsgId": "9c8d90b4-6c5d-421b-a31d-4284c7fa4dcd",
        "executionStartTime": 1674940662477,
        "executionStopTime": 1674940662485
      },
      "source": [
        "# Here is where we should move all the graphs to.\n",
        "\n",
        "# scatter_matrix is also excellent"
      ],
      "execution_count": 48,
      "outputs": []
    },
    {
      "cell_type": "code",
      "metadata": {
        "originalKey": "8ca1c55d-c67f-4391-8ea3-4ac89f161d3e",
        "showInput": true,
        "customInput": null,
        "collapsed": false,
        "requestMsgId": "78b23dbf-3f57-4447-ab82-5b0f376b6081",
        "executionStartTime": 1674940662608,
        "executionStopTime": 1674940664387,
        "customOutput": null
      },
      "source": [
        "# Scatterplot for Lenght and Whole Weight\n",
        "# You typically want to graph before cleaning and train test splitting, etc, but the more important graph would come at the end\n",
        "\n",
        "fig = plt.figure(figsize=(10, 7))  # set figure size\n",
        "plt.scatter(abalone_data[\"Length\"], abalone_data[\"Whole Weight\"])\n",
        "plt.title(\"Length x Whole Weight\")\n",
        "plt.xlabel(\"Length\")\n",
        "plt.ylabel(\"Whole Weight\")"
      ],
      "execution_count": 49,
      "outputs": [
        {
          "output_type": "stream",
          "name": "stderr",
          "text": [
            "I0128 131743.487 font_manager.py:1349] generated new fontManager\n"
          ]
        },
        {
          "output_type": "execute_result",
          "data": {
            "text/plain": "Text(0, 0.5, 'Whole Weight')"
          },
          "metadata": {
            "bento_obj_id": "139925045353440"
          },
          "execution_count": 49
        },
        {
          "output_type": "display_data",
          "data": {
            "text/plain": "<Figure size 720x504 with 1 Axes>",
            "image/png": "[encoded data removed]"
          },
          "metadata": {
            "bento_obj_id": "139925083070176",
            "needs_background": "light"
          }
        }
      ]
    },
    {
      "cell_type": "code",
      "metadata": {
        "originalKey": "94cc14f9-f05c-4d42-a4df-9480eae1bd5e",
        "showInput": true,
        "customInput": null,
        "collapsed": false,
        "requestMsgId": "ac948b7f-e2c4-40f1-895a-6c4f4164ebb7",
        "executionStartTime": 1674940664526,
        "executionStopTime": 1674940664901,
        "customOutput": null
      },
      "source": [
        "# Scatterplot for Length and Rings\n",
        "\n",
        "fig = plt.figure(figsize=(10, 7))  # set figure size\n",
        "plt.scatter(abalone_data[\"Length\"], abalone_data[\"Rings\"])\n",
        "plt.title(\"Length x Rings\")\n",
        "plt.xlabel(\"Length\")\n",
        "plt.ylabel(\"Rings\")"
      ],
      "execution_count": 50,
      "outputs": [
        {
          "output_type": "execute_result",
          "data": {
            "text/plain": "Text(0, 0.5, 'Rings')"
          },
          "metadata": {
            "bento_obj_id": "139925026472048"
          },
          "execution_count": 50
        },
        {
          "output_type": "display_data",
          "data": {
            "text/plain": "<Figure size 720x504 with 1 Axes>",
            "image/png": "[encoded data removed]"
          },
          "metadata": {
            "bento_obj_id": "139925028845360",
            "needs_background": "light"
          }
        }
      ]
    },
    {
      "cell_type": "code",
      "metadata": {
        "originalKey": "18988772-dbe9-49b1-91f5-3ba1d6c1ec17",
        "showInput": true,
        "customInput": null,
        "collapsed": false,
        "requestMsgId": "fc55d8db-c7cf-426e-861f-f3740dced18e",
        "executionStartTime": 1674940665024,
        "executionStopTime": 1674940665320,
        "customOutput": null
      },
      "source": [
        "# Scatterplot for Sex and Rings\n",
        "\n",
        "fig = plt.figure(figsize=(10, 7))  # set figure size\n",
        "plt.scatter(abalone_data[\"Sex\"], abalone_data[\"Rings\"])\n",
        "plt.title(\"Sex x Rings\")\n",
        "plt.xlabel(\"Sex\")\n",
        "plt.ylabel(\"Rings\")"
      ],
      "execution_count": 51,
      "outputs": [
        {
          "output_type": "execute_result",
          "data": {
            "text/plain": "Text(0, 0.5, 'Rings')"
          },
          "metadata": {
            "bento_obj_id": "139925019993424"
          },
          "execution_count": 51
        },
        {
          "output_type": "display_data",
          "data": {
            "text/plain": "<Figure size 720x504 with 1 Axes>",
            "image/png": "[encoded data removed]"
          },
          "metadata": {
            "bento_obj_id": "139925024424336",
            "needs_background": "light"
          }
        }
      ]
    },
    {
      "cell_type": "code",
      "metadata": {
        "originalKey": "1cb92b0c-b5c2-40fe-8fd1-ba343669b4e7",
        "showInput": true,
        "customInput": null,
        "collapsed": false,
        "requestMsgId": "163d342d-053e-486c-baaa-6761603305ae",
        "executionStartTime": 1674940665473,
        "executionStopTime": 1674940665814,
        "customOutput": null
      },
      "source": [
        "# Scatterplot for Diameter and Rings\n",
        "\n",
        "fig = plt.figure(figsize=(10, 7))  # set figure size\n",
        "plt.scatter(abalone_data[\"Diameter\"], abalone_data[\"Rings\"])\n",
        "plt.title(\"Diameter x Rings\")\n",
        "plt.xlabel(\"Diameter\")\n",
        "plt.ylabel(\"Rings\")"
      ],
      "execution_count": 52,
      "outputs": [
        {
          "output_type": "execute_result",
          "data": {
            "text/plain": "Text(0, 0.5, 'Rings')"
          },
          "metadata": {
            "bento_obj_id": "139925033097824"
          },
          "execution_count": 52
        },
        {
          "output_type": "display_data",
          "data": {
            "text/plain": "<Figure size 720x504 with 1 Axes>",
            "image/png": "[encoded data removed]"
          },
          "metadata": {
            "bento_obj_id": "139925033835440",
            "needs_background": "light"
          }
        }
      ]
    },
    {
      "cell_type": "code",
      "metadata": {
        "originalKey": "82ea4afb-d04c-47ba-bd98-c7ab3c27f80e",
        "showInput": true,
        "customInput": null,
        "collapsed": false,
        "requestMsgId": "61244b86-623d-426b-a979-cf76c1bfe19c",
        "executionStartTime": 1674940665952,
        "executionStopTime": 1674940666331,
        "customOutput": null
      },
      "source": [
        "# Scatterplot for Whole Weight and Rings\n",
        "\n",
        "fig = plt.figure(figsize=(10, 7))  # set figure size\n",
        "plt.scatter(abalone_data[\"Whole Weight\"], abalone_data[\"Rings\"])\n",
        "plt.title(\"Whole Weight x Rings\")\n",
        "plt.xlabel(\"Whole Weight\")\n",
        "plt.ylabel(\"Rings\")"
      ],
      "execution_count": 53,
      "outputs": [
        {
          "output_type": "execute_result",
          "data": {
            "text/plain": "Text(0, 0.5, 'Rings')"
          },
          "metadata": {
            "bento_obj_id": "139925028858080"
          },
          "execution_count": 53
        },
        {
          "output_type": "display_data",
          "data": {
            "text/plain": "<Figure size 720x504 with 1 Axes>",
            "image/png": "[encoded data removed]"
          },
          "metadata": {
            "bento_obj_id": "139925029052224",
            "needs_background": "light"
          }
        }
      ]
    },
    {
      "cell_type": "code",
      "metadata": {
        "originalKey": "82de5770-13fb-493c-a553-1cf90b85aba7",
        "showInput": true,
        "customInput": null,
        "collapsed": false,
        "requestMsgId": "9f99bb65-aec4-496e-bb37-cc2307a59672",
        "executionStartTime": 1674940666457,
        "executionStopTime": 1674940666608,
        "customOutput": null
      },
      "source": [
        "plt.matshow(abalone_data.corr())\n",
        "plt.show()"
      ],
      "execution_count": 54,
      "outputs": [
        {
          "output_type": "display_data",
          "data": {
            "text/plain": "<Figure size 288x288 with 1 Axes>",
            "image/png": "[encoded data removed]"
          },
          "metadata": {
            "bento_obj_id": "139925028927088",
            "needs_background": "light"
          }
        }
      ]
    },
    {
      "cell_type": "code",
      "metadata": {
        "originalKey": "09612c5a-dbae-457f-b22e-d2b4ec4d8810",
        "showInput": true,
        "customInput": null,
        "collapsed": false,
        "requestMsgId": "6ff3f3cf-7598-4f7f-bf5c-9097d5eec587",
        "executionStartTime": 1674940666734,
        "executionStopTime": 1674940666782,
        "customOutput": null
      },
      "source": [
        "abalone_data.corr()"
      ],
      "execution_count": 55,
      "outputs": [
        {
          "output_type": "execute_result",
          "data": {
            "text/plain": "                  Length  Diameter  ...  Shell Weight     Rings\nLength          1.000000  0.986450  ...      0.915018  0.596237\nDiameter        0.986450  1.000000  ...      0.922958  0.613117\nHeight          0.896889  0.902887  ...      0.895465  0.632464\nWhole Weight    0.933813  0.934379  ...      0.961259  0.566127\nShucked Weight  0.909314  0.905288  ...      0.900039  0.465297\nViscera Weight  0.907411  0.904576  ...      0.921241  0.545388\nShell Weight    0.915018  0.922958  ...      1.000000  0.636860\nRings           0.596237  0.613117  ...      0.636860  1.000000\n\n[8 rows x 8 columns]",
            "text/html": "<div>\n<style scoped>\n    .dataframe tbody tr th:only-of-type {\n        vertical-align: middle;\n    }\n\n    .dataframe tbody tr th {\n        vertical-align: top;\n    }\n\n    .dataframe thead th {\n        text-align: right;\n    }\n</style>\n<table border=\"1\" class=\"dataframe\">\n  <thead>\n    <tr style=\"text-align: right;\">\n      <th></th>\n      <th>Length</th>\n      <th>Diameter</th>\n      <th>Height</th>\n      <th>Whole Weight</th>\n      <th>Shucked Weight</th>\n      <th>Viscera Weight</th>\n      <th>Shell Weight</th>\n      <th>Rings</th>\n    </tr>\n  </thead>\n  <tbody>\n    <tr>\n      <th>Length</th>\n      <td>1.000000</td>\n      <td>0.986450</td>\n      <td>0.896889</td>\n      <td>0.933813</td>\n      <td>0.909314</td>\n      <td>0.907411</td>\n      <td>0.915018</td>\n      <td>0.596237</td>\n    </tr>\n    <tr>\n      <th>Diameter</th>\n      <td>0.986450</td>\n      <td>1.000000</td>\n      <td>0.902887</td>\n      <td>0.934379</td>\n      <td>0.905288</td>\n      <td>0.904576</td>\n      <td>0.922958</td>\n      <td>0.613117</td>\n    </tr>\n    <tr>\n      <th>Height</th>\n      <td>0.896889</td>\n      <td>0.902887</td>\n      <td>1.000000</td>\n      <td>0.888870</td>\n      <td>0.841853</td>\n      <td>0.867910</td>\n      <td>0.895465</td>\n      <td>0.632464</td>\n    </tr>\n    <tr>\n      <th>Whole Weight</th>\n      <td>0.933813</td>\n      <td>0.934379</td>\n      <td>0.888870</td>\n      <td>1.000000</td>\n      <td>0.972608</td>\n      <td>0.967033</td>\n      <td>0.961259</td>\n      <td>0.566127</td>\n    </tr>\n    <tr>\n      <th>Shucked Weight</th>\n      <td>0.909314</td>\n      <td>0.905288</td>\n      <td>0.841853</td>\n      <td>0.972608</td>\n      <td>1.000000</td>\n      <td>0.931104</td>\n      <td>0.900039</td>\n      <td>0.465297</td>\n    </tr>\n    <tr>\n      <th>Viscera Weight</th>\n      <td>0.907411</td>\n      <td>0.904576</td>\n      <td>0.867910</td>\n      <td>0.967033</td>\n      <td>0.931104</td>\n      <td>1.000000</td>\n      <td>0.921241</td>\n      <td>0.545388</td>\n    </tr>\n    <tr>\n      <th>Shell Weight</th>\n      <td>0.915018</td>\n      <td>0.922958</td>\n      <td>0.895465</td>\n      <td>0.961259</td>\n      <td>0.900039</td>\n      <td>0.921241</td>\n      <td>1.000000</td>\n      <td>0.636860</td>\n    </tr>\n    <tr>\n      <th>Rings</th>\n      <td>0.596237</td>\n      <td>0.613117</td>\n      <td>0.632464</td>\n      <td>0.566127</td>\n      <td>0.465297</td>\n      <td>0.545388</td>\n      <td>0.636860</td>\n      <td>1.000000</td>\n    </tr>\n  </tbody>\n</table>\n</div>",
            "application/vnd.dataresource+json": {
              "schema": {
                "fields": [
                  {
                    "name": "index",
                    "type": "string"
                  },
                  {
                    "name": "Length",
                    "type": "number"
                  },
                  {
                    "name": "Diameter",
                    "type": "number"
                  },
                  {
                    "name": "Height",
                    "type": "number"
                  },
                  {
                    "name": "Whole Weight",
                    "type": "number"
                  },
                  {
                    "name": "Shucked Weight",
                    "type": "number"
                  },
                  {
                    "name": "Viscera Weight",
                    "type": "number"
                  },
                  {
                    "name": "Shell Weight",
                    "type": "number"
                  },
                  {
                    "name": "Rings",
                    "type": "number"
                  }
                ],
                "primaryKey": [
                  "index"
                ],
                "pandas_version": "0.20.0"
              },
              "data": [
                {
                  "index": "Length",
                  "Length": 1,
                  "Diameter": 0.9864503424,
                  "Height": 0.8968889022,
                  "Whole Weight": 0.9338129207,
                  "Shucked Weight": 0.9093138944,
                  "Viscera Weight": 0.9074114339,
                  "Shell Weight": 0.9150179496,
                  "Rings": 0.5962367107
                },
                {
                  "index": "Diameter",
                  "Length": 0.9864503424,
                  "Diameter": 1,
                  "Height": 0.9028874948,
                  "Whole Weight": 0.9343793586,
                  "Shucked Weight": 0.9052884855,
                  "Viscera Weight": 0.904575615,
                  "Shell Weight": 0.9229579808,
                  "Rings": 0.6131165897
                },
                {
                  "index": "Height",
                  "Length": 0.8968889022,
                  "Diameter": 0.9028874948,
                  "Height": 1,
                  "Whole Weight": 0.8888701178,
                  "Shucked Weight": 0.8418530183,
                  "Viscera Weight": 0.8679103732,
                  "Shell Weight": 0.8954650697,
                  "Rings": 0.6324642888
                },
                {
                  "index": "Whole Weight",
                  "Length": 0.9338129207,
                  "Diameter": 0.9343793586,
                  "Height": 0.8888701178,
                  "Whole Weight": 1,
                  "Shucked Weight": 0.972607852,
                  "Viscera Weight": 0.9670332478,
                  "Shell Weight": 0.9612589722,
                  "Rings": 0.56612684
                },
                {
                  "index": "Shucked Weight",
                  "Length": 0.9093138944,
                  "Diameter": 0.9052884855,
                  "Height": 0.8418530183,
                  "Whole Weight": 0.972607852,
                  "Shucked Weight": 1,
                  "Viscera Weight": 0.9311037266,
                  "Shell Weight": 0.9000393972,
                  "Rings": 0.4652966698
                },
                {
                  "index": "Viscera Weight",
                  "Length": 0.9074114339,
                  "Diameter": 0.904575615,
                  "Height": 0.8679103732,
                  "Whole Weight": 0.9670332478,
                  "Shucked Weight": 0.9311037266,
                  "Viscera Weight": 1,
                  "Shell Weight": 0.9212409588,
                  "Rings": 0.5453876594
                },
                {
                  "index": "Shell Weight",
                  "Length": 0.9150179496,
                  "Diameter": 0.9229579808,
                  "Height": 0.8954650697,
                  "Whole Weight": 0.9612589722,
                  "Shucked Weight": 0.9000393972,
                  "Viscera Weight": 0.9212409588,
                  "Shell Weight": 1,
                  "Rings": 0.6368604218
                },
                {
                  "index": "Rings",
                  "Length": 0.5962367107,
                  "Diameter": 0.6131165897,
                  "Height": 0.6324642888,
                  "Whole Weight": 0.56612684,
                  "Shucked Weight": 0.4652966698,
                  "Viscera Weight": 0.5453876594,
                  "Shell Weight": 0.6368604218,
                  "Rings": 1
                }
              ]
            }
          },
          "metadata": {
            "bento_obj_id": "139925019994576"
          },
          "execution_count": 55
        }
      ]
    },
    {
      "cell_type": "code",
      "metadata": {
        "originalKey": "71802c95-7134-4aff-9ea2-7e8c60f9f88e",
        "showInput": true,
        "customInput": null,
        "collapsed": false,
        "requestMsgId": "5f227195-d65e-417a-a172-b911b1cfd0e9",
        "executionStartTime": 1674940666909,
        "executionStopTime": 1674940666970,
        "customOutput": null
      },
      "source": [
        "# train/test split\n",
        "\n",
        "from sklearn.model_selection import train_test_split\n",
        "\n",
        "abalone_data_train, abalone_data_test = train_test_split(abalone_data, test_size=0.25, random_state=18)"
      ],
      "execution_count": 56,
      "outputs": []
    },
    {
      "cell_type": "code",
      "metadata": {
        "originalKey": "b2dd8462-cbc2-44b6-8b6d-ad4527523100",
        "showInput": true,
        "customInput": null,
        "collapsed": false,
        "requestMsgId": "53728407-7710-45c9-8437-0273f080847a",
        "executionStartTime": 1674940667100,
        "executionStopTime": 1674940667116,
        "customOutput": null
      },
      "source": [
        "abalone_data_train.info()"
      ],
      "execution_count": 57,
      "outputs": [
        {
          "output_type": "stream",
          "name": "stdout",
          "text": [
            "<class 'pandas.core.frame.DataFrame'>\nInt64Index: 2940 entries, 120 to 3605\nData columns (total 9 columns):\n #   Column          Non-Null Count  Dtype  \n---  ------          --------------  -----  \n 0   Sex             2940 non-null   object \n 1   Length          2940 non-null   float64\n 2   Diameter        2940 non-null   float64\n 3   Height          2940 non-null   float64\n 4   Whole Weight    2940 non-null   float64\n 5   Shucked Weight  2940 non-null   float64\n 6   Viscera Weight  2940 non-null   float64\n 7   Shell Weight    2940 non-null   float64\n 8   Rings           2940 non-null   int64  \ndtypes: float64(7), int64(1), object(1)\nmemory usage: 229.7+ KB\n"
          ]
        }
      ]
    },
    {
      "cell_type": "code",
      "metadata": {
        "originalKey": "bcdf5410-9941-4f88-87d0-e79f07e7ca39",
        "showInput": true,
        "customInput": null,
        "collapsed": false,
        "requestMsgId": "720a7786-0efa-4c9d-a3da-f7e7ba11387e",
        "executionStartTime": 1674940667257,
        "executionStopTime": 1674940667321,
        "customOutput": null
      },
      "source": [
        "abalone_data_train.head()"
      ],
      "execution_count": 58,
      "outputs": [
        {
          "output_type": "execute_result",
          "data": {
            "text/plain": "     Sex  Length  Diameter  ...  Viscera Weight  Shell Weight  Rings\n120    F   0.470     0.365  ...          0.1035        0.1400      9\n3064   M   0.635     0.500  ...          0.2315        0.3870      9\n3343   F   0.455     0.365  ...          0.0460        0.1345     13\n2263   F   0.620     0.510  ...          0.2875        0.3200     13\n1112   F   0.520     0.460  ...          0.1985        0.2540      7\n\n[5 rows x 9 columns]",
            "text/html": "<div>\n<style scoped>\n    .dataframe tbody tr th:only-of-type {\n        vertical-align: middle;\n    }\n\n    .dataframe tbody tr th {\n        vertical-align: top;\n    }\n\n    .dataframe thead th {\n        text-align: right;\n    }\n</style>\n<table border=\"1\" class=\"dataframe\">\n  <thead>\n    <tr style=\"text-align: right;\">\n      <th></th>\n      <th>Sex</th>\n      <th>Length</th>\n      <th>Diameter</th>\n      <th>Height</th>\n      <th>Whole Weight</th>\n      <th>Shucked Weight</th>\n      <th>Viscera Weight</th>\n      <th>Shell Weight</th>\n      <th>Rings</th>\n    </tr>\n  </thead>\n  <tbody>\n    <tr>\n      <th>120</th>\n      <td>F</td>\n      <td>0.470</td>\n      <td>0.365</td>\n      <td>0.105</td>\n      <td>0.4205</td>\n      <td>0.1630</td>\n      <td>0.1035</td>\n      <td>0.1400</td>\n      <td>9</td>\n    </tr>\n    <tr>\n      <th>3064</th>\n      <td>M</td>\n      <td>0.635</td>\n      <td>0.500</td>\n      <td>0.180</td>\n      <td>1.1540</td>\n      <td>0.4405</td>\n      <td>0.2315</td>\n      <td>0.3870</td>\n      <td>9</td>\n    </tr>\n    <tr>\n      <th>3343</th>\n      <td>F</td>\n      <td>0.455</td>\n      <td>0.365</td>\n      <td>0.110</td>\n      <td>0.3850</td>\n      <td>0.1660</td>\n      <td>0.0460</td>\n      <td>0.1345</td>\n      <td>13</td>\n    </tr>\n    <tr>\n      <th>2263</th>\n      <td>F</td>\n      <td>0.620</td>\n      <td>0.510</td>\n      <td>0.150</td>\n      <td>1.4560</td>\n      <td>0.5810</td>\n      <td>0.2875</td>\n      <td>0.3200</td>\n      <td>13</td>\n    </tr>\n    <tr>\n      <th>1112</th>\n      <td>F</td>\n      <td>0.520</td>\n      <td>0.460</td>\n      <td>0.150</td>\n      <td>1.0190</td>\n      <td>0.5230</td>\n      <td>0.1985</td>\n      <td>0.2540</td>\n      <td>7</td>\n    </tr>\n  </tbody>\n</table>\n</div>",
            "application/vnd.dataresource+json": {
              "schema": {
                "fields": [
                  {
                    "name": "index",
                    "type": "integer"
                  },
                  {
                    "name": "Sex",
                    "type": "string"
                  },
                  {
                    "name": "Length",
                    "type": "number"
                  },
                  {
                    "name": "Diameter",
                    "type": "number"
                  },
                  {
                    "name": "Height",
                    "type": "number"
                  },
                  {
                    "name": "Whole Weight",
                    "type": "number"
                  },
                  {
                    "name": "Shucked Weight",
                    "type": "number"
                  },
                  {
                    "name": "Viscera Weight",
                    "type": "number"
                  },
                  {
                    "name": "Shell Weight",
                    "type": "number"
                  },
                  {
                    "name": "Rings",
                    "type": "integer"
                  }
                ],
                "primaryKey": [
                  "index"
                ],
                "pandas_version": "0.20.0"
              },
              "data": [
                {
                  "index": 120,
                  "Sex": "F",
                  "Length": 0.47,
                  "Diameter": 0.365,
                  "Height": 0.105,
                  "Whole Weight": 0.4205,
                  "Shucked Weight": 0.163,
                  "Viscera Weight": 0.1035,
                  "Shell Weight": 0.14,
                  "Rings": 9
                },
                {
                  "index": 3064,
                  "Sex": "M",
                  "Length": 0.635,
                  "Diameter": 0.5,
                  "Height": 0.18,
                  "Whole Weight": 1.154,
                  "Shucked Weight": 0.4405,
                  "Viscera Weight": 0.2315,
                  "Shell Weight": 0.387,
                  "Rings": 9
                },
                {
                  "index": 3343,
                  "Sex": "F",
                  "Length": 0.455,
                  "Diameter": 0.365,
                  "Height": 0.11,
                  "Whole Weight": 0.385,
                  "Shucked Weight": 0.166,
                  "Viscera Weight": 0.046,
                  "Shell Weight": 0.1345,
                  "Rings": 13
                },
                {
                  "index": 2263,
                  "Sex": "F",
                  "Length": 0.62,
                  "Diameter": 0.51,
                  "Height": 0.15,
                  "Whole Weight": 1.456,
                  "Shucked Weight": 0.581,
                  "Viscera Weight": 0.2875,
                  "Shell Weight": 0.32,
                  "Rings": 13
                },
                {
                  "index": 1112,
                  "Sex": "F",
                  "Length": 0.52,
                  "Diameter": 0.46,
                  "Height": 0.15,
                  "Whole Weight": 1.019,
                  "Shucked Weight": 0.523,
                  "Viscera Weight": 0.1985,
                  "Shell Weight": 0.254,
                  "Rings": 7
                }
              ]
            }
          },
          "metadata": {
            "bento_obj_id": "139925025873584"
          },
          "execution_count": 58
        }
      ]
    },
    {
      "cell_type": "code",
      "metadata": {
        "originalKey": "a3c29d39-f5fb-4ed7-bc07-cf60b30b27cc",
        "showInput": true,
        "customInput": null,
        "collapsed": false,
        "requestMsgId": "0e9bd9e6-28ba-404e-8384-d2203b993cb5",
        "executionStartTime": 1674940667484,
        "executionStopTime": 1674940667495,
        "customOutput": null
      },
      "source": [
        "# dummy encode the categorical variables\n",
        "\n",
        "abalone_data_train = pd.get_dummies(abalone_data_train)\n",
        "abalone_data_test = pd.get_dummies(abalone_data_test)"
      ],
      "execution_count": 59,
      "outputs": []
    },
    {
      "cell_type": "code",
      "metadata": {
        "originalKey": "a4626bb9-6991-455a-9701-bb8192fc8667",
        "showInput": true,
        "customInput": null,
        "collapsed": false,
        "requestMsgId": "8e46a2f7-833d-4016-8c55-69ea729d8fa7",
        "executionStartTime": 1674940667625,
        "executionStopTime": 1674940667689,
        "customOutput": null
      },
      "source": [
        "abalone_data_train.info()"
      ],
      "execution_count": 60,
      "outputs": [
        {
          "output_type": "stream",
          "name": "stdout",
          "text": [
            "<class 'pandas.core.frame.DataFrame'>\nInt64Index: 2940 entries, 120 to 3605\nData columns (total 11 columns):\n #   Column          Non-Null Count  Dtype  \n---  ------          --------------  -----  \n 0   Length          2940 non-null   float64\n 1   Diameter        2940 non-null   float64\n 2   Height          2940 non-null   float64\n 3   Whole Weight    2940 non-null   float64\n 4   Shucked Weight  2940 non-null   float64\n 5   Viscera Weight  2940 non-null   float64\n 6   Shell Weight    2940 non-null   float64\n 7   Rings           2940 non-null   int64  \n 8   Sex_F           2940 non-null   uint8  \n 9   Sex_I           2940 non-null   uint8  \n 10  Sex_M           2940 non-null   uint8  \ndtypes: float64(7), int64(1), uint8(3)\nmemory usage: 215.3 KB\n"
          ]
        }
      ]
    },
    {
      "cell_type": "code",
      "metadata": {
        "originalKey": "25f990bf-5284-4cbb-ac2d-969490dad372",
        "showInput": true,
        "customInput": null,
        "collapsed": false,
        "requestMsgId": "92b4248a-cbab-4421-82b7-9c34901f7200",
        "executionStartTime": 1674940667828,
        "executionStopTime": 1674940667874,
        "customOutput": null
      },
      "source": [
        "abalone_data_test = abalone_data_test.reindex(columns = abalone_data_train.columns, fill_value = 0)\n",
        "# get_dummies makes a new column for each case of categorical data, so it's likely to have a different number of columns in the test set and the training set. Use reindex to adjust the test set to have the same number of columns as the training set, removing unneeded columns. \n",
        ""
      ],
      "execution_count": 61,
      "outputs": []
    },
    {
      "cell_type": "code",
      "metadata": {
        "originalKey": "aaf580c3-8e35-4161-af12-10565ac4a0d9",
        "showInput": true,
        "customInput": null,
        "customOutput": null,
        "collapsed": false,
        "requestMsgId": "18fed7a3-a646-4393-b2cc-63d8481205b9",
        "executionStartTime": 1674940668027,
        "executionStopTime": 1674940668040
      },
      "source": [
        "# Now scale. Consider other scaling options to increase accuracy\n",
        "\n",
        "from sklearn.preprocessing import StandardScaler\n",
        ""
      ],
      "execution_count": 62,
      "outputs": []
    },
    {
      "cell_type": "code",
      "metadata": {
        "originalKey": "1af90398-1b59-4d99-9543-6c0de18372bf",
        "showInput": true,
        "customInput": null,
        "collapsed": false,
        "requestMsgId": "941ea6b4-a984-4ee3-8a53-40144eca774c",
        "executionStartTime": 1674940668173,
        "executionStopTime": 1674940668195,
        "customOutput": null
      },
      "source": [
        "# Move the target variable 'Rings' to the end\n",
        "abalone_data_train = abalone_data_train[[c for c in abalone_data_train if c not in 'Rings'] + ['Rings']]"
      ],
      "execution_count": 63,
      "outputs": []
    },
    {
      "cell_type": "markdown",
      "metadata": {
        "originalKey": "0698feaa-4291-4784-a036-c0303a9ce448",
        "showInput": true,
        "customInput": null
      },
      "source": [
        ""
      ]
    },
    {
      "cell_type": "markdown",
      "metadata": {
        "originalKey": "0cd535c1-b428-4d66-8cd7-7f965af754c6",
        "showInput": true,
        "customInput": null
      },
      "source": [
        ""
      ]
    },
    {
      "cell_type": "markdown",
      "metadata": {
        "originalKey": "14095dcc-6632-4ce3-9a7d-31ef4204f0c8",
        "showInput": true,
        "customInput": null
      },
      "source": [
        ""
      ]
    },
    {
      "cell_type": "code",
      "metadata": {
        "originalKey": "a95a6d6b-3637-444f-b26b-80dad9b8ad62",
        "showInput": true,
        "customInput": null,
        "collapsed": false,
        "requestMsgId": "bc65e62a-8c38-4ad2-9634-8920a17a05f3",
        "executionStartTime": 1674940668320,
        "executionStopTime": 1674940668330,
        "customOutput": null
      },
      "source": [
        "# create variables separating out the target variable from the others\n",
        "X_train, y_train = abalone_data_train.iloc[:, :-1], abalone_data_train.iloc[:,[-1]]\n",
        "X_test, y_test = abalone_data_test.iloc[:, :-1], abalone_data_test.iloc[:,[-1]]"
      ],
      "execution_count": 64,
      "outputs": []
    },
    {
      "cell_type": "code",
      "metadata": {
        "originalKey": "33cf3d97-8018-4cf8-867e-cfd59705e363",
        "showInput": true,
        "customInput": null,
        "collapsed": false,
        "requestMsgId": "f9d4ff7c-e49f-4219-a6cf-7d1d9cf08f90",
        "executionStartTime": 1674942354638,
        "executionStopTime": 1674942354711
      },
      "source": [
        "X_train.head()"
      ],
      "execution_count": 82,
      "outputs": [
        {
          "output_type": "execute_result",
          "data": {
            "text/plain": "      Length  Diameter  Height  Whole Weight  ...  Shell Weight  Sex_F  Sex_I  Sex_M\n120    0.470     0.365   0.105        0.4205  ...        0.1400      1      0      0\n3064   0.635     0.500   0.180        1.1540  ...        0.3870      0      0      1\n3343   0.455     0.365   0.110        0.3850  ...        0.1345      1      0      0\n2263   0.620     0.510   0.150        1.4560  ...        0.3200      1      0      0\n1112   0.520     0.460   0.150        1.0190  ...        0.2540      1      0      0\n\n[5 rows x 10 columns]",
            "text/html": "<div>\n<style scoped>\n    .dataframe tbody tr th:only-of-type {\n        vertical-align: middle;\n    }\n\n    .dataframe tbody tr th {\n        vertical-align: top;\n    }\n\n    .dataframe thead th {\n        text-align: right;\n    }\n</style>\n<table border=\"1\" class=\"dataframe\">\n  <thead>\n    <tr style=\"text-align: right;\">\n      <th></th>\n      <th>Length</th>\n      <th>Diameter</th>\n      <th>Height</th>\n      <th>Whole Weight</th>\n      <th>Shucked Weight</th>\n      <th>Viscera Weight</th>\n      <th>Shell Weight</th>\n      <th>Sex_F</th>\n      <th>Sex_I</th>\n      <th>Sex_M</th>\n    </tr>\n  </thead>\n  <tbody>\n    <tr>\n      <th>120</th>\n      <td>0.470</td>\n      <td>0.365</td>\n      <td>0.105</td>\n      <td>0.4205</td>\n      <td>0.1630</td>\n      <td>0.1035</td>\n      <td>0.1400</td>\n      <td>1</td>\n      <td>0</td>\n      <td>0</td>\n    </tr>\n    <tr>\n      <th>3064</th>\n      <td>0.635</td>\n      <td>0.500</td>\n      <td>0.180</td>\n      <td>1.1540</td>\n      <td>0.4405</td>\n      <td>0.2315</td>\n      <td>0.3870</td>\n      <td>0</td>\n      <td>0</td>\n      <td>1</td>\n    </tr>\n    <tr>\n      <th>3343</th>\n      <td>0.455</td>\n      <td>0.365</td>\n      <td>0.110</td>\n      <td>0.3850</td>\n      <td>0.1660</td>\n      <td>0.0460</td>\n      <td>0.1345</td>\n      <td>1</td>\n      <td>0</td>\n      <td>0</td>\n    </tr>\n    <tr>\n      <th>2263</th>\n      <td>0.620</td>\n      <td>0.510</td>\n      <td>0.150</td>\n      <td>1.4560</td>\n      <td>0.5810</td>\n      <td>0.2875</td>\n      <td>0.3200</td>\n      <td>1</td>\n      <td>0</td>\n      <td>0</td>\n    </tr>\n    <tr>\n      <th>1112</th>\n      <td>0.520</td>\n      <td>0.460</td>\n      <td>0.150</td>\n      <td>1.0190</td>\n      <td>0.5230</td>\n      <td>0.1985</td>\n      <td>0.2540</td>\n      <td>1</td>\n      <td>0</td>\n      <td>0</td>\n    </tr>\n  </tbody>\n</table>\n</div>",
            "application/vnd.dataresource+json": {
              "schema": {
                "fields": [
                  {
                    "name": "index",
                    "type": "integer"
                  },
                  {
                    "name": "Length",
                    "type": "number"
                  },
                  {
                    "name": "Diameter",
                    "type": "number"
                  },
                  {
                    "name": "Height",
                    "type": "number"
                  },
                  {
                    "name": "Whole Weight",
                    "type": "number"
                  },
                  {
                    "name": "Shucked Weight",
                    "type": "number"
                  },
                  {
                    "name": "Viscera Weight",
                    "type": "number"
                  },
                  {
                    "name": "Shell Weight",
                    "type": "number"
                  },
                  {
                    "name": "Sex_F",
                    "type": "integer"
                  },
                  {
                    "name": "Sex_I",
                    "type": "integer"
                  },
                  {
                    "name": "Sex_M",
                    "type": "integer"
                  }
                ],
                "primaryKey": [
                  "index"
                ],
                "pandas_version": "0.20.0"
              },
              "data": [
                {
                  "index": 120,
                  "Length": 0.47,
                  "Diameter": 0.365,
                  "Height": 0.105,
                  "Whole Weight": 0.4205,
                  "Shucked Weight": 0.163,
                  "Viscera Weight": 0.1035,
                  "Shell Weight": 0.14,
                  "Sex_F": 1,
                  "Sex_I": 0,
                  "Sex_M": 0
                },
                {
                  "index": 3064,
                  "Length": 0.635,
                  "Diameter": 0.5,
                  "Height": 0.18,
                  "Whole Weight": 1.154,
                  "Shucked Weight": 0.4405,
                  "Viscera Weight": 0.2315,
                  "Shell Weight": 0.387,
                  "Sex_F": 0,
                  "Sex_I": 0,
                  "Sex_M": 1
                },
                {
                  "index": 3343,
                  "Length": 0.455,
                  "Diameter": 0.365,
                  "Height": 0.11,
                  "Whole Weight": 0.385,
                  "Shucked Weight": 0.166,
                  "Viscera Weight": 0.046,
                  "Shell Weight": 0.1345,
                  "Sex_F": 1,
                  "Sex_I": 0,
                  "Sex_M": 0
                },
                {
                  "index": 2263,
                  "Length": 0.62,
                  "Diameter": 0.51,
                  "Height": 0.15,
                  "Whole Weight": 1.456,
                  "Shucked Weight": 0.581,
                  "Viscera Weight": 0.2875,
                  "Shell Weight": 0.32,
                  "Sex_F": 1,
                  "Sex_I": 0,
                  "Sex_M": 0
                },
                {
                  "index": 1112,
                  "Length": 0.52,
                  "Diameter": 0.46,
                  "Height": 0.15,
                  "Whole Weight": 1.019,
                  "Shucked Weight": 0.523,
                  "Viscera Weight": 0.1985,
                  "Shell Weight": 0.254,
                  "Sex_F": 1,
                  "Sex_I": 0,
                  "Sex_M": 0
                }
              ]
            }
          },
          "metadata": {
            "bento_obj_id": "139924798983520"
          },
          "execution_count": 82
        }
      ]
    },
    {
      "cell_type": "code",
      "metadata": {
        "originalKey": "fb4c8d1c-c904-43f0-a7e0-a113f0781ca4",
        "showInput": true,
        "customInput": null,
        "collapsed": false,
        "requestMsgId": "304d7d5a-e58e-420f-a571-398cbce8ce6e",
        "executionStartTime": 1674942428145,
        "executionStopTime": 1674942428771
      },
      "source": [
        "# Now make a scatterplot but with a regression line in it. This is easier to do it seaborn.\n",
        "\n",
        "import seaborn as sns\n",
        "\n",
        "# create scatterplot with regression line and confidence interval lines\n",
        "# What is the standard way to present graphs? Do we present the training set only? Or both?\n",
        "sns.regplot(X_train[\"Length\"], X_train[\"Whole Weight\"])"
      ],
      "execution_count": 83,
      "outputs": [
        {
          "output_type": "stream",
          "name": "stderr",
          "text": [
            "/mnt/xarfuse/uid-20321/4cbaf2d2-seed-nspid4026533208_cgpid13400754-ns-4026533202/seaborn/_decorators.py:36: FutureWarning: Pass the following variables as keyword args: x, y. From version 0.12, the only valid positional argument will be `data`, and passing other arguments without an explicit keyword will result in an error or misinterpretation.\n  warnings.warn(\n"
          ]
        },
        {
          "output_type": "execute_result",
          "data": {
            "text/plain": "<matplotlib.axes._subplots.AxesSubplot at 0x7f42c7f04e80>"
          },
          "metadata": {
            "bento_obj_id": "139924798983808"
          },
          "execution_count": 83
        },
        {
          "output_type": "display_data",
          "data": {
            "text/plain": "<Figure size 432x288 with 1 Axes>",
            "image/png": "[encoded data removed]"
          },
          "metadata": {
            "bento_obj_id": "139924799117296",
            "needs_background": "light"
          }
        }
      ]
    },
    {
      "cell_type": "code",
      "metadata": {
        "originalKey": "9386588e-0866-4767-9ac7-cf8b440f2c05",
        "showInput": true,
        "customInput": null,
        "collapsed": false,
        "requestMsgId": "070686d6-04e2-44b4-96a0-a4a863fdbabe",
        "executionStartTime": 1674940668452,
        "executionStopTime": 1674940668463,
        "customOutput": null
      },
      "source": [
        "# instantiate the scaler\n",
        "scaler = StandardScaler()"
      ],
      "execution_count": 65,
      "outputs": []
    },
    {
      "cell_type": "code",
      "metadata": {
        "originalKey": "1b767b2d-8b33-45bc-b2ac-6537efcb8057",
        "showInput": true,
        "customInput": null,
        "collapsed": false,
        "requestMsgId": "b19f8ad0-b36c-4e94-ae5a-2f6ecc3f5617",
        "executionStartTime": 1674940668599,
        "executionStopTime": 1674940668623,
        "customOutput": null
      },
      "source": [
        "# fit and transform using the scaler\n",
        "rescaled_X_train = scaler.fit_transform(X_train)\n",
        "rescaled_X_test = scaler.transform(X_test)  # fit does the calculation to determine how the scaling should be done, and transform does the actual scaling. We want to transform without fitting on the test set to avoid data leakage."
      ],
      "execution_count": 66,
      "outputs": []
    },
    {
      "cell_type": "code",
      "metadata": {
        "originalKey": "05791f3d-246e-4303-867e-9c41945964de",
        "showInput": true,
        "customInput": null,
        "collapsed": false,
        "requestMsgId": "c2bacaa9-ea28-4d3e-8df9-cc74ea53ba55",
        "executionStartTime": 1674940668777,
        "executionStopTime": 1674940668789,
        "customOutput": null
      },
      "source": [
        "# Instantiate the linear regression model\n",
        "from sklearn.linear_model import LinearRegression\n",
        "linreg = LinearRegression()"
      ],
      "execution_count": 67,
      "outputs": []
    },
    {
      "cell_type": "code",
      "metadata": {
        "originalKey": "56709461-6516-4c0c-82fa-af31bec8072b",
        "showInput": true,
        "customInput": null,
        "collapsed": false,
        "requestMsgId": "3cb2a592-6f23-4fa4-ade7-d9f0f934f54c",
        "executionStartTime": 1674940668908,
        "executionStopTime": 1674940668932,
        "customOutput": null
      },
      "source": [
        ""
      ],
      "execution_count": 68,
      "outputs": []
    },
    {
      "cell_type": "code",
      "metadata": {
        "originalKey": "bd03f3a7-6463-4bfc-ad56-a723f1b9a325",
        "showInput": true,
        "customInput": null,
        "collapsed": false,
        "requestMsgId": "0fe0c849-f120-408b-81cf-3b29d93e2a89",
        "executionStartTime": 1674940669064,
        "executionStopTime": 1674940669302,
        "customOutput": null
      },
      "source": [
        "# Fit\n",
        "linreg.fit(rescaled_X_train, y_train)"
      ],
      "execution_count": 69,
      "outputs": [
        {
          "output_type": "execute_result",
          "data": {
            "text/plain": "LinearRegression(copy_X=True, fit_intercept=True, n_jobs=None, normalize=False)"
          },
          "metadata": {
            "bento_obj_id": "139925030069104"
          },
          "execution_count": 69
        }
      ]
    },
    {
      "cell_type": "code",
      "metadata": {
        "originalKey": "050d0a9a-571d-4dbf-a38b-b869afc32f16",
        "showInput": true,
        "customInput": null,
        "collapsed": false,
        "requestMsgId": "1dfacd71-faaf-4a60-a55a-41f822e17a32",
        "executionStartTime": 1674940669433,
        "executionStopTime": 1674940669450,
        "customOutput": null
      },
      "source": [
        "# Assess accuracy\n",
        "linreg.score(rescaled_X_train, y_train) #This is the training set score"
      ],
      "execution_count": 70,
      "outputs": [
        {
          "output_type": "execute_result",
          "data": {
            "text/plain": "0.5440229331495297"
          },
          "metadata": {
            "bento_obj_id": "139925020054448"
          },
          "execution_count": 70
        }
      ]
    },
    {
      "cell_type": "code",
      "metadata": {
        "originalKey": "057badff-58e2-42e3-a373-8aa600617e91",
        "showInput": true,
        "customInput": null,
        "collapsed": false,
        "requestMsgId": "a40af739-bd2f-4e41-beb5-622f754a994d",
        "executionStartTime": 1674940669580,
        "executionStopTime": 1674940669596,
        "customOutput": null
      },
      "source": [
        "linreg.score(rescaled_X_test, y_test)  # This is the test set score\n",
        "\n",
        "# Doesn't make sense"
      ],
      "execution_count": 71,
      "outputs": [
        {
          "output_type": "execute_result",
          "data": {
            "text/plain": "-626.5267547764214"
          },
          "metadata": {
            "bento_obj_id": "139925019362512"
          },
          "execution_count": 71
        }
      ]
    },
    {
      "cell_type": "code",
      "metadata": {
        "originalKey": "674b8cab-f7da-4cf9-91ef-43b2668e46bd",
        "showInput": true,
        "customInput": null
      },
      "source": [
        ""
      ],
      "execution_count": null,
      "outputs": []
    },
    {
      "cell_type": "code",
      "metadata": {
        "originalKey": "99220499-4d31-4e2e-b79c-87edc74c42ea",
        "showInput": true,
        "customInput": null,
        "customOutput": null,
        "collapsed": false,
        "requestMsgId": "99220499-4d31-4e2e-b79c-87edc74c42ea",
        "executionStartTime": 1674865799616,
        "executionStopTime": 1674865799626
      },
      "source": [
        "# check on optimization algorithm, cost function, and any other parameters that may need adjustment\n",
        "# Would a transformation help?"
      ],
      "execution_count": null,
      "outputs": []
    },
    {
      "cell_type": "code",
      "metadata": {
        "originalKey": "70106b63-fafd-4e02-b8aa-72d3e1140e7e",
        "showInput": true,
        "customInput": null,
        "customOutput": null,
        "collapsed": false,
        "requestMsgId": "70106b63-fafd-4e02-b8aa-72d3e1140e7e",
        "executionStartTime": 1674865799891,
        "executionStopTime": 1674865799904
      },
      "source": [
        ""
      ],
      "execution_count": null,
      "outputs": []
    },
    {
      "cell_type": "code",
      "metadata": {
        "originalKey": "11e0f08b-9c11-46d4-8082-3ee9c8059db4",
        "showInput": true,
        "customInput": null,
        "collapsed": false,
        "requestMsgId": "11e0f08b-9c11-46d4-8082-3ee9c8059db4",
        "executionStartTime": 1674865800143,
        "executionStopTime": 1674865800167,
        "customOutput": null
      },
      "source": [
        "print(f'alpha = {model.intercept_}'). # Understand this code better. This is supposedly the intercept of the regression line. "
      ],
      "execution_count": null,
      "outputs": []
    },
    {
      "cell_type": "code",
      "metadata": {
        "originalKey": "72a60d15-a06f-4218-a21e-59c14c9de816",
        "showInput": true,
        "customInput": null,
        "collapsed": false,
        "requestMsgId": "72a60d15-a06f-4218-a21e-59c14c9de816",
        "executionStartTime": 1673309085307,
        "executionStopTime": 1673309085361,
        "customOutput": null
      },
      "source": [
        "print(f\"betas = {model.coef_}\")"
      ],
      "execution_count": null,
      "outputs": []
    },
    {
      "cell_type": "code",
      "metadata": {
        "originalKey": "f738a1d9-dfbb-484d-9c59-acd1bc8f3582",
        "showInput": true,
        "customInput": null,
        "collapsed": false,
        "requestMsgId": "f738a1d9-dfbb-484d-9c59-acd1bc8f3582",
        "executionStartTime": 1673309108198,
        "executionStopTime": 1673309108295,
        "customOutput": null
      },
      "source": [
        "# Some ideas here: https://stackoverflow.com/questions/26951880/scikit-learn-linear-regression-how-to-get-coefficients-respective-features\n",
        "# I am not sure if it's a problem that the above code uses 'X_train' as an argument. It shouldnt be, because it's just getting the column headers from X_train, and the coefficients are coming from 'model' which uses rescaled_X_train\n",
        "coef_table = pd.DataFrame({\"Feature\": X_train.columns.tolist(), \"Coefficients\": model.coef_[0]})\n",
        "\n",
        "coef_table\n",
        ""
      ],
      "execution_count": null,
      "outputs": []
    },
    {
      "cell_type": "code",
      "metadata": {
        "originalKey": "7d4b7aa4-b4fb-486b-9979-c4db35f7b32e",
        "showInput": true,
        "customInput": null,
        "customOutput": null
      },
      "source": [
        "# Check against general best practices for regresssion\n",
        "#Mediation/moderation is important"
      ],
      "execution_count": null,
      "outputs": []
    }
  ]
}
